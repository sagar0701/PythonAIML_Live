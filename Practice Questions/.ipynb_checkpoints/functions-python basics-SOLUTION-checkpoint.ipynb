{
 "cells": [
  {
   "cell_type": "code",
   "execution_count": 1,
   "metadata": {},
   "outputs": [
    {
     "data": {
      "text/plain": [
       "['hello there', 'world good', 'globe h2o']"
      ]
     },
     "execution_count": 1,
     "metadata": {},
     "output_type": "execute_result"
    }
   ],
   "source": [
    "a = ['hello','world', 'globe']\n",
    "b = ['there','good','h2o']\n",
    "\n",
    "[' '.join([i,j]) for i,j in zip(a,b)]"
   ]
  },
  {
   "cell_type": "code",
   "execution_count": 2,
   "metadata": {},
   "outputs": [
    {
     "data": {
      "text/plain": [
       "[('hello', 'there'), ('world', 'good'), ('globe', 'h2o')]"
      ]
     },
     "execution_count": 2,
     "metadata": {},
     "output_type": "execute_result"
    }
   ],
   "source": [
    "list(zip(a,b))"
   ]
  },
  {
   "cell_type": "code",
   "execution_count": 3,
   "metadata": {},
   "outputs": [
    {
     "data": {
      "text/plain": [
       "['My', 'name', 'is', 'Kelly']"
      ]
     },
     "execution_count": 3,
     "metadata": {},
     "output_type": "execute_result"
    }
   ],
   "source": [
    "# Get the following output by defining the function and using these lists\n",
    "\n",
    "list1 = [\"M\", \"na\", \"i\", \"Ke\"] \n",
    "list2 = [\"y\", \"me\", \"s\", \"lly\"]\n",
    "\n",
    "def fn(a,b):\n",
    "    return [i+j for i,j in zip(a,b)]\n",
    "\n",
    "fn(list1, list2)"
   ]
  },
  {
   "cell_type": "code",
   "execution_count": null,
   "metadata": {},
   "outputs": [],
   "source": []
  },
  {
   "cell_type": "code",
   "execution_count": 4,
   "metadata": {},
   "outputs": [
    {
     "data": {
      "text/plain": [
       "['Hello Dear', 'Hello Sir', 'take Dear', 'take Sir']"
      ]
     },
     "execution_count": 4,
     "metadata": {},
     "output_type": "execute_result"
    }
   ],
   "source": [
    "# Get the following output by defining the function and using these lists\n",
    "\n",
    "list1 = [\"Hello \", \"take \"]\n",
    "list2 = [\"Dear\", \"Sir\"]\n",
    "\n",
    "def fn2(a,b):\n",
    "    return [x+y for x in a for y in b]\n",
    "\n",
    "fn2(list1, list2)"
   ]
  },
  {
   "cell_type": "code",
   "execution_count": null,
   "metadata": {},
   "outputs": [],
   "source": []
  },
  {
   "cell_type": "code",
   "execution_count": 5,
   "metadata": {},
   "outputs": [
    {
     "data": {
      "text/plain": [
       "[5, 15, 25, 50]"
      ]
     },
     "execution_count": 5,
     "metadata": {},
     "output_type": "execute_result"
    }
   ],
   "source": [
    "list1 = [5, 20, 15, 20, 25, 50, 20]\n",
    "\n",
    "# Define Function such that if value is given then list should not have that value in its output\n",
    "\n",
    "# example -- while calling function -- fn(list1 , 20) --- Output list should not have 20 \n",
    "\n",
    "def fn3(a,b):\n",
    "    return [i for i in a if b!= i]\n",
    "\n",
    "fn3(list1,20)"
   ]
  },
  {
   "cell_type": "code",
   "execution_count": 6,
   "metadata": {},
   "outputs": [
    {
     "data": {
      "text/plain": [
       "[5, 15, 25, 50]"
      ]
     },
     "execution_count": 6,
     "metadata": {},
     "output_type": "execute_result"
    }
   ],
   "source": [
    "list(filter(lambda x: x!=20, list1))"
   ]
  },
  {
   "cell_type": "code",
   "execution_count": 7,
   "metadata": {},
   "outputs": [
    {
     "data": {
      "text/plain": [
       "[5, 15, 25, 50]"
      ]
     },
     "execution_count": 7,
     "metadata": {},
     "output_type": "execute_result"
    }
   ],
   "source": [
    "vc = [5, 20, 15, 20, 25, 50, 20]\n",
    "\n",
    "def ab(a):\n",
    "    nl=[]\n",
    "    x=20\n",
    "    for i in a:\n",
    "        while i is not x:\n",
    "            nl.append(i)\n",
    "            break\n",
    "    return nl\n",
    "\n",
    "ab(vc)\n"
   ]
  },
  {
   "cell_type": "code",
   "execution_count": 9,
   "metadata": {},
   "outputs": [
    {
     "data": {
      "text/plain": [
       "18"
      ]
     },
     "execution_count": 9,
     "metadata": {},
     "output_type": "execute_result"
    }
   ],
   "source": [
    "# Write a function , taking 3 inputs- if all 3 inputs are equal-\n",
    "# it should givem me 3 times the sum of all inputs , \n",
    "# if not equal than just the sum should be the output\n",
    "\n",
    "# 1. define using Regular function by taking three parameters \n",
    "# 2. define using *args concepts \n",
    "# 3. define using Lambda Function\n",
    "\n",
    "\n",
    "def add(a,b,c):\n",
    "    if a==b==c:\n",
    "        return(3*(a+b+c))\n",
    "    else:\n",
    "        return(a+b+c)\n",
    "add(2,2,2)\n",
    "\n",
    "\n",
    "\n",
    "aka= lambda x,y,z: [3*(x+y+z) if x==y==z else x+y+z]\n",
    "print(aka(2,2,2))\n",
    "\n",
    "\n",
    "\n",
    "def fn(*a):\n",
    "    for i,j in enumerate(a):\n",
    "        if a[i] == a[i+1] == a[i+2]:\n",
    "            return 3*(a[i]+a[i+1]+a[i+2])\n",
    "        else:\n",
    "            return a[i]+a[i+1]+a[i+2]\n",
    "        \n",
    "fn(2,2,2,2,2,2,20)\n",
    "    "
   ]
  },
  {
   "cell_type": "code",
   "execution_count": 19,
   "metadata": {},
   "outputs": [
    {
     "data": {
      "text/plain": [
       "True"
      ]
     },
     "execution_count": 19,
     "metadata": {},
     "output_type": "execute_result"
    }
   ],
   "source": [
    "#  Write a Python program to check whether a specified value \n",
    "# is contained in a group of values\n",
    "\n",
    "def fn(x,y):\n",
    "    if y in x:\n",
    "        return True\n",
    "    else:\n",
    "        return False\n",
    "fn([1,2,3,4], 41)\n",
    "\n",
    "\n",
    "\n",
    "x = [4,'add',8,78,100,'abc']\n",
    "def fn2(x,y):\n",
    "    for i in x:\n",
    "        if i==y:\n",
    "            return True\n",
    "fn2(x,8)"
   ]
  },
  {
   "cell_type": "code",
   "execution_count": 27,
   "metadata": {},
   "outputs": [
    {
     "name": "stdout",
     "output_type": "stream",
     "text": [
      "12134555\n"
     ]
    },
    {
     "data": {
      "text/plain": [
       "'12134555'"
      ]
     },
     "execution_count": 27,
     "metadata": {},
     "output_type": "execute_result"
    }
   ],
   "source": [
    "# Generate the following output given input x\n",
    "x = [1,2,13,4,5,'55']\n",
    "\n",
    "y=''\n",
    "for i in x:\n",
    "    y += str(i)\n",
    "print(y)\n",
    "#######################################\n",
    "\n",
    "''.join([str(i) for i in x])"
   ]
  },
  {
   "cell_type": "code",
   "execution_count": 26,
   "metadata": {},
   "outputs": [
    {
     "data": {
      "text/plain": [
       "'121345'"
      ]
     },
     "execution_count": 26,
     "metadata": {},
     "output_type": "execute_result"
    }
   ],
   "source": [
    "# revrsing the above string\n",
    "''.join([str(i) for i in x][::-1])"
   ]
  },
  {
   "cell_type": "code",
   "execution_count": 25,
   "metadata": {},
   "outputs": [
    {
     "data": {
      "text/plain": [
       "[45, 3, 2, 1]"
      ]
     },
     "execution_count": 25,
     "metadata": {},
     "output_type": "execute_result"
    }
   ],
   "source": [
    "# revrsing the above string\n",
    "k = [str(i) for i in [1,2,3,45]]\n",
    "k.reverse()\n",
    "''.join(k)\n"
   ]
  },
  {
   "cell_type": "code",
   "execution_count": 8,
   "metadata": {},
   "outputs": [
    {
     "data": {
      "text/plain": [
       "{'Black', 'White'}"
      ]
     },
     "execution_count": 8,
     "metadata": {},
     "output_type": "execute_result"
    }
   ],
   "source": [
    "# Write a Python program to printout a set containing all the colors from color_list_1 \n",
    "# which are not present in color_list_2.\n",
    "# using given lists\n",
    "\n",
    "color_list_1 = set([\"White\", \"Black\", \"Red\"])\n",
    "color_list_2 = set([\"Red\", \"Green\"])\n",
    "\n",
    "def fn(a,b):\n",
    "    return a.difference(b)\n",
    "fn(color_list_1,color_list_2)\n",
    "\n",
    "def fn(x,y):\n",
    "    return x-y\n",
    "fn(color_list_1,color_list_2)"
   ]
  },
  {
   "cell_type": "code",
   "execution_count": 28,
   "metadata": {},
   "outputs": [
    {
     "name": "stdout",
     "output_type": "stream",
     "text": [
      "{'Red'}\n"
     ]
    },
    {
     "data": {
      "text/plain": [
       "{'Black', 'Green', 'White'}"
      ]
     },
     "execution_count": 28,
     "metadata": {},
     "output_type": "execute_result"
    }
   ],
   "source": [
    "# Write a Python program to print \n",
    "# out a set containing all the unique colors \n",
    "# from both color_list_1 and color_list_2.\n",
    "color_list_1 = set([\"White\", \"Black\", \"Red\"])\n",
    "color_list_2 = set([\"Red\", \"Green\"])\n",
    "\n",
    "def fn(a,b):\n",
    "    return a.symmetric_difference(b)  # print(a&b), print(a.intersection(b))\n",
    "fn(color_list_1,color_list_2)"
   ]
  },
  {
   "cell_type": "code",
   "execution_count": 10,
   "metadata": {},
   "outputs": [
    {
     "data": {
      "text/plain": [
       "15"
      ]
     },
     "execution_count": 10,
     "metadata": {},
     "output_type": "execute_result"
    }
   ],
   "source": [
    "# define function to generate sum of two input values, if the sum is between 15 to 20 it will return 20, otherwise the only sum\n",
    "def fn(x,y):\n",
    "    if 15 < x+y < 20:\n",
    "        return 20\n",
    "    else:\n",
    "        return x+y\n",
    "fn(12,3)"
   ]
  },
  {
   "cell_type": "code",
   "execution_count": 31,
   "metadata": {},
   "outputs": [
    {
     "data": {
      "text/plain": [
       "{'lambda': 2, 'function': 1, 'python': 1, 'language': 1, 'delhi': 2}"
      ]
     },
     "execution_count": 31,
     "metadata": {},
     "output_type": "execute_result"
    }
   ],
   "source": [
    "fv= ['lambda','Lambda','function','python','language','delhi','Delhi']\n",
    "# Generate this output from fv {'lambda':2,'function':1,'python':1,'language':1,'delhi':1}\n",
    "def fn(a):\n",
    "    s = {}\n",
    "    for i in a:\n",
    "        i = i.lower()\n",
    "        if i in s:\n",
    "            s[i]+=1\n",
    "        else:\n",
    "            s[i] = 1\n",
    "    return s    \n",
    "fn(fv)"
   ]
  },
  {
   "cell_type": "code",
   "execution_count": 37,
   "metadata": {},
   "outputs": [
    {
     "data": {
      "text/plain": [
       "{'lambda': 2, 'function': 1, 'python': 1, 'language': 1, 'delhi': 2}"
      ]
     },
     "execution_count": 37,
     "metadata": {},
     "output_type": "execute_result"
    }
   ],
   "source": [
    "fv = [i.lower() for i in fv]\n",
    "{i:fv.count(i) for i in fv}"
   ]
  },
  {
   "cell_type": "code",
   "execution_count": null,
   "metadata": {},
   "outputs": [],
   "source": []
  }
 ],
 "metadata": {
  "kernelspec": {
   "display_name": "Python 3",
   "language": "python",
   "name": "python3"
  },
  "language_info": {
   "codemirror_mode": {
    "name": "ipython",
    "version": 3
   },
   "file_extension": ".py",
   "mimetype": "text/x-python",
   "name": "python",
   "nbconvert_exporter": "python",
   "pygments_lexer": "ipython3",
   "version": "3.8.5"
  }
 },
 "nbformat": 4,
 "nbformat_minor": 4
}
