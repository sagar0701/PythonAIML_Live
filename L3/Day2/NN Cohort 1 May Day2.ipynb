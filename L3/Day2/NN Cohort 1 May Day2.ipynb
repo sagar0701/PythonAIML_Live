{
 "cells": [
  {
   "cell_type": "code",
   "execution_count": 1,
   "metadata": {},
   "outputs": [],
   "source": [
    "%config Completer.use_jedi = False #for switching on auto complete"
   ]
  },
  {
   "cell_type": "code",
   "execution_count": 2,
   "metadata": {},
   "outputs": [],
   "source": [
    "from sklearn.datasets import load_boston"
   ]
  },
  {
   "cell_type": "code",
   "execution_count": 3,
   "metadata": {},
   "outputs": [
    {
     "name": "stderr",
     "output_type": "stream",
     "text": [
      "C:\\Users\\sagarsah\\Anaconda3\\envs\\DeepL\\lib\\site-packages\\sklearn\\utils\\deprecation.py:87: FutureWarning: Function load_boston is deprecated; `load_boston` is deprecated in 1.0 and will be removed in 1.2.\n",
      "\n",
      "    The Boston housing prices dataset has an ethical problem. You can refer to\n",
      "    the documentation of this function for further details.\n",
      "\n",
      "    The scikit-learn maintainers therefore strongly discourage the use of this\n",
      "    dataset unless the purpose of the code is to study and educate about\n",
      "    ethical issues in data science and machine learning.\n",
      "\n",
      "    In this case special case, you can fetch the dataset from the original\n",
      "    source::\n",
      "\n",
      "        import pandas as pd\n",
      "        import numpy as np\n",
      "\n",
      "\n",
      "        data_url = \"http://lib.stat.cmu.edu/datasets/boston\"\n",
      "        raw_df = pd.read_csv(data_url, sep=\"\\s+\", skiprows=22, header=None)\n",
      "        data = np.hstack([raw_df.values[::2, :], raw_df.values[1::2, :2]])\n",
      "        target = raw_df.values[1::2, 2]\n",
      "\n",
      "    Alternative datasets include the California housing dataset (i.e.\n",
      "    func:`~sklearn.datasets.fetch_california_housing`) and the Ames housing\n",
      "    dataset. You can load the datasets as follows:\n",
      "\n",
      "        from sklearn.datasets import fetch_california_housing\n",
      "        housing = fetch_california_housing()\n",
      "\n",
      "    for the California housing dataset and:\n",
      "\n",
      "        from sklearn.datasets import fetch_openml\n",
      "        housing = fetch_openml(name=\"house_prices\", as_frame=True)\n",
      "\n",
      "    for the Ames housing dataset.\n",
      "    \n",
      "  warnings.warn(msg, category=FutureWarning)\n"
     ]
    }
   ],
   "source": [
    "df=load_boston()"
   ]
  },
  {
   "cell_type": "code",
   "execution_count": 4,
   "metadata": {},
   "outputs": [],
   "source": [
    "x=df.data"
   ]
  },
  {
   "cell_type": "code",
   "execution_count": 5,
   "metadata": {},
   "outputs": [],
   "source": [
    "y=df.target"
   ]
  },
  {
   "cell_type": "code",
   "execution_count": 6,
   "metadata": {},
   "outputs": [],
   "source": [
    "from sklearn.model_selection import train_test_split"
   ]
  },
  {
   "cell_type": "code",
   "execution_count": 7,
   "metadata": {},
   "outputs": [],
   "source": [
    "#split the data\n",
    "x_train,x_test,y_train,y_test=train_test_split(x,y,random_state=0)"
   ]
  },
  {
   "cell_type": "code",
   "execution_count": 8,
   "metadata": {},
   "outputs": [],
   "source": [
    "# standarise data\n",
    "from sklearn.preprocessing import StandardScaler"
   ]
  },
  {
   "cell_type": "code",
   "execution_count": 9,
   "metadata": {},
   "outputs": [],
   "source": [
    "std=StandardScaler()"
   ]
  },
  {
   "cell_type": "code",
   "execution_count": 10,
   "metadata": {},
   "outputs": [
    {
     "data": {
      "text/plain": [
       "StandardScaler()"
      ]
     },
     "execution_count": 10,
     "metadata": {},
     "output_type": "execute_result"
    }
   ],
   "source": [
    "std.fit(x_train)"
   ]
  },
  {
   "cell_type": "code",
   "execution_count": 11,
   "metadata": {},
   "outputs": [],
   "source": [
    "x_train_std=std.transform(x_train)\n",
    "x_test_std=std.transform(x_test)"
   ]
  },
  {
   "cell_type": "code",
   "execution_count": 12,
   "metadata": {},
   "outputs": [],
   "source": [
    "from tensorflow import keras"
   ]
  },
  {
   "cell_type": "code",
   "execution_count": 13,
   "metadata": {},
   "outputs": [],
   "source": [
    "# build network\n",
    "from keras.models import Sequential\n",
    "from keras.layers import Dense"
   ]
  },
  {
   "cell_type": "code",
   "execution_count": 14,
   "metadata": {},
   "outputs": [],
   "source": [
    "model=Sequential()\n",
    "model.add(Dense(4,activation='relu'))#first hidden layer\n",
    "model.add(Dense(2,activation='relu'))#2nd hidden layer\n",
    "model.add(Dense(1,activation='relu'))#output layer"
   ]
  },
  {
   "cell_type": "code",
   "execution_count": 15,
   "metadata": {},
   "outputs": [],
   "source": [
    "model.compile(loss='mse',optimizer='adam',metrics=['mae'])"
   ]
  },
  {
   "cell_type": "code",
   "execution_count": 17,
   "metadata": {},
   "outputs": [
    {
     "name": "stdout",
     "output_type": "stream",
     "text": [
      "Collecting livelossplot==0.1.2\n",
      "  Downloading livelossplot-0.1.2.tar.gz (3.9 kB)\n",
      "Collecting matplotlib\n",
      "  Downloading matplotlib-3.4.3-cp38-cp38-win_amd64.whl (7.1 MB)\n",
      "Requirement already satisfied: notebook in c:\\users\\sagarsah\\anaconda3\\envs\\deepl\\lib\\site-packages (from livelossplot==0.1.2) (6.4.3)\n",
      "Collecting cycler>=0.10\n",
      "  Downloading cycler-0.10.0-py2.py3-none-any.whl (6.5 kB)\n",
      "Requirement already satisfied: pyparsing>=2.2.1 in c:\\users\\sagarsah\\anaconda3\\envs\\deepl\\lib\\site-packages (from matplotlib->livelossplot==0.1.2) (2.4.7)\n",
      "Collecting kiwisolver>=1.0.1\n",
      "  Downloading kiwisolver-1.3.2-cp38-cp38-win_amd64.whl (52 kB)\n",
      "Requirement already satisfied: python-dateutil>=2.7 in c:\\users\\sagarsah\\anaconda3\\envs\\deepl\\lib\\site-packages (from matplotlib->livelossplot==0.1.2) (2.8.2)\n",
      "Collecting pillow>=6.2.0\n",
      "  Downloading Pillow-8.3.2-cp38-cp38-win_amd64.whl (3.2 MB)\n",
      "Requirement already satisfied: numpy>=1.16 in c:\\users\\sagarsah\\anaconda3\\envs\\deepl\\lib\\site-packages (from matplotlib->livelossplot==0.1.2) (1.19.2)\n",
      "Requirement already satisfied: six in c:\\users\\sagarsah\\anaconda3\\envs\\deepl\\lib\\site-packages (from cycler>=0.10->matplotlib->livelossplot==0.1.2) (1.16.0)\n",
      "Requirement already satisfied: jupyter-core>=4.6.1 in c:\\users\\sagarsah\\anaconda3\\envs\\deepl\\lib\\site-packages (from notebook->livelossplot==0.1.2) (4.8.1)\n",
      "Requirement already satisfied: tornado>=6.1 in c:\\users\\sagarsah\\anaconda3\\envs\\deepl\\lib\\site-packages (from notebook->livelossplot==0.1.2) (6.1)\n",
      "Requirement already satisfied: traitlets>=4.2.1 in c:\\users\\sagarsah\\anaconda3\\envs\\deepl\\lib\\site-packages (from notebook->livelossplot==0.1.2) (5.1.0)\n",
      "Requirement already satisfied: prometheus-client in c:\\users\\sagarsah\\anaconda3\\envs\\deepl\\lib\\site-packages (from notebook->livelossplot==0.1.2) (0.11.0)\n",
      "Requirement already satisfied: argon2-cffi in c:\\users\\sagarsah\\anaconda3\\envs\\deepl\\lib\\site-packages (from notebook->livelossplot==0.1.2) (20.1.0)\n",
      "Requirement already satisfied: ipykernel in c:\\users\\sagarsah\\anaconda3\\envs\\deepl\\lib\\site-packages (from notebook->livelossplot==0.1.2) (6.4.1)\n",
      "Requirement already satisfied: nbconvert in c:\\users\\sagarsah\\appdata\\roaming\\python\\python38\\site-packages (from notebook->livelossplot==0.1.2) (6.1.0)\n",
      "Requirement already satisfied: Send2Trash>=1.5.0 in c:\\users\\sagarsah\\anaconda3\\envs\\deepl\\lib\\site-packages (from notebook->livelossplot==0.1.2) (1.8.0)\n",
      "Requirement already satisfied: jinja2 in c:\\users\\sagarsah\\anaconda3\\envs\\deepl\\lib\\site-packages (from notebook->livelossplot==0.1.2) (3.0.1)\n",
      "Requirement already satisfied: pyzmq>=17 in c:\\users\\sagarsah\\anaconda3\\envs\\deepl\\lib\\site-packages (from notebook->livelossplot==0.1.2) (22.2.1)\n",
      "Requirement already satisfied: ipython-genutils in c:\\users\\sagarsah\\anaconda3\\envs\\deepl\\lib\\site-packages (from notebook->livelossplot==0.1.2) (0.2.0)\n",
      "Requirement already satisfied: nbformat in c:\\users\\sagarsah\\anaconda3\\envs\\deepl\\lib\\site-packages (from notebook->livelossplot==0.1.2) (5.1.3)\n",
      "Requirement already satisfied: terminado>=0.8.3 in c:\\users\\sagarsah\\anaconda3\\envs\\deepl\\lib\\site-packages (from notebook->livelossplot==0.1.2) (0.9.4)\n",
      "Requirement already satisfied: jupyter-client>=5.3.4 in c:\\users\\sagarsah\\anaconda3\\envs\\deepl\\lib\\site-packages (from notebook->livelossplot==0.1.2) (7.0.1)\n",
      "Requirement already satisfied: nest-asyncio>=1.5 in c:\\users\\sagarsah\\anaconda3\\envs\\deepl\\lib\\site-packages (from jupyter-client>=5.3.4->notebook->livelossplot==0.1.2) (1.5.1)\n",
      "Requirement already satisfied: entrypoints in c:\\users\\sagarsah\\anaconda3\\envs\\deepl\\lib\\site-packages (from jupyter-client>=5.3.4->notebook->livelossplot==0.1.2) (0.3)\n",
      "Requirement already satisfied: pywin32>=1.0 in c:\\users\\sagarsah\\anaconda3\\envs\\deepl\\lib\\site-packages (from jupyter-core>=4.6.1->notebook->livelossplot==0.1.2) (228)\n",
      "Requirement already satisfied: pywinpty>=0.5 in c:\\users\\sagarsah\\anaconda3\\envs\\deepl\\lib\\site-packages (from terminado>=0.8.3->notebook->livelossplot==0.1.2) (0.5.7)\n",
      "Requirement already satisfied: cffi>=1.0.0 in c:\\users\\sagarsah\\anaconda3\\envs\\deepl\\lib\\site-packages (from argon2-cffi->notebook->livelossplot==0.1.2) (1.14.6)\n",
      "Requirement already satisfied: pycparser in c:\\users\\sagarsah\\anaconda3\\envs\\deepl\\lib\\site-packages (from cffi>=1.0.0->argon2-cffi->notebook->livelossplot==0.1.2) (2.20)\n",
      "Requirement already satisfied: matplotlib-inline<0.2.0,>=0.1.0 in c:\\users\\sagarsah\\anaconda3\\envs\\deepl\\lib\\site-packages (from ipykernel->notebook->livelossplot==0.1.2) (0.1.2)\n",
      "Requirement already satisfied: ipython<8.0,>=7.23.1 in c:\\users\\sagarsah\\anaconda3\\envs\\deepl\\lib\\site-packages (from ipykernel->notebook->livelossplot==0.1.2) (7.27.0)\n",
      "Requirement already satisfied: debugpy<2.0,>=1.0.0 in c:\\users\\sagarsah\\anaconda3\\envs\\deepl\\lib\\site-packages (from ipykernel->notebook->livelossplot==0.1.2) (1.4.1)\n",
      "Requirement already satisfied: pygments in c:\\users\\sagarsah\\anaconda3\\envs\\deepl\\lib\\site-packages (from ipython<8.0,>=7.23.1->ipykernel->notebook->livelossplot==0.1.2) (2.10.0)\n",
      "Requirement already satisfied: prompt-toolkit!=3.0.0,!=3.0.1,<3.1.0,>=2.0.0 in c:\\users\\sagarsah\\anaconda3\\envs\\deepl\\lib\\site-packages (from ipython<8.0,>=7.23.1->ipykernel->notebook->livelossplot==0.1.2) (3.0.20)\n",
      "Requirement already satisfied: jedi>=0.16 in c:\\users\\sagarsah\\anaconda3\\envs\\deepl\\lib\\site-packages (from ipython<8.0,>=7.23.1->ipykernel->notebook->livelossplot==0.1.2) (0.18.0)\n",
      "Requirement already satisfied: colorama in c:\\users\\sagarsah\\anaconda3\\envs\\deepl\\lib\\site-packages (from ipython<8.0,>=7.23.1->ipykernel->notebook->livelossplot==0.1.2) (0.4.4)\n",
      "Requirement already satisfied: pickleshare in c:\\users\\sagarsah\\anaconda3\\envs\\deepl\\lib\\site-packages (from ipython<8.0,>=7.23.1->ipykernel->notebook->livelossplot==0.1.2) (0.7.5)\n",
      "Requirement already satisfied: backcall in c:\\users\\sagarsah\\anaconda3\\envs\\deepl\\lib\\site-packages (from ipython<8.0,>=7.23.1->ipykernel->notebook->livelossplot==0.1.2) (0.2.0)\n",
      "Requirement already satisfied: setuptools>=18.5 in c:\\users\\sagarsah\\anaconda3\\envs\\deepl\\lib\\site-packages (from ipython<8.0,>=7.23.1->ipykernel->notebook->livelossplot==0.1.2) (58.0.4)\n",
      "Requirement already satisfied: decorator in c:\\users\\sagarsah\\anaconda3\\envs\\deepl\\lib\\site-packages (from ipython<8.0,>=7.23.1->ipykernel->notebook->livelossplot==0.1.2) (5.1.0)\n",
      "Requirement already satisfied: parso<0.9.0,>=0.8.0 in c:\\users\\sagarsah\\anaconda3\\envs\\deepl\\lib\\site-packages (from jedi>=0.16->ipython<8.0,>=7.23.1->ipykernel->notebook->livelossplot==0.1.2) (0.8.2)\n",
      "Requirement already satisfied: wcwidth in c:\\users\\sagarsah\\anaconda3\\envs\\deepl\\lib\\site-packages (from prompt-toolkit!=3.0.0,!=3.0.1,<3.1.0,>=2.0.0->ipython<8.0,>=7.23.1->ipykernel->notebook->livelossplot==0.1.2) (0.2.5)\n",
      "Requirement already satisfied: MarkupSafe>=2.0 in c:\\users\\sagarsah\\anaconda3\\envs\\deepl\\lib\\site-packages (from jinja2->notebook->livelossplot==0.1.2) (2.0.1)\n",
      "Requirement already satisfied: pandocfilters>=1.4.1 in c:\\users\\sagarsah\\anaconda3\\envs\\deepl\\lib\\site-packages (from nbconvert->notebook->livelossplot==0.1.2) (1.4.3)\n",
      "Requirement already satisfied: nbclient<0.6.0,>=0.5.0 in c:\\users\\sagarsah\\anaconda3\\envs\\deepl\\lib\\site-packages (from nbconvert->notebook->livelossplot==0.1.2) (0.5.3)\n",
      "Requirement already satisfied: mistune<2,>=0.8.1 in c:\\users\\sagarsah\\anaconda3\\envs\\deepl\\lib\\site-packages (from nbconvert->notebook->livelossplot==0.1.2) (0.8.4)\n",
      "Requirement already satisfied: defusedxml in c:\\users\\sagarsah\\anaconda3\\envs\\deepl\\lib\\site-packages (from nbconvert->notebook->livelossplot==0.1.2) (0.7.1)\n",
      "Requirement already satisfied: testpath in c:\\users\\sagarsah\\anaconda3\\envs\\deepl\\lib\\site-packages (from nbconvert->notebook->livelossplot==0.1.2) (0.5.0)\n",
      "Requirement already satisfied: jupyterlab-pygments in c:\\users\\sagarsah\\anaconda3\\envs\\deepl\\lib\\site-packages (from nbconvert->notebook->livelossplot==0.1.2) (0.1.2)\n",
      "Requirement already satisfied: bleach in c:\\users\\sagarsah\\anaconda3\\envs\\deepl\\lib\\site-packages (from nbconvert->notebook->livelossplot==0.1.2) (4.0.0)\n",
      "Requirement already satisfied: async-generator in c:\\users\\sagarsah\\anaconda3\\envs\\deepl\\lib\\site-packages (from nbclient<0.6.0,>=0.5.0->nbconvert->notebook->livelossplot==0.1.2) (1.10)\n",
      "Requirement already satisfied: jsonschema!=2.5.0,>=2.4 in c:\\users\\sagarsah\\anaconda3\\envs\\deepl\\lib\\site-packages (from nbformat->notebook->livelossplot==0.1.2) (3.2.0)\n",
      "Requirement already satisfied: attrs>=17.4.0 in c:\\users\\sagarsah\\anaconda3\\envs\\deepl\\lib\\site-packages (from jsonschema!=2.5.0,>=2.4->nbformat->notebook->livelossplot==0.1.2) (21.2.0)\n",
      "Requirement already satisfied: pyrsistent>=0.14.0 in c:\\users\\sagarsah\\anaconda3\\envs\\deepl\\lib\\site-packages (from jsonschema!=2.5.0,>=2.4->nbformat->notebook->livelossplot==0.1.2) (0.17.3)\n",
      "Requirement already satisfied: packaging in c:\\users\\sagarsah\\anaconda3\\envs\\deepl\\lib\\site-packages (from bleach->nbconvert->notebook->livelossplot==0.1.2) (21.0)\n",
      "Requirement already satisfied: webencodings in c:\\users\\sagarsah\\anaconda3\\envs\\deepl\\lib\\site-packages (from bleach->nbconvert->notebook->livelossplot==0.1.2) (0.5.1)\n",
      "Building wheels for collected packages: livelossplot\n",
      "  Building wheel for livelossplot (setup.py): started\n",
      "  Building wheel for livelossplot (setup.py): finished with status 'done'\n",
      "  Created wheel for livelossplot: filename=livelossplot-0.1.2-py3-none-any.whl size=3827 sha256=3bf75a9969ddea92d527788e483f29557e111318fc8893c9acb2310bd21f48a3\n",
      "  Stored in directory: c:\\users\\sagarsah\\appdata\\local\\pip\\cache\\wheels\\cb\\20\\fc\\f488a78c70bd6ca8f00123a39fe239fa80ac36523908c5d298\n",
      "Successfully built livelossplot\n",
      "Installing collected packages: pillow, kiwisolver, cycler, matplotlib, livelossplot\n",
      "Successfully installed cycler-0.10.0 kiwisolver-1.3.2 livelossplot-0.1.2 matplotlib-3.4.3 pillow-8.3.2\n"
     ]
    }
   ],
   "source": [
    "#!pip install livelossplot==0.1.2"
   ]
  },
  {
   "cell_type": "code",
   "execution_count": 22,
   "metadata": {},
   "outputs": [
    {
     "ename": "ImportError",
     "evalue": "cannot import name 'PlotLossesCallback' from 'livelossplot' (C:\\Users\\sagarsah\\Anaconda3\\envs\\DeepL\\lib\\site-packages\\livelossplot\\__init__.py)",
     "output_type": "error",
     "traceback": [
      "\u001b[1;31m---------------------------------------------------------------------------\u001b[0m",
      "\u001b[1;31mImportError\u001b[0m                               Traceback (most recent call last)",
      "\u001b[1;32m~\\AppData\\Local\\Temp/ipykernel_10756/640213.py\u001b[0m in \u001b[0;36m<module>\u001b[1;34m\u001b[0m\n\u001b[1;32m----> 1\u001b[1;33m \u001b[1;32mfrom\u001b[0m \u001b[0mlivelossplot\u001b[0m \u001b[1;32mimport\u001b[0m \u001b[0mPlotLossesCallback\u001b[0m\u001b[1;33m\u001b[0m\u001b[1;33m\u001b[0m\u001b[0m\n\u001b[0m\u001b[0;32m      2\u001b[0m \u001b[1;31m#from livelossplot.inputs.tf_keras import PlotLossesCallback\u001b[0m\u001b[1;33m\u001b[0m\u001b[1;33m\u001b[0m\u001b[1;33m\u001b[0m\u001b[0m\n",
      "\u001b[1;31mImportError\u001b[0m: cannot import name 'PlotLossesCallback' from 'livelossplot' (C:\\Users\\sagarsah\\Anaconda3\\envs\\DeepL\\lib\\site-packages\\livelossplot\\__init__.py)"
     ]
    }
   ],
   "source": [
    "from livelossplot import PlotLossesCallback\n",
    "#from livelossplot.inputs.tf_keras import PlotLossesCallback"
   ]
  },
  {
   "cell_type": "code",
   "execution_count": 21,
   "metadata": {},
   "outputs": [
    {
     "ename": "KeyError",
     "evalue": "'metrics'",
     "output_type": "error",
     "traceback": [
      "\u001b[1;31m---------------------------------------------------------------------------\u001b[0m",
      "\u001b[1;31mKeyError\u001b[0m                                  Traceback (most recent call last)",
      "\u001b[1;32m~\\AppData\\Local\\Temp/ipykernel_10756/391371304.py\u001b[0m in \u001b[0;36m<module>\u001b[1;34m\u001b[0m\n\u001b[1;32m----> 1\u001b[1;33m \u001b[0mmodel\u001b[0m\u001b[1;33m.\u001b[0m\u001b[0mfit\u001b[0m\u001b[1;33m(\u001b[0m\u001b[0mx_train_std\u001b[0m\u001b[1;33m,\u001b[0m\u001b[0my_train\u001b[0m\u001b[1;33m,\u001b[0m\u001b[0mepochs\u001b[0m\u001b[1;33m=\u001b[0m\u001b[1;36m500\u001b[0m\u001b[1;33m,\u001b[0m\u001b[0mvalidation_data\u001b[0m\u001b[1;33m=\u001b[0m\u001b[1;33m(\u001b[0m\u001b[0mx_test_std\u001b[0m\u001b[1;33m,\u001b[0m\u001b[0my_test\u001b[0m\u001b[1;33m)\u001b[0m\u001b[1;33m,\u001b[0m\u001b[0mcallbacks\u001b[0m\u001b[1;33m=\u001b[0m\u001b[1;33m[\u001b[0m\u001b[0mPlotLossesKeras\u001b[0m\u001b[1;33m(\u001b[0m\u001b[1;33m)\u001b[0m\u001b[1;33m]\u001b[0m\u001b[1;33m)\u001b[0m\u001b[1;33m\u001b[0m\u001b[1;33m\u001b[0m\u001b[0m\n\u001b[0m",
      "\u001b[1;32m~\\Anaconda3\\envs\\DeepL\\lib\\site-packages\\tensorflow\\python\\keras\\engine\\training.py\u001b[0m in \u001b[0;36m_method_wrapper\u001b[1;34m(self, *args, **kwargs)\u001b[0m\n\u001b[0;32m    106\u001b[0m   \u001b[1;32mdef\u001b[0m \u001b[0m_method_wrapper\u001b[0m\u001b[1;33m(\u001b[0m\u001b[0mself\u001b[0m\u001b[1;33m,\u001b[0m \u001b[1;33m*\u001b[0m\u001b[0margs\u001b[0m\u001b[1;33m,\u001b[0m \u001b[1;33m**\u001b[0m\u001b[0mkwargs\u001b[0m\u001b[1;33m)\u001b[0m\u001b[1;33m:\u001b[0m\u001b[1;33m\u001b[0m\u001b[1;33m\u001b[0m\u001b[0m\n\u001b[0;32m    107\u001b[0m     \u001b[1;32mif\u001b[0m \u001b[1;32mnot\u001b[0m \u001b[0mself\u001b[0m\u001b[1;33m.\u001b[0m\u001b[0m_in_multi_worker_mode\u001b[0m\u001b[1;33m(\u001b[0m\u001b[1;33m)\u001b[0m\u001b[1;33m:\u001b[0m  \u001b[1;31m# pylint: disable=protected-access\u001b[0m\u001b[1;33m\u001b[0m\u001b[1;33m\u001b[0m\u001b[0m\n\u001b[1;32m--> 108\u001b[1;33m       \u001b[1;32mreturn\u001b[0m \u001b[0mmethod\u001b[0m\u001b[1;33m(\u001b[0m\u001b[0mself\u001b[0m\u001b[1;33m,\u001b[0m \u001b[1;33m*\u001b[0m\u001b[0margs\u001b[0m\u001b[1;33m,\u001b[0m \u001b[1;33m**\u001b[0m\u001b[0mkwargs\u001b[0m\u001b[1;33m)\u001b[0m\u001b[1;33m\u001b[0m\u001b[1;33m\u001b[0m\u001b[0m\n\u001b[0m\u001b[0;32m    109\u001b[0m \u001b[1;33m\u001b[0m\u001b[0m\n\u001b[0;32m    110\u001b[0m     \u001b[1;31m# Running inside `run_distribute_coordinator` already.\u001b[0m\u001b[1;33m\u001b[0m\u001b[1;33m\u001b[0m\u001b[1;33m\u001b[0m\u001b[0m\n",
      "\u001b[1;32m~\\Anaconda3\\envs\\DeepL\\lib\\site-packages\\tensorflow\\python\\keras\\engine\\training.py\u001b[0m in \u001b[0;36mfit\u001b[1;34m(self, x, y, batch_size, epochs, verbose, callbacks, validation_split, validation_data, shuffle, class_weight, sample_weight, initial_epoch, steps_per_epoch, validation_steps, validation_batch_size, validation_freq, max_queue_size, workers, use_multiprocessing)\u001b[0m\n\u001b[0;32m   1077\u001b[0m       \u001b[0mtrain_function\u001b[0m \u001b[1;33m=\u001b[0m \u001b[0mself\u001b[0m\u001b[1;33m.\u001b[0m\u001b[0mmake_train_function\u001b[0m\u001b[1;33m(\u001b[0m\u001b[1;33m)\u001b[0m\u001b[1;33m\u001b[0m\u001b[1;33m\u001b[0m\u001b[0m\n\u001b[0;32m   1078\u001b[0m       \u001b[0mself\u001b[0m\u001b[1;33m.\u001b[0m\u001b[0m_train_counter\u001b[0m\u001b[1;33m.\u001b[0m\u001b[0massign\u001b[0m\u001b[1;33m(\u001b[0m\u001b[1;36m0\u001b[0m\u001b[1;33m)\u001b[0m\u001b[1;33m\u001b[0m\u001b[1;33m\u001b[0m\u001b[0m\n\u001b[1;32m-> 1079\u001b[1;33m       \u001b[0mcallbacks\u001b[0m\u001b[1;33m.\u001b[0m\u001b[0mon_train_begin\u001b[0m\u001b[1;33m(\u001b[0m\u001b[1;33m)\u001b[0m\u001b[1;33m\u001b[0m\u001b[1;33m\u001b[0m\u001b[0m\n\u001b[0m\u001b[0;32m   1080\u001b[0m       \u001b[0mtraining_logs\u001b[0m \u001b[1;33m=\u001b[0m \u001b[1;32mNone\u001b[0m\u001b[1;33m\u001b[0m\u001b[1;33m\u001b[0m\u001b[0m\n\u001b[0;32m   1081\u001b[0m       \u001b[1;31m# Handle fault-tolerance for multi-worker.\u001b[0m\u001b[1;33m\u001b[0m\u001b[1;33m\u001b[0m\u001b[1;33m\u001b[0m\u001b[0m\n",
      "\u001b[1;32m~\\Anaconda3\\envs\\DeepL\\lib\\site-packages\\tensorflow\\python\\keras\\callbacks.py\u001b[0m in \u001b[0;36mon_train_begin\u001b[1;34m(self, logs)\u001b[0m\n\u001b[0;32m    499\u001b[0m         \u001b[1;32mif\u001b[0m \u001b[0mnumpy_logs\u001b[0m \u001b[1;32mis\u001b[0m \u001b[1;32mNone\u001b[0m\u001b[1;33m:\u001b[0m  \u001b[1;31m# Only convert once.\u001b[0m\u001b[1;33m\u001b[0m\u001b[1;33m\u001b[0m\u001b[0m\n\u001b[0;32m    500\u001b[0m           \u001b[0mnumpy_logs\u001b[0m \u001b[1;33m=\u001b[0m \u001b[0mtf_utils\u001b[0m\u001b[1;33m.\u001b[0m\u001b[0mto_numpy_or_python_type\u001b[0m\u001b[1;33m(\u001b[0m\u001b[0mlogs\u001b[0m\u001b[1;33m)\u001b[0m\u001b[1;33m\u001b[0m\u001b[1;33m\u001b[0m\u001b[0m\n\u001b[1;32m--> 501\u001b[1;33m         \u001b[0mcallback\u001b[0m\u001b[1;33m.\u001b[0m\u001b[0mon_train_begin\u001b[0m\u001b[1;33m(\u001b[0m\u001b[0mnumpy_logs\u001b[0m\u001b[1;33m)\u001b[0m\u001b[1;33m\u001b[0m\u001b[1;33m\u001b[0m\u001b[0m\n\u001b[0m\u001b[0;32m    502\u001b[0m \u001b[1;33m\u001b[0m\u001b[0m\n\u001b[0;32m    503\u001b[0m   \u001b[1;32mdef\u001b[0m \u001b[0mon_train_end\u001b[0m\u001b[1;33m(\u001b[0m\u001b[0mself\u001b[0m\u001b[1;33m,\u001b[0m \u001b[0mlogs\u001b[0m\u001b[1;33m=\u001b[0m\u001b[1;32mNone\u001b[0m\u001b[1;33m)\u001b[0m\u001b[1;33m:\u001b[0m\u001b[1;33m\u001b[0m\u001b[1;33m\u001b[0m\u001b[0m\n",
      "\u001b[1;32m~\\Anaconda3\\envs\\DeepL\\lib\\site-packages\\livelossplot\\keras_plot.py\u001b[0m in \u001b[0;36mon_train_begin\u001b[1;34m(self, logs)\u001b[0m\n\u001b[0;32m     33\u001b[0m \u001b[1;33m\u001b[0m\u001b[0m\n\u001b[0;32m     34\u001b[0m     \u001b[1;32mdef\u001b[0m \u001b[0mon_train_begin\u001b[0m\u001b[1;33m(\u001b[0m\u001b[0mself\u001b[0m\u001b[1;33m,\u001b[0m \u001b[0mlogs\u001b[0m\u001b[1;33m=\u001b[0m\u001b[1;33m{\u001b[0m\u001b[1;33m}\u001b[0m\u001b[1;33m)\u001b[0m\u001b[1;33m:\u001b[0m\u001b[1;33m\u001b[0m\u001b[1;33m\u001b[0m\u001b[0m\n\u001b[1;32m---> 35\u001b[1;33m         \u001b[0mself\u001b[0m\u001b[1;33m.\u001b[0m\u001b[0mbase_metrics\u001b[0m \u001b[1;33m=\u001b[0m \u001b[1;33m[\u001b[0m\u001b[0mmetric\u001b[0m \u001b[1;32mfor\u001b[0m \u001b[0mmetric\u001b[0m \u001b[1;32min\u001b[0m \u001b[0mself\u001b[0m\u001b[1;33m.\u001b[0m\u001b[0mparams\u001b[0m\u001b[1;33m[\u001b[0m\u001b[1;34m'metrics'\u001b[0m\u001b[1;33m]\u001b[0m \u001b[1;32mif\u001b[0m \u001b[1;32mnot\u001b[0m \u001b[0mmetric\u001b[0m\u001b[1;33m.\u001b[0m\u001b[0mstartswith\u001b[0m\u001b[1;33m(\u001b[0m\u001b[1;34m'val_'\u001b[0m\u001b[1;33m)\u001b[0m\u001b[1;33m]\u001b[0m\u001b[1;33m\u001b[0m\u001b[1;33m\u001b[0m\u001b[0m\n\u001b[0m\u001b[0;32m     36\u001b[0m         \u001b[1;32mif\u001b[0m \u001b[0mself\u001b[0m\u001b[1;33m.\u001b[0m\u001b[0mfigsize\u001b[0m \u001b[1;32mis\u001b[0m \u001b[1;32mNone\u001b[0m\u001b[1;33m:\u001b[0m\u001b[1;33m\u001b[0m\u001b[1;33m\u001b[0m\u001b[0m\n\u001b[0;32m     37\u001b[0m             self.figsize = (\n",
      "\u001b[1;31mKeyError\u001b[0m: 'metrics'"
     ]
    }
   ],
   "source": [
    "model.fit(x_train_std,y_train,epochs=500,validation_data=(x_test_std,y_test),callbacks=[PlotLossesKeras()])"
   ]
  },
  {
   "cell_type": "code",
   "execution_count": 26,
   "metadata": {},
   "outputs": [
    {
     "data": {
      "text/plain": [
       "(379, 13)"
      ]
     },
     "execution_count": 26,
     "metadata": {},
     "output_type": "execute_result"
    }
   ],
   "source": [
    "x_train.shape"
   ]
  },
  {
   "cell_type": "code",
   "execution_count": 28,
   "metadata": {},
   "outputs": [
    {
     "data": {
      "text/plain": [
       "37.9"
      ]
     },
     "execution_count": 28,
     "metadata": {},
     "output_type": "execute_result"
    }
   ],
   "source": [
    "379/10"
   ]
  }
 ],
 "metadata": {
  "kernelspec": {
   "display_name": "Python 3 (ipykernel)",
   "language": "python",
   "name": "python3"
  },
  "language_info": {
   "codemirror_mode": {
    "name": "ipython",
    "version": 3
   },
   "file_extension": ".py",
   "mimetype": "text/x-python",
   "name": "python",
   "nbconvert_exporter": "python",
   "pygments_lexer": "ipython3",
   "version": "3.8.11"
  }
 },
 "nbformat": 4,
 "nbformat_minor": 4
}
