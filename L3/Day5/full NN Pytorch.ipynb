{
 "cells": [
  {
   "cell_type": "code",
   "execution_count": 28,
   "metadata": {},
   "outputs": [],
   "source": [
    "import pandas as pd"
   ]
  },
  {
   "cell_type": "code",
   "execution_count": 29,
   "metadata": {},
   "outputs": [],
   "source": [
    "from sklearn.datasets import load_iris"
   ]
  },
  {
   "cell_type": "code",
   "execution_count": 30,
   "metadata": {},
   "outputs": [],
   "source": [
    "iris=load_iris()"
   ]
  },
  {
   "cell_type": "code",
   "execution_count": 31,
   "metadata": {},
   "outputs": [],
   "source": [
    "x=iris.data\n",
    "y=iris.target"
   ]
  },
  {
   "cell_type": "code",
   "execution_count": 32,
   "metadata": {},
   "outputs": [
    {
     "data": {
      "text/plain": [
       "array(['setosa', 'versicolor', 'virginica'], dtype='<U10')"
      ]
     },
     "execution_count": 32,
     "metadata": {},
     "output_type": "execute_result"
    }
   ],
   "source": [
    "iris.target_names"
   ]
  },
  {
   "cell_type": "code",
   "execution_count": 33,
   "metadata": {},
   "outputs": [
    {
     "data": {
      "text/plain": [
       "['sepal length (cm)',\n",
       " 'sepal width (cm)',\n",
       " 'petal length (cm)',\n",
       " 'petal width (cm)']"
      ]
     },
     "execution_count": 33,
     "metadata": {},
     "output_type": "execute_result"
    }
   ],
   "source": [
    "iris.feature_names"
   ]
  },
  {
   "cell_type": "code",
   "execution_count": 34,
   "metadata": {},
   "outputs": [],
   "source": [
    "#split data\n",
    "from sklearn.model_selection import train_test_split"
   ]
  },
  {
   "cell_type": "code",
   "execution_count": 35,
   "metadata": {},
   "outputs": [],
   "source": [
    "x_train,x_test,y_train,y_test=train_test_split(x,y,random_state=10)"
   ]
  },
  {
   "cell_type": "code",
   "execution_count": 36,
   "metadata": {},
   "outputs": [],
   "source": [
    "#standardise data\n",
    "from sklearn.preprocessing import StandardScaler"
   ]
  },
  {
   "cell_type": "code",
   "execution_count": 37,
   "metadata": {},
   "outputs": [],
   "source": [
    "std=StandardScaler()"
   ]
  },
  {
   "cell_type": "code",
   "execution_count": 38,
   "metadata": {},
   "outputs": [
    {
     "data": {
      "text/plain": [
       "StandardScaler()"
      ]
     },
     "execution_count": 38,
     "metadata": {},
     "output_type": "execute_result"
    }
   ],
   "source": [
    "std.fit(x_train)"
   ]
  },
  {
   "cell_type": "code",
   "execution_count": 39,
   "metadata": {},
   "outputs": [],
   "source": [
    "x_train_std=std.transform(x_train)\n",
    "x_test_std=std.transform(x_test)"
   ]
  },
  {
   "cell_type": "code",
   "execution_count": 40,
   "metadata": {},
   "outputs": [],
   "source": [
    "# Neural Network\n",
    "import torch\n",
    "from torch.nn import functional as F\n",
    "import torch.nn as nn\n",
    "from torch.autograd import Variable"
   ]
  },
  {
   "cell_type": "code",
   "execution_count": 41,
   "metadata": {},
   "outputs": [],
   "source": [
    "# Define network\n",
    "class Model(nn.Module):\n",
    "    def __init__(self,input_dim):\n",
    "        super(Model, self).__init__()\n",
    "        self.layer1=nn.Linear(input_dim,50)\n",
    "        self.layer2=nn.Linear(50,50)\n",
    "        self.layer3=nn.Linear(50,3)\n",
    "    def forward(self,x):\n",
    "        x=F.relu(self.layer1(x))\n",
    "        x=F.relu(self.layer2(x))\n",
    "        x=F.softmax(self.layer3(x),dim=1)\n",
    "        return(x)"
   ]
  },
  {
   "cell_type": "code",
   "execution_count": 42,
   "metadata": {},
   "outputs": [],
   "source": [
    "model=Model(x_train.shape[1])\n",
    "optimizer=torch.optim.Adam(model.parameters(),lr=0.001)\n",
    "loss_fn=nn.CrossEntropyLoss()"
   ]
  },
  {
   "cell_type": "code",
   "execution_count": 43,
   "metadata": {},
   "outputs": [
    {
     "data": {
      "text/plain": [
       "Model(\n",
       "  (layer1): Linear(in_features=4, out_features=50, bias=True)\n",
       "  (layer2): Linear(in_features=50, out_features=50, bias=True)\n",
       "  (layer3): Linear(in_features=50, out_features=3, bias=True)\n",
       ")"
      ]
     },
     "execution_count": 43,
     "metadata": {},
     "output_type": "execute_result"
    }
   ],
   "source": [
    "model"
   ]
  },
  {
   "cell_type": "code",
   "execution_count": 44,
   "metadata": {},
   "outputs": [],
   "source": [
    "import tqdm # create logs"
   ]
  },
  {
   "cell_type": "code",
   "execution_count": 57,
   "metadata": {},
   "outputs": [
    {
     "ename": "TypeError",
     "evalue": "expected np.ndarray (got Tensor)",
     "output_type": "error",
     "traceback": [
      "\u001b[0;31m---------------------------------------------------------------------------\u001b[0m",
      "\u001b[0;31mTypeError\u001b[0m                                 Traceback (most recent call last)",
      "\u001b[0;32m<ipython-input-57-8b59756008b9>\u001b[0m in \u001b[0;36m<module>\u001b[0;34m\u001b[0m\n\u001b[1;32m      1\u001b[0m \u001b[0mepochs\u001b[0m\u001b[0;34m=\u001b[0m\u001b[0;36m100\u001b[0m\u001b[0;34m\u001b[0m\u001b[0;34m\u001b[0m\u001b[0m\n\u001b[1;32m      2\u001b[0m \u001b[0mx_train\u001b[0m\u001b[0;34m=\u001b[0m\u001b[0mVariable\u001b[0m\u001b[0;34m(\u001b[0m\u001b[0mtorch\u001b[0m\u001b[0;34m.\u001b[0m\u001b[0mfrom_numpy\u001b[0m\u001b[0;34m(\u001b[0m\u001b[0mx_train_std\u001b[0m\u001b[0;34m)\u001b[0m\u001b[0;34m)\u001b[0m\u001b[0;34m.\u001b[0m\u001b[0mfloat\u001b[0m\u001b[0;34m(\u001b[0m\u001b[0;34m)\u001b[0m\u001b[0;34m\u001b[0m\u001b[0;34m\u001b[0m\u001b[0m\n\u001b[0;32m----> 3\u001b[0;31m \u001b[0my_train\u001b[0m\u001b[0;34m=\u001b[0m\u001b[0mVariable\u001b[0m\u001b[0;34m(\u001b[0m\u001b[0mtorch\u001b[0m\u001b[0;34m.\u001b[0m\u001b[0mfrom_numpy\u001b[0m\u001b[0;34m(\u001b[0m\u001b[0my_train\u001b[0m\u001b[0;34m)\u001b[0m\u001b[0;34m)\u001b[0m\u001b[0;34m.\u001b[0m\u001b[0mlong\u001b[0m\u001b[0;34m(\u001b[0m\u001b[0;34m)\u001b[0m\u001b[0;34m\u001b[0m\u001b[0;34m\u001b[0m\u001b[0m\n\u001b[0m\u001b[1;32m      4\u001b[0m \u001b[0mx_test\u001b[0m\u001b[0;34m=\u001b[0m\u001b[0mVariable\u001b[0m\u001b[0;34m(\u001b[0m\u001b[0mtorch\u001b[0m\u001b[0;34m.\u001b[0m\u001b[0mfrom_numpy\u001b[0m\u001b[0;34m(\u001b[0m\u001b[0mx_test_std\u001b[0m\u001b[0;34m)\u001b[0m\u001b[0;34m)\u001b[0m\u001b[0;34m.\u001b[0m\u001b[0mfloat\u001b[0m\u001b[0;34m(\u001b[0m\u001b[0;34m)\u001b[0m\u001b[0;34m\u001b[0m\u001b[0;34m\u001b[0m\u001b[0m\n\u001b[1;32m      5\u001b[0m \u001b[0my_test\u001b[0m\u001b[0;34m=\u001b[0m\u001b[0mVariable\u001b[0m\u001b[0;34m(\u001b[0m\u001b[0mtorch\u001b[0m\u001b[0;34m.\u001b[0m\u001b[0mfrom_numpy\u001b[0m\u001b[0;34m(\u001b[0m\u001b[0my_test\u001b[0m\u001b[0;34m)\u001b[0m\u001b[0;34m)\u001b[0m\u001b[0;34m.\u001b[0m\u001b[0mlong\u001b[0m\u001b[0;34m(\u001b[0m\u001b[0;34m)\u001b[0m\u001b[0;34m\u001b[0m\u001b[0;34m\u001b[0m\u001b[0m\n",
      "\u001b[0;31mTypeError\u001b[0m: expected np.ndarray (got Tensor)"
     ]
    }
   ],
   "source": [
    "epochs=100\n",
    "x_train=Variable(torch.from_numpy(x_train_std)).float()\n",
    "y_train=Variable(torch.from_numpy(y_train)).long()\n",
    "x_test=Variable(torch.from_numpy(x_test_std)).float()\n",
    "y_test=Variable(torch.from_numpy(y_test)).long()"
   ]
  },
  {
   "cell_type": "code",
   "execution_count": 46,
   "metadata": {},
   "outputs": [],
   "source": [
    "import numpy as np"
   ]
  },
  {
   "cell_type": "code",
   "execution_count": 47,
   "metadata": {},
   "outputs": [],
   "source": [
    "loss_list=np.zeros((epochs,))\n",
    "accuracy_list=np.zeros((epochs,))"
   ]
  },
  {
   "cell_type": "code",
   "execution_count": 49,
   "metadata": {},
   "outputs": [
    {
     "name": "stderr",
     "output_type": "stream",
     "text": [
      "100%|██████████| 100/100 [00:01<00:00, 68.34it/s]\n"
     ]
    }
   ],
   "source": [
    "for epoch in tqdm.trange(epochs):\n",
    "    y_pred=model(x_train)\n",
    "    loss=loss_fn(y_pred,y_train)\n",
    "    loss_list[epoch]=loss.item()\n",
    "    \n",
    "    # Zero gradient\n",
    "    optimizer.zero_grad()\n",
    "    loss.backward()\n",
    "    optimizer.step()\n",
    "    \n",
    "    with torch.no_grad():\n",
    "        y_pred=model(x_test)\n",
    "        correct=(torch.argmax(y_pred,dim=1)==y_test).type(torch.FloatTensor)\n",
    "        accuracy_list[epoch]=correct.mean()"
   ]
  },
  {
   "cell_type": "code",
   "execution_count": 60,
   "metadata": {},
   "outputs": [
    {
     "data": {
      "text/plain": [
       "tensor([2, 2, 0, 0, 1, 0, 1, 0, 1, 2, 2, 2, 1, 2, 1, 1, 1, 0, 0, 1, 0, 2, 0, 0,\n",
       "        2, 1, 2, 0, 2, 0, 1, 2, 0, 2, 2, 2, 2, 1, 0, 1, 2, 1, 0, 2, 1, 1, 0, 0,\n",
       "        0, 1, 2, 2, 1, 0, 0, 0, 2, 2, 1, 1, 2, 2, 2, 2, 1, 0, 0, 1, 0, 0, 2, 1,\n",
       "        0, 0, 0, 1, 0, 1, 0, 1, 2, 0, 1, 1, 2, 0, 2, 0, 1, 2, 2, 2, 0, 1, 2, 2,\n",
       "        1, 1, 2, 0, 2, 0, 0, 1, 0, 2, 2, 2, 1, 0, 2, 0])"
      ]
     },
     "execution_count": 60,
     "metadata": {},
     "output_type": "execute_result"
    }
   ],
   "source": [
    "torch.argmax( model(x_train),dim=1)"
   ]
  },
  {
   "cell_type": "code",
   "execution_count": 55,
   "metadata": {},
   "outputs": [
    {
     "data": {
      "text/plain": [
       "tensor([[1.4238e-05, 5.3366e-03, 9.9465e-01],\n",
       "        [1.0105e-03, 3.5851e-02, 9.6314e-01],\n",
       "        [9.8734e-01, 1.1869e-02, 7.9002e-04],\n",
       "        [9.8604e-01, 1.2862e-02, 1.0940e-03],\n",
       "        [3.5652e-02, 8.6366e-01, 1.0068e-01],\n",
       "        [7.4362e-01, 2.5546e-01, 9.1710e-04],\n",
       "        [5.9927e-02, 4.9968e-01, 4.4039e-01],\n",
       "        [9.9659e-01, 3.2559e-03, 1.5618e-04],\n",
       "        [2.1720e-02, 5.9951e-01, 3.7877e-01],\n",
       "        [3.1194e-02, 3.0869e-01, 6.6012e-01],\n",
       "        [3.5010e-03, 1.1348e-01, 8.8302e-01],\n",
       "        [6.0067e-04, 1.3544e-02, 9.8586e-01],\n",
       "        [2.0360e-03, 5.2392e-01, 4.7404e-01],\n",
       "        [5.7396e-04, 1.0159e-02, 9.8927e-01],\n",
       "        [1.5375e-02, 9.6067e-01, 2.3957e-02],\n",
       "        [3.2114e-02, 7.0790e-01, 2.5999e-01],\n",
       "        [5.7182e-02, 6.7633e-01, 2.6649e-01],\n",
       "        [9.9109e-01, 8.4326e-03, 4.8038e-04],\n",
       "        [9.9186e-01, 7.6423e-03, 4.9882e-04],\n",
       "        [3.1568e-02, 7.4479e-01, 2.2364e-01],\n",
       "        [9.7888e-01, 2.0022e-02, 1.0980e-03],\n",
       "        [7.2201e-03, 1.5263e-01, 8.4015e-01],\n",
       "        [9.9076e-01, 8.8997e-03, 3.4284e-04],\n",
       "        [9.9007e-01, 9.6444e-03, 2.8527e-04],\n",
       "        [7.3623e-03, 4.9615e-01, 4.9648e-01],\n",
       "        [5.7974e-02, 9.2175e-01, 2.0281e-02],\n",
       "        [5.0967e-04, 1.8170e-02, 9.8132e-01],\n",
       "        [9.9561e-01, 4.1599e-03, 2.2746e-04],\n",
       "        [1.6024e-03, 5.3084e-02, 9.4531e-01],\n",
       "        [9.7876e-01, 2.0689e-02, 5.4873e-04],\n",
       "        [3.2688e-02, 9.0747e-01, 5.9842e-02],\n",
       "        [7.9715e-03, 3.8559e-01, 6.0644e-01],\n",
       "        [9.9530e-01, 4.5466e-03, 1.5585e-04],\n",
       "        [6.7965e-04, 1.8976e-02, 9.8034e-01],\n",
       "        [1.6872e-03, 2.7768e-02, 9.7055e-01],\n",
       "        [4.9337e-03, 1.5217e-01, 8.4290e-01],\n",
       "        [1.5115e-04, 1.3759e-02, 9.8609e-01],\n",
       "        [1.3109e-02, 5.2273e-01, 4.6416e-01],\n",
       "        [9.9482e-01, 4.9163e-03, 2.6157e-04],\n",
       "        [3.5924e-02, 9.3701e-01, 2.7062e-02],\n",
       "        [5.4851e-04, 8.8502e-02, 9.1095e-01],\n",
       "        [4.0858e-02, 8.7062e-01, 8.8521e-02],\n",
       "        [9.8342e-01, 1.6064e-02, 5.1615e-04],\n",
       "        [7.3700e-04, 4.1492e-02, 9.5777e-01],\n",
       "        [3.2503e-02, 7.2253e-01, 2.4497e-01],\n",
       "        [5.5457e-02, 8.4631e-01, 9.8235e-02],\n",
       "        [9.9413e-01, 5.5356e-03, 3.3889e-04],\n",
       "        [9.8980e-01, 9.5224e-03, 6.8011e-04],\n",
       "        [9.9136e-01, 8.0452e-03, 5.9003e-04],\n",
       "        [6.8013e-02, 6.7553e-01, 2.5646e-01],\n",
       "        [3.5929e-04, 4.5275e-02, 9.5437e-01],\n",
       "        [3.6342e-03, 1.2632e-01, 8.7004e-01],\n",
       "        [3.1632e-02, 8.1018e-01, 1.5819e-01],\n",
       "        [9.9099e-01, 8.5455e-03, 4.6541e-04],\n",
       "        [9.9440e-01, 5.2847e-03, 3.1815e-04],\n",
       "        [9.9052e-01, 8.9072e-03, 5.7423e-04],\n",
       "        [7.3654e-04, 2.7877e-02, 9.7139e-01],\n",
       "        [2.6388e-03, 1.2725e-01, 8.7011e-01],\n",
       "        [3.4699e-02, 8.7519e-01, 9.0116e-02],\n",
       "        [1.3053e-02, 9.5067e-01, 3.6273e-02],\n",
       "        [6.8306e-03, 1.1933e-01, 8.7384e-01],\n",
       "        [2.9145e-03, 9.4319e-02, 9.0277e-01],\n",
       "        [1.2347e-02, 2.2670e-01, 7.6096e-01],\n",
       "        [6.2011e-03, 4.8163e-01, 5.1217e-01],\n",
       "        [3.3813e-02, 8.5423e-01, 1.1195e-01],\n",
       "        [9.8782e-01, 1.1558e-02, 6.2190e-04],\n",
       "        [9.9321e-01, 6.4429e-03, 3.4277e-04],\n",
       "        [2.8366e-02, 8.7446e-01, 9.7179e-02],\n",
       "        [9.7647e-01, 2.2086e-02, 1.4482e-03],\n",
       "        [9.9725e-01, 2.6198e-03, 1.2777e-04],\n",
       "        [1.3641e-02, 2.7855e-01, 7.0781e-01],\n",
       "        [2.1119e-02, 9.6513e-01, 1.3751e-02],\n",
       "        [9.8308e-01, 1.5799e-02, 1.1221e-03],\n",
       "        [9.8974e-01, 9.6765e-03, 5.8000e-04],\n",
       "        [9.8354e-01, 1.5616e-02, 8.4170e-04],\n",
       "        [4.5662e-02, 9.3886e-01, 1.5482e-02],\n",
       "        [9.7422e-01, 2.4278e-02, 1.5025e-03],\n",
       "        [3.7162e-02, 8.0543e-01, 1.5741e-01],\n",
       "        [9.8418e-01, 1.5481e-02, 3.4239e-04],\n",
       "        [1.4571e-02, 8.9140e-01, 9.4026e-02],\n",
       "        [1.5287e-03, 4.3149e-01, 5.6698e-01],\n",
       "        [9.8510e-01, 1.4449e-02, 4.5433e-04],\n",
       "        [2.9526e-02, 6.6941e-01, 3.0107e-01],\n",
       "        [2.0675e-02, 9.1366e-01, 6.5666e-02],\n",
       "        [3.3903e-03, 3.9480e-02, 9.5713e-01],\n",
       "        [9.6938e-01, 2.9866e-02, 7.5556e-04],\n",
       "        [1.5645e-02, 2.9883e-01, 6.8552e-01],\n",
       "        [9.9439e-01, 5.5054e-03, 1.0407e-04],\n",
       "        [1.7654e-02, 9.4233e-01, 4.0015e-02],\n",
       "        [1.1337e-02, 3.6515e-01, 6.2351e-01],\n",
       "        [1.1050e-04, 1.1125e-02, 9.8876e-01],\n",
       "        [1.7928e-03, 2.4511e-02, 9.7370e-01],\n",
       "        [9.9531e-01, 4.4579e-03, 2.2842e-04],\n",
       "        [4.8003e-03, 9.4375e-01, 5.1446e-02],\n",
       "        [9.0160e-05, 1.6199e-02, 9.8371e-01],\n",
       "        [6.7024e-04, 5.6382e-02, 9.4295e-01],\n",
       "        [1.0691e-01, 7.9913e-01, 9.3960e-02],\n",
       "        [1.6322e-02, 6.7546e-01, 3.0822e-01],\n",
       "        [6.5932e-04, 1.2271e-02, 9.8707e-01],\n",
       "        [9.9173e-01, 7.7589e-03, 5.0877e-04],\n",
       "        [1.7438e-03, 3.5132e-02, 9.6312e-01],\n",
       "        [9.9227e-01, 7.2720e-03, 4.5428e-04],\n",
       "        [9.9180e-01, 7.7462e-03, 4.5676e-04],\n",
       "        [2.7828e-02, 8.5368e-01, 1.1849e-01],\n",
       "        [9.8614e-01, 1.3631e-02, 2.2814e-04],\n",
       "        [7.7640e-04, 3.3002e-02, 9.6622e-01],\n",
       "        [4.1713e-03, 2.3002e-01, 7.6581e-01],\n",
       "        [9.4176e-04, 8.9188e-02, 9.0987e-01],\n",
       "        [9.2040e-02, 8.4413e-01, 6.3830e-02],\n",
       "        [9.9443e-01, 5.2606e-03, 3.0672e-04],\n",
       "        [2.7253e-03, 8.2559e-02, 9.1472e-01],\n",
       "        [9.8568e-01, 1.3913e-02, 4.0813e-04]], grad_fn=<SoftmaxBackward>)"
      ]
     },
     "execution_count": 55,
     "metadata": {},
     "output_type": "execute_result"
    }
   ],
   "source": [
    "model.forward(x_train)"
   ]
  },
  {
   "cell_type": "code",
   "execution_count": 59,
   "metadata": {},
   "outputs": [
    {
     "data": {
      "text/plain": [
       "tensor([[1.4238e-05, 5.3366e-03, 9.9465e-01],\n",
       "        [1.0105e-03, 3.5851e-02, 9.6314e-01],\n",
       "        [9.8734e-01, 1.1869e-02, 7.9002e-04],\n",
       "        [9.8604e-01, 1.2862e-02, 1.0940e-03],\n",
       "        [3.5652e-02, 8.6366e-01, 1.0068e-01],\n",
       "        [7.4362e-01, 2.5546e-01, 9.1710e-04],\n",
       "        [5.9927e-02, 4.9968e-01, 4.4039e-01],\n",
       "        [9.9659e-01, 3.2559e-03, 1.5618e-04],\n",
       "        [2.1720e-02, 5.9951e-01, 3.7877e-01],\n",
       "        [3.1194e-02, 3.0869e-01, 6.6012e-01],\n",
       "        [3.5010e-03, 1.1348e-01, 8.8302e-01],\n",
       "        [6.0067e-04, 1.3544e-02, 9.8586e-01],\n",
       "        [2.0360e-03, 5.2392e-01, 4.7404e-01],\n",
       "        [5.7396e-04, 1.0159e-02, 9.8927e-01],\n",
       "        [1.5375e-02, 9.6067e-01, 2.3957e-02],\n",
       "        [3.2114e-02, 7.0790e-01, 2.5999e-01],\n",
       "        [5.7182e-02, 6.7633e-01, 2.6649e-01],\n",
       "        [9.9109e-01, 8.4326e-03, 4.8038e-04],\n",
       "        [9.9186e-01, 7.6423e-03, 4.9882e-04],\n",
       "        [3.1568e-02, 7.4479e-01, 2.2364e-01],\n",
       "        [9.7888e-01, 2.0022e-02, 1.0980e-03],\n",
       "        [7.2201e-03, 1.5263e-01, 8.4015e-01],\n",
       "        [9.9076e-01, 8.8997e-03, 3.4284e-04],\n",
       "        [9.9007e-01, 9.6444e-03, 2.8527e-04],\n",
       "        [7.3623e-03, 4.9615e-01, 4.9648e-01],\n",
       "        [5.7974e-02, 9.2175e-01, 2.0281e-02],\n",
       "        [5.0967e-04, 1.8170e-02, 9.8132e-01],\n",
       "        [9.9561e-01, 4.1599e-03, 2.2746e-04],\n",
       "        [1.6024e-03, 5.3084e-02, 9.4531e-01],\n",
       "        [9.7876e-01, 2.0689e-02, 5.4873e-04],\n",
       "        [3.2688e-02, 9.0747e-01, 5.9842e-02],\n",
       "        [7.9715e-03, 3.8559e-01, 6.0644e-01],\n",
       "        [9.9530e-01, 4.5466e-03, 1.5585e-04],\n",
       "        [6.7965e-04, 1.8976e-02, 9.8034e-01],\n",
       "        [1.6872e-03, 2.7768e-02, 9.7055e-01],\n",
       "        [4.9337e-03, 1.5217e-01, 8.4290e-01],\n",
       "        [1.5115e-04, 1.3759e-02, 9.8609e-01],\n",
       "        [1.3109e-02, 5.2273e-01, 4.6416e-01],\n",
       "        [9.9482e-01, 4.9163e-03, 2.6157e-04],\n",
       "        [3.5924e-02, 9.3701e-01, 2.7062e-02],\n",
       "        [5.4851e-04, 8.8502e-02, 9.1095e-01],\n",
       "        [4.0858e-02, 8.7062e-01, 8.8521e-02],\n",
       "        [9.8342e-01, 1.6064e-02, 5.1615e-04],\n",
       "        [7.3700e-04, 4.1492e-02, 9.5777e-01],\n",
       "        [3.2503e-02, 7.2253e-01, 2.4497e-01],\n",
       "        [5.5457e-02, 8.4631e-01, 9.8235e-02],\n",
       "        [9.9413e-01, 5.5356e-03, 3.3889e-04],\n",
       "        [9.8980e-01, 9.5224e-03, 6.8011e-04],\n",
       "        [9.9136e-01, 8.0452e-03, 5.9003e-04],\n",
       "        [6.8013e-02, 6.7553e-01, 2.5646e-01],\n",
       "        [3.5929e-04, 4.5275e-02, 9.5437e-01],\n",
       "        [3.6342e-03, 1.2632e-01, 8.7004e-01],\n",
       "        [3.1632e-02, 8.1018e-01, 1.5819e-01],\n",
       "        [9.9099e-01, 8.5455e-03, 4.6541e-04],\n",
       "        [9.9440e-01, 5.2847e-03, 3.1815e-04],\n",
       "        [9.9052e-01, 8.9072e-03, 5.7423e-04],\n",
       "        [7.3654e-04, 2.7877e-02, 9.7139e-01],\n",
       "        [2.6388e-03, 1.2725e-01, 8.7011e-01],\n",
       "        [3.4699e-02, 8.7519e-01, 9.0116e-02],\n",
       "        [1.3053e-02, 9.5067e-01, 3.6273e-02],\n",
       "        [6.8306e-03, 1.1933e-01, 8.7384e-01],\n",
       "        [2.9145e-03, 9.4319e-02, 9.0277e-01],\n",
       "        [1.2347e-02, 2.2670e-01, 7.6096e-01],\n",
       "        [6.2011e-03, 4.8163e-01, 5.1217e-01],\n",
       "        [3.3813e-02, 8.5423e-01, 1.1195e-01],\n",
       "        [9.8782e-01, 1.1558e-02, 6.2190e-04],\n",
       "        [9.9321e-01, 6.4429e-03, 3.4277e-04],\n",
       "        [2.8366e-02, 8.7446e-01, 9.7179e-02],\n",
       "        [9.7647e-01, 2.2086e-02, 1.4482e-03],\n",
       "        [9.9725e-01, 2.6198e-03, 1.2777e-04],\n",
       "        [1.3641e-02, 2.7855e-01, 7.0781e-01],\n",
       "        [2.1119e-02, 9.6513e-01, 1.3751e-02],\n",
       "        [9.8308e-01, 1.5799e-02, 1.1221e-03],\n",
       "        [9.8974e-01, 9.6765e-03, 5.8000e-04],\n",
       "        [9.8354e-01, 1.5616e-02, 8.4170e-04],\n",
       "        [4.5662e-02, 9.3886e-01, 1.5482e-02],\n",
       "        [9.7422e-01, 2.4278e-02, 1.5025e-03],\n",
       "        [3.7162e-02, 8.0543e-01, 1.5741e-01],\n",
       "        [9.8418e-01, 1.5481e-02, 3.4239e-04],\n",
       "        [1.4571e-02, 8.9140e-01, 9.4026e-02],\n",
       "        [1.5287e-03, 4.3149e-01, 5.6698e-01],\n",
       "        [9.8510e-01, 1.4449e-02, 4.5433e-04],\n",
       "        [2.9526e-02, 6.6941e-01, 3.0107e-01],\n",
       "        [2.0675e-02, 9.1366e-01, 6.5666e-02],\n",
       "        [3.3903e-03, 3.9480e-02, 9.5713e-01],\n",
       "        [9.6938e-01, 2.9866e-02, 7.5556e-04],\n",
       "        [1.5645e-02, 2.9883e-01, 6.8552e-01],\n",
       "        [9.9439e-01, 5.5054e-03, 1.0407e-04],\n",
       "        [1.7654e-02, 9.4233e-01, 4.0015e-02],\n",
       "        [1.1337e-02, 3.6515e-01, 6.2351e-01],\n",
       "        [1.1050e-04, 1.1125e-02, 9.8876e-01],\n",
       "        [1.7928e-03, 2.4511e-02, 9.7370e-01],\n",
       "        [9.9531e-01, 4.4579e-03, 2.2842e-04],\n",
       "        [4.8003e-03, 9.4375e-01, 5.1446e-02],\n",
       "        [9.0160e-05, 1.6199e-02, 9.8371e-01],\n",
       "        [6.7024e-04, 5.6382e-02, 9.4295e-01],\n",
       "        [1.0691e-01, 7.9913e-01, 9.3960e-02],\n",
       "        [1.6322e-02, 6.7546e-01, 3.0822e-01],\n",
       "        [6.5932e-04, 1.2271e-02, 9.8707e-01],\n",
       "        [9.9173e-01, 7.7589e-03, 5.0877e-04],\n",
       "        [1.7438e-03, 3.5132e-02, 9.6312e-01],\n",
       "        [9.9227e-01, 7.2720e-03, 4.5428e-04],\n",
       "        [9.9180e-01, 7.7462e-03, 4.5676e-04],\n",
       "        [2.7828e-02, 8.5368e-01, 1.1849e-01],\n",
       "        [9.8614e-01, 1.3631e-02, 2.2814e-04],\n",
       "        [7.7640e-04, 3.3002e-02, 9.6622e-01],\n",
       "        [4.1713e-03, 2.3002e-01, 7.6581e-01],\n",
       "        [9.4176e-04, 8.9188e-02, 9.0987e-01],\n",
       "        [9.2040e-02, 8.4413e-01, 6.3830e-02],\n",
       "        [9.9443e-01, 5.2606e-03, 3.0672e-04],\n",
       "        [2.7253e-03, 8.2559e-02, 9.1472e-01],\n",
       "        [9.8568e-01, 1.3913e-02, 4.0813e-04]], grad_fn=<SoftmaxBackward>)"
      ]
     },
     "execution_count": 59,
     "metadata": {},
     "output_type": "execute_result"
    }
   ],
   "source": [
    "model(x_train)"
   ]
  },
  {
   "cell_type": "code",
   "execution_count": 61,
   "metadata": {},
   "outputs": [],
   "source": [
    "from matplotlib import pyplot as plt"
   ]
  },
  {
   "cell_type": "code",
   "execution_count": 64,
   "metadata": {},
   "outputs": [
    {
     "data": {
      "image/png": "[encoded data removed]",
      "text/plain": [
       "<Figure size 1008x432 with 2 Axes>"
      ]
     },
     "metadata": {
      "needs_background": "light"
     },
     "output_type": "display_data"
    }
   ],
   "source": [
    "plt.figure(figsize=(14,6))\n",
    "plt.subplot(1,2,1)\n",
    "plt.plot(accuracy_list)\n",
    "plt.subplot(1,2,2)\n",
    "plt.plot(loss_list)\n",
    "plt.show()"
   ]
  },
  {
   "cell_type": "code",
   "execution_count": null,
   "metadata": {},
   "outputs": [],
   "source": []
  }
 ],
 "metadata": {
  "kernelspec": {
   "display_name": "Python 3",
   "language": "python",
   "name": "python3"
  },
  "language_info": {
   "codemirror_mode": {
    "name": "ipython",
    "version": 3
   },
   "file_extension": ".py",
   "mimetype": "text/x-python",
   "name": "python",
   "nbconvert_exporter": "python",
   "pygments_lexer": "ipython3",
   "version": "3.7.6"
  }
 },
 "nbformat": 4,
 "nbformat_minor": 4
}
