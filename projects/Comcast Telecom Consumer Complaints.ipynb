{
 "cells": [
  {
   "cell_type": "code",
   "execution_count": 1,
   "metadata": {},
   "outputs": [],
   "source": [
    "import pandas as pd\n",
    "import numpy as np\n",
    "import matplotlib.pyplot as plt"
   ]
  },
  {
   "cell_type": "code",
   "execution_count": 2,
   "metadata": {},
   "outputs": [
    {
     "data": {
      "text/html": [
       "<div>\n",
       "<style scoped>\n",
       "    .dataframe tbody tr th:only-of-type {\n",
       "        vertical-align: middle;\n",
       "    }\n",
       "\n",
       "    .dataframe tbody tr th {\n",
       "        vertical-align: top;\n",
       "    }\n",
       "\n",
       "    .dataframe thead th {\n",
       "        text-align: right;\n",
       "    }\n",
       "</style>\n",
       "<table border=\"1\" class=\"dataframe\">\n",
       "  <thead>\n",
       "    <tr style=\"text-align: right;\">\n",
       "      <th></th>\n",
       "      <th>Ticket #</th>\n",
       "      <th>Customer Complaint</th>\n",
       "      <th>Date</th>\n",
       "      <th>Date_month_year</th>\n",
       "      <th>Time</th>\n",
       "      <th>Received Via</th>\n",
       "      <th>City</th>\n",
       "      <th>State</th>\n",
       "      <th>Zip code</th>\n",
       "      <th>Status</th>\n",
       "      <th>Filing on Behalf of Someone</th>\n",
       "    </tr>\n",
       "  </thead>\n",
       "  <tbody>\n",
       "    <tr>\n",
       "      <th>0</th>\n",
       "      <td>250635</td>\n",
       "      <td>Comcast Cable Internet Speeds</td>\n",
       "      <td>22-04-15</td>\n",
       "      <td>22-Apr-15</td>\n",
       "      <td>3:53:50 PM</td>\n",
       "      <td>Customer Care Call</td>\n",
       "      <td>Abingdon</td>\n",
       "      <td>Maryland</td>\n",
       "      <td>21009</td>\n",
       "      <td>Closed</td>\n",
       "      <td>No</td>\n",
       "    </tr>\n",
       "    <tr>\n",
       "      <th>1</th>\n",
       "      <td>223441</td>\n",
       "      <td>Payment disappear - service got disconnected</td>\n",
       "      <td>04-08-15</td>\n",
       "      <td>04-Aug-15</td>\n",
       "      <td>10:22:56 AM</td>\n",
       "      <td>Internet</td>\n",
       "      <td>Acworth</td>\n",
       "      <td>Georgia</td>\n",
       "      <td>30102</td>\n",
       "      <td>Closed</td>\n",
       "      <td>No</td>\n",
       "    </tr>\n",
       "    <tr>\n",
       "      <th>2</th>\n",
       "      <td>242732</td>\n",
       "      <td>Speed and Service</td>\n",
       "      <td>18-04-15</td>\n",
       "      <td>18-Apr-15</td>\n",
       "      <td>9:55:47 AM</td>\n",
       "      <td>Internet</td>\n",
       "      <td>Acworth</td>\n",
       "      <td>Georgia</td>\n",
       "      <td>30101</td>\n",
       "      <td>Closed</td>\n",
       "      <td>Yes</td>\n",
       "    </tr>\n",
       "    <tr>\n",
       "      <th>3</th>\n",
       "      <td>277946</td>\n",
       "      <td>Comcast Imposed a New Usage Cap of 300GB that ...</td>\n",
       "      <td>05-07-15</td>\n",
       "      <td>05-Jul-15</td>\n",
       "      <td>11:59:35 AM</td>\n",
       "      <td>Internet</td>\n",
       "      <td>Acworth</td>\n",
       "      <td>Georgia</td>\n",
       "      <td>30101</td>\n",
       "      <td>Open</td>\n",
       "      <td>Yes</td>\n",
       "    </tr>\n",
       "    <tr>\n",
       "      <th>4</th>\n",
       "      <td>307175</td>\n",
       "      <td>Comcast not working and no service to boot</td>\n",
       "      <td>26-05-15</td>\n",
       "      <td>26-May-15</td>\n",
       "      <td>1:25:26 PM</td>\n",
       "      <td>Internet</td>\n",
       "      <td>Acworth</td>\n",
       "      <td>Georgia</td>\n",
       "      <td>30101</td>\n",
       "      <td>Solved</td>\n",
       "      <td>No</td>\n",
       "    </tr>\n",
       "    <tr>\n",
       "      <th>5</th>\n",
       "      <td>338519</td>\n",
       "      <td>ISP Charging for arbitrary data limits with ov...</td>\n",
       "      <td>06-12-15</td>\n",
       "      <td>06-Dec-15</td>\n",
       "      <td>9:59:40 PM</td>\n",
       "      <td>Internet</td>\n",
       "      <td>Acworth</td>\n",
       "      <td>Georgia</td>\n",
       "      <td>30101</td>\n",
       "      <td>Solved</td>\n",
       "      <td>No</td>\n",
       "    </tr>\n",
       "    <tr>\n",
       "      <th>6</th>\n",
       "      <td>361148</td>\n",
       "      <td>Throttling service and unreasonable data caps</td>\n",
       "      <td>24-06-15</td>\n",
       "      <td>24-Jun-15</td>\n",
       "      <td>10:13:55 AM</td>\n",
       "      <td>Customer Care Call</td>\n",
       "      <td>Acworth</td>\n",
       "      <td>Georgia</td>\n",
       "      <td>30101</td>\n",
       "      <td>Pending</td>\n",
       "      <td>No</td>\n",
       "    </tr>\n",
       "    <tr>\n",
       "      <th>7</th>\n",
       "      <td>359792</td>\n",
       "      <td>Comcast refuses to help troubleshoot and corre...</td>\n",
       "      <td>23-06-15</td>\n",
       "      <td>23-Jun-15</td>\n",
       "      <td>6:56:14 PM</td>\n",
       "      <td>Internet</td>\n",
       "      <td>Adrian</td>\n",
       "      <td>Michigan</td>\n",
       "      <td>49221</td>\n",
       "      <td>Solved</td>\n",
       "      <td>No</td>\n",
       "    </tr>\n",
       "    <tr>\n",
       "      <th>8</th>\n",
       "      <td>318072</td>\n",
       "      <td>Comcast extended outages</td>\n",
       "      <td>06-01-15</td>\n",
       "      <td>06-Jan-15</td>\n",
       "      <td>11:46:30 PM</td>\n",
       "      <td>Customer Care Call</td>\n",
       "      <td>Alameda</td>\n",
       "      <td>California</td>\n",
       "      <td>94502</td>\n",
       "      <td>Closed</td>\n",
       "      <td>No</td>\n",
       "    </tr>\n",
       "    <tr>\n",
       "      <th>9</th>\n",
       "      <td>371214</td>\n",
       "      <td>Comcast Raising Prices and Not Being Available...</td>\n",
       "      <td>28-06-15</td>\n",
       "      <td>28-Jun-15</td>\n",
       "      <td>6:46:31 PM</td>\n",
       "      <td>Customer Care Call</td>\n",
       "      <td>Alameda</td>\n",
       "      <td>California</td>\n",
       "      <td>94501</td>\n",
       "      <td>Open</td>\n",
       "      <td>Yes</td>\n",
       "    </tr>\n",
       "  </tbody>\n",
       "</table>\n",
       "</div>"
      ],
      "text/plain": [
       "  Ticket #                                 Customer Complaint      Date  \\\n",
       "0   250635                      Comcast Cable Internet Speeds  22-04-15   \n",
       "1   223441       Payment disappear - service got disconnected  04-08-15   \n",
       "2   242732                                  Speed and Service  18-04-15   \n",
       "3   277946  Comcast Imposed a New Usage Cap of 300GB that ...  05-07-15   \n",
       "4   307175         Comcast not working and no service to boot  26-05-15   \n",
       "5   338519  ISP Charging for arbitrary data limits with ov...  06-12-15   \n",
       "6   361148      Throttling service and unreasonable data caps  24-06-15   \n",
       "7   359792  Comcast refuses to help troubleshoot and corre...  23-06-15   \n",
       "8   318072                           Comcast extended outages  06-01-15   \n",
       "9   371214  Comcast Raising Prices and Not Being Available...  28-06-15   \n",
       "\n",
       "  Date_month_year         Time        Received Via      City       State  \\\n",
       "0       22-Apr-15   3:53:50 PM  Customer Care Call  Abingdon    Maryland   \n",
       "1       04-Aug-15  10:22:56 AM            Internet   Acworth     Georgia   \n",
       "2       18-Apr-15   9:55:47 AM            Internet   Acworth     Georgia   \n",
       "3       05-Jul-15  11:59:35 AM            Internet   Acworth     Georgia   \n",
       "4       26-May-15   1:25:26 PM            Internet   Acworth     Georgia   \n",
       "5       06-Dec-15   9:59:40 PM            Internet   Acworth     Georgia   \n",
       "6       24-Jun-15  10:13:55 AM  Customer Care Call   Acworth     Georgia   \n",
       "7       23-Jun-15   6:56:14 PM            Internet    Adrian    Michigan   \n",
       "8       06-Jan-15  11:46:30 PM  Customer Care Call   Alameda  California   \n",
       "9       28-Jun-15   6:46:31 PM  Customer Care Call   Alameda  California   \n",
       "\n",
       "   Zip code   Status Filing on Behalf of Someone  \n",
       "0     21009   Closed                          No  \n",
       "1     30102   Closed                          No  \n",
       "2     30101   Closed                         Yes  \n",
       "3     30101     Open                         Yes  \n",
       "4     30101   Solved                          No  \n",
       "5     30101   Solved                          No  \n",
       "6     30101  Pending                          No  \n",
       "7     49221   Solved                          No  \n",
       "8     94502   Closed                          No  \n",
       "9     94501     Open                         Yes  "
      ]
     },
     "execution_count": 2,
     "metadata": {},
     "output_type": "execute_result"
    }
   ],
   "source": [
    "# Import data into Python environment.\n",
    "df=pd.read_csv('comcast.csv')\n",
    "df.head(10)"
   ]
  },
  {
   "cell_type": "code",
   "execution_count": 20,
   "metadata": {},
   "outputs": [
    {
     "data": {
      "image/png": "[encoded data removed]",
      "text/plain": [
       "<Figure size 432x288 with 1 Axes>"
      ]
     },
     "metadata": {
      "needs_background": "light"
     },
     "output_type": "display_data"
    }
   ],
   "source": [
    "# graph using month number\n",
    "df['month_number']=pd.to_datetime(df['Date_month_year']).dt.month\n",
    "\n",
    "df.groupby(['month_number'])['Customer Complaint'].count().plot(kind='bar',color='green')\n",
    "\n",
    "plt.show()"
   ]
  },
  {
   "cell_type": "code",
   "execution_count": 3,
   "metadata": {},
   "outputs": [
    {
     "data": {
      "image/png": "[encoded data removed]",
      "text/plain": [
       "<Figure size 432x288 with 1 Axes>"
      ]
     },
     "metadata": {
      "needs_background": "light"
     },
     "output_type": "display_data"
    },
    {
     "data": {
      "image/png": "[encoded data removed]",
      "text/plain": [
       "<Figure size 432x288 with 1 Axes>"
      ]
     },
     "metadata": {
      "needs_background": "light"
     },
     "output_type": "display_data"
    }
   ],
   "source": [
    "#Provide the trend chart for the number of complaints at monthly and daily granularity levels.\n",
    "df['month']=pd.to_datetime(df['Date_month_year']).dt.month_name()\n",
    "df['date']=pd.to_datetime(df['Date_month_year']).dt.day\n",
    "\n",
    "\n",
    "df.groupby(['date'])['Customer Complaint'].count().plot(kind='bar')\n",
    "plt.show()\n",
    "\n",
    "df.groupby(['month'])['Customer Complaint'].count().plot(kind='bar',color='green')\n",
    "plt.show()"
   ]
  },
  {
   "cell_type": "code",
   "execution_count": 4,
   "metadata": {},
   "outputs": [
    {
     "data": {
      "text/html": [
       "<div>\n",
       "<style scoped>\n",
       "    .dataframe tbody tr th:only-of-type {\n",
       "        vertical-align: middle;\n",
       "    }\n",
       "\n",
       "    .dataframe tbody tr th {\n",
       "        vertical-align: top;\n",
       "    }\n",
       "\n",
       "    .dataframe thead th {\n",
       "        text-align: right;\n",
       "    }\n",
       "</style>\n",
       "<table border=\"1\" class=\"dataframe\">\n",
       "  <thead>\n",
       "    <tr style=\"text-align: right;\">\n",
       "      <th></th>\n",
       "      <th>index</th>\n",
       "      <th>Customer Complaint</th>\n",
       "    </tr>\n",
       "  </thead>\n",
       "  <tbody>\n",
       "    <tr>\n",
       "      <th>0</th>\n",
       "      <td>Comcast</td>\n",
       "      <td>83</td>\n",
       "    </tr>\n",
       "    <tr>\n",
       "      <th>1</th>\n",
       "      <td>Comcast Internet</td>\n",
       "      <td>18</td>\n",
       "    </tr>\n",
       "    <tr>\n",
       "      <th>2</th>\n",
       "      <td>Comcast Data Cap</td>\n",
       "      <td>17</td>\n",
       "    </tr>\n",
       "    <tr>\n",
       "      <th>3</th>\n",
       "      <td>comcast</td>\n",
       "      <td>13</td>\n",
       "    </tr>\n",
       "    <tr>\n",
       "      <th>4</th>\n",
       "      <td>Comcast Billing</td>\n",
       "      <td>11</td>\n",
       "    </tr>\n",
       "    <tr>\n",
       "      <th>...</th>\n",
       "      <td>...</td>\n",
       "      <td>...</td>\n",
       "    </tr>\n",
       "    <tr>\n",
       "      <th>1836</th>\n",
       "      <td>Unfair fees?</td>\n",
       "      <td>1</td>\n",
       "    </tr>\n",
       "    <tr>\n",
       "      <th>1837</th>\n",
       "      <td>Internet Services</td>\n",
       "      <td>1</td>\n",
       "    </tr>\n",
       "    <tr>\n",
       "      <th>1838</th>\n",
       "      <td>Poor internet</td>\n",
       "      <td>1</td>\n",
       "    </tr>\n",
       "    <tr>\n",
       "      <th>1839</th>\n",
       "      <td>Comcast blocking HBOGO on Playstation 4 Consoles</td>\n",
       "      <td>1</td>\n",
       "    </tr>\n",
       "    <tr>\n",
       "      <th>1840</th>\n",
       "      <td>Another Fraudulenct collection claim from Comcast</td>\n",
       "      <td>1</td>\n",
       "    </tr>\n",
       "  </tbody>\n",
       "</table>\n",
       "<p>1841 rows × 2 columns</p>\n",
       "</div>"
      ],
      "text/plain": [
       "                                                  index  Customer Complaint\n",
       "0                                               Comcast                  83\n",
       "1                                      Comcast Internet                  18\n",
       "2                                      Comcast Data Cap                  17\n",
       "3                                               comcast                  13\n",
       "4                                       Comcast Billing                  11\n",
       "...                                                 ...                 ...\n",
       "1836                                       Unfair fees?                   1\n",
       "1837                                  Internet Services                   1\n",
       "1838                                      Poor internet                   1\n",
       "1839   Comcast blocking HBOGO on Playstation 4 Consoles                   1\n",
       "1840  Another Fraudulenct collection claim from Comcast                   1\n",
       "\n",
       "[1841 rows x 2 columns]"
      ]
     },
     "execution_count": 4,
     "metadata": {},
     "output_type": "execute_result"
    }
   ],
   "source": [
    "# Provide a table with the frequency of complaint types.\n",
    "\n",
    "df['Customer Complaint'].value_counts().to_frame().reset_index()"
   ]
  },
  {
   "cell_type": "code",
   "execution_count": 5,
   "metadata": {},
   "outputs": [
    {
     "data": {
      "text/plain": [
       "Comcast             83\n",
       "Comcast Internet    18\n",
       "Comcast Data Cap    17\n",
       "comcast             13\n",
       "Data Caps           11\n",
       "Name: Customer Complaint, dtype: int64"
      ]
     },
     "execution_count": 5,
     "metadata": {},
     "output_type": "execute_result"
    }
   ],
   "source": [
    "# Which complaint types are maximum i.e., around internet, network issues, or across any other domains.\n",
    "\n",
    "df['Customer Complaint'].value_counts().head(5)"
   ]
  },
  {
   "cell_type": "code",
   "execution_count": 6,
   "metadata": {},
   "outputs": [],
   "source": [
    "# - Create a new categorical variable with value as Open and Closed. Open & Pending is to be categorized as Open and Closed & Solved is to be categorized as Closed.\n",
    "\n",
    "df['Status']=df['Status'].apply(lambda x: 'Open' if ((x=='Open') | (x=='Pending')) else 'Closed' )"
   ]
  },
  {
   "cell_type": "code",
   "execution_count": 5,
   "metadata": {},
   "outputs": [
    {
     "data": {
      "image/png": "[encoded data removed]",
      "text/plain": [
       "<Figure size 720x720 with 1 Axes>"
      ]
     },
     "metadata": {
      "needs_background": "light"
     },
     "output_type": "display_data"
    }
   ],
   "source": [
    "# Provide state wise status of complaints in a stacked bar chart. Use the categorized variable from Q3.\n",
    "\n",
    "op=df[df['Status']=='Open'].groupby(['State'])['Status'].count().to_frame().reset_index()\n",
    "cl=df[df['Status']=='Closed'].groupby(['State'])['Status'].count().to_frame().reset_index()\n",
    "\n",
    "fig=plt.figure(figsize=(10,10))\n",
    "plt.barh(cl.State, cl.Status)\n",
    "plt.barh(op.State, op.Status)\n",
    "\n",
    "plt.ylabel(\"State\", size=10)\n",
    "plt.xlabel(\"Status Count\")\n",
    "plt.legend([\"closed\", \"open\"])\n",
    "plt.title(\"state vs status count\")\n",
    "plt.show()\n",
    "                   "
   ]
  },
  {
   "cell_type": "code",
   "execution_count": 8,
   "metadata": {},
   "outputs": [
    {
     "data": {
      "text/plain": [
       "'Georgia'"
      ]
     },
     "execution_count": 8,
     "metadata": {},
     "output_type": "execute_result"
    }
   ],
   "source": [
    "# Which state has the maximum complaints    \n",
    "'Georgia'"
   ]
  },
  {
   "cell_type": "code",
   "execution_count": 9,
   "metadata": {},
   "outputs": [
    {
     "data": {
      "text/plain": [
       "'Georgia'"
      ]
     },
     "execution_count": 9,
     "metadata": {},
     "output_type": "execute_result"
    }
   ],
   "source": [
    "# Which state has the highest percentage of unresolved complaints\n",
    "'Georgia'  # Visualization via Graph\n",
    "\n",
    "# Finding max number of compaints using max function \n",
    "np.where(op.Status==op.Status.max())\n",
    "op.iloc[8]"
   ]
  },
  {
   "cell_type": "code",
   "execution_count": 10,
   "metadata": {},
   "outputs": [
    {
     "data": {
      "text/plain": [
       "Status  Received Via      \n",
       "Closed  Customer Care Call    50.615114\n",
       "        Internet              49.384886\n",
       "Name: Received Via, dtype: float64"
      ]
     },
     "execution_count": 10,
     "metadata": {},
     "output_type": "execute_result"
    }
   ],
   "source": [
    "# Provide the percentage of complaints resolved till date,\n",
    "# which were received through the Internet and customer care calls.\n",
    "\n",
    "df[df['Status']=='Closed'].groupby('Status')['Received Via'].value_counts(normalize=True)*100\n"
   ]
  }
 ],
 "metadata": {
  "kernelspec": {
   "display_name": "Python 3",
   "language": "python",
   "name": "python3"
  },
  "language_info": {
   "codemirror_mode": {
    "name": "ipython",
    "version": 3
   },
   "file_extension": ".py",
   "mimetype": "text/x-python",
   "name": "python",
   "nbconvert_exporter": "python",
   "pygments_lexer": "ipython3",
   "version": "3.8.5"
  }
 },
 "nbformat": 4,
 "nbformat_minor": 4
}
