{
 "cells": [
  {
   "cell_type": "code",
   "execution_count": 2,
   "metadata": {},
   "outputs": [],
   "source": [
    "import numpy as np\n",
    "import pandas as pd\n",
    "import matplotlib.pyplot as plt"
   ]
  },
  {
   "cell_type": "code",
   "execution_count": 3,
   "metadata": {},
   "outputs": [
    {
     "data": {
      "text/html": [
       "<div>\n",
       "<style scoped>\n",
       "    .dataframe tbody tr th:only-of-type {\n",
       "        vertical-align: middle;\n",
       "    }\n",
       "\n",
       "    .dataframe tbody tr th {\n",
       "        vertical-align: top;\n",
       "    }\n",
       "\n",
       "    .dataframe thead th {\n",
       "        text-align: right;\n",
       "    }\n",
       "</style>\n",
       "<table border=\"1\" class=\"dataframe\">\n",
       "  <thead>\n",
       "    <tr style=\"text-align: right;\">\n",
       "      <th></th>\n",
       "      <th>Ticket #</th>\n",
       "      <th>Customer Complaint</th>\n",
       "      <th>Date</th>\n",
       "      <th>Date_month_year</th>\n",
       "      <th>Time</th>\n",
       "      <th>Received Via</th>\n",
       "      <th>City</th>\n",
       "      <th>State</th>\n",
       "      <th>Zip code</th>\n",
       "      <th>Status</th>\n",
       "      <th>Filing on Behalf of Someone</th>\n",
       "    </tr>\n",
       "  </thead>\n",
       "  <tbody>\n",
       "    <tr>\n",
       "      <th>0</th>\n",
       "      <td>250635</td>\n",
       "      <td>Comcast Cable Internet Speeds</td>\n",
       "      <td>22-04-15</td>\n",
       "      <td>22-Apr-15</td>\n",
       "      <td>3:53:50 PM</td>\n",
       "      <td>Customer Care Call</td>\n",
       "      <td>Abingdon</td>\n",
       "      <td>Maryland</td>\n",
       "      <td>21009</td>\n",
       "      <td>Closed</td>\n",
       "      <td>No</td>\n",
       "    </tr>\n",
       "    <tr>\n",
       "      <th>1</th>\n",
       "      <td>223441</td>\n",
       "      <td>Payment disappear - service got disconnected</td>\n",
       "      <td>04-08-15</td>\n",
       "      <td>04-Aug-15</td>\n",
       "      <td>10:22:56 AM</td>\n",
       "      <td>Internet</td>\n",
       "      <td>Acworth</td>\n",
       "      <td>Georgia</td>\n",
       "      <td>30102</td>\n",
       "      <td>Closed</td>\n",
       "      <td>No</td>\n",
       "    </tr>\n",
       "    <tr>\n",
       "      <th>2</th>\n",
       "      <td>242732</td>\n",
       "      <td>Speed and Service</td>\n",
       "      <td>18-04-15</td>\n",
       "      <td>18-Apr-15</td>\n",
       "      <td>9:55:47 AM</td>\n",
       "      <td>Internet</td>\n",
       "      <td>Acworth</td>\n",
       "      <td>Georgia</td>\n",
       "      <td>30101</td>\n",
       "      <td>Closed</td>\n",
       "      <td>Yes</td>\n",
       "    </tr>\n",
       "    <tr>\n",
       "      <th>3</th>\n",
       "      <td>277946</td>\n",
       "      <td>Comcast Imposed a New Usage Cap of 300GB that ...</td>\n",
       "      <td>05-07-15</td>\n",
       "      <td>05-Jul-15</td>\n",
       "      <td>11:59:35 AM</td>\n",
       "      <td>Internet</td>\n",
       "      <td>Acworth</td>\n",
       "      <td>Georgia</td>\n",
       "      <td>30101</td>\n",
       "      <td>Open</td>\n",
       "      <td>Yes</td>\n",
       "    </tr>\n",
       "    <tr>\n",
       "      <th>4</th>\n",
       "      <td>307175</td>\n",
       "      <td>Comcast not working and no service to boot</td>\n",
       "      <td>26-05-15</td>\n",
       "      <td>26-May-15</td>\n",
       "      <td>1:25:26 PM</td>\n",
       "      <td>Internet</td>\n",
       "      <td>Acworth</td>\n",
       "      <td>Georgia</td>\n",
       "      <td>30101</td>\n",
       "      <td>Solved</td>\n",
       "      <td>No</td>\n",
       "    </tr>\n",
       "  </tbody>\n",
       "</table>\n",
       "</div>"
      ],
      "text/plain": [
       "  Ticket #                                 Customer Complaint      Date  \\\n",
       "0   250635                      Comcast Cable Internet Speeds  22-04-15   \n",
       "1   223441       Payment disappear - service got disconnected  04-08-15   \n",
       "2   242732                                  Speed and Service  18-04-15   \n",
       "3   277946  Comcast Imposed a New Usage Cap of 300GB that ...  05-07-15   \n",
       "4   307175         Comcast not working and no service to boot  26-05-15   \n",
       "\n",
       "  Date_month_year         Time        Received Via      City     State  \\\n",
       "0       22-Apr-15   3:53:50 PM  Customer Care Call  Abingdon  Maryland   \n",
       "1       04-Aug-15  10:22:56 AM            Internet   Acworth   Georgia   \n",
       "2       18-Apr-15   9:55:47 AM            Internet   Acworth   Georgia   \n",
       "3       05-Jul-15  11:59:35 AM            Internet   Acworth   Georgia   \n",
       "4       26-May-15   1:25:26 PM            Internet   Acworth   Georgia   \n",
       "\n",
       "   Zip code  Status Filing on Behalf of Someone  \n",
       "0     21009  Closed                          No  \n",
       "1     30102  Closed                          No  \n",
       "2     30101  Closed                         Yes  \n",
       "3     30101    Open                         Yes  \n",
       "4     30101  Solved                          No  "
      ]
     },
     "execution_count": 3,
     "metadata": {},
     "output_type": "execute_result"
    }
   ],
   "source": [
    "#Import data into Python environment\n",
    "df=pd.read_csv('Comcast_telecom_complaints_data.csv')\n",
    "df.head(5)"
   ]
  },
  {
   "cell_type": "code",
   "execution_count": 4,
   "metadata": {},
   "outputs": [
    {
     "data": {
      "text/plain": [
       "Ticket #                       0\n",
       "Customer Complaint             0\n",
       "Date                           0\n",
       "Date_month_year                0\n",
       "Time                           0\n",
       "Received Via                   0\n",
       "City                           0\n",
       "State                          0\n",
       "Zip code                       0\n",
       "Status                         0\n",
       "Filing on Behalf of Someone    0\n",
       "dtype: int64"
      ]
     },
     "execution_count": 4,
     "metadata": {},
     "output_type": "execute_result"
    }
   ],
   "source": [
    "df.isna().sum()"
   ]
  },
  {
   "cell_type": "code",
   "execution_count": 5,
   "metadata": {},
   "outputs": [
    {
     "name": "stdout",
     "output_type": "stream",
     "text": [
      "<class 'pandas.core.frame.DataFrame'>\n",
      "RangeIndex: 2224 entries, 0 to 2223\n",
      "Data columns (total 11 columns):\n",
      " #   Column                       Non-Null Count  Dtype \n",
      "---  ------                       --------------  ----- \n",
      " 0   Ticket #                     2224 non-null   object\n",
      " 1   Customer Complaint           2224 non-null   object\n",
      " 2   Date                         2224 non-null   object\n",
      " 3   Date_month_year              2224 non-null   object\n",
      " 4   Time                         2224 non-null   object\n",
      " 5   Received Via                 2224 non-null   object\n",
      " 6   City                         2224 non-null   object\n",
      " 7   State                        2224 non-null   object\n",
      " 8   Zip code                     2224 non-null   int64 \n",
      " 9   Status                       2224 non-null   object\n",
      " 10  Filing on Behalf of Someone  2224 non-null   object\n",
      "dtypes: int64(1), object(10)\n",
      "memory usage: 191.2+ KB\n"
     ]
    }
   ],
   "source": [
    "df.info()"
   ]
  },
  {
   "cell_type": "code",
   "execution_count": 6,
   "metadata": {},
   "outputs": [],
   "source": [
    "df['month']=pd.to_datetime(df['Date_month_year']).dt.month_name()\n",
    "df['date']=pd.to_datetime(df['Date_month_year']).dt.day"
   ]
  },
  {
   "cell_type": "code",
   "execution_count": 7,
   "metadata": {},
   "outputs": [
    {
     "data": {
      "image/png": "[encoded data removed]",
      "text/plain": [
       "<Figure size 432x288 with 1 Axes>"
      ]
     },
     "metadata": {
      "needs_background": "light"
     },
     "output_type": "display_data"
    },
    {
     "data": {
      "image/png": "[encoded data removed]",
      "text/plain": [
       "<Figure size 432x288 with 1 Axes>"
      ]
     },
     "metadata": {
      "needs_background": "light"
     },
     "output_type": "display_data"
    }
   ],
   "source": [
    "#Provide the trend chart for the number of complaints at monthly and daily granularity levels.\n",
    "df.groupby(['date'])['Customer Complaint'].count().plot(kind='bar')\n",
    "plt.show()\n",
    "\n",
    "df.groupby(['month'])['Customer Complaint'].count().plot(kind='bar')\n",
    "plt.show()"
   ]
  },
  {
   "cell_type": "code",
   "execution_count": 8,
   "metadata": {},
   "outputs": [
    {
     "data": {
      "text/html": [
       "<div>\n",
       "<style scoped>\n",
       "    .dataframe tbody tr th:only-of-type {\n",
       "        vertical-align: middle;\n",
       "    }\n",
       "\n",
       "    .dataframe tbody tr th {\n",
       "        vertical-align: top;\n",
       "    }\n",
       "\n",
       "    .dataframe thead th {\n",
       "        text-align: right;\n",
       "    }\n",
       "</style>\n",
       "<table border=\"1\" class=\"dataframe\">\n",
       "  <thead>\n",
       "    <tr style=\"text-align: right;\">\n",
       "      <th></th>\n",
       "      <th>index</th>\n",
       "      <th>Customer Complaint</th>\n",
       "    </tr>\n",
       "  </thead>\n",
       "  <tbody>\n",
       "    <tr>\n",
       "      <th>0</th>\n",
       "      <td>Comcast</td>\n",
       "      <td>83</td>\n",
       "    </tr>\n",
       "    <tr>\n",
       "      <th>1</th>\n",
       "      <td>Comcast Internet</td>\n",
       "      <td>18</td>\n",
       "    </tr>\n",
       "    <tr>\n",
       "      <th>2</th>\n",
       "      <td>Comcast Data Cap</td>\n",
       "      <td>17</td>\n",
       "    </tr>\n",
       "    <tr>\n",
       "      <th>3</th>\n",
       "      <td>comcast</td>\n",
       "      <td>13</td>\n",
       "    </tr>\n",
       "    <tr>\n",
       "      <th>4</th>\n",
       "      <td>Data Caps</td>\n",
       "      <td>11</td>\n",
       "    </tr>\n",
       "    <tr>\n",
       "      <th>...</th>\n",
       "      <td>...</td>\n",
       "      <td>...</td>\n",
       "    </tr>\n",
       "    <tr>\n",
       "      <th>1836</th>\n",
       "      <td>ComCast cable In Maryland</td>\n",
       "      <td>1</td>\n",
       "    </tr>\n",
       "    <tr>\n",
       "      <th>1837</th>\n",
       "      <td>Comcast charged me higher than quoted on the p...</td>\n",
       "      <td>1</td>\n",
       "    </tr>\n",
       "    <tr>\n",
       "      <th>1838</th>\n",
       "      <td>Comcast refuses to credit erroneous overcharge...</td>\n",
       "      <td>1</td>\n",
       "    </tr>\n",
       "    <tr>\n",
       "      <th>1839</th>\n",
       "      <td>Comcast Hard Inquiries</td>\n",
       "      <td>1</td>\n",
       "    </tr>\n",
       "    <tr>\n",
       "      <th>1840</th>\n",
       "      <td>Comcast is stealing from me</td>\n",
       "      <td>1</td>\n",
       "    </tr>\n",
       "  </tbody>\n",
       "</table>\n",
       "<p>1841 rows × 2 columns</p>\n",
       "</div>"
      ],
      "text/plain": [
       "                                                  index  Customer Complaint\n",
       "0                                               Comcast                  83\n",
       "1                                      Comcast Internet                  18\n",
       "2                                      Comcast Data Cap                  17\n",
       "3                                               comcast                  13\n",
       "4                                             Data Caps                  11\n",
       "...                                                 ...                 ...\n",
       "1836                          ComCast cable In Maryland                   1\n",
       "1837  Comcast charged me higher than quoted on the p...                   1\n",
       "1838  Comcast refuses to credit erroneous overcharge...                   1\n",
       "1839                             Comcast Hard Inquiries                   1\n",
       "1840                        Comcast is stealing from me                   1\n",
       "\n",
       "[1841 rows x 2 columns]"
      ]
     },
     "execution_count": 8,
     "metadata": {},
     "output_type": "execute_result"
    }
   ],
   "source": [
    "#Provide a table with the frequency of complaint types.\n",
    "df['Customer Complaint'].value_counts().to_frame().reset_index()"
   ]
  },
  {
   "cell_type": "code",
   "execution_count": 11,
   "metadata": {},
   "outputs": [
    {
     "data": {
      "text/plain": [
       "Comcast             83\n",
       "Comcast Internet    18\n",
       "Comcast Data Cap    17\n",
       "comcast             13\n",
       "Data Caps           11\n",
       "Name: Customer Complaint, dtype: int64"
      ]
     },
     "execution_count": 11,
     "metadata": {},
     "output_type": "execute_result"
    }
   ],
   "source": [
    "#Which complaint types are maximum i.e., around internet, network issues, or across any other domains\n",
    "df['Customer Complaint'].value_counts().head()\n"
   ]
  },
  {
   "cell_type": "code",
   "execution_count": 12,
   "metadata": {},
   "outputs": [],
   "source": [
    "#Create a new categorical variable with value as Open and Closed. Open & Pending is to be categorized as Open and Closed & Solved is to be categorized as Closed.\n",
    "df['Status']=df['Status'].apply(lambda x: 'Open' if ((x=='Open') | (x=='Pending')) else 'Closed' )"
   ]
  },
  {
   "cell_type": "code",
   "execution_count": 13,
   "metadata": {},
   "outputs": [
    {
     "data": {
      "image/png": "[encoded data removed]",
      "text/plain": [
       "<Figure size 720x720 with 1 Axes>"
      ]
     },
     "metadata": {
      "needs_background": "light"
     },
     "output_type": "display_data"
    }
   ],
   "source": [
    "# Provide state wise status of complaints in a stacked bar chart. Use the categorized variable from Q3.\n",
    "\n",
    "op=df[df['Status']=='Open'].groupby(['State'])['Status'].count().to_frame().reset_index()\n",
    "cl=df[df['Status']=='Closed'].groupby(['State'])['Status'].count().to_frame().reset_index()\n",
    "\n",
    "fig=plt.figure(figsize=(10,10))\n",
    "plt.barh(cl.State, cl.Status)\n",
    "plt.barh(op.State, op.Status)\n",
    "\n",
    "plt.ylabel(\"State\", size=10)\n",
    "plt.xlabel(\"Status Count\")\n",
    "plt.legend([\"closed\", \"open\"])\n",
    "plt.title(\"state vs status count\")\n",
    "plt.show()\n",
    "              "
   ]
  },
  {
   "cell_type": "code",
   "execution_count": 14,
   "metadata": {},
   "outputs": [
    {
     "name": "stdout",
     "output_type": "stream",
     "text": [
      "Georgia\n"
     ]
    }
   ],
   "source": [
    "#Which state has the maximum complaints\n",
    "print('Georgia')"
   ]
  },
  {
   "cell_type": "code",
   "execution_count": 16,
   "metadata": {},
   "outputs": [
    {
     "name": "stdout",
     "output_type": "stream",
     "text": [
      "Georgia\n"
     ]
    }
   ],
   "source": [
    "# Which state has the highest percentage of unresolved complaints\n",
    "print('Georgia')"
   ]
  },
  {
   "cell_type": "code",
   "execution_count": 17,
   "metadata": {},
   "outputs": [
    {
     "data": {
      "text/plain": [
       "Status  Received Via      \n",
       "Closed  Customer Care Call    50.615114\n",
       "        Internet              49.384886\n",
       "Name: Received Via, dtype: float64"
      ]
     },
     "execution_count": 17,
     "metadata": {},
     "output_type": "execute_result"
    }
   ],
   "source": [
    "#Provide the percentage of complaints resolved till date, which were received through the Internet and customer care calls.\n",
    "df[df['Status']=='Closed'].groupby('Status')['Received Via'].value_counts(normalize=True)*100"
   ]
  },
  {
   "cell_type": "code",
   "execution_count": null,
   "metadata": {},
   "outputs": [],
   "source": []
  }
 ],
 "metadata": {
  "kernelspec": {
   "display_name": "Python 3",
   "language": "python",
   "name": "python3"
  },
  "language_info": {
   "codemirror_mode": {
    "name": "ipython",
    "version": 3
   },
   "file_extension": ".py",
   "mimetype": "text/x-python",
   "name": "python",
   "nbconvert_exporter": "python",
   "pygments_lexer": "ipython3",
   "version": "3.8.5"
  }
 },
 "nbformat": 4,
 "nbformat_minor": 4
}
