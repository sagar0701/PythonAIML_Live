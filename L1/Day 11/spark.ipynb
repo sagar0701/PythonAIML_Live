{
 "cells": [
  {
   "cell_type": "code",
   "execution_count": 14,
   "metadata": {
    "executionInfo": {
     "elapsed": 405,
     "status": "ok",
     "timestamp": 1625331106091,
     "user": {
      "displayName": "sujata drall",
      "photoUrl": "",
      "userId": "07858160099359690614"
     },
     "user_tz": -330
    },
    "id": "jP5xvkkU-hZm"
   },
   "outputs": [],
   "source": [
    "# !pip install pyspark==3.1.1 py4j==0.10.9 \n",
    "from pyspark.sql import SparkSession\n",
    "import numpy as np"
   ]
  },
  {
   "cell_type": "code",
   "execution_count": 15,
   "metadata": {
    "executionInfo": {
     "elapsed": 6669,
     "status": "ok",
     "timestamp": 1625331127483,
     "user": {
      "displayName": "sujata drall",
      "photoUrl": "",
      "userId": "07858160099359690614"
     },
     "user_tz": -330
    },
    "id": "RIaRqhUm-hZo"
   },
   "outputs": [],
   "source": [
    "#create instance of spark class \n",
    "spark=SparkSession.builder.appName('Questions').getOrCreate()"
   ]
  },
  {
   "cell_type": "code",
   "execution_count": 16,
   "metadata": {
    "colab": {
     "base_uri": "https://localhost:8080/",
     "height": 217
    },
    "executionInfo": {
     "elapsed": 375,
     "status": "ok",
     "timestamp": 1625331130201,
     "user": {
      "displayName": "sujata drall",
      "photoUrl": "",
      "userId": "07858160099359690614"
     },
     "user_tz": -330
    },
    "id": "2xwwXjmR-hZo",
    "outputId": "aaeb1adc-f958-4f34-d36d-d74601b49a8d"
   },
   "outputs": [
    {
     "data": {
      "text/html": [
       "\n",
       "            <div>\n",
       "                <p><b>SparkSession - in-memory</b></p>\n",
       "                \n",
       "        <div>\n",
       "            <p><b>SparkContext</b></p>\n",
       "\n",
       "            <p><a href=\"http://CINT-IAOW-032.CISIVE-INT.LOCAL:4040\">Spark UI</a></p>\n",
       "\n",
       "            <dl>\n",
       "              <dt>Version</dt>\n",
       "                <dd><code>v3.1.2</code></dd>\n",
       "              <dt>Master</dt>\n",
       "                <dd><code>local[*]</code></dd>\n",
       "              <dt>AppName</dt>\n",
       "                <dd><code>Questions</code></dd>\n",
       "            </dl>\n",
       "        </div>\n",
       "        \n",
       "            </div>\n",
       "        "
      ],
      "text/plain": [
       "<pyspark.sql.session.SparkSession at 0x23907efe790>"
      ]
     },
     "execution_count": 16,
     "metadata": {},
     "output_type": "execute_result"
    }
   ],
   "source": [
    "spark"
   ]
  },
  {
   "cell_type": "code",
   "execution_count": null,
   "metadata": {
    "id": "Vr8udaxTSO8G"
   },
   "outputs": [],
   "source": []
  },
  {
   "cell_type": "code",
   "execution_count": 17,
   "metadata": {
    "colab": {
     "base_uri": "https://localhost:8080/"
    },
    "executionInfo": {
     "elapsed": 6909,
     "status": "ok",
     "timestamp": 1625331145453,
     "user": {
      "displayName": "sujata drall",
      "photoUrl": "",
      "userId": "07858160099359690614"
     },
     "user_tz": -330
    },
    "id": "H88i_er1-hZp",
    "outputId": "f69c7bc2-daf2-4da5-b05b-499110a95a1c"
   },
   "outputs": [
    {
     "name": "stdout",
     "output_type": "stream",
     "text": [
      "+-----------+----------+---------+--------------------+------------+----------+------+-------+----------+-------------+\n",
      "|employee_id|first_name|last_name|               email|phone_number| hire_date|job_id| salary|manager_id|department_id|\n",
      "+-----------+----------+---------+--------------------+------------+----------+------+-------+----------+-------------+\n",
      "|        100|    Steven|     King|steven.king@sqltu...|515.123.4567|1987-06-17|     4|24000.0|      null|            9|\n",
      "|        101|     Neena|  Kochhar|neena.kochhar@sql...|515.123.4568|1989-09-21|     5|17000.0|     100.0|            9|\n",
      "|        102|       Lex|   DeHaan|lex.dehaan@sqltut...|515.123.4569|1993-01-13|     5|17000.0|     100.0|            9|\n",
      "|        103| Alexander|   Hunold|alexander.hunold@...|590.423.4567|1990-01-03|     9| 9000.0|     102.0|            6|\n",
      "|        104|     Bruce|    Ernst|bruce.ernst@sqltu...|590.423.4568|1991-05-21|     9| 6000.0|     103.0|            6|\n",
      "+-----------+----------+---------+--------------------+------------+----------+------+-------+----------+-------------+\n",
      "only showing top 5 rows\n",
      "\n"
     ]
    }
   ],
   "source": [
    "emp = spark.read.csv('employee.csv',header='true', \n",
    "                      inferSchema='true')\n",
    "emp.show(5)"
   ]
  },
  {
   "cell_type": "code",
   "execution_count": null,
   "metadata": {
    "executionInfo": {
     "elapsed": 350,
     "status": "ok",
     "timestamp": 1625331383471,
     "user": {
      "displayName": "sujata drall",
      "photoUrl": "",
      "userId": "07858160099359690614"
     },
     "user_tz": -330
    },
    "id": "kA81MGbfSR7X"
   },
   "outputs": [],
   "source": []
  },
  {
   "cell_type": "code",
   "execution_count": 18,
   "metadata": {
    "colab": {
     "base_uri": "https://localhost:8080/"
    },
    "executionInfo": {
     "elapsed": 976,
     "status": "ok",
     "timestamp": 1625331525335,
     "user": {
      "displayName": "sujata drall",
      "photoUrl": "",
      "userId": "07858160099359690614"
     },
     "user_tz": -330
    },
    "id": "2h1XZtx3-hZp",
    "outputId": "2511eb08-99a3-40ae-b7af-7234a99424b6"
   },
   "outputs": [
    {
     "name": "stdout",
     "output_type": "stream",
     "text": [
      "+-------------+---------------+-----------+\n",
      "|department_id|department_name|location_id|\n",
      "+-------------+---------------+-----------+\n",
      "|            1| Administration|       1700|\n",
      "|            2|      Marketing|       1800|\n",
      "|            3|     Purchasing|       1700|\n",
      "|            4|Human Resources|       2400|\n",
      "|            5|       Shipping|       1500|\n",
      "+-------------+---------------+-----------+\n",
      "only showing top 5 rows\n",
      "\n"
     ]
    }
   ],
   "source": [
    "dept = spark.read.csv('department.csv',header='true', \n",
    "                      inferSchema='true')\n",
    "dept.show(5)"
   ]
  },
  {
   "cell_type": "code",
   "execution_count": 19,
   "metadata": {
    "colab": {
     "base_uri": "https://localhost:8080/"
    },
    "executionInfo": {
     "elapsed": 380,
     "status": "ok",
     "timestamp": 1625331526967,
     "user": {
      "displayName": "sujata drall",
      "photoUrl": "",
      "userId": "07858160099359690614"
     },
     "user_tz": -330
    },
    "id": "18xQkmRb-hZq",
    "outputId": "c28ea769-34e9-4651-9746-94aa8fda25b6"
   },
   "outputs": [
    {
     "name": "stdout",
     "output_type": "stream",
     "text": [
      "+-----------+-------------------+-----------+-------------------+--------------+----------+\n",
      "|location_id|     street_address|postal_code|               city|state_province|country_id|\n",
      "+-----------+-------------------+-----------+-------------------+--------------+----------+\n",
      "|       1400|2014 Jabberwocky Rd|      26192|          Southlake|         Texas|        US|\n",
      "|       1500|2011 Interiors Blvd|      99236|South San Francisco|    California|        US|\n",
      "|       1700|    2004 Charade Rd|      98199|            Seattle|    Washington|        US|\n",
      "|       1800|    147 Spadina Ave|    M5V 2L7|            Toronto|       Ontario|        CA|\n",
      "|       2400|     8204 Arthur St|       null|             London|          null|        UK|\n",
      "+-----------+-------------------+-----------+-------------------+--------------+----------+\n",
      "only showing top 5 rows\n",
      "\n"
     ]
    }
   ],
   "source": [
    "location = spark.read.csv('location.csv',header='true', \n",
    "                      inferSchema='true')\n",
    "location.show(5)"
   ]
  },
  {
   "cell_type": "code",
   "execution_count": 20,
   "metadata": {
    "colab": {
     "base_uri": "https://localhost:8080/"
    },
    "executionInfo": {
     "elapsed": 1007,
     "status": "ok",
     "timestamp": 1625331530603,
     "user": {
      "displayName": "sujata drall",
      "photoUrl": "",
      "userId": "07858160099359690614"
     },
     "user_tz": -330
    },
    "id": "vMhhZKvA-hZq",
    "outputId": "02e83e25-e412-4db8-e93d-4356b9737785"
   },
   "outputs": [
    {
     "name": "stdout",
     "output_type": "stream",
     "text": [
      "+----------+------------+---------+\n",
      "|country_id|country_name|region_id|\n",
      "+----------+------------+---------+\n",
      "|        AR|   Argentina|        2|\n",
      "|        AU|   Australia|        3|\n",
      "|        BE|     Belgium|        1|\n",
      "|        BR|      Brazil|        2|\n",
      "|        CA|      Canada|        2|\n",
      "+----------+------------+---------+\n",
      "only showing top 5 rows\n",
      "\n"
     ]
    }
   ],
   "source": [
    "countries = spark.read.csv('country.csv',header='true', \n",
    "                      inferSchema='true')\n",
    "countries.show(5)"
   ]
  },
  {
   "cell_type": "markdown",
   "metadata": {
    "id": "EKUC0soC-hZq"
   },
   "source": [
    "**1. Get list of employess along with their department details**"
   ]
  },
  {
   "cell_type": "code",
   "execution_count": 21,
   "metadata": {
    "colab": {
     "base_uri": "https://localhost:8080/"
    },
    "executionInfo": {
     "elapsed": 8,
     "status": "ok",
     "timestamp": 1625331530604,
     "user": {
      "displayName": "sujata drall",
      "photoUrl": "",
      "userId": "07858160099359690614"
     },
     "user_tz": -330
    },
    "id": "TREVJPD_-hZr",
    "outputId": "93b23c9b-f942-4a73-d3d0-0c172890f4fb"
   },
   "outputs": [
    {
     "name": "stdout",
     "output_type": "stream",
     "text": [
      "+-----------+----------+---------+--------------------+------------+----------+------+-------+----------+-------------+-------------+---------------+-----------+\n",
      "|employee_id|first_name|last_name|               email|phone_number| hire_date|job_id| salary|manager_id|department_id|department_id|department_name|location_id|\n",
      "+-----------+----------+---------+--------------------+------------+----------+------+-------+----------+-------------+-------------+---------------+-----------+\n",
      "|        100|    Steven|     King|steven.king@sqltu...|515.123.4567|1987-06-17|     4|24000.0|      null|            9|            9|      Executive|       1700|\n",
      "|        101|     Neena|  Kochhar|neena.kochhar@sql...|515.123.4568|1989-09-21|     5|17000.0|     100.0|            9|            9|      Executive|       1700|\n",
      "|        102|       Lex|   DeHaan|lex.dehaan@sqltut...|515.123.4569|1993-01-13|     5|17000.0|     100.0|            9|            9|      Executive|       1700|\n",
      "|        103| Alexander|   Hunold|alexander.hunold@...|590.423.4567|1990-01-03|     9| 9000.0|     102.0|            6|            6|             IT|       1400|\n",
      "|        104|     Bruce|    Ernst|bruce.ernst@sqltu...|590.423.4568|1991-05-21|     9| 6000.0|     103.0|            6|            6|             IT|       1400|\n",
      "+-----------+----------+---------+--------------------+------------+----------+------+-------+----------+-------------+-------------+---------------+-----------+\n",
      "only showing top 5 rows\n",
      "\n"
     ]
    }
   ],
   "source": [
    "emp_dept =  emp.join(dept,emp[\"department_id\"] ==  dept[\"department_id\"],\"left\")\n",
    "emp_dept.show(5)"
   ]
  },
  {
   "cell_type": "markdown",
   "metadata": {
    "id": "2GXm-5dk-hZr"
   },
   "source": [
    "**2. Analysis Employee Department**"
   ]
  },
  {
   "cell_type": "code",
   "execution_count": null,
   "metadata": {
    "executionInfo": {
     "elapsed": 6,
     "status": "ok",
     "timestamp": 1625331530605,
     "user": {
      "displayName": "sujata drall",
      "photoUrl": "",
      "userId": "07858160099359690614"
     },
     "user_tz": -330
    },
    "id": "Lhj0K_e2-8KW"
   },
   "outputs": [],
   "source": []
  },
  {
   "cell_type": "code",
   "execution_count": 22,
   "metadata": {
    "executionInfo": {
     "elapsed": 4,
     "status": "ok",
     "timestamp": 1625331531243,
     "user": {
      "displayName": "sujata drall",
      "photoUrl": "",
      "userId": "07858160099359690614"
     },
     "user_tz": -330
    },
    "id": "BGaS51XI-4fC"
   },
   "outputs": [],
   "source": [
    "from pyspark.sql import functions as f"
   ]
  },
  {
   "cell_type": "code",
   "execution_count": null,
   "metadata": {
    "colab": {
     "base_uri": "https://localhost:8080/"
    },
    "executionInfo": {
     "elapsed": 7140,
     "status": "ok",
     "timestamp": 1625331539587,
     "user": {
      "displayName": "sujata drall",
      "photoUrl": "",
      "userId": "07858160099359690614"
     },
     "user_tz": -330
    },
    "id": "N0UF4v_b-9n2",
    "outputId": "1ec99aa6-2edf-43f6-f456-37c655d87246"
   },
   "outputs": [],
   "source": [
    "emp_dept.groupBy('department_name').agg(f.sum('salary').alias('total salary'),\n",
    "                                       f.count('location_id').alias('location count'),\n",
    "                                       f.countDistinct('job_id').alias('unique job id count')).show()"
   ]
  },
  {
   "cell_type": "code",
   "execution_count": 24,
   "metadata": {
    "colab": {
     "base_uri": "https://localhost:8080/"
    },
    "executionInfo": {
     "elapsed": 1915,
     "status": "ok",
     "timestamp": 1625331541493,
     "user": {
      "displayName": "sujata drall",
      "photoUrl": "",
      "userId": "07858160099359690614"
     },
     "user_tz": -330
    },
    "id": "4s-bOzr7-hZr",
    "outputId": "95a376ca-edda-4322-b95b-9c55fec0d7ca"
   },
   "outputs": [
    {
     "name": "stdout",
     "output_type": "stream",
     "text": [
      "+----------------+-----+\n",
      "| department_name|count|\n",
      "+----------------+-----+\n",
      "|           Sales|    6|\n",
      "|      Accounting|    2|\n",
      "|         Finance|    6|\n",
      "|Public Relations|    1|\n",
      "|       Executive|    3|\n",
      "|      Purchasing|    6|\n",
      "|       Marketing|    2|\n",
      "|              IT|    5|\n",
      "|  Administration|    1|\n",
      "|        Shipping|    7|\n",
      "| Human Resources|    1|\n",
      "+----------------+-----+\n",
      "\n"
     ]
    }
   ],
   "source": [
    "emp_dept.groupBy('department_name').count().show()"
   ]
  },
  {
   "cell_type": "code",
   "execution_count": 25,
   "metadata": {
    "colab": {
     "base_uri": "https://localhost:8080/",
     "height": 203
    },
    "executionInfo": {
     "elapsed": 60,
     "status": "ok",
     "timestamp": 1625331541497,
     "user": {
      "displayName": "sujata drall",
      "photoUrl": "",
      "userId": "07858160099359690614"
     },
     "user_tz": -330
    },
    "id": "AQbrLV3S-hZs",
    "outputId": "c79bc085-ee69-4e4b-f653-2311937a39e1"
   },
   "outputs": [
    {
     "data": {
      "text/html": [
       "<div>\n",
       "<style scoped>\n",
       "    .dataframe tbody tr th:only-of-type {\n",
       "        vertical-align: middle;\n",
       "    }\n",
       "\n",
       "    .dataframe tbody tr th {\n",
       "        vertical-align: top;\n",
       "    }\n",
       "\n",
       "    .dataframe thead th {\n",
       "        text-align: right;\n",
       "    }\n",
       "</style>\n",
       "<table border=\"1\" class=\"dataframe\">\n",
       "  <thead>\n",
       "    <tr style=\"text-align: right;\">\n",
       "      <th></th>\n",
       "      <th>department_name</th>\n",
       "    </tr>\n",
       "  </thead>\n",
       "  <tbody>\n",
       "    <tr>\n",
       "      <th>0</th>\n",
       "      <td>Executive</td>\n",
       "    </tr>\n",
       "    <tr>\n",
       "      <th>1</th>\n",
       "      <td>Executive</td>\n",
       "    </tr>\n",
       "    <tr>\n",
       "      <th>2</th>\n",
       "      <td>Executive</td>\n",
       "    </tr>\n",
       "    <tr>\n",
       "      <th>3</th>\n",
       "      <td>IT</td>\n",
       "    </tr>\n",
       "    <tr>\n",
       "      <th>4</th>\n",
       "      <td>IT</td>\n",
       "    </tr>\n",
       "  </tbody>\n",
       "</table>\n",
       "</div>"
      ],
      "text/plain": [
       "  department_name\n",
       "0       Executive\n",
       "1       Executive\n",
       "2       Executive\n",
       "3              IT\n",
       "4              IT"
      ]
     },
     "execution_count": 25,
     "metadata": {},
     "output_type": "execute_result"
    }
   ],
   "source": [
    "department_count = emp_dept.select('department_name').toPandas()\n",
    "department_count.head()"
   ]
  },
  {
   "cell_type": "code",
   "execution_count": 26,
   "metadata": {
    "colab": {
     "base_uri": "https://localhost:8080/",
     "height": 165
    },
    "executionInfo": {
     "elapsed": 784,
     "status": "ok",
     "timestamp": 1625331542236,
     "user": {
      "displayName": "sujata drall",
      "photoUrl": "",
      "userId": "07858160099359690614"
     },
     "user_tz": -330
    },
    "id": "YXoqgrmpJySg",
    "outputId": "8f78325d-fdef-490d-c654-50f335f618d6"
   },
   "outputs": [
    {
     "data": {
      "text/html": [
       "<div>\n",
       "<style scoped>\n",
       "    .dataframe tbody tr th:only-of-type {\n",
       "        vertical-align: middle;\n",
       "    }\n",
       "\n",
       "    .dataframe tbody tr th {\n",
       "        vertical-align: top;\n",
       "    }\n",
       "\n",
       "    .dataframe thead th {\n",
       "        text-align: right;\n",
       "    }\n",
       "</style>\n",
       "<table border=\"1\" class=\"dataframe\">\n",
       "  <thead>\n",
       "    <tr style=\"text-align: right;\">\n",
       "      <th></th>\n",
       "      <th>employee_id</th>\n",
       "      <th>first_name</th>\n",
       "      <th>last_name</th>\n",
       "      <th>email</th>\n",
       "      <th>phone_number</th>\n",
       "      <th>hire_date</th>\n",
       "      <th>job_id</th>\n",
       "      <th>salary</th>\n",
       "      <th>manager_id</th>\n",
       "      <th>department_id</th>\n",
       "      <th>department_id</th>\n",
       "      <th>department_name</th>\n",
       "      <th>location_id</th>\n",
       "    </tr>\n",
       "  </thead>\n",
       "  <tbody>\n",
       "    <tr>\n",
       "      <th>0</th>\n",
       "      <td>101</td>\n",
       "      <td>Neena</td>\n",
       "      <td>Kochhar</td>\n",
       "      <td>neena.kochhar@sqltutorial.org</td>\n",
       "      <td>515.123.4568</td>\n",
       "      <td>1989-09-21</td>\n",
       "      <td>5</td>\n",
       "      <td>17000.0</td>\n",
       "      <td>100.0</td>\n",
       "      <td>9</td>\n",
       "      <td>9</td>\n",
       "      <td>Executive</td>\n",
       "      <td>1700</td>\n",
       "    </tr>\n",
       "    <tr>\n",
       "      <th>1</th>\n",
       "      <td>102</td>\n",
       "      <td>Lex</td>\n",
       "      <td>DeHaan</td>\n",
       "      <td>lex.dehaan@sqltutorial.org</td>\n",
       "      <td>515.123.4569</td>\n",
       "      <td>1993-01-13</td>\n",
       "      <td>5</td>\n",
       "      <td>17000.0</td>\n",
       "      <td>100.0</td>\n",
       "      <td>9</td>\n",
       "      <td>9</td>\n",
       "      <td>Executive</td>\n",
       "      <td>1700</td>\n",
       "    </tr>\n",
       "  </tbody>\n",
       "</table>\n",
       "</div>"
      ],
      "text/plain": [
       "   employee_id first_name last_name                          email  \\\n",
       "0          101      Neena   Kochhar  neena.kochhar@sqltutorial.org   \n",
       "1          102        Lex    DeHaan     lex.dehaan@sqltutorial.org   \n",
       "\n",
       "   phone_number   hire_date  job_id   salary  manager_id  department_id  \\\n",
       "0  515.123.4568  1989-09-21       5  17000.0       100.0              9   \n",
       "1  515.123.4569  1993-01-13       5  17000.0       100.0              9   \n",
       "\n",
       "   department_id department_name  location_id  \n",
       "0              9       Executive         1700  \n",
       "1              9       Executive         1700  "
      ]
     },
     "execution_count": 26,
     "metadata": {},
     "output_type": "execute_result"
    }
   ],
   "source": [
    "a1=emp_dept.filter(f.col('job_id')==5).toPandas()\n",
    "a1"
   ]
  },
  {
   "cell_type": "code",
   "execution_count": 27,
   "metadata": {
    "colab": {
     "base_uri": "https://localhost:8080/"
    },
    "executionInfo": {
     "elapsed": 30,
     "status": "ok",
     "timestamp": 1625331542238,
     "user": {
      "displayName": "sujata drall",
      "photoUrl": "",
      "userId": "07858160099359690614"
     },
     "user_tz": -330
    },
    "id": "3oSL9ceiL-gT",
    "outputId": "bb706367-9ebe-483a-85ac-01b643c0cf43"
   },
   "outputs": [
    {
     "data": {
      "text/plain": [
       "pyspark.sql.dataframe.DataFrame"
      ]
     },
     "execution_count": 27,
     "metadata": {},
     "output_type": "execute_result"
    }
   ],
   "source": [
    "type(emp_dept)"
   ]
  },
  {
   "cell_type": "code",
   "execution_count": 28,
   "metadata": {
    "colab": {
     "base_uri": "https://localhost:8080/"
    },
    "executionInfo": {
     "elapsed": 19,
     "status": "ok",
     "timestamp": 1625331542239,
     "user": {
      "displayName": "sujata drall",
      "photoUrl": "",
      "userId": "07858160099359690614"
     },
     "user_tz": -330
    },
    "id": "8jxyWTDNKNZY",
    "outputId": "5d06067c-59dc-432c-8077-a4d7e748a6b0"
   },
   "outputs": [
    {
     "data": {
      "text/plain": [
       "['employee_id',\n",
       " 'first_name',\n",
       " 'last_name',\n",
       " 'email',\n",
       " 'phone_number',\n",
       " 'hire_date',\n",
       " 'job_id',\n",
       " 'salary',\n",
       " 'manager_id',\n",
       " 'department_id',\n",
       " 'department_id',\n",
       " 'department_name',\n",
       " 'location_id']"
      ]
     },
     "execution_count": 28,
     "metadata": {},
     "output_type": "execute_result"
    }
   ],
   "source": [
    "emp_dept.columns"
   ]
  },
  {
   "cell_type": "code",
   "execution_count": 29,
   "metadata": {
    "colab": {
     "base_uri": "https://localhost:8080/"
    },
    "executionInfo": {
     "elapsed": 373,
     "status": "ok",
     "timestamp": 1625328905727,
     "user": {
      "displayName": "sujata drall",
      "photoUrl": "",
      "userId": "07858160099359690614"
     },
     "user_tz": -330
    },
    "id": "mYnimxmWJa5b",
    "outputId": "53c5a57f-db11-428e-b08e-f8268aa01b44"
   },
   "outputs": [
    {
     "name": "stdout",
     "output_type": "stream",
     "text": [
      "+---------------+------+\n",
      "|department_name|job_id|\n",
      "+---------------+------+\n",
      "|      Executive|     4|\n",
      "|      Executive|     5|\n",
      "|      Executive|     5|\n",
      "|             IT|     9|\n",
      "|             IT|     9|\n",
      "+---------------+------+\n",
      "only showing top 5 rows\n",
      "\n"
     ]
    }
   ],
   "source": [
    "emp_dept.select(f.col('department_name'), f.col('job_id')).show(5)"
   ]
  },
  {
   "cell_type": "code",
   "execution_count": 30,
   "metadata": {
    "executionInfo": {
     "elapsed": 1694,
     "status": "ok",
     "timestamp": 1625332813957,
     "user": {
      "displayName": "sujata drall",
      "photoUrl": "",
      "userId": "07858160099359690614"
     },
     "user_tz": -330
    },
    "id": "7nP7Z78IYIwu"
   },
   "outputs": [],
   "source": [
    "k1 = emp_dept.groupby('department_name').agg(f.count('department_name').alias('department_count')).toPandas()"
   ]
  },
  {
   "cell_type": "code",
   "execution_count": 31,
   "metadata": {
    "colab": {
     "base_uri": "https://localhost:8080/",
     "height": 390
    },
    "executionInfo": {
     "elapsed": 362,
     "status": "ok",
     "timestamp": 1625332824539,
     "user": {
      "displayName": "sujata drall",
      "photoUrl": "",
      "userId": "07858160099359690614"
     },
     "user_tz": -330
    },
    "id": "vZna7RoJYq-Q",
    "outputId": "8847baf9-eafa-41fd-b0cd-5d372efe37da"
   },
   "outputs": [
    {
     "data": {
      "text/html": [
       "<div>\n",
       "<style scoped>\n",
       "    .dataframe tbody tr th:only-of-type {\n",
       "        vertical-align: middle;\n",
       "    }\n",
       "\n",
       "    .dataframe tbody tr th {\n",
       "        vertical-align: top;\n",
       "    }\n",
       "\n",
       "    .dataframe thead th {\n",
       "        text-align: right;\n",
       "    }\n",
       "</style>\n",
       "<table border=\"1\" class=\"dataframe\">\n",
       "  <thead>\n",
       "    <tr style=\"text-align: right;\">\n",
       "      <th></th>\n",
       "      <th>department_name</th>\n",
       "      <th>department_count</th>\n",
       "    </tr>\n",
       "  </thead>\n",
       "  <tbody>\n",
       "    <tr>\n",
       "      <th>0</th>\n",
       "      <td>Sales</td>\n",
       "      <td>6</td>\n",
       "    </tr>\n",
       "    <tr>\n",
       "      <th>1</th>\n",
       "      <td>Accounting</td>\n",
       "      <td>2</td>\n",
       "    </tr>\n",
       "    <tr>\n",
       "      <th>2</th>\n",
       "      <td>Finance</td>\n",
       "      <td>6</td>\n",
       "    </tr>\n",
       "    <tr>\n",
       "      <th>3</th>\n",
       "      <td>Public Relations</td>\n",
       "      <td>1</td>\n",
       "    </tr>\n",
       "    <tr>\n",
       "      <th>4</th>\n",
       "      <td>Executive</td>\n",
       "      <td>3</td>\n",
       "    </tr>\n",
       "    <tr>\n",
       "      <th>5</th>\n",
       "      <td>Purchasing</td>\n",
       "      <td>6</td>\n",
       "    </tr>\n",
       "    <tr>\n",
       "      <th>6</th>\n",
       "      <td>Marketing</td>\n",
       "      <td>2</td>\n",
       "    </tr>\n",
       "    <tr>\n",
       "      <th>7</th>\n",
       "      <td>IT</td>\n",
       "      <td>5</td>\n",
       "    </tr>\n",
       "    <tr>\n",
       "      <th>8</th>\n",
       "      <td>Administration</td>\n",
       "      <td>1</td>\n",
       "    </tr>\n",
       "    <tr>\n",
       "      <th>9</th>\n",
       "      <td>Shipping</td>\n",
       "      <td>7</td>\n",
       "    </tr>\n",
       "    <tr>\n",
       "      <th>10</th>\n",
       "      <td>Human Resources</td>\n",
       "      <td>1</td>\n",
       "    </tr>\n",
       "  </tbody>\n",
       "</table>\n",
       "</div>"
      ],
      "text/plain": [
       "     department_name  department_count\n",
       "0              Sales                 6\n",
       "1         Accounting                 2\n",
       "2            Finance                 6\n",
       "3   Public Relations                 1\n",
       "4          Executive                 3\n",
       "5         Purchasing                 6\n",
       "6          Marketing                 2\n",
       "7                 IT                 5\n",
       "8     Administration                 1\n",
       "9           Shipping                 7\n",
       "10   Human Resources                 1"
      ]
     },
     "execution_count": 31,
     "metadata": {},
     "output_type": "execute_result"
    }
   ],
   "source": [
    "k1"
   ]
  },
  {
   "cell_type": "code",
   "execution_count": 32,
   "metadata": {
    "colab": {
     "base_uri": "https://localhost:8080/",
     "height": 280
    },
    "executionInfo": {
     "elapsed": 459,
     "status": "ok",
     "timestamp": 1625332981376,
     "user": {
      "displayName": "sujata drall",
      "photoUrl": "",
      "userId": "07858160099359690614"
     },
     "user_tz": -330
    },
    "id": "ubIlfmZn-hZs",
    "outputId": "e2f61414-28e0-48b5-f6f7-33b7742e30a7"
   },
   "outputs": [
    {
     "data": {
      "image/png": "[encoded data removed]",
      "text/plain": [
       "<Figure size 432x288 with 1 Axes>"
      ]
     },
     "metadata": {
      "needs_background": "light"
     },
     "output_type": "display_data"
    }
   ],
   "source": [
    "import matplotlib.pyplot as plt\n",
    "import seaborn as sns\n",
    "sns.barplot(y='department_name',x='department_count',data=k1)\n",
    "plt.show()"
   ]
  },
  {
   "cell_type": "markdown",
   "metadata": {
    "id": "aEoqnAVM-hZs"
   },
   "source": [
    "**Conclusion**\n",
    "\n",
    "* Majority of employess(around 17.5%) work in Shipping Department\n",
    "* Administration, Human Resources and Public Relations are Departments having least number of Employees working\n",
    "* Finance, Sales and Purchasing departments have equal percentage of employees employeed "
   ]
  },
  {
   "cell_type": "markdown",
   "metadata": {
    "id": "lHbv9lNY-hZt"
   },
   "source": [
    "**3. Get Address of Administration and Marketing Department**"
   ]
  },
  {
   "cell_type": "code",
   "execution_count": 33,
   "metadata": {
    "executionInfo": {
     "elapsed": 15,
     "status": "ok",
     "timestamp": 1625331542240,
     "user": {
      "displayName": "sujata drall",
      "photoUrl": "",
      "userId": "07858160099359690614"
     },
     "user_tz": -330
    },
    "id": "RN-t7gSM-hZt"
   },
   "outputs": [],
   "source": [
    "department_locations = dept.join(location,dept[\"location_id\"] ==  location[\"location_id\"],\"left\")"
   ]
  },
  {
   "cell_type": "code",
   "execution_count": 34,
   "metadata": {
    "colab": {
     "base_uri": "https://localhost:8080/"
    },
    "executionInfo": {
     "elapsed": 15,
     "status": "ok",
     "timestamp": 1625331542241,
     "user": {
      "displayName": "sujata drall",
      "photoUrl": "",
      "userId": "07858160099359690614"
     },
     "user_tz": -330
    },
    "id": "RDFOjjDr-hZt",
    "outputId": "882b5b26-1c93-4633-fe20-51c950165da8"
   },
   "outputs": [
    {
     "name": "stdout",
     "output_type": "stream",
     "text": [
      "+-------------+---------------+-----------+-----------+---------------+-----------+-------+--------------+----------+----------+--------------------+---------+\n",
      "|department_id|department_name|location_id|location_id| street_address|postal_code|   city|state_province|country_id|country_id|        country_name|region_id|\n",
      "+-------------+---------------+-----------+-----------+---------------+-----------+-------+--------------+----------+----------+--------------------+---------+\n",
      "|            1| Administration|       1700|       1700|2004 Charade Rd|      98199|Seattle|    Washington|        US|        US|United States of ...|        2|\n",
      "+-------------+---------------+-----------+-----------+---------------+-----------+-------+--------------+----------+----------+--------------------+---------+\n",
      "only showing top 1 row\n",
      "\n"
     ]
    }
   ],
   "source": [
    "countries_department_locations = department_locations.join(countries,department_locations[\"country_id\"] ==  countries[\"country_id\"],\"left\")\n",
    "countries_department_locations.show(1)"
   ]
  },
  {
   "cell_type": "markdown",
   "metadata": {
    "id": "A1M-2xkS-hZt"
   },
   "source": [
    "**4. Get Employees who work in USA as Administration department**"
   ]
  },
  {
   "cell_type": "code",
   "execution_count": 35,
   "metadata": {
    "colab": {
     "base_uri": "https://localhost:8080/"
    },
    "executionInfo": {
     "elapsed": 2716,
     "status": "ok",
     "timestamp": 1625331546218,
     "user": {
      "displayName": "sujata drall",
      "photoUrl": "",
      "userId": "07858160099359690614"
     },
     "user_tz": -330
    },
    "id": "ZSOHL6dy-hZt",
    "outputId": "0f9a9ad4-759b-4442-bf31-f56f5608df42",
    "scrolled": true
   },
   "outputs": [
    {
     "name": "stdout",
     "output_type": "stream",
     "text": [
      "+-----------+----------+---------+--------------------+------------+----------+------+------+----------+-------------+-------------+---------------+-----------+-----------+---------------+-----------+-------+--------------+----------+----------+--------------------+---------+\n",
      "|employee_id|first_name|last_name|               email|phone_number| hire_date|job_id|salary|manager_id|department_id|department_id|department_name|location_id|location_id| street_address|postal_code|   city|state_province|country_id|country_id|        country_name|region_id|\n",
      "+-----------+----------+---------+--------------------+------------+----------+------+------+----------+-------------+-------------+---------------+-----------+-----------+---------------+-----------+-------+--------------+----------+----------+--------------------+---------+\n",
      "|        200|  Jennifer|   Whalen|jennifer.whalen@s...|515.123.4444|1987-09-17|     3|4400.0|     101.0|            1|            1| Administration|       1700|       1700|2004 Charade Rd|      98199|Seattle|    Washington|        US|        US|United States of ...|        2|\n",
      "+-----------+----------+---------+--------------------+------------+----------+------+------+----------+-------------+-------------+---------------+-----------+-----------+---------------+-----------+-------+--------------+----------+----------+--------------------+---------+\n",
      "only showing top 1 row\n",
      "\n"
     ]
    }
   ],
   "source": [
    "employees_department_locations = emp.join(countries_department_locations,emp[\"department_id\"] ==  countries_department_locations[\"department_id\"],\"left\")\n",
    "employees_department_locations.show(1)"
   ]
  },
  {
   "cell_type": "code",
   "execution_count": null,
   "metadata": {
    "id": "amE6i_CABfl9"
   },
   "outputs": [],
   "source": []
  },
  {
   "cell_type": "markdown",
   "metadata": {
    "id": "urYm9RC4-hZu"
   },
   "source": [
    "**5. How many employees work in Canada ?**"
   ]
  },
  {
   "cell_type": "code",
   "execution_count": 36,
   "metadata": {
    "colab": {
     "base_uri": "https://localhost:8080/"
    },
    "id": "4clPi7cYBhqs",
    "outputId": "db2dc7e7-3c0e-4f7a-f242-909f402e4235"
   },
   "outputs": [
    {
     "data": {
      "text/plain": [
       "[Row(employee_id=200, first_name='Jennifer', last_name='Whalen', email='jennifer.whalen@sqltutorial.org', phone_number='515.123.4444', hire_date='1987-09-17', job_id=3, salary=4400.0, manager_id=101.0, department_id=1, department_id=1, department_name='Administration', location_id=1700, location_id=1700, street_address='2004 Charade Rd', postal_code='98199', city='Seattle', state_province='Washington', country_id='US', country_id='US', country_name='United States of America', region_id=2),\n",
       " Row(employee_id=103, first_name='Alexander', last_name='Hunold', email='alexander.hunold@sqltutorial.org', phone_number='590.423.4567', hire_date='1990-01-03', job_id=9, salary=9000.0, manager_id=102.0, department_id=6, department_id=6, department_name='IT', location_id=1400, location_id=1400, street_address='2014 Jabberwocky Rd', postal_code='26192', city='Southlake', state_province='Texas', country_id='US', country_id='US', country_name='United States of America', region_id=2),\n",
       " Row(employee_id=104, first_name='Bruce', last_name='Ernst', email='bruce.ernst@sqltutorial.org', phone_number='590.423.4568', hire_date='1991-05-21', job_id=9, salary=6000.0, manager_id=103.0, department_id=6, department_id=6, department_name='IT', location_id=1400, location_id=1400, street_address='2014 Jabberwocky Rd', postal_code='26192', city='Southlake', state_province='Texas', country_id='US', country_id='US', country_name='United States of America', region_id=2),\n",
       " Row(employee_id=105, first_name='David', last_name='Austin', email='david.austin@sqltutorial.org', phone_number='590.423.4569', hire_date='1997-06-25', job_id=9, salary=4800.0, manager_id=103.0, department_id=6, department_id=6, department_name='IT', location_id=1400, location_id=1400, street_address='2014 Jabberwocky Rd', postal_code='26192', city='Southlake', state_province='Texas', country_id='US', country_id='US', country_name='United States of America', region_id=2),\n",
       " Row(employee_id=106, first_name='Valli', last_name='Pataballa', email='valli.pataballa@sqltutorial.org', phone_number='590.423.4560', hire_date='1998-02-05', job_id=9, salary=4800.0, manager_id=103.0, department_id=6, department_id=6, department_name='IT', location_id=1400, location_id=1400, street_address='2014 Jabberwocky Rd', postal_code='26192', city='Southlake', state_province='Texas', country_id='US', country_id='US', country_name='United States of America', region_id=2),\n",
       " Row(employee_id=107, first_name='Diana', last_name='Lorentz', email='diana.lorentz@sqltutorial.org', phone_number='590.423.5567', hire_date='1999-02-07', job_id=9, salary=4200.0, manager_id=103.0, department_id=6, department_id=6, department_name='IT', location_id=1400, location_id=1400, street_address='2014 Jabberwocky Rd', postal_code='26192', city='Southlake', state_province='Texas', country_id='US', country_id='US', country_name='United States of America', region_id=2),\n",
       " Row(employee_id=114, first_name='Den', last_name='Raphaely', email='den.raphaely@sqltutorial.org', phone_number='515.127.4561', hire_date='1994-12-07', job_id=14, salary=11000.0, manager_id=100.0, department_id=3, department_id=3, department_name='Purchasing', location_id=1700, location_id=1700, street_address='2004 Charade Rd', postal_code='98199', city='Seattle', state_province='Washington', country_id='US', country_id='US', country_name='United States of America', region_id=2),\n",
       " Row(employee_id=115, first_name='Alexander', last_name='Khoo', email='alexander.khoo@sqltutorial.org', phone_number='515.127.4562', hire_date='1995-05-18', job_id=13, salary=3100.0, manager_id=114.0, department_id=3, department_id=3, department_name='Purchasing', location_id=1700, location_id=1700, street_address='2004 Charade Rd', postal_code='98199', city='Seattle', state_province='Washington', country_id='US', country_id='US', country_name='United States of America', region_id=2),\n",
       " Row(employee_id=116, first_name='Shelli', last_name='Baida', email='shelli.baida@sqltutorial.org', phone_number='515.127.4563', hire_date='1997-12-24', job_id=13, salary=2900.0, manager_id=114.0, department_id=3, department_id=3, department_name='Purchasing', location_id=1700, location_id=1700, street_address='2004 Charade Rd', postal_code='98199', city='Seattle', state_province='Washington', country_id='US', country_id='US', country_name='United States of America', region_id=2),\n",
       " Row(employee_id=117, first_name='Sigal', last_name='Tobias', email='sigal.tobias@sqltutorial.org', phone_number='515.127.4564', hire_date='1997-07-24', job_id=13, salary=2800.0, manager_id=114.0, department_id=3, department_id=3, department_name='Purchasing', location_id=1700, location_id=1700, street_address='2004 Charade Rd', postal_code='98199', city='Seattle', state_province='Washington', country_id='US', country_id='US', country_name='United States of America', region_id=2),\n",
       " Row(employee_id=118, first_name='Guy', last_name='Himuro', email='guy.himuro@sqltutorial.org', phone_number='515.127.4565', hire_date='1998-11-15', job_id=13, salary=2600.0, manager_id=114.0, department_id=3, department_id=3, department_name='Purchasing', location_id=1700, location_id=1700, street_address='2004 Charade Rd', postal_code='98199', city='Seattle', state_province='Washington', country_id='US', country_id='US', country_name='United States of America', region_id=2),\n",
       " Row(employee_id=119, first_name='Karen', last_name='Colmenares', email='karen.colmenares@sqltutorial.org', phone_number='515.127.4566', hire_date='1999-08-10', job_id=13, salary=2500.0, manager_id=114.0, department_id=3, department_id=3, department_name='Purchasing', location_id=1700, location_id=1700, street_address='2004 Charade Rd', postal_code='98199', city='Seattle', state_province='Washington', country_id='US', country_id='US', country_name='United States of America', region_id=2),\n",
       " Row(employee_id=120, first_name='Matthew', last_name='Weiss', email='matthew.weiss@sqltutorial.org', phone_number='650.123.1234', hire_date='1996-07-18', job_id=19, salary=8000.0, manager_id=100.0, department_id=5, department_id=5, department_name='Shipping', location_id=1500, location_id=1500, street_address='2011 Interiors Blvd', postal_code='99236', city='South San Francisco', state_province='California', country_id='US', country_id='US', country_name='United States of America', region_id=2),\n",
       " Row(employee_id=121, first_name='Adam', last_name='Fripp', email='adam.fripp@sqltutorial.org', phone_number='650.123.2234', hire_date='1997-04-10', job_id=19, salary=8200.0, manager_id=100.0, department_id=5, department_id=5, department_name='Shipping', location_id=1500, location_id=1500, street_address='2011 Interiors Blvd', postal_code='99236', city='South San Francisco', state_province='California', country_id='US', country_id='US', country_name='United States of America', region_id=2),\n",
       " Row(employee_id=122, first_name='Payam', last_name='Kaufling', email='payam.kaufling@sqltutorial.org', phone_number='650.123.3234', hire_date='1995-05-01', job_id=19, salary=7900.0, manager_id=100.0, department_id=5, department_id=5, department_name='Shipping', location_id=1500, location_id=1500, street_address='2011 Interiors Blvd', postal_code='99236', city='South San Francisco', state_province='California', country_id='US', country_id='US', country_name='United States of America', region_id=2),\n",
       " Row(employee_id=123, first_name='Shanta', last_name='Vollman', email='shanta.vollman@sqltutorial.org', phone_number='650.123.4234', hire_date='1997-10-10', job_id=19, salary=6500.0, manager_id=100.0, department_id=5, department_id=5, department_name='Shipping', location_id=1500, location_id=1500, street_address='2011 Interiors Blvd', postal_code='99236', city='South San Francisco', state_province='California', country_id='US', country_id='US', country_name='United States of America', region_id=2),\n",
       " Row(employee_id=126, first_name='Irene', last_name='Mikkilineni', email='irene.mikkilineni@sqltutorial.org', phone_number='650.124.1224', hire_date='1998-09-28', job_id=18, salary=2700.0, manager_id=120.0, department_id=5, department_id=5, department_name='Shipping', location_id=1500, location_id=1500, street_address='2011 Interiors Blvd', postal_code='99236', city='South San Francisco', state_province='California', country_id='US', country_id='US', country_name='United States of America', region_id=2),\n",
       " Row(employee_id=192, first_name='Sarah', last_name='Bell', email='sarah.bell@sqltutorial.org', phone_number='650.501.1876', hire_date='1996-02-04', job_id=17, salary=4000.0, manager_id=123.0, department_id=5, department_id=5, department_name='Shipping', location_id=1500, location_id=1500, street_address='2011 Interiors Blvd', postal_code='99236', city='South San Francisco', state_province='California', country_id='US', country_id='US', country_name='United States of America', region_id=2),\n",
       " Row(employee_id=193, first_name='Britney', last_name='Everett', email='britney.everett@sqltutorial.org', phone_number='650.501.2876', hire_date='1997-03-03', job_id=17, salary=3900.0, manager_id=123.0, department_id=5, department_id=5, department_name='Shipping', location_id=1500, location_id=1500, street_address='2011 Interiors Blvd', postal_code='99236', city='South San Francisco', state_province='California', country_id='US', country_id='US', country_name='United States of America', region_id=2),\n",
       " Row(employee_id=100, first_name='Steven', last_name='King', email='steven.king@sqltutorial.org', phone_number='515.123.4567', hire_date='1987-06-17', job_id=4, salary=24000.0, manager_id=None, department_id=9, department_id=9, department_name='Executive', location_id=1700, location_id=1700, street_address='2004 Charade Rd', postal_code='98199', city='Seattle', state_province='Washington', country_id='US', country_id='US', country_name='United States of America', region_id=2),\n",
       " Row(employee_id=101, first_name='Neena', last_name='Kochhar', email='neena.kochhar@sqltutorial.org', phone_number='515.123.4568', hire_date='1989-09-21', job_id=5, salary=17000.0, manager_id=100.0, department_id=9, department_id=9, department_name='Executive', location_id=1700, location_id=1700, street_address='2004 Charade Rd', postal_code='98199', city='Seattle', state_province='Washington', country_id='US', country_id='US', country_name='United States of America', region_id=2),\n",
       " Row(employee_id=102, first_name='Lex', last_name='DeHaan', email='lex.dehaan@sqltutorial.org', phone_number='515.123.4569', hire_date='1993-01-13', job_id=5, salary=17000.0, manager_id=100.0, department_id=9, department_id=9, department_name='Executive', location_id=1700, location_id=1700, street_address='2004 Charade Rd', postal_code='98199', city='Seattle', state_province='Washington', country_id='US', country_id='US', country_name='United States of America', region_id=2),\n",
       " Row(employee_id=203, first_name='Susan', last_name='Mavris', email='susan.mavris@sqltutorial.org', phone_number='515.123.7777', hire_date='1994-06-07', job_id=8, salary=6500.0, manager_id=101.0, department_id=4, department_id=4, department_name='Human Resources', location_id=2400, location_id=2400, street_address='8204 Arthur St', postal_code=None, city='London', state_province=None, country_id='UK', country_id='UK', country_name='United Kingdom', region_id=1),\n",
       " Row(employee_id=145, first_name='John', last_name='Russell', email='john.russell@sqltutorial.org', phone_number=None, hire_date='1996-10-01', job_id=15, salary=14000.0, manager_id=100.0, department_id=8, department_id=8, department_name='Sales', location_id=2500, location_id=2500, street_address='Magdalen Centre, The Oxford Science Park', postal_code='OX9 9ZB', city='Oxford', state_province='Oxford', country_id='UK', country_id='UK', country_name='United Kingdom', region_id=1),\n",
       " Row(employee_id=146, first_name='Karen', last_name='Partners', email='karen.partners@sqltutorial.org', phone_number=None, hire_date='1997-01-05', job_id=15, salary=13500.0, manager_id=100.0, department_id=8, department_id=8, department_name='Sales', location_id=2500, location_id=2500, street_address='Magdalen Centre, The Oxford Science Park', postal_code='OX9 9ZB', city='Oxford', state_province='Oxford', country_id='UK', country_id='UK', country_name='United Kingdom', region_id=1),\n",
       " Row(employee_id=176, first_name='Jonathon', last_name='Taylor', email='jonathon.taylor@sqltutorial.org', phone_number=None, hire_date='1998-03-24', job_id=16, salary=8600.0, manager_id=100.0, department_id=8, department_id=8, department_name='Sales', location_id=2500, location_id=2500, street_address='Magdalen Centre, The Oxford Science Park', postal_code='OX9 9ZB', city='Oxford', state_province='Oxford', country_id='UK', country_id='UK', country_name='United Kingdom', region_id=1),\n",
       " Row(employee_id=177, first_name='Jack', last_name='Livingston', email='jack.livingston@sqltutorial.org', phone_number=None, hire_date='1998-04-23', job_id=16, salary=8400.0, manager_id=100.0, department_id=8, department_id=8, department_name='Sales', location_id=2500, location_id=2500, street_address='Magdalen Centre, The Oxford Science Park', postal_code='OX9 9ZB', city='Oxford', state_province='Oxford', country_id='UK', country_id='UK', country_name='United Kingdom', region_id=1),\n",
       " Row(employee_id=178, first_name='Kimberely', last_name='Grant', email='kimberely.grant@sqltutorial.org', phone_number=None, hire_date='1999-05-24', job_id=16, salary=7000.0, manager_id=100.0, department_id=8, department_id=8, department_name='Sales', location_id=2500, location_id=2500, street_address='Magdalen Centre, The Oxford Science Park', postal_code='OX9 9ZB', city='Oxford', state_province='Oxford', country_id='UK', country_id='UK', country_name='United Kingdom', region_id=1),\n",
       " Row(employee_id=179, first_name='Charles', last_name='Johnson', email='charles.johnson@sqltutorial.org', phone_number=None, hire_date='2000-01-04', job_id=16, salary=6200.0, manager_id=100.0, department_id=8, department_id=8, department_name='Sales', location_id=2500, location_id=2500, street_address='Magdalen Centre, The Oxford Science Park', postal_code='OX9 9ZB', city='Oxford', state_province='Oxford', country_id='UK', country_id='UK', country_name='United Kingdom', region_id=1),\n",
       " Row(employee_id=204, first_name='Hermann', last_name='Baer', email='hermann.baer@sqltutorial.org', phone_number='515.123.8888', hire_date='1994-06-07', job_id=12, salary=10000.0, manager_id=101.0, department_id=7, department_id=7, department_name='Public Relations', location_id=2700, location_id=2700, street_address='Schwanthalerstr. 7031', postal_code='80925', city='Munich', state_province='Bavaria', country_id='DE', country_id='DE', country_name='Germany', region_id=1),\n",
       " Row(employee_id=108, first_name='Nancy', last_name='Greenberg', email='np.nancy.greenberg@sqltutorial.org', phone_number='515.124.4569', hire_date='1994-08-17', job_id=7, salary=12000.0, manager_id=101.0, department_id=10, department_id=10, department_name='Finance', location_id=1700, location_id=1700, street_address='2004 Charade Rd', postal_code='98199', city='Seattle', state_province='Washington', country_id='US', country_id='US', country_name='United States of America', region_id=2),\n",
       " Row(employee_id=109, first_name='Daniel', last_name='Faviet', email='daniel.faviet@sqltutorial.org', phone_number='515.124.4169', hire_date='1994-08-16', job_id=6, salary=9000.0, manager_id=108.0, department_id=10, department_id=10, department_name='Finance', location_id=1700, location_id=1700, street_address='2004 Charade Rd', postal_code='98199', city='Seattle', state_province='Washington', country_id='US', country_id='US', country_name='United States of America', region_id=2),\n",
       " Row(employee_id=110, first_name='John', last_name='Chen', email='john.chen@sqltutorial.org', phone_number='515.124.4269', hire_date='1997-09-28', job_id=6, salary=8200.0, manager_id=108.0, department_id=10, department_id=10, department_name='Finance', location_id=1700, location_id=1700, street_address='2004 Charade Rd', postal_code='98199', city='Seattle', state_province='Washington', country_id='US', country_id='US', country_name='United States of America', region_id=2),\n",
       " Row(employee_id=111, first_name='Ismael', last_name='Sciarra', email='ismael.sciarra@sqltutorial.org', phone_number='515.124.4369', hire_date='1997-09-30', job_id=6, salary=7700.0, manager_id=108.0, department_id=10, department_id=10, department_name='Finance', location_id=1700, location_id=1700, street_address='2004 Charade Rd', postal_code='98199', city='Seattle', state_province='Washington', country_id='US', country_id='US', country_name='United States of America', region_id=2),\n",
       " Row(employee_id=112, first_name='JoseManuel', last_name='Urman', email='josemanuel.urman@sqltutorial.org', phone_number='515.124.4469', hire_date='1998-03-07', job_id=6, salary=7800.0, manager_id=108.0, department_id=10, department_id=10, department_name='Finance', location_id=1700, location_id=1700, street_address='2004 Charade Rd', postal_code='98199', city='Seattle', state_province='Washington', country_id='US', country_id='US', country_name='United States of America', region_id=2),\n",
       " Row(employee_id=113, first_name='Luis', last_name='Popp', email='luis.popp@sqltutorial.org', phone_number='515.124.4567', hire_date='1999-12-07', job_id=6, salary=6900.0, manager_id=108.0, department_id=10, department_id=10, department_name='Finance', location_id=1700, location_id=1700, street_address='2004 Charade Rd', postal_code='98199', city='Seattle', state_province='Washington', country_id='US', country_id='US', country_name='United States of America', region_id=2),\n",
       " Row(employee_id=205, first_name='Shelley', last_name='Higgins', email='shelley.higgins@sqltutorial.org', phone_number='515.123.8080', hire_date='1994-06-07', job_id=2, salary=12000.0, manager_id=101.0, department_id=11, department_id=11, department_name='Accounting', location_id=1700, location_id=1700, street_address='2004 Charade Rd', postal_code='98199', city='Seattle', state_province='Washington', country_id='US', country_id='US', country_name='United States of America', region_id=2),\n",
       " Row(employee_id=206, first_name='William', last_name='Gietz', email='william.gietz@sqltutorial.org', phone_number='515.123.8181', hire_date='1994-06-07', job_id=1, salary=8300.0, manager_id=205.0, department_id=11, department_id=11, department_name='Accounting', location_id=1700, location_id=1700, street_address='2004 Charade Rd', postal_code='98199', city='Seattle', state_province='Washington', country_id='US', country_id='US', country_name='United States of America', region_id=2),\n",
       " Row(employee_id=201, first_name='Michael', last_name='Hartstein', email='michael.hartstein@sqltutorial.org', phone_number='515.123.5555', hire_date='1996-02-17', job_id=10, salary=13000.0, manager_id=100.0, department_id=2, department_id=2, department_name='Marketing', location_id=1800, location_id=1800, street_address='147 Spadina Ave', postal_code='M5V 2L7', city='Toronto', state_province='Ontario', country_id='CA', country_id='CA', country_name='Canada', region_id=2),\n",
       " Row(employee_id=202, first_name='Pat', last_name='Fay', email='pat.fay@sqltutorial.org', phone_number='603.123.6666', hire_date='1997-08-17', job_id=11, salary=6000.0, manager_id=201.0, department_id=2, department_id=2, department_name='Marketing', location_id=1800, location_id=1800, street_address='147 Spadina Ave', postal_code='M5V 2L7', city='Toronto', state_province='Ontario', country_id='CA', country_id='CA', country_name='Canada', region_id=2)]"
      ]
     },
     "execution_count": 36,
     "metadata": {},
     "output_type": "execute_result"
    }
   ],
   "source": [
    "employees_department_locations.collect()"
   ]
  },
  {
   "cell_type": "code",
   "execution_count": 37,
   "metadata": {
    "colab": {
     "base_uri": "https://localhost:8080/"
    },
    "id": "_U9GjTTs-hZu",
    "outputId": "e58df611-0bc0-4736-ddc5-b75263d959fe"
   },
   "outputs": [
    {
     "name": "stdout",
     "output_type": "stream",
     "text": [
      "+--------------------+-----+\n",
      "|        country_name|count|\n",
      "+--------------------+-----+\n",
      "|             Germany|    1|\n",
      "|United States of ...|   30|\n",
      "|              Canada|    2|\n",
      "|      United Kingdom|    7|\n",
      "+--------------------+-----+\n",
      "\n"
     ]
    }
   ],
   "source": [
    "employees_department_locations.groupBy('country_name').count().show()\n"
   ]
  },
  {
   "cell_type": "markdown",
   "metadata": {
    "id": "-iNssoos-hZv"
   },
   "source": [
    "**Only two people works in canada**"
   ]
  },
  {
   "cell_type": "markdown",
   "metadata": {
    "id": "gtSTi3xy-hZv"
   },
   "source": [
    "**6. Get Complete Address of Employees**"
   ]
  },
  {
   "cell_type": "code",
   "execution_count": 38,
   "metadata": {
    "colab": {
     "base_uri": "https://localhost:8080/"
    },
    "id": "E4xqhBCT-hZv",
    "outputId": "104e9edc-2b98-4d3a-a6bf-52740f585246"
   },
   "outputs": [
    {
     "name": "stdout",
     "output_type": "stream",
     "text": [
      "root\n",
      " |-- employee_id: integer (nullable = true)\n",
      " |-- first_name: string (nullable = true)\n",
      " |-- last_name: string (nullable = true)\n",
      " |-- email: string (nullable = true)\n",
      " |-- phone_number: string (nullable = true)\n",
      " |-- hire_date: string (nullable = true)\n",
      " |-- job_id: integer (nullable = true)\n",
      " |-- salary: double (nullable = true)\n",
      " |-- manager_id: double (nullable = true)\n",
      " |-- department_id: integer (nullable = true)\n",
      " |-- department_id: integer (nullable = true)\n",
      " |-- department_name: string (nullable = true)\n",
      " |-- location_id: integer (nullable = true)\n",
      " |-- location_id: integer (nullable = true)\n",
      " |-- street_address: string (nullable = true)\n",
      " |-- postal_code: string (nullable = true)\n",
      " |-- city: string (nullable = true)\n",
      " |-- state_province: string (nullable = true)\n",
      " |-- country_id: string (nullable = true)\n",
      " |-- country_id: string (nullable = true)\n",
      " |-- country_name: string (nullable = true)\n",
      " |-- region_id: integer (nullable = true)\n",
      "\n"
     ]
    }
   ],
   "source": [
    "employees_department_locations.printSchema()"
   ]
  },
  {
   "cell_type": "code",
   "execution_count": 39,
   "metadata": {
    "id": "RYPxyVRk-hZv",
    "scrolled": true
   },
   "outputs": [
    {
     "data": {
      "text/html": [
       "<div>\n",
       "<style scoped>\n",
       "    .dataframe tbody tr th:only-of-type {\n",
       "        vertical-align: middle;\n",
       "    }\n",
       "\n",
       "    .dataframe tbody tr th {\n",
       "        vertical-align: top;\n",
       "    }\n",
       "\n",
       "    .dataframe thead th {\n",
       "        text-align: right;\n",
       "    }\n",
       "</style>\n",
       "<table border=\"1\" class=\"dataframe\">\n",
       "  <thead>\n",
       "    <tr style=\"text-align: right;\">\n",
       "      <th></th>\n",
       "      <th>Address</th>\n",
       "    </tr>\n",
       "  </thead>\n",
       "  <tbody>\n",
       "    <tr>\n",
       "      <th>0</th>\n",
       "      <td>2004 Charade Rd,Seattle,98199,Washington,Unite...</td>\n",
       "    </tr>\n",
       "    <tr>\n",
       "      <th>1</th>\n",
       "      <td>2014 Jabberwocky Rd,Southlake,26192,Texas,Unit...</td>\n",
       "    </tr>\n",
       "    <tr>\n",
       "      <th>2</th>\n",
       "      <td>2014 Jabberwocky Rd,Southlake,26192,Texas,Unit...</td>\n",
       "    </tr>\n",
       "    <tr>\n",
       "      <th>3</th>\n",
       "      <td>2014 Jabberwocky Rd,Southlake,26192,Texas,Unit...</td>\n",
       "    </tr>\n",
       "    <tr>\n",
       "      <th>4</th>\n",
       "      <td>2014 Jabberwocky Rd,Southlake,26192,Texas,Unit...</td>\n",
       "    </tr>\n",
       "    <tr>\n",
       "      <th>5</th>\n",
       "      <td>2014 Jabberwocky Rd,Southlake,26192,Texas,Unit...</td>\n",
       "    </tr>\n",
       "    <tr>\n",
       "      <th>6</th>\n",
       "      <td>2004 Charade Rd,Seattle,98199,Washington,Unite...</td>\n",
       "    </tr>\n",
       "    <tr>\n",
       "      <th>7</th>\n",
       "      <td>2004 Charade Rd,Seattle,98199,Washington,Unite...</td>\n",
       "    </tr>\n",
       "    <tr>\n",
       "      <th>8</th>\n",
       "      <td>2004 Charade Rd,Seattle,98199,Washington,Unite...</td>\n",
       "    </tr>\n",
       "    <tr>\n",
       "      <th>9</th>\n",
       "      <td>2004 Charade Rd,Seattle,98199,Washington,Unite...</td>\n",
       "    </tr>\n",
       "    <tr>\n",
       "      <th>10</th>\n",
       "      <td>2004 Charade Rd,Seattle,98199,Washington,Unite...</td>\n",
       "    </tr>\n",
       "    <tr>\n",
       "      <th>11</th>\n",
       "      <td>2004 Charade Rd,Seattle,98199,Washington,Unite...</td>\n",
       "    </tr>\n",
       "    <tr>\n",
       "      <th>12</th>\n",
       "      <td>2011 Interiors Blvd,South San Francisco,99236,...</td>\n",
       "    </tr>\n",
       "    <tr>\n",
       "      <th>13</th>\n",
       "      <td>2011 Interiors Blvd,South San Francisco,99236,...</td>\n",
       "    </tr>\n",
       "    <tr>\n",
       "      <th>14</th>\n",
       "      <td>2011 Interiors Blvd,South San Francisco,99236,...</td>\n",
       "    </tr>\n",
       "    <tr>\n",
       "      <th>15</th>\n",
       "      <td>2011 Interiors Blvd,South San Francisco,99236,...</td>\n",
       "    </tr>\n",
       "    <tr>\n",
       "      <th>16</th>\n",
       "      <td>2011 Interiors Blvd,South San Francisco,99236,...</td>\n",
       "    </tr>\n",
       "    <tr>\n",
       "      <th>17</th>\n",
       "      <td>2011 Interiors Blvd,South San Francisco,99236,...</td>\n",
       "    </tr>\n",
       "    <tr>\n",
       "      <th>18</th>\n",
       "      <td>2011 Interiors Blvd,South San Francisco,99236,...</td>\n",
       "    </tr>\n",
       "    <tr>\n",
       "      <th>19</th>\n",
       "      <td>2004 Charade Rd,Seattle,98199,Washington,Unite...</td>\n",
       "    </tr>\n",
       "    <tr>\n",
       "      <th>20</th>\n",
       "      <td>2004 Charade Rd,Seattle,98199,Washington,Unite...</td>\n",
       "    </tr>\n",
       "    <tr>\n",
       "      <th>21</th>\n",
       "      <td>2004 Charade Rd,Seattle,98199,Washington,Unite...</td>\n",
       "    </tr>\n",
       "    <tr>\n",
       "      <th>22</th>\n",
       "      <td>None</td>\n",
       "    </tr>\n",
       "    <tr>\n",
       "      <th>23</th>\n",
       "      <td>Magdalen Centre, The Oxford Science Park,Oxfor...</td>\n",
       "    </tr>\n",
       "    <tr>\n",
       "      <th>24</th>\n",
       "      <td>Magdalen Centre, The Oxford Science Park,Oxfor...</td>\n",
       "    </tr>\n",
       "    <tr>\n",
       "      <th>25</th>\n",
       "      <td>Magdalen Centre, The Oxford Science Park,Oxfor...</td>\n",
       "    </tr>\n",
       "    <tr>\n",
       "      <th>26</th>\n",
       "      <td>Magdalen Centre, The Oxford Science Park,Oxfor...</td>\n",
       "    </tr>\n",
       "    <tr>\n",
       "      <th>27</th>\n",
       "      <td>Magdalen Centre, The Oxford Science Park,Oxfor...</td>\n",
       "    </tr>\n",
       "    <tr>\n",
       "      <th>28</th>\n",
       "      <td>Magdalen Centre, The Oxford Science Park,Oxfor...</td>\n",
       "    </tr>\n",
       "    <tr>\n",
       "      <th>29</th>\n",
       "      <td>Schwanthalerstr. 7031,Munich,80925,Bavaria,Ger...</td>\n",
       "    </tr>\n",
       "    <tr>\n",
       "      <th>30</th>\n",
       "      <td>2004 Charade Rd,Seattle,98199,Washington,Unite...</td>\n",
       "    </tr>\n",
       "    <tr>\n",
       "      <th>31</th>\n",
       "      <td>2004 Charade Rd,Seattle,98199,Washington,Unite...</td>\n",
       "    </tr>\n",
       "    <tr>\n",
       "      <th>32</th>\n",
       "      <td>2004 Charade Rd,Seattle,98199,Washington,Unite...</td>\n",
       "    </tr>\n",
       "    <tr>\n",
       "      <th>33</th>\n",
       "      <td>2004 Charade Rd,Seattle,98199,Washington,Unite...</td>\n",
       "    </tr>\n",
       "    <tr>\n",
       "      <th>34</th>\n",
       "      <td>2004 Charade Rd,Seattle,98199,Washington,Unite...</td>\n",
       "    </tr>\n",
       "    <tr>\n",
       "      <th>35</th>\n",
       "      <td>2004 Charade Rd,Seattle,98199,Washington,Unite...</td>\n",
       "    </tr>\n",
       "    <tr>\n",
       "      <th>36</th>\n",
       "      <td>2004 Charade Rd,Seattle,98199,Washington,Unite...</td>\n",
       "    </tr>\n",
       "    <tr>\n",
       "      <th>37</th>\n",
       "      <td>2004 Charade Rd,Seattle,98199,Washington,Unite...</td>\n",
       "    </tr>\n",
       "    <tr>\n",
       "      <th>38</th>\n",
       "      <td>147 Spadina Ave,Toronto,M5V 2L7,Ontario,Canada</td>\n",
       "    </tr>\n",
       "    <tr>\n",
       "      <th>39</th>\n",
       "      <td>147 Spadina Ave,Toronto,M5V 2L7,Ontario,Canada</td>\n",
       "    </tr>\n",
       "  </tbody>\n",
       "</table>\n",
       "</div>"
      ],
      "text/plain": [
       "                                              Address\n",
       "0   2004 Charade Rd,Seattle,98199,Washington,Unite...\n",
       "1   2014 Jabberwocky Rd,Southlake,26192,Texas,Unit...\n",
       "2   2014 Jabberwocky Rd,Southlake,26192,Texas,Unit...\n",
       "3   2014 Jabberwocky Rd,Southlake,26192,Texas,Unit...\n",
       "4   2014 Jabberwocky Rd,Southlake,26192,Texas,Unit...\n",
       "5   2014 Jabberwocky Rd,Southlake,26192,Texas,Unit...\n",
       "6   2004 Charade Rd,Seattle,98199,Washington,Unite...\n",
       "7   2004 Charade Rd,Seattle,98199,Washington,Unite...\n",
       "8   2004 Charade Rd,Seattle,98199,Washington,Unite...\n",
       "9   2004 Charade Rd,Seattle,98199,Washington,Unite...\n",
       "10  2004 Charade Rd,Seattle,98199,Washington,Unite...\n",
       "11  2004 Charade Rd,Seattle,98199,Washington,Unite...\n",
       "12  2011 Interiors Blvd,South San Francisco,99236,...\n",
       "13  2011 Interiors Blvd,South San Francisco,99236,...\n",
       "14  2011 Interiors Blvd,South San Francisco,99236,...\n",
       "15  2011 Interiors Blvd,South San Francisco,99236,...\n",
       "16  2011 Interiors Blvd,South San Francisco,99236,...\n",
       "17  2011 Interiors Blvd,South San Francisco,99236,...\n",
       "18  2011 Interiors Blvd,South San Francisco,99236,...\n",
       "19  2004 Charade Rd,Seattle,98199,Washington,Unite...\n",
       "20  2004 Charade Rd,Seattle,98199,Washington,Unite...\n",
       "21  2004 Charade Rd,Seattle,98199,Washington,Unite...\n",
       "22                                               None\n",
       "23  Magdalen Centre, The Oxford Science Park,Oxfor...\n",
       "24  Magdalen Centre, The Oxford Science Park,Oxfor...\n",
       "25  Magdalen Centre, The Oxford Science Park,Oxfor...\n",
       "26  Magdalen Centre, The Oxford Science Park,Oxfor...\n",
       "27  Magdalen Centre, The Oxford Science Park,Oxfor...\n",
       "28  Magdalen Centre, The Oxford Science Park,Oxfor...\n",
       "29  Schwanthalerstr. 7031,Munich,80925,Bavaria,Ger...\n",
       "30  2004 Charade Rd,Seattle,98199,Washington,Unite...\n",
       "31  2004 Charade Rd,Seattle,98199,Washington,Unite...\n",
       "32  2004 Charade Rd,Seattle,98199,Washington,Unite...\n",
       "33  2004 Charade Rd,Seattle,98199,Washington,Unite...\n",
       "34  2004 Charade Rd,Seattle,98199,Washington,Unite...\n",
       "35  2004 Charade Rd,Seattle,98199,Washington,Unite...\n",
       "36  2004 Charade Rd,Seattle,98199,Washington,Unite...\n",
       "37  2004 Charade Rd,Seattle,98199,Washington,Unite...\n",
       "38     147 Spadina Ave,Toronto,M5V 2L7,Ontario,Canada\n",
       "39     147 Spadina Ave,Toronto,M5V 2L7,Ontario,Canada"
      ]
     },
     "execution_count": 39,
     "metadata": {},
     "output_type": "execute_result"
    }
   ],
   "source": [
    "from pyspark.sql.functions import concat , col , lit\n",
    "import pandas as pd\n",
    "# pd.set_option('display.width', 50000)\n",
    "\n",
    "h=employees_department_locations.withColumn(\"Address\",\n",
    "                                          concat(col(\"street_address\"), lit(\",\"),\n",
    "                                          col(\"city\"), lit(\",\"),\n",
    "                                          col(\"postal_code\"), lit(\",\"),\n",
    "                                          col(\"state_province\") , lit(\",\"), \n",
    "                                          col(\"country_name\"))).select('Address').toPandas()\n",
    "h"
   ]
  },
  {
   "cell_type": "markdown",
   "metadata": {
    "id": "56OjmyqA-hZw"
   },
   "source": [
    "**7. Convert Employee's First name and last name to lower case letters and concatinate them**"
   ]
  },
  {
   "cell_type": "code",
   "execution_count": 40,
   "metadata": {
    "executionInfo": {
     "elapsed": 628,
     "status": "ok",
     "timestamp": 1625330604799,
     "user": {
      "displayName": "sujata drall",
      "photoUrl": "",
      "userId": "07858160099359690614"
     },
     "user_tz": -330
    },
    "id": "f7LofuAu-hZw"
   },
   "outputs": [],
   "source": [
    "def convertCase(string):\n",
    "    return string.lower()"
   ]
  },
  {
   "cell_type": "code",
   "execution_count": 41,
   "metadata": {
    "executionInfo": {
     "elapsed": 4,
     "status": "ok",
     "timestamp": 1625330604799,
     "user": {
      "displayName": "sujata drall",
      "photoUrl": "",
      "userId": "07858160099359690614"
     },
     "user_tz": -330
    },
    "id": "opoKshgm-hZw"
   },
   "outputs": [],
   "source": [
    "from pyspark.sql.functions import udf , StringType\n",
    "convertUDF = udf(lambda z: convertCase(z),StringType())"
   ]
  },
  {
   "cell_type": "code",
   "execution_count": 42,
   "metadata": {
    "colab": {
     "base_uri": "https://localhost:8080/"
    },
    "executionInfo": {
     "elapsed": 373,
     "status": "ok",
     "timestamp": 1625330615674,
     "user": {
      "displayName": "sujata drall",
      "photoUrl": "",
      "userId": "07858160099359690614"
     },
     "user_tz": -330
    },
    "id": "eWIfQ2uI-hZw",
    "outputId": "e8848098-3843-469e-b8bf-cb6b316258eb"
   },
   "outputs": [
    {
     "ename": "Py4JJavaError",
     "evalue": "An error occurred while calling o228.showString.\n: org.apache.spark.SparkException: Job aborted due to stage failure: Task 0 in stage 102.0 failed 1 times, most recent failure: Lost task 0.0 in stage 102.0 (TID 1582) (CINT-IAOW-032.CISIVE-INT.LOCAL executor driver): org.apache.spark.SparkException: Python worker failed to connect back.\r\n\tat org.apache.spark.api.python.PythonWorkerFactory.createSimpleWorker(PythonWorkerFactory.scala:182)\r\n\tat org.apache.spark.api.python.PythonWorkerFactory.create(PythonWorkerFactory.scala:107)\r\n\tat org.apache.spark.SparkEnv.createPythonWorker(SparkEnv.scala:119)\r\n\tat org.apache.spark.api.python.BasePythonRunner.compute(PythonRunner.scala:145)\r\n\tat org.apache.spark.sql.execution.python.BatchEvalPythonExec.evaluate(BatchEvalPythonExec.scala:81)\r\n\tat org.apache.spark.sql.execution.python.EvalPythonExec.$anonfun$doExecute$2(EvalPythonExec.scala:130)\r\n\tat org.apache.spark.rdd.RDD.$anonfun$mapPartitions$2(RDD.scala:863)\r\n\tat org.apache.spark.rdd.RDD.$anonfun$mapPartitions$2$adapted(RDD.scala:863)\r\n\tat org.apache.spark.rdd.MapPartitionsRDD.compute(MapPartitionsRDD.scala:52)\r\n\tat org.apache.spark.rdd.RDD.computeOrReadCheckpoint(RDD.scala:373)\r\n\tat org.apache.spark.rdd.RDD.iterator(RDD.scala:337)\r\n\tat org.apache.spark.rdd.MapPartitionsRDD.compute(MapPartitionsRDD.scala:52)\r\n\tat org.apache.spark.rdd.RDD.computeOrReadCheckpoint(RDD.scala:373)\r\n\tat org.apache.spark.rdd.RDD.iterator(RDD.scala:337)\r\n\tat org.apache.spark.rdd.MapPartitionsRDD.compute(MapPartitionsRDD.scala:52)\r\n\tat org.apache.spark.rdd.RDD.computeOrReadCheckpoint(RDD.scala:373)\r\n\tat org.apache.spark.rdd.RDD.iterator(RDD.scala:337)\r\n\tat org.apache.spark.scheduler.ResultTask.runTask(ResultTask.scala:90)\r\n\tat org.apache.spark.scheduler.Task.run(Task.scala:131)\r\n\tat org.apache.spark.executor.Executor$TaskRunner.$anonfun$run$3(Executor.scala:497)\r\n\tat org.apache.spark.util.Utils$.tryWithSafeFinally(Utils.scala:1439)\r\n\tat org.apache.spark.executor.Executor$TaskRunner.run(Executor.scala:500)\r\n\tat java.util.concurrent.ThreadPoolExecutor.runWorker(Unknown Source)\r\n\tat java.util.concurrent.ThreadPoolExecutor$Worker.run(Unknown Source)\r\n\tat java.lang.Thread.run(Unknown Source)\r\nCaused by: java.net.SocketTimeoutException: Accept timed out\r\n\tat java.net.DualStackPlainSocketImpl.waitForNewConnection(Native Method)\r\n\tat java.net.DualStackPlainSocketImpl.socketAccept(Unknown Source)\r\n\tat java.net.AbstractPlainSocketImpl.accept(Unknown Source)\r\n\tat java.net.PlainSocketImpl.accept(Unknown Source)\r\n\tat java.net.ServerSocket.implAccept(Unknown Source)\r\n\tat java.net.ServerSocket.accept(Unknown Source)\r\n\tat org.apache.spark.api.python.PythonWorkerFactory.createSimpleWorker(PythonWorkerFactory.scala:174)\r\n\t... 24 more\r\n\nDriver stacktrace:\r\n\tat org.apache.spark.scheduler.DAGScheduler.failJobAndIndependentStages(DAGScheduler.scala:2258)\r\n\tat org.apache.spark.scheduler.DAGScheduler.$anonfun$abortStage$2(DAGScheduler.scala:2207)\r\n\tat org.apache.spark.scheduler.DAGScheduler.$anonfun$abortStage$2$adapted(DAGScheduler.scala:2206)\r\n\tat scala.collection.mutable.ResizableArray.foreach(ResizableArray.scala:62)\r\n\tat scala.collection.mutable.ResizableArray.foreach$(ResizableArray.scala:55)\r\n\tat scala.collection.mutable.ArrayBuffer.foreach(ArrayBuffer.scala:49)\r\n\tat org.apache.spark.scheduler.DAGScheduler.abortStage(DAGScheduler.scala:2206)\r\n\tat org.apache.spark.scheduler.DAGScheduler.$anonfun$handleTaskSetFailed$1(DAGScheduler.scala:1079)\r\n\tat org.apache.spark.scheduler.DAGScheduler.$anonfun$handleTaskSetFailed$1$adapted(DAGScheduler.scala:1079)\r\n\tat scala.Option.foreach(Option.scala:407)\r\n\tat org.apache.spark.scheduler.DAGScheduler.handleTaskSetFailed(DAGScheduler.scala:1079)\r\n\tat org.apache.spark.scheduler.DAGSchedulerEventProcessLoop.doOnReceive(DAGScheduler.scala:2445)\r\n\tat org.apache.spark.scheduler.DAGSchedulerEventProcessLoop.onReceive(DAGScheduler.scala:2387)\r\n\tat org.apache.spark.scheduler.DAGSchedulerEventProcessLoop.onReceive(DAGScheduler.scala:2376)\r\n\tat org.apache.spark.util.EventLoop$$anon$1.run(EventLoop.scala:49)\r\n\tat org.apache.spark.scheduler.DAGScheduler.runJob(DAGScheduler.scala:868)\r\n\tat org.apache.spark.SparkContext.runJob(SparkContext.scala:2196)\r\n\tat org.apache.spark.SparkContext.runJob(SparkContext.scala:2217)\r\n\tat org.apache.spark.SparkContext.runJob(SparkContext.scala:2236)\r\n\tat org.apache.spark.sql.execution.SparkPlan.executeTake(SparkPlan.scala:472)\r\n\tat org.apache.spark.sql.execution.SparkPlan.executeTake(SparkPlan.scala:425)\r\n\tat org.apache.spark.sql.execution.CollectLimitExec.executeCollect(limit.scala:47)\r\n\tat org.apache.spark.sql.Dataset.collectFromPlan(Dataset.scala:3696)\r\n\tat org.apache.spark.sql.Dataset.$anonfun$head$1(Dataset.scala:2722)\r\n\tat org.apache.spark.sql.Dataset.$anonfun$withAction$1(Dataset.scala:3687)\r\n\tat org.apache.spark.sql.execution.SQLExecution$.$anonfun$withNewExecutionId$5(SQLExecution.scala:103)\r\n\tat org.apache.spark.sql.execution.SQLExecution$.withSQLConfPropagated(SQLExecution.scala:163)\r\n\tat org.apache.spark.sql.execution.SQLExecution$.$anonfun$withNewExecutionId$1(SQLExecution.scala:90)\r\n\tat org.apache.spark.sql.SparkSession.withActive(SparkSession.scala:775)\r\n\tat org.apache.spark.sql.execution.SQLExecution$.withNewExecutionId(SQLExecution.scala:64)\r\n\tat org.apache.spark.sql.Dataset.withAction(Dataset.scala:3685)\r\n\tat org.apache.spark.sql.Dataset.head(Dataset.scala:2722)\r\n\tat org.apache.spark.sql.Dataset.take(Dataset.scala:2929)\r\n\tat org.apache.spark.sql.Dataset.getRows(Dataset.scala:301)\r\n\tat org.apache.spark.sql.Dataset.showString(Dataset.scala:338)\r\n\tat sun.reflect.NativeMethodAccessorImpl.invoke0(Native Method)\r\n\tat sun.reflect.NativeMethodAccessorImpl.invoke(Unknown Source)\r\n\tat sun.reflect.DelegatingMethodAccessorImpl.invoke(Unknown Source)\r\n\tat java.lang.reflect.Method.invoke(Unknown Source)\r\n\tat py4j.reflection.MethodInvoker.invoke(MethodInvoker.java:244)\r\n\tat py4j.reflection.ReflectionEngine.invoke(ReflectionEngine.java:357)\r\n\tat py4j.Gateway.invoke(Gateway.java:282)\r\n\tat py4j.commands.AbstractCommand.invokeMethod(AbstractCommand.java:132)\r\n\tat py4j.commands.CallCommand.execute(CallCommand.java:79)\r\n\tat py4j.GatewayConnection.run(GatewayConnection.java:238)\r\n\tat java.lang.Thread.run(Unknown Source)\r\nCaused by: org.apache.spark.SparkException: Python worker failed to connect back.\r\n\tat org.apache.spark.api.python.PythonWorkerFactory.createSimpleWorker(PythonWorkerFactory.scala:182)\r\n\tat org.apache.spark.api.python.PythonWorkerFactory.create(PythonWorkerFactory.scala:107)\r\n\tat org.apache.spark.SparkEnv.createPythonWorker(SparkEnv.scala:119)\r\n\tat org.apache.spark.api.python.BasePythonRunner.compute(PythonRunner.scala:145)\r\n\tat org.apache.spark.sql.execution.python.BatchEvalPythonExec.evaluate(BatchEvalPythonExec.scala:81)\r\n\tat org.apache.spark.sql.execution.python.EvalPythonExec.$anonfun$doExecute$2(EvalPythonExec.scala:130)\r\n\tat org.apache.spark.rdd.RDD.$anonfun$mapPartitions$2(RDD.scala:863)\r\n\tat org.apache.spark.rdd.RDD.$anonfun$mapPartitions$2$adapted(RDD.scala:863)\r\n\tat org.apache.spark.rdd.MapPartitionsRDD.compute(MapPartitionsRDD.scala:52)\r\n\tat org.apache.spark.rdd.RDD.computeOrReadCheckpoint(RDD.scala:373)\r\n\tat org.apache.spark.rdd.RDD.iterator(RDD.scala:337)\r\n\tat org.apache.spark.rdd.MapPartitionsRDD.compute(MapPartitionsRDD.scala:52)\r\n\tat org.apache.spark.rdd.RDD.computeOrReadCheckpoint(RDD.scala:373)\r\n\tat org.apache.spark.rdd.RDD.iterator(RDD.scala:337)\r\n\tat org.apache.spark.rdd.MapPartitionsRDD.compute(MapPartitionsRDD.scala:52)\r\n\tat org.apache.spark.rdd.RDD.computeOrReadCheckpoint(RDD.scala:373)\r\n\tat org.apache.spark.rdd.RDD.iterator(RDD.scala:337)\r\n\tat org.apache.spark.scheduler.ResultTask.runTask(ResultTask.scala:90)\r\n\tat org.apache.spark.scheduler.Task.run(Task.scala:131)\r\n\tat org.apache.spark.executor.Executor$TaskRunner.$anonfun$run$3(Executor.scala:497)\r\n\tat org.apache.spark.util.Utils$.tryWithSafeFinally(Utils.scala:1439)\r\n\tat org.apache.spark.executor.Executor$TaskRunner.run(Executor.scala:500)\r\n\tat java.util.concurrent.ThreadPoolExecutor.runWorker(Unknown Source)\r\n\tat java.util.concurrent.ThreadPoolExecutor$Worker.run(Unknown Source)\r\n\t... 1 more\r\nCaused by: java.net.SocketTimeoutException: Accept timed out\r\n\tat java.net.DualStackPlainSocketImpl.waitForNewConnection(Native Method)\r\n\tat java.net.DualStackPlainSocketImpl.socketAccept(Unknown Source)\r\n\tat java.net.AbstractPlainSocketImpl.accept(Unknown Source)\r\n\tat java.net.PlainSocketImpl.accept(Unknown Source)\r\n\tat java.net.ServerSocket.implAccept(Unknown Source)\r\n\tat java.net.ServerSocket.accept(Unknown Source)\r\n\tat org.apache.spark.api.python.PythonWorkerFactory.createSimpleWorker(PythonWorkerFactory.scala:174)\r\n\t... 24 more\r\n",
     "output_type": "error",
     "traceback": [
      "\u001b[1;31m---------------------------------------------------------------------------\u001b[0m",
      "\u001b[1;31mPy4JJavaError\u001b[0m                             Traceback (most recent call last)",
      "\u001b[1;32m<ipython-input-42-0b3a547dde4a>\u001b[0m in \u001b[0;36m<module>\u001b[1;34m\u001b[0m\n\u001b[1;32m----> 1\u001b[1;33m emp.select(convertUDF(col(\"first_name\")).alias(\"first_name\"), convertUDF(col(\"last_name\")).alias(\"last_name\")).withColumn(\"Name\",\n\u001b[0m\u001b[0;32m      2\u001b[0m                                                                                                                            concat(col(\"first_name\"), lit(\" \"),\n\u001b[0;32m      3\u001b[0m                                                                                                                                   col(\"last_name\"))).select('Name').show()\n",
      "\u001b[1;32m~\\Anaconda3\\lib\\site-packages\\pyspark\\sql\\dataframe.py\u001b[0m in \u001b[0;36mshow\u001b[1;34m(self, n, truncate, vertical)\u001b[0m\n\u001b[0;32m    482\u001b[0m         \"\"\"\n\u001b[0;32m    483\u001b[0m         \u001b[1;32mif\u001b[0m \u001b[0misinstance\u001b[0m\u001b[1;33m(\u001b[0m\u001b[0mtruncate\u001b[0m\u001b[1;33m,\u001b[0m \u001b[0mbool\u001b[0m\u001b[1;33m)\u001b[0m \u001b[1;32mand\u001b[0m \u001b[0mtruncate\u001b[0m\u001b[1;33m:\u001b[0m\u001b[1;33m\u001b[0m\u001b[1;33m\u001b[0m\u001b[0m\n\u001b[1;32m--> 484\u001b[1;33m             \u001b[0mprint\u001b[0m\u001b[1;33m(\u001b[0m\u001b[0mself\u001b[0m\u001b[1;33m.\u001b[0m\u001b[0m_jdf\u001b[0m\u001b[1;33m.\u001b[0m\u001b[0mshowString\u001b[0m\u001b[1;33m(\u001b[0m\u001b[0mn\u001b[0m\u001b[1;33m,\u001b[0m \u001b[1;36m20\u001b[0m\u001b[1;33m,\u001b[0m \u001b[0mvertical\u001b[0m\u001b[1;33m)\u001b[0m\u001b[1;33m)\u001b[0m\u001b[1;33m\u001b[0m\u001b[1;33m\u001b[0m\u001b[0m\n\u001b[0m\u001b[0;32m    485\u001b[0m         \u001b[1;32melse\u001b[0m\u001b[1;33m:\u001b[0m\u001b[1;33m\u001b[0m\u001b[1;33m\u001b[0m\u001b[0m\n\u001b[0;32m    486\u001b[0m             \u001b[0mprint\u001b[0m\u001b[1;33m(\u001b[0m\u001b[0mself\u001b[0m\u001b[1;33m.\u001b[0m\u001b[0m_jdf\u001b[0m\u001b[1;33m.\u001b[0m\u001b[0mshowString\u001b[0m\u001b[1;33m(\u001b[0m\u001b[0mn\u001b[0m\u001b[1;33m,\u001b[0m \u001b[0mint\u001b[0m\u001b[1;33m(\u001b[0m\u001b[0mtruncate\u001b[0m\u001b[1;33m)\u001b[0m\u001b[1;33m,\u001b[0m \u001b[0mvertical\u001b[0m\u001b[1;33m)\u001b[0m\u001b[1;33m)\u001b[0m\u001b[1;33m\u001b[0m\u001b[1;33m\u001b[0m\u001b[0m\n",
      "\u001b[1;32m~\\Anaconda3\\lib\\site-packages\\py4j\\java_gateway.py\u001b[0m in \u001b[0;36m__call__\u001b[1;34m(self, *args)\u001b[0m\n\u001b[0;32m   1302\u001b[0m \u001b[1;33m\u001b[0m\u001b[0m\n\u001b[0;32m   1303\u001b[0m         \u001b[0manswer\u001b[0m \u001b[1;33m=\u001b[0m \u001b[0mself\u001b[0m\u001b[1;33m.\u001b[0m\u001b[0mgateway_client\u001b[0m\u001b[1;33m.\u001b[0m\u001b[0msend_command\u001b[0m\u001b[1;33m(\u001b[0m\u001b[0mcommand\u001b[0m\u001b[1;33m)\u001b[0m\u001b[1;33m\u001b[0m\u001b[1;33m\u001b[0m\u001b[0m\n\u001b[1;32m-> 1304\u001b[1;33m         return_value = get_return_value(\n\u001b[0m\u001b[0;32m   1305\u001b[0m             answer, self.gateway_client, self.target_id, self.name)\n\u001b[0;32m   1306\u001b[0m \u001b[1;33m\u001b[0m\u001b[0m\n",
      "\u001b[1;32m~\\Anaconda3\\lib\\site-packages\\pyspark\\sql\\utils.py\u001b[0m in \u001b[0;36mdeco\u001b[1;34m(*a, **kw)\u001b[0m\n\u001b[0;32m    109\u001b[0m     \u001b[1;32mdef\u001b[0m \u001b[0mdeco\u001b[0m\u001b[1;33m(\u001b[0m\u001b[1;33m*\u001b[0m\u001b[0ma\u001b[0m\u001b[1;33m,\u001b[0m \u001b[1;33m**\u001b[0m\u001b[0mkw\u001b[0m\u001b[1;33m)\u001b[0m\u001b[1;33m:\u001b[0m\u001b[1;33m\u001b[0m\u001b[1;33m\u001b[0m\u001b[0m\n\u001b[0;32m    110\u001b[0m         \u001b[1;32mtry\u001b[0m\u001b[1;33m:\u001b[0m\u001b[1;33m\u001b[0m\u001b[1;33m\u001b[0m\u001b[0m\n\u001b[1;32m--> 111\u001b[1;33m             \u001b[1;32mreturn\u001b[0m \u001b[0mf\u001b[0m\u001b[1;33m(\u001b[0m\u001b[1;33m*\u001b[0m\u001b[0ma\u001b[0m\u001b[1;33m,\u001b[0m \u001b[1;33m**\u001b[0m\u001b[0mkw\u001b[0m\u001b[1;33m)\u001b[0m\u001b[1;33m\u001b[0m\u001b[1;33m\u001b[0m\u001b[0m\n\u001b[0m\u001b[0;32m    112\u001b[0m         \u001b[1;32mexcept\u001b[0m \u001b[0mpy4j\u001b[0m\u001b[1;33m.\u001b[0m\u001b[0mprotocol\u001b[0m\u001b[1;33m.\u001b[0m\u001b[0mPy4JJavaError\u001b[0m \u001b[1;32mas\u001b[0m \u001b[0me\u001b[0m\u001b[1;33m:\u001b[0m\u001b[1;33m\u001b[0m\u001b[1;33m\u001b[0m\u001b[0m\n\u001b[0;32m    113\u001b[0m             \u001b[0mconverted\u001b[0m \u001b[1;33m=\u001b[0m \u001b[0mconvert_exception\u001b[0m\u001b[1;33m(\u001b[0m\u001b[0me\u001b[0m\u001b[1;33m.\u001b[0m\u001b[0mjava_exception\u001b[0m\u001b[1;33m)\u001b[0m\u001b[1;33m\u001b[0m\u001b[1;33m\u001b[0m\u001b[0m\n",
      "\u001b[1;32m~\\Anaconda3\\lib\\site-packages\\py4j\\protocol.py\u001b[0m in \u001b[0;36mget_return_value\u001b[1;34m(answer, gateway_client, target_id, name)\u001b[0m\n\u001b[0;32m    324\u001b[0m             \u001b[0mvalue\u001b[0m \u001b[1;33m=\u001b[0m \u001b[0mOUTPUT_CONVERTER\u001b[0m\u001b[1;33m[\u001b[0m\u001b[0mtype\u001b[0m\u001b[1;33m]\u001b[0m\u001b[1;33m(\u001b[0m\u001b[0manswer\u001b[0m\u001b[1;33m[\u001b[0m\u001b[1;36m2\u001b[0m\u001b[1;33m:\u001b[0m\u001b[1;33m]\u001b[0m\u001b[1;33m,\u001b[0m \u001b[0mgateway_client\u001b[0m\u001b[1;33m)\u001b[0m\u001b[1;33m\u001b[0m\u001b[1;33m\u001b[0m\u001b[0m\n\u001b[0;32m    325\u001b[0m             \u001b[1;32mif\u001b[0m \u001b[0manswer\u001b[0m\u001b[1;33m[\u001b[0m\u001b[1;36m1\u001b[0m\u001b[1;33m]\u001b[0m \u001b[1;33m==\u001b[0m \u001b[0mREFERENCE_TYPE\u001b[0m\u001b[1;33m:\u001b[0m\u001b[1;33m\u001b[0m\u001b[1;33m\u001b[0m\u001b[0m\n\u001b[1;32m--> 326\u001b[1;33m                 raise Py4JJavaError(\n\u001b[0m\u001b[0;32m    327\u001b[0m                     \u001b[1;34m\"An error occurred while calling {0}{1}{2}.\\n\"\u001b[0m\u001b[1;33m.\u001b[0m\u001b[1;33m\u001b[0m\u001b[1;33m\u001b[0m\u001b[0m\n\u001b[0;32m    328\u001b[0m                     format(target_id, \".\", name), value)\n",
      "\u001b[1;31mPy4JJavaError\u001b[0m: An error occurred while calling o228.showString.\n: org.apache.spark.SparkException: Job aborted due to stage failure: Task 0 in stage 102.0 failed 1 times, most recent failure: Lost task 0.0 in stage 102.0 (TID 1582) (CINT-IAOW-032.CISIVE-INT.LOCAL executor driver): org.apache.spark.SparkException: Python worker failed to connect back.\r\n\tat org.apache.spark.api.python.PythonWorkerFactory.createSimpleWorker(PythonWorkerFactory.scala:182)\r\n\tat org.apache.spark.api.python.PythonWorkerFactory.create(PythonWorkerFactory.scala:107)\r\n\tat org.apache.spark.SparkEnv.createPythonWorker(SparkEnv.scala:119)\r\n\tat org.apache.spark.api.python.BasePythonRunner.compute(PythonRunner.scala:145)\r\n\tat org.apache.spark.sql.execution.python.BatchEvalPythonExec.evaluate(BatchEvalPythonExec.scala:81)\r\n\tat org.apache.spark.sql.execution.python.EvalPythonExec.$anonfun$doExecute$2(EvalPythonExec.scala:130)\r\n\tat org.apache.spark.rdd.RDD.$anonfun$mapPartitions$2(RDD.scala:863)\r\n\tat org.apache.spark.rdd.RDD.$anonfun$mapPartitions$2$adapted(RDD.scala:863)\r\n\tat org.apache.spark.rdd.MapPartitionsRDD.compute(MapPartitionsRDD.scala:52)\r\n\tat org.apache.spark.rdd.RDD.computeOrReadCheckpoint(RDD.scala:373)\r\n\tat org.apache.spark.rdd.RDD.iterator(RDD.scala:337)\r\n\tat org.apache.spark.rdd.MapPartitionsRDD.compute(MapPartitionsRDD.scala:52)\r\n\tat org.apache.spark.rdd.RDD.computeOrReadCheckpoint(RDD.scala:373)\r\n\tat org.apache.spark.rdd.RDD.iterator(RDD.scala:337)\r\n\tat org.apache.spark.rdd.MapPartitionsRDD.compute(MapPartitionsRDD.scala:52)\r\n\tat org.apache.spark.rdd.RDD.computeOrReadCheckpoint(RDD.scala:373)\r\n\tat org.apache.spark.rdd.RDD.iterator(RDD.scala:337)\r\n\tat org.apache.spark.scheduler.ResultTask.runTask(ResultTask.scala:90)\r\n\tat org.apache.spark.scheduler.Task.run(Task.scala:131)\r\n\tat org.apache.spark.executor.Executor$TaskRunner.$anonfun$run$3(Executor.scala:497)\r\n\tat org.apache.spark.util.Utils$.tryWithSafeFinally(Utils.scala:1439)\r\n\tat org.apache.spark.executor.Executor$TaskRunner.run(Executor.scala:500)\r\n\tat java.util.concurrent.ThreadPoolExecutor.runWorker(Unknown Source)\r\n\tat java.util.concurrent.ThreadPoolExecutor$Worker.run(Unknown Source)\r\n\tat java.lang.Thread.run(Unknown Source)\r\nCaused by: java.net.SocketTimeoutException: Accept timed out\r\n\tat java.net.DualStackPlainSocketImpl.waitForNewConnection(Native Method)\r\n\tat java.net.DualStackPlainSocketImpl.socketAccept(Unknown Source)\r\n\tat java.net.AbstractPlainSocketImpl.accept(Unknown Source)\r\n\tat java.net.PlainSocketImpl.accept(Unknown Source)\r\n\tat java.net.ServerSocket.implAccept(Unknown Source)\r\n\tat java.net.ServerSocket.accept(Unknown Source)\r\n\tat org.apache.spark.api.python.PythonWorkerFactory.createSimpleWorker(PythonWorkerFactory.scala:174)\r\n\t... 24 more\r\n\nDriver stacktrace:\r\n\tat org.apache.spark.scheduler.DAGScheduler.failJobAndIndependentStages(DAGScheduler.scala:2258)\r\n\tat org.apache.spark.scheduler.DAGScheduler.$anonfun$abortStage$2(DAGScheduler.scala:2207)\r\n\tat org.apache.spark.scheduler.DAGScheduler.$anonfun$abortStage$2$adapted(DAGScheduler.scala:2206)\r\n\tat scala.collection.mutable.ResizableArray.foreach(ResizableArray.scala:62)\r\n\tat scala.collection.mutable.ResizableArray.foreach$(ResizableArray.scala:55)\r\n\tat scala.collection.mutable.ArrayBuffer.foreach(ArrayBuffer.scala:49)\r\n\tat org.apache.spark.scheduler.DAGScheduler.abortStage(DAGScheduler.scala:2206)\r\n\tat org.apache.spark.scheduler.DAGScheduler.$anonfun$handleTaskSetFailed$1(DAGScheduler.scala:1079)\r\n\tat org.apache.spark.scheduler.DAGScheduler.$anonfun$handleTaskSetFailed$1$adapted(DAGScheduler.scala:1079)\r\n\tat scala.Option.foreach(Option.scala:407)\r\n\tat org.apache.spark.scheduler.DAGScheduler.handleTaskSetFailed(DAGScheduler.scala:1079)\r\n\tat org.apache.spark.scheduler.DAGSchedulerEventProcessLoop.doOnReceive(DAGScheduler.scala:2445)\r\n\tat org.apache.spark.scheduler.DAGSchedulerEventProcessLoop.onReceive(DAGScheduler.scala:2387)\r\n\tat org.apache.spark.scheduler.DAGSchedulerEventProcessLoop.onReceive(DAGScheduler.scala:2376)\r\n\tat org.apache.spark.util.EventLoop$$anon$1.run(EventLoop.scala:49)\r\n\tat org.apache.spark.scheduler.DAGScheduler.runJob(DAGScheduler.scala:868)\r\n\tat org.apache.spark.SparkContext.runJob(SparkContext.scala:2196)\r\n\tat org.apache.spark.SparkContext.runJob(SparkContext.scala:2217)\r\n\tat org.apache.spark.SparkContext.runJob(SparkContext.scala:2236)\r\n\tat org.apache.spark.sql.execution.SparkPlan.executeTake(SparkPlan.scala:472)\r\n\tat org.apache.spark.sql.execution.SparkPlan.executeTake(SparkPlan.scala:425)\r\n\tat org.apache.spark.sql.execution.CollectLimitExec.executeCollect(limit.scala:47)\r\n\tat org.apache.spark.sql.Dataset.collectFromPlan(Dataset.scala:3696)\r\n\tat org.apache.spark.sql.Dataset.$anonfun$head$1(Dataset.scala:2722)\r\n\tat org.apache.spark.sql.Dataset.$anonfun$withAction$1(Dataset.scala:3687)\r\n\tat org.apache.spark.sql.execution.SQLExecution$.$anonfun$withNewExecutionId$5(SQLExecution.scala:103)\r\n\tat org.apache.spark.sql.execution.SQLExecution$.withSQLConfPropagated(SQLExecution.scala:163)\r\n\tat org.apache.spark.sql.execution.SQLExecution$.$anonfun$withNewExecutionId$1(SQLExecution.scala:90)\r\n\tat org.apache.spark.sql.SparkSession.withActive(SparkSession.scala:775)\r\n\tat org.apache.spark.sql.execution.SQLExecution$.withNewExecutionId(SQLExecution.scala:64)\r\n\tat org.apache.spark.sql.Dataset.withAction(Dataset.scala:3685)\r\n\tat org.apache.spark.sql.Dataset.head(Dataset.scala:2722)\r\n\tat org.apache.spark.sql.Dataset.take(Dataset.scala:2929)\r\n\tat org.apache.spark.sql.Dataset.getRows(Dataset.scala:301)\r\n\tat org.apache.spark.sql.Dataset.showString(Dataset.scala:338)\r\n\tat sun.reflect.NativeMethodAccessorImpl.invoke0(Native Method)\r\n\tat sun.reflect.NativeMethodAccessorImpl.invoke(Unknown Source)\r\n\tat sun.reflect.DelegatingMethodAccessorImpl.invoke(Unknown Source)\r\n\tat java.lang.reflect.Method.invoke(Unknown Source)\r\n\tat py4j.reflection.MethodInvoker.invoke(MethodInvoker.java:244)\r\n\tat py4j.reflection.ReflectionEngine.invoke(ReflectionEngine.java:357)\r\n\tat py4j.Gateway.invoke(Gateway.java:282)\r\n\tat py4j.commands.AbstractCommand.invokeMethod(AbstractCommand.java:132)\r\n\tat py4j.commands.CallCommand.execute(CallCommand.java:79)\r\n\tat py4j.GatewayConnection.run(GatewayConnection.java:238)\r\n\tat java.lang.Thread.run(Unknown Source)\r\nCaused by: org.apache.spark.SparkException: Python worker failed to connect back.\r\n\tat org.apache.spark.api.python.PythonWorkerFactory.createSimpleWorker(PythonWorkerFactory.scala:182)\r\n\tat org.apache.spark.api.python.PythonWorkerFactory.create(PythonWorkerFactory.scala:107)\r\n\tat org.apache.spark.SparkEnv.createPythonWorker(SparkEnv.scala:119)\r\n\tat org.apache.spark.api.python.BasePythonRunner.compute(PythonRunner.scala:145)\r\n\tat org.apache.spark.sql.execution.python.BatchEvalPythonExec.evaluate(BatchEvalPythonExec.scala:81)\r\n\tat org.apache.spark.sql.execution.python.EvalPythonExec.$anonfun$doExecute$2(EvalPythonExec.scala:130)\r\n\tat org.apache.spark.rdd.RDD.$anonfun$mapPartitions$2(RDD.scala:863)\r\n\tat org.apache.spark.rdd.RDD.$anonfun$mapPartitions$2$adapted(RDD.scala:863)\r\n\tat org.apache.spark.rdd.MapPartitionsRDD.compute(MapPartitionsRDD.scala:52)\r\n\tat org.apache.spark.rdd.RDD.computeOrReadCheckpoint(RDD.scala:373)\r\n\tat org.apache.spark.rdd.RDD.iterator(RDD.scala:337)\r\n\tat org.apache.spark.rdd.MapPartitionsRDD.compute(MapPartitionsRDD.scala:52)\r\n\tat org.apache.spark.rdd.RDD.computeOrReadCheckpoint(RDD.scala:373)\r\n\tat org.apache.spark.rdd.RDD.iterator(RDD.scala:337)\r\n\tat org.apache.spark.rdd.MapPartitionsRDD.compute(MapPartitionsRDD.scala:52)\r\n\tat org.apache.spark.rdd.RDD.computeOrReadCheckpoint(RDD.scala:373)\r\n\tat org.apache.spark.rdd.RDD.iterator(RDD.scala:337)\r\n\tat org.apache.spark.scheduler.ResultTask.runTask(ResultTask.scala:90)\r\n\tat org.apache.spark.scheduler.Task.run(Task.scala:131)\r\n\tat org.apache.spark.executor.Executor$TaskRunner.$anonfun$run$3(Executor.scala:497)\r\n\tat org.apache.spark.util.Utils$.tryWithSafeFinally(Utils.scala:1439)\r\n\tat org.apache.spark.executor.Executor$TaskRunner.run(Executor.scala:500)\r\n\tat java.util.concurrent.ThreadPoolExecutor.runWorker(Unknown Source)\r\n\tat java.util.concurrent.ThreadPoolExecutor$Worker.run(Unknown Source)\r\n\t... 1 more\r\nCaused by: java.net.SocketTimeoutException: Accept timed out\r\n\tat java.net.DualStackPlainSocketImpl.waitForNewConnection(Native Method)\r\n\tat java.net.DualStackPlainSocketImpl.socketAccept(Unknown Source)\r\n\tat java.net.AbstractPlainSocketImpl.accept(Unknown Source)\r\n\tat java.net.PlainSocketImpl.accept(Unknown Source)\r\n\tat java.net.ServerSocket.implAccept(Unknown Source)\r\n\tat java.net.ServerSocket.accept(Unknown Source)\r\n\tat org.apache.spark.api.python.PythonWorkerFactory.createSimpleWorker(PythonWorkerFactory.scala:174)\r\n\t... 24 more\r\n"
     ]
    }
   ],
   "source": [
    "emp.select(convertUDF(col(\"first_name\")).alias(\"first_name\"), convertUDF(col(\"last_name\")).alias(\"last_name\")).withColumn(\"Name\",\n",
    "                                                                                                                           concat(col(\"first_name\"), lit(\" \"),\n",
    "                                                                                                                                  col(\"last_name\"))).select('Name').show()"
   ]
  },
  {
   "cell_type": "markdown",
   "metadata": {
    "id": "BcEkYH0y-hZw"
   },
   "source": [
    "**8. Get Hightest paid jobs**"
   ]
  },
  {
   "cell_type": "code",
   "execution_count": null,
   "metadata": {
    "colab": {
     "base_uri": "https://localhost:8080/"
    },
    "executionInfo": {
     "elapsed": 1004,
     "status": "ok",
     "timestamp": 1625330721775,
     "user": {
      "displayName": "sujata drall",
      "photoUrl": "",
      "userId": "07858160099359690614"
     },
     "user_tz": -330
    },
    "id": "KKyH_I9o-hZw",
    "outputId": "b34bcb9b-671b-468f-c0f9-27863ecd00b1"
   },
   "outputs": [],
   "source": [
    "int(employees_department_locations.select(max('salary')).collect()[0][0])"
   ]
  },
  {
   "cell_type": "code",
   "execution_count": null,
   "metadata": {
    "colab": {
     "base_uri": "https://localhost:8080/",
     "height": 80
    },
    "executionInfo": {
     "elapsed": 1992,
     "status": "ok",
     "timestamp": 1625331648445,
     "user": {
      "displayName": "sujata drall",
      "photoUrl": "",
      "userId": "07858160099359690614"
     },
     "user_tz": -330
    },
    "id": "xYHxzb96QkSO",
    "outputId": "86e8a8e9-08e0-4914-dab5-6f28d37ce027"
   },
   "outputs": [],
   "source": [
    "from pyspark.sql import functions as f\n",
    "p2 = employees_department_locations.select('salary').agg(f.percentile_approx('salary',[0.5, 0.7, 0.9,0.99]).alias('percentiles')).toPandas()\n",
    "p2"
   ]
  },
  {
   "cell_type": "code",
   "execution_count": null,
   "metadata": {
    "colab": {
     "base_uri": "https://localhost:8080/"
    },
    "executionInfo": {
     "elapsed": 6,
     "status": "ok",
     "timestamp": 1625331677995,
     "user": {
      "displayName": "sujata drall",
      "photoUrl": "",
      "userId": "07858160099359690614"
     },
     "user_tz": -330
    },
    "id": "P48xtxYfUOB2",
    "outputId": "af46a831-b11b-495c-aa3d-90a9e1cd6d1e"
   },
   "outputs": [],
   "source": [
    "p2['percentiles'].explode()"
   ]
  },
  {
   "cell_type": "code",
   "execution_count": null,
   "metadata": {
    "executionInfo": {
     "elapsed": 641,
     "status": "ok",
     "timestamp": 1625331869981,
     "user": {
      "displayName": "sujata drall",
      "photoUrl": "",
      "userId": "07858160099359690614"
     },
     "user_tz": -330
    },
    "id": "EiiPifB1-hZx"
   },
   "outputs": [],
   "source": [
    "data = employees_department_locations.select('*')"
   ]
  },
  {
   "cell_type": "code",
   "execution_count": null,
   "metadata": {
    "colab": {
     "base_uri": "https://localhost:8080/"
    },
    "executionInfo": {
     "elapsed": 7,
     "status": "ok",
     "timestamp": 1625331869982,
     "user": {
      "displayName": "sujata drall",
      "photoUrl": "",
      "userId": "07858160099359690614"
     },
     "user_tz": -330
    },
    "id": "FP-yIZ-CQVdd",
    "outputId": "0cdcc1c9-833f-4512-bda0-537cba9e6390"
   },
   "outputs": [],
   "source": [
    "data"
   ]
  },
  {
   "cell_type": "code",
   "execution_count": null,
   "metadata": {
    "colab": {
     "base_uri": "https://localhost:8080/",
     "height": 597
    },
    "executionInfo": {
     "elapsed": 376,
     "status": "error",
     "timestamp": 1625331927451,
     "user": {
      "displayName": "sujata drall",
      "photoUrl": "",
      "userId": "07858160099359690614"
     },
     "user_tz": -330
    },
    "id": "O6yZRtW0-hZx",
    "outputId": "b08b67fd-85e5-41d0-cc7b-46b74a1776ac"
   },
   "outputs": [],
   "source": [
    "from pyspark.sql import SQLContext\n",
    "data.registerTempTable(\"data\")\n",
    "sql_context = SQLContext(spark)\n",
    "sql_context.sql(f\"SELECT department_name from data WHERE salary == {employees_department_locations.select(max('salary'))\".collect()[0][0]}).collect()[0][0]"
   ]
  },
  {
   "cell_type": "markdown",
   "metadata": {
    "id": "Exyi1LDm-hZx"
   },
   "source": [
    "Hightest paid job is Executive"
   ]
  }
 ],
 "metadata": {
  "colab": {
   "collapsed_sections": [],
   "name": "spark.ipynb",
   "provenance": []
  },
  "kernelspec": {
   "display_name": "Python 3",
   "language": "python",
   "name": "python3"
  },
  "language_info": {
   "codemirror_mode": {
    "name": "ipython",
    "version": 3
   },
   "file_extension": ".py",
   "mimetype": "text/x-python",
   "name": "python",
   "nbconvert_exporter": "python",
   "pygments_lexer": "ipython3",
   "version": "3.8.5"
  }
 },
 "nbformat": 4,
 "nbformat_minor": 1
}
