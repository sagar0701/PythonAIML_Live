{
 "cells": [
  {
   "cell_type": "code",
   "execution_count": 1,
   "metadata": {
    "executionInfo": {
     "elapsed": 6,
     "status": "ok",
     "timestamp": 1623506488796,
     "user": {
      "displayName": "sujata drall",
      "photoUrl": "",
      "userId": "07858160099359690614"
     },
     "user_tz": -330
    },
    "id": "70UOBKLCarrC"
   },
   "outputs": [],
   "source": [
    "import pandas as pd\n",
    "import numpy as np\n",
    "\n",
    "import warnings\n",
    "warnings.filterwarnings('ignore')"
   ]
  },
  {
   "cell_type": "code",
   "execution_count": 2,
   "metadata": {
    "colab": {
     "base_uri": "https://localhost:8080/",
     "height": 206
    },
    "executionInfo": {
     "elapsed": 721,
     "status": "ok",
     "timestamp": 1623506637806,
     "user": {
      "displayName": "sujata drall",
      "photoUrl": "",
      "userId": "07858160099359690614"
     },
     "user_tz": -330
    },
    "id": "StRlCPZjarrH",
    "outputId": "20be0cda-d721-42cc-cc40-836fe5d897e2"
   },
   "outputs": [
    {
     "data": {
      "text/html": [
       "<div>\n",
       "<style scoped>\n",
       "    .dataframe tbody tr th:only-of-type {\n",
       "        vertical-align: middle;\n",
       "    }\n",
       "\n",
       "    .dataframe tbody tr th {\n",
       "        vertical-align: top;\n",
       "    }\n",
       "\n",
       "    .dataframe thead th {\n",
       "        text-align: right;\n",
       "    }\n",
       "</style>\n",
       "<table border=\"1\" class=\"dataframe\">\n",
       "  <thead>\n",
       "    <tr style=\"text-align: right;\">\n",
       "      <th></th>\n",
       "      <th>location</th>\n",
       "      <th>month</th>\n",
       "      <th>sales</th>\n",
       "    </tr>\n",
       "  </thead>\n",
       "  <tbody>\n",
       "    <tr>\n",
       "      <th>0</th>\n",
       "      <td>New York</td>\n",
       "      <td>Mar</td>\n",
       "      <td>12714</td>\n",
       "    </tr>\n",
       "    <tr>\n",
       "      <th>1</th>\n",
       "      <td>Michigan</td>\n",
       "      <td>Apr</td>\n",
       "      <td>89238</td>\n",
       "    </tr>\n",
       "    <tr>\n",
       "      <th>2</th>\n",
       "      <td>Atlanta</td>\n",
       "      <td>Jan</td>\n",
       "      <td>8161</td>\n",
       "    </tr>\n",
       "    <tr>\n",
       "      <th>3</th>\n",
       "      <td>Boston</td>\n",
       "      <td>Sep</td>\n",
       "      <td>5885</td>\n",
       "    </tr>\n",
       "    <tr>\n",
       "      <th>4</th>\n",
       "      <td>Birmingham</td>\n",
       "      <td>Mar</td>\n",
       "      <td>10000</td>\n",
       "    </tr>\n",
       "  </tbody>\n",
       "</table>\n",
       "</div>"
      ],
      "text/plain": [
       "     location month  sales\n",
       "0    New York   Mar  12714\n",
       "1   Michigan    Apr  89238\n",
       "2     Atlanta   Jan   8161\n",
       "3      Boston   Sep   5885\n",
       "4  Birmingham   Mar  10000"
      ]
     },
     "execution_count": 2,
     "metadata": {},
     "output_type": "execute_result"
    }
   ],
   "source": [
    "df = pd.DataFrame([\n",
    "    ['New York','Mar',12714],\n",
    "    ['Michigan ','Apr',89238],\n",
    "    ['Atlanta','Jan',8161],\n",
    "    ['Boston','Sep',5885],\n",
    "    ['Birmingham','Mar',10000],\n",
    "    ['Clanton','Feb',1714],\n",
    "    ['Marion ','Dec',9238],\n",
    "    ['Atlantis','Nov',58161],\n",
    "    ['Alaska','Feb',585],\n",
    "    ['Arozona','Mar',10000],\n",
    "    ['Pacfic','Aug',2714],\n",
    "    ['Ontario ','June',189238],\n",
    "    ['Toronto','Jan',81651],\n",
    "    ['Delhi','Oct',58855],\n",
    "    ['London','Apr',1080],\n",
    "    ['Texas','Sep',1714],\n",
    "    ['Washington ','Jul',2038],\n",
    "    ['Florida','Jan',8161],\n",
    "    ['Michigan','Oct',58185],\n",
    "    ['New_Jersy','Apr',10015],\n",
    "  ],columns=['location','month','sales'])\n",
    "\n",
    "\n",
    "df.head() # help to see top 5 rows by default\n",
    "# df.tail() # help to see last 5 rows by default"
   ]
  },
  {
   "cell_type": "code",
   "execution_count": 5,
   "metadata": {
    "colab": {
     "base_uri": "https://localhost:8080/",
     "height": 81
    },
    "executionInfo": {
     "elapsed": 352,
     "status": "ok",
     "timestamp": 1623506908273,
     "user": {
      "displayName": "sujata drall",
      "photoUrl": "",
      "userId": "07858160099359690614"
     },
     "user_tz": -330
    },
    "id": "m4H1GRFOarrJ",
    "outputId": "9a5afbec-b469-4662-82af-d1dafa57f54b"
   },
   "outputs": [
    {
     "data": {
      "text/html": [
       "<div>\n",
       "<style scoped>\n",
       "    .dataframe tbody tr th:only-of-type {\n",
       "        vertical-align: middle;\n",
       "    }\n",
       "\n",
       "    .dataframe tbody tr th {\n",
       "        vertical-align: top;\n",
       "    }\n",
       "\n",
       "    .dataframe thead th {\n",
       "        text-align: right;\n",
       "    }\n",
       "</style>\n",
       "<table border=\"1\" class=\"dataframe\">\n",
       "  <thead>\n",
       "    <tr style=\"text-align: right;\">\n",
       "      <th></th>\n",
       "      <th>location</th>\n",
       "      <th>month</th>\n",
       "      <th>sales</th>\n",
       "      <th>sales category</th>\n",
       "    </tr>\n",
       "  </thead>\n",
       "  <tbody>\n",
       "    <tr>\n",
       "      <th>0</th>\n",
       "      <td>New York</td>\n",
       "      <td>Mar</td>\n",
       "      <td>12714</td>\n",
       "      <td>B</td>\n",
       "    </tr>\n",
       "  </tbody>\n",
       "</table>\n",
       "</div>"
      ],
      "text/plain": [
       "   location month  sales sales category\n",
       "0  New York   Mar  12714              B"
      ]
     },
     "execution_count": 5,
     "metadata": {},
     "output_type": "execute_result"
    }
   ],
   "source": [
    "df['sales category'] = np.where((df.sales>50000)|(df.month=='June'), 'A','B')\n",
    "df.head(1)"
   ]
  },
  {
   "cell_type": "code",
   "execution_count": 19,
   "metadata": {
    "colab": {
     "base_uri": "https://localhost:8080/",
     "height": 206
    },
    "executionInfo": {
     "elapsed": 330,
     "status": "ok",
     "timestamp": 1623507293407,
     "user": {
      "displayName": "sujata drall",
      "photoUrl": "",
      "userId": "07858160099359690614"
     },
     "user_tz": -330
    },
    "id": "SlfudQtqarrK",
    "outputId": "dda52cdd-38bc-4920-f8ff-c1eb6f7cffd3"
   },
   "outputs": [
    {
     "data": {
      "text/html": [
       "<div>\n",
       "<style scoped>\n",
       "    .dataframe tbody tr th:only-of-type {\n",
       "        vertical-align: middle;\n",
       "    }\n",
       "\n",
       "    .dataframe tbody tr th {\n",
       "        vertical-align: top;\n",
       "    }\n",
       "\n",
       "    .dataframe thead th {\n",
       "        text-align: right;\n",
       "    }\n",
       "</style>\n",
       "<table border=\"1\" class=\"dataframe\">\n",
       "  <thead>\n",
       "    <tr style=\"text-align: right;\">\n",
       "      <th></th>\n",
       "      <th>location</th>\n",
       "      <th>month</th>\n",
       "      <th>sales</th>\n",
       "      <th>sales category</th>\n",
       "      <th>selct fn2</th>\n",
       "    </tr>\n",
       "  </thead>\n",
       "  <tbody>\n",
       "    <tr>\n",
       "      <th>0</th>\n",
       "      <td>New York</td>\n",
       "      <td>Mar</td>\n",
       "      <td>12714</td>\n",
       "      <td>B</td>\n",
       "      <td>12k_Mar</td>\n",
       "    </tr>\n",
       "    <tr>\n",
       "      <th>1</th>\n",
       "      <td>Michigan</td>\n",
       "      <td>NaN</td>\n",
       "      <td>89238</td>\n",
       "      <td>A</td>\n",
       "      <td>8k_Jan</td>\n",
       "    </tr>\n",
       "    <tr>\n",
       "      <th>2</th>\n",
       "      <td>Atlanta</td>\n",
       "      <td>NaN</td>\n",
       "      <td>8161</td>\n",
       "      <td>B</td>\n",
       "      <td>other</td>\n",
       "    </tr>\n",
       "    <tr>\n",
       "      <th>3</th>\n",
       "      <td>Boston</td>\n",
       "      <td>Sep</td>\n",
       "      <td>5885</td>\n",
       "      <td>B</td>\n",
       "      <td>other</td>\n",
       "    </tr>\n",
       "    <tr>\n",
       "      <th>4</th>\n",
       "      <td>Birmingham</td>\n",
       "      <td>Mar</td>\n",
       "      <td>10000</td>\n",
       "      <td>B</td>\n",
       "      <td>12k_Mar</td>\n",
       "    </tr>\n",
       "  </tbody>\n",
       "</table>\n",
       "</div>"
      ],
      "text/plain": [
       "     location month  sales sales category selct fn2\n",
       "0    New York   Mar  12714              B   12k_Mar\n",
       "1   Michigan    NaN  89238              A    8k_Jan\n",
       "2     Atlanta   NaN   8161              B     other\n",
       "3      Boston   Sep   5885              B     other\n",
       "4  Birmingham   Mar  10000              B   12k_Mar"
      ]
     },
     "execution_count": 19,
     "metadata": {},
     "output_type": "execute_result"
    }
   ],
   "source": [
    "c1 = (df.sales==50000)|(df.month=='June')  # 50k_june\n",
    "c2 = (df.sales==12714)|(df.month=='Mar') # 12k_Mar\n",
    "c3 = (df.sales>8161)|(df.month=='Jan') # 8k_Jan\n",
    "\n",
    "df['selct fn2'] = np.select([c1, c2, c3], ['50k_june', '12k_Mar', '8k_Jan'],'other')\n",
    "df.head()"
   ]
  },
  {
   "cell_type": "code",
   "execution_count": 22,
   "metadata": {},
   "outputs": [
    {
     "data": {
      "text/plain": [
       "location          0\n",
       "month             2\n",
       "sales             0\n",
       "sales category    0\n",
       "selct fn2         0\n",
       "dtype: int64"
      ]
     },
     "execution_count": 22,
     "metadata": {},
     "output_type": "execute_result"
    }
   ],
   "source": [
    "df.isna().sum()"
   ]
  },
  {
   "cell_type": "code",
   "execution_count": 6,
   "metadata": {
    "colab": {
     "base_uri": "https://localhost:8080/"
    },
    "executionInfo": {
     "elapsed": 390,
     "status": "ok",
     "timestamp": 1623508430846,
     "user": {
      "displayName": "sujata drall",
      "photoUrl": "",
      "userId": "07858160099359690614"
     },
     "user_tz": -330
    },
    "id": "xVnwVdxwarrL",
    "outputId": "1d737683-29ac-4b3a-d117-af3cd1b6a4dc"
   },
   "outputs": [
    {
     "data": {
      "text/plain": [
       "0      New York\n",
       "4    Birmingham\n",
       "9       Arozona\n",
       "Name: location, dtype: object"
      ]
     },
     "execution_count": 6,
     "metadata": {},
     "output_type": "execute_result"
    }
   ],
   "source": [
    "df[df['month']=='Mar']['location']"
   ]
  },
  {
   "cell_type": "code",
   "execution_count": 27,
   "metadata": {
    "colab": {
     "base_uri": "https://localhost:8080/",
     "height": 81
    },
    "executionInfo": {
     "elapsed": 331,
     "status": "ok",
     "timestamp": 1623507913016,
     "user": {
      "displayName": "sujata drall",
      "photoUrl": "",
      "userId": "07858160099359690614"
     },
     "user_tz": -330
    },
    "id": "qwV018VparrM",
    "outputId": "834b2f3d-c85d-44ad-95cf-e6f950a54198"
   },
   "outputs": [
    {
     "data": {
      "text/html": [
       "<div>\n",
       "<style scoped>\n",
       "    .dataframe tbody tr th:only-of-type {\n",
       "        vertical-align: middle;\n",
       "    }\n",
       "\n",
       "    .dataframe tbody tr th {\n",
       "        vertical-align: top;\n",
       "    }\n",
       "\n",
       "    .dataframe thead th {\n",
       "        text-align: right;\n",
       "    }\n",
       "</style>\n",
       "<table border=\"1\" class=\"dataframe\">\n",
       "  <thead>\n",
       "    <tr style=\"text-align: right;\">\n",
       "      <th></th>\n",
       "      <th>location</th>\n",
       "      <th>month</th>\n",
       "      <th>sales</th>\n",
       "      <th>sales category</th>\n",
       "      <th>selct fn2</th>\n",
       "    </tr>\n",
       "  </thead>\n",
       "  <tbody>\n",
       "    <tr>\n",
       "      <th>8</th>\n",
       "      <td>Alaska</td>\n",
       "      <td>Feb</td>\n",
       "      <td>585</td>\n",
       "      <td>B</td>\n",
       "      <td>other</td>\n",
       "    </tr>\n",
       "  </tbody>\n",
       "</table>\n",
       "</div>"
      ],
      "text/plain": [
       "  location month  sales sales category selct fn2\n",
       "8   Alaska   Feb    585              B     other"
      ]
     },
     "execution_count": 27,
     "metadata": {},
     "output_type": "execute_result"
    }
   ],
   "source": [
    "df[(df['location']=='Alaska') & (df['month']=='Feb') & (df['sales']==585)]"
   ]
  },
  {
   "cell_type": "code",
   "execution_count": 28,
   "metadata": {
    "colab": {
     "base_uri": "https://localhost:8080/",
     "height": 269
    },
    "executionInfo": {
     "elapsed": 360,
     "status": "ok",
     "timestamp": 1623508166201,
     "user": {
      "displayName": "sujata drall",
      "photoUrl": "",
      "userId": "07858160099359690614"
     },
     "user_tz": -330
    },
    "id": "j604JJziarrN",
    "outputId": "f1a0ab84-c9fc-4788-de9b-ed3fd0518217"
   },
   "outputs": [
    {
     "data": {
      "text/html": [
       "<div>\n",
       "<style scoped>\n",
       "    .dataframe tbody tr th:only-of-type {\n",
       "        vertical-align: middle;\n",
       "    }\n",
       "\n",
       "    .dataframe tbody tr th {\n",
       "        vertical-align: top;\n",
       "    }\n",
       "\n",
       "    .dataframe thead th {\n",
       "        text-align: right;\n",
       "    }\n",
       "</style>\n",
       "<table border=\"1\" class=\"dataframe\">\n",
       "  <thead>\n",
       "    <tr style=\"text-align: right;\">\n",
       "      <th></th>\n",
       "      <th>location</th>\n",
       "      <th>month</th>\n",
       "      <th>sales</th>\n",
       "      <th>sales category</th>\n",
       "      <th>selct fn2</th>\n",
       "    </tr>\n",
       "  </thead>\n",
       "  <tbody>\n",
       "    <tr>\n",
       "      <th>3</th>\n",
       "      <td>Boston</td>\n",
       "      <td>Sep</td>\n",
       "      <td>5885</td>\n",
       "      <td>B</td>\n",
       "      <td>other</td>\n",
       "    </tr>\n",
       "    <tr>\n",
       "      <th>5</th>\n",
       "      <td>Clanton</td>\n",
       "      <td>Feb</td>\n",
       "      <td>1714</td>\n",
       "      <td>B</td>\n",
       "      <td>other</td>\n",
       "    </tr>\n",
       "    <tr>\n",
       "      <th>6</th>\n",
       "      <td>Marion</td>\n",
       "      <td>Dec</td>\n",
       "      <td>9238</td>\n",
       "      <td>B</td>\n",
       "      <td>8k_Jan</td>\n",
       "    </tr>\n",
       "    <tr>\n",
       "      <th>9</th>\n",
       "      <td>Arozona</td>\n",
       "      <td>Mar</td>\n",
       "      <td>10000</td>\n",
       "      <td>B</td>\n",
       "      <td>12k_Mar</td>\n",
       "    </tr>\n",
       "    <tr>\n",
       "      <th>12</th>\n",
       "      <td>Toronto</td>\n",
       "      <td>Jan</td>\n",
       "      <td>81651</td>\n",
       "      <td>A</td>\n",
       "      <td>8k_Jan</td>\n",
       "    </tr>\n",
       "    <tr>\n",
       "      <th>14</th>\n",
       "      <td>London</td>\n",
       "      <td>Apr</td>\n",
       "      <td>1080</td>\n",
       "      <td>B</td>\n",
       "      <td>other</td>\n",
       "    </tr>\n",
       "    <tr>\n",
       "      <th>16</th>\n",
       "      <td>Washington</td>\n",
       "      <td>Jul</td>\n",
       "      <td>2038</td>\n",
       "      <td>B</td>\n",
       "      <td>other</td>\n",
       "    </tr>\n",
       "  </tbody>\n",
       "</table>\n",
       "</div>"
      ],
      "text/plain": [
       "       location month  sales sales category selct fn2\n",
       "3        Boston   Sep   5885              B     other\n",
       "5       Clanton   Feb   1714              B     other\n",
       "6       Marion    Dec   9238              B    8k_Jan\n",
       "9       Arozona   Mar  10000              B   12k_Mar\n",
       "12      Toronto   Jan  81651              A    8k_Jan\n",
       "14       London   Apr   1080              B     other\n",
       "16  Washington    Jul   2038              B     other"
      ]
     },
     "execution_count": 28,
     "metadata": {},
     "output_type": "execute_result"
    }
   ],
   "source": [
    "df[df['location'].str.contains('on')] # only specific to String values"
   ]
  },
  {
   "cell_type": "code",
   "execution_count": 29,
   "metadata": {
    "colab": {
     "base_uri": "https://localhost:8080/"
    },
    "executionInfo": {
     "elapsed": 349,
     "status": "ok",
     "timestamp": 1623509930706,
     "user": {
      "displayName": "sujata drall",
      "photoUrl": "",
      "userId": "07858160099359690614"
     },
     "user_tz": -330
    },
    "id": "s0FcAgi1u2bD",
    "outputId": "5ce414b9-8962-4612-a66d-b99b7f37f4d7"
   },
   "outputs": [
    {
     "data": {
      "text/html": [
       "<div>\n",
       "<style scoped>\n",
       "    .dataframe tbody tr th:only-of-type {\n",
       "        vertical-align: middle;\n",
       "    }\n",
       "\n",
       "    .dataframe tbody tr th {\n",
       "        vertical-align: top;\n",
       "    }\n",
       "\n",
       "    .dataframe thead th {\n",
       "        text-align: right;\n",
       "    }\n",
       "</style>\n",
       "<table border=\"1\" class=\"dataframe\">\n",
       "  <thead>\n",
       "    <tr style=\"text-align: right;\">\n",
       "      <th></th>\n",
       "      <th>location</th>\n",
       "      <th>month</th>\n",
       "      <th>sales</th>\n",
       "      <th>sales category</th>\n",
       "      <th>selct fn2</th>\n",
       "      <th>location2</th>\n",
       "    </tr>\n",
       "  </thead>\n",
       "  <tbody>\n",
       "    <tr>\n",
       "      <th>0</th>\n",
       "      <td>New York</td>\n",
       "      <td>Mar</td>\n",
       "      <td>12714</td>\n",
       "      <td>B</td>\n",
       "      <td>12k_Mar</td>\n",
       "      <td>new york</td>\n",
       "    </tr>\n",
       "    <tr>\n",
       "      <th>1</th>\n",
       "      <td>Michigan</td>\n",
       "      <td>Apr</td>\n",
       "      <td>89238</td>\n",
       "      <td>A</td>\n",
       "      <td>8k_Jan</td>\n",
       "      <td>michigan</td>\n",
       "    </tr>\n",
       "    <tr>\n",
       "      <th>2</th>\n",
       "      <td>Atlanta</td>\n",
       "      <td>Jan</td>\n",
       "      <td>8161</td>\n",
       "      <td>B</td>\n",
       "      <td>8k_Jan</td>\n",
       "      <td>atlanta</td>\n",
       "    </tr>\n",
       "    <tr>\n",
       "      <th>3</th>\n",
       "      <td>Boston</td>\n",
       "      <td>Sep</td>\n",
       "      <td>5885</td>\n",
       "      <td>B</td>\n",
       "      <td>other</td>\n",
       "      <td>boston</td>\n",
       "    </tr>\n",
       "    <tr>\n",
       "      <th>4</th>\n",
       "      <td>Birmingham</td>\n",
       "      <td>Mar</td>\n",
       "      <td>10000</td>\n",
       "      <td>B</td>\n",
       "      <td>12k_Mar</td>\n",
       "      <td>birmingham</td>\n",
       "    </tr>\n",
       "  </tbody>\n",
       "</table>\n",
       "</div>"
      ],
      "text/plain": [
       "     location month  sales sales category selct fn2   location2\n",
       "0    New York   Mar  12714              B   12k_Mar    new york\n",
       "1   Michigan    Apr  89238              A    8k_Jan   michigan \n",
       "2     Atlanta   Jan   8161              B    8k_Jan     atlanta\n",
       "3      Boston   Sep   5885              B     other      boston\n",
       "4  Birmingham   Mar  10000              B   12k_Mar  birmingham"
      ]
     },
     "execution_count": 29,
     "metadata": {},
     "output_type": "execute_result"
    }
   ],
   "source": [
    "df['location2']= df.location.str.lower()\n",
    "df.head(5)"
   ]
  },
  {
   "cell_type": "code",
   "execution_count": 30,
   "metadata": {
    "id": "bmJD4sHwarrO",
    "outputId": "1214b08e-ebea-4f26-b3e8-774e43583e47"
   },
   "outputs": [
    {
     "data": {
      "text/html": [
       "<div>\n",
       "<style scoped>\n",
       "    .dataframe tbody tr th:only-of-type {\n",
       "        vertical-align: middle;\n",
       "    }\n",
       "\n",
       "    .dataframe tbody tr th {\n",
       "        vertical-align: top;\n",
       "    }\n",
       "\n",
       "    .dataframe thead th {\n",
       "        text-align: right;\n",
       "    }\n",
       "</style>\n",
       "<table border=\"1\" class=\"dataframe\">\n",
       "  <thead>\n",
       "    <tr style=\"text-align: right;\">\n",
       "      <th></th>\n",
       "      <th>location</th>\n",
       "      <th>month</th>\n",
       "      <th>sales</th>\n",
       "      <th>sales category</th>\n",
       "      <th>selct fn2</th>\n",
       "      <th>location2</th>\n",
       "    </tr>\n",
       "  </thead>\n",
       "  <tbody>\n",
       "    <tr>\n",
       "      <th>3</th>\n",
       "      <td>Boston</td>\n",
       "      <td>Sep</td>\n",
       "      <td>5885</td>\n",
       "      <td>B</td>\n",
       "      <td>other</td>\n",
       "      <td>boston</td>\n",
       "    </tr>\n",
       "    <tr>\n",
       "      <th>5</th>\n",
       "      <td>Clanton</td>\n",
       "      <td>Feb</td>\n",
       "      <td>1714</td>\n",
       "      <td>B</td>\n",
       "      <td>other</td>\n",
       "      <td>clanton</td>\n",
       "    </tr>\n",
       "    <tr>\n",
       "      <th>14</th>\n",
       "      <td>London</td>\n",
       "      <td>Apr</td>\n",
       "      <td>1080</td>\n",
       "      <td>B</td>\n",
       "      <td>other</td>\n",
       "      <td>london</td>\n",
       "    </tr>\n",
       "  </tbody>\n",
       "</table>\n",
       "</div>"
      ],
      "text/plain": [
       "   location month  sales sales category selct fn2 location2\n",
       "3    Boston   Sep   5885              B     other    boston\n",
       "5   Clanton   Feb   1714              B     other   clanton\n",
       "14   London   Apr   1080              B     other    london"
      ]
     },
     "execution_count": 30,
     "metadata": {},
     "output_type": "execute_result"
    }
   ],
   "source": [
    "df[df['location'].str.startswith('Mi')]\n",
    "df[df['location'].str.endswith('on')]"
   ]
  },
  {
   "cell_type": "code",
   "execution_count": 31,
   "metadata": {
    "colab": {
     "base_uri": "https://localhost:8080/",
     "height": 206
    },
    "executionInfo": {
     "elapsed": 343,
     "status": "ok",
     "timestamp": 1623509757267,
     "user": {
      "displayName": "sujata drall",
      "photoUrl": "",
      "userId": "07858160099359690614"
     },
     "user_tz": -330
    },
    "id": "arLeoULoarrQ",
    "outputId": "b1023fff-97bd-441d-f2ab-9589e82037e4"
   },
   "outputs": [
    {
     "data": {
      "text/html": [
       "<div>\n",
       "<style scoped>\n",
       "    .dataframe tbody tr th:only-of-type {\n",
       "        vertical-align: middle;\n",
       "    }\n",
       "\n",
       "    .dataframe tbody tr th {\n",
       "        vertical-align: top;\n",
       "    }\n",
       "\n",
       "    .dataframe thead th {\n",
       "        text-align: right;\n",
       "    }\n",
       "</style>\n",
       "<table border=\"1\" class=\"dataframe\">\n",
       "  <thead>\n",
       "    <tr style=\"text-align: right;\">\n",
       "      <th></th>\n",
       "      <th>location</th>\n",
       "      <th>month</th>\n",
       "      <th>sales</th>\n",
       "      <th>sales category</th>\n",
       "      <th>selct fn2</th>\n",
       "      <th>location2</th>\n",
       "      <th>sales3</th>\n",
       "      <th>sales4</th>\n",
       "    </tr>\n",
       "  </thead>\n",
       "  <tbody>\n",
       "    <tr>\n",
       "      <th>0</th>\n",
       "      <td>New York</td>\n",
       "      <td>Mar</td>\n",
       "      <td>12714</td>\n",
       "      <td>B</td>\n",
       "      <td>12k_Mar</td>\n",
       "      <td>new york</td>\n",
       "      <td>C</td>\n",
       "      <td>C</td>\n",
       "    </tr>\n",
       "    <tr>\n",
       "      <th>1</th>\n",
       "      <td>Michigan</td>\n",
       "      <td>Apr</td>\n",
       "      <td>89238</td>\n",
       "      <td>A</td>\n",
       "      <td>8k_Jan</td>\n",
       "      <td>michigan</td>\n",
       "      <td>A</td>\n",
       "      <td>A</td>\n",
       "    </tr>\n",
       "    <tr>\n",
       "      <th>2</th>\n",
       "      <td>Atlanta</td>\n",
       "      <td>Jan</td>\n",
       "      <td>8161</td>\n",
       "      <td>B</td>\n",
       "      <td>8k_Jan</td>\n",
       "      <td>atlanta</td>\n",
       "      <td>C</td>\n",
       "      <td>C</td>\n",
       "    </tr>\n",
       "    <tr>\n",
       "      <th>3</th>\n",
       "      <td>Boston</td>\n",
       "      <td>Sep</td>\n",
       "      <td>5885</td>\n",
       "      <td>B</td>\n",
       "      <td>other</td>\n",
       "      <td>boston</td>\n",
       "      <td>C</td>\n",
       "      <td>C</td>\n",
       "    </tr>\n",
       "    <tr>\n",
       "      <th>4</th>\n",
       "      <td>Birmingham</td>\n",
       "      <td>Mar</td>\n",
       "      <td>10000</td>\n",
       "      <td>B</td>\n",
       "      <td>12k_Mar</td>\n",
       "      <td>birmingham</td>\n",
       "      <td>C</td>\n",
       "      <td>C</td>\n",
       "    </tr>\n",
       "  </tbody>\n",
       "</table>\n",
       "</div>"
      ],
      "text/plain": [
       "     location month  sales sales category selct fn2   location2 sales3 sales4\n",
       "0    New York   Mar  12714              B   12k_Mar    new york      C      C\n",
       "1   Michigan    Apr  89238              A    8k_Jan   michigan       A      A\n",
       "2     Atlanta   Jan   8161              B    8k_Jan     atlanta      C      C\n",
       "3      Boston   Sep   5885              B     other      boston      C      C\n",
       "4  Birmingham   Mar  10000              B   12k_Mar  birmingham      C      C"
      ]
     },
     "execution_count": 31,
     "metadata": {},
     "output_type": "execute_result"
    }
   ],
   "source": [
    "def fn(x):\n",
    "    if x>50000:\n",
    "        return 'A'\n",
    "    elif 20000<x<50000:\n",
    "        return 'B'\n",
    "    else:\n",
    "        return 'C'\n",
    "    \n",
    "# df['sales2'] = df.sales.apply(lambda x: 'A' if x>50000 else 'B' if 20000<x<50000 else 'C')\n",
    "\n",
    "\n",
    "df['sales3'] = df.sales.apply(fn)\n",
    "\n",
    "df['sales4'] = pd.Series(map(fn,  df.sales))\n",
    "\n",
    "df.head()"
   ]
  },
  {
   "cell_type": "code",
   "execution_count": 32,
   "metadata": {
    "id": "VotzTMy5arrR",
    "outputId": "0f624c9e-e3b2-4497-9e51-d90c2a2acdcd"
   },
   "outputs": [
    {
     "data": {
      "text/html": [
       "<div>\n",
       "<style scoped>\n",
       "    .dataframe tbody tr th:only-of-type {\n",
       "        vertical-align: middle;\n",
       "    }\n",
       "\n",
       "    .dataframe tbody tr th {\n",
       "        vertical-align: top;\n",
       "    }\n",
       "\n",
       "    .dataframe thead th {\n",
       "        text-align: right;\n",
       "    }\n",
       "</style>\n",
       "<table border=\"1\" class=\"dataframe\">\n",
       "  <thead>\n",
       "    <tr style=\"text-align: right;\">\n",
       "      <th></th>\n",
       "      <th>location</th>\n",
       "      <th>month</th>\n",
       "      <th>sales</th>\n",
       "      <th>sales category</th>\n",
       "      <th>selct fn2</th>\n",
       "      <th>location2</th>\n",
       "      <th>sales3</th>\n",
       "      <th>sales4</th>\n",
       "    </tr>\n",
       "  </thead>\n",
       "  <tbody>\n",
       "    <tr>\n",
       "      <th>0</th>\n",
       "      <td>New York</td>\n",
       "      <td>Mar</td>\n",
       "      <td>12714</td>\n",
       "      <td>B</td>\n",
       "      <td>12k_Mar</td>\n",
       "      <td>new york</td>\n",
       "      <td>C</td>\n",
       "      <td>C</td>\n",
       "    </tr>\n",
       "    <tr>\n",
       "      <th>1</th>\n",
       "      <td>Michigan</td>\n",
       "      <td>Apr</td>\n",
       "      <td>89238</td>\n",
       "      <td>A</td>\n",
       "      <td>8k_Jan</td>\n",
       "      <td>michigan</td>\n",
       "      <td>A</td>\n",
       "      <td>A</td>\n",
       "    </tr>\n",
       "    <tr>\n",
       "      <th>2</th>\n",
       "      <td>Atlanta</td>\n",
       "      <td>Jan</td>\n",
       "      <td>8161</td>\n",
       "      <td>B</td>\n",
       "      <td>8k_Jan</td>\n",
       "      <td>atlanta</td>\n",
       "      <td>C</td>\n",
       "      <td>C</td>\n",
       "    </tr>\n",
       "    <tr>\n",
       "      <th>3</th>\n",
       "      <td>Boston</td>\n",
       "      <td>Sep</td>\n",
       "      <td>5885</td>\n",
       "      <td>B</td>\n",
       "      <td>other</td>\n",
       "      <td>boston</td>\n",
       "      <td>C</td>\n",
       "      <td>C</td>\n",
       "    </tr>\n",
       "    <tr>\n",
       "      <th>4</th>\n",
       "      <td>Birmingham</td>\n",
       "      <td>Mar</td>\n",
       "      <td>10000</td>\n",
       "      <td>B</td>\n",
       "      <td>12k_Mar</td>\n",
       "      <td>birmingham</td>\n",
       "      <td>C</td>\n",
       "      <td>C</td>\n",
       "    </tr>\n",
       "  </tbody>\n",
       "</table>\n",
       "</div>"
      ],
      "text/plain": [
       "     location month  sales sales category selct fn2   location2 sales3 sales4\n",
       "0    New York   Mar  12714              B   12k_Mar    new york      C      C\n",
       "1   Michigan    Apr  89238              A    8k_Jan   michigan       A      A\n",
       "2     Atlanta   Jan   8161              B    8k_Jan     atlanta      C      C\n",
       "3      Boston   Sep   5885              B     other      boston      C      C\n",
       "4  Birmingham   Mar  10000              B   12k_Mar  birmingham      C      C"
      ]
     },
     "execution_count": 32,
     "metadata": {},
     "output_type": "execute_result"
    }
   ],
   "source": [
    "df.head()"
   ]
  },
  {
   "cell_type": "code",
   "execution_count": null,
   "metadata": {
    "id": "8pXSYkKGarrR"
   },
   "outputs": [],
   "source": []
  },
  {
   "cell_type": "code",
   "execution_count": 33,
   "metadata": {
    "colab": {
     "base_uri": "https://localhost:8080/",
     "height": 206
    },
    "executionInfo": {
     "elapsed": 403,
     "status": "ok",
     "timestamp": 1623510581048,
     "user": {
      "displayName": "sujata drall",
      "photoUrl": "",
      "userId": "07858160099359690614"
     },
     "user_tz": -330
    },
    "id": "ecOCQLykarrS",
    "outputId": "9381bd0a-5464-4968-9c60-1a4409729e86"
   },
   "outputs": [
    {
     "data": {
      "text/html": [
       "<div>\n",
       "<style scoped>\n",
       "    .dataframe tbody tr th:only-of-type {\n",
       "        vertical-align: middle;\n",
       "    }\n",
       "\n",
       "    .dataframe tbody tr th {\n",
       "        vertical-align: top;\n",
       "    }\n",
       "\n",
       "    .dataframe thead th {\n",
       "        text-align: right;\n",
       "    }\n",
       "</style>\n",
       "<table border=\"1\" class=\"dataframe\">\n",
       "  <thead>\n",
       "    <tr style=\"text-align: right;\">\n",
       "      <th></th>\n",
       "      <th>location</th>\n",
       "      <th>month</th>\n",
       "      <th>sales</th>\n",
       "      <th>sales category</th>\n",
       "      <th>selct fn2</th>\n",
       "      <th>location2</th>\n",
       "      <th>sales3</th>\n",
       "      <th>sales4</th>\n",
       "      <th>location_month</th>\n",
       "    </tr>\n",
       "  </thead>\n",
       "  <tbody>\n",
       "    <tr>\n",
       "      <th>0</th>\n",
       "      <td>New York</td>\n",
       "      <td>Mar</td>\n",
       "      <td>12714</td>\n",
       "      <td>B</td>\n",
       "      <td>12k_Mar</td>\n",
       "      <td>new york</td>\n",
       "      <td>C</td>\n",
       "      <td>C</td>\n",
       "      <td>New York_Mar</td>\n",
       "    </tr>\n",
       "    <tr>\n",
       "      <th>1</th>\n",
       "      <td>Michigan</td>\n",
       "      <td>Apr</td>\n",
       "      <td>89238</td>\n",
       "      <td>A</td>\n",
       "      <td>8k_Jan</td>\n",
       "      <td>michigan</td>\n",
       "      <td>A</td>\n",
       "      <td>A</td>\n",
       "      <td>Michigan _Apr</td>\n",
       "    </tr>\n",
       "    <tr>\n",
       "      <th>2</th>\n",
       "      <td>Atlanta</td>\n",
       "      <td>Jan</td>\n",
       "      <td>8161</td>\n",
       "      <td>B</td>\n",
       "      <td>8k_Jan</td>\n",
       "      <td>atlanta</td>\n",
       "      <td>C</td>\n",
       "      <td>C</td>\n",
       "      <td>Atlanta_Jan</td>\n",
       "    </tr>\n",
       "    <tr>\n",
       "      <th>3</th>\n",
       "      <td>Boston</td>\n",
       "      <td>Sep</td>\n",
       "      <td>5885</td>\n",
       "      <td>B</td>\n",
       "      <td>other</td>\n",
       "      <td>boston</td>\n",
       "      <td>C</td>\n",
       "      <td>C</td>\n",
       "      <td>Boston_Sep</td>\n",
       "    </tr>\n",
       "    <tr>\n",
       "      <th>4</th>\n",
       "      <td>Birmingham</td>\n",
       "      <td>Mar</td>\n",
       "      <td>10000</td>\n",
       "      <td>B</td>\n",
       "      <td>12k_Mar</td>\n",
       "      <td>birmingham</td>\n",
       "      <td>C</td>\n",
       "      <td>C</td>\n",
       "      <td>Birmingham_Mar</td>\n",
       "    </tr>\n",
       "  </tbody>\n",
       "</table>\n",
       "</div>"
      ],
      "text/plain": [
       "     location month  sales sales category selct fn2   location2 sales3 sales4  \\\n",
       "0    New York   Mar  12714              B   12k_Mar    new york      C      C   \n",
       "1   Michigan    Apr  89238              A    8k_Jan   michigan       A      A   \n",
       "2     Atlanta   Jan   8161              B    8k_Jan     atlanta      C      C   \n",
       "3      Boston   Sep   5885              B     other      boston      C      C   \n",
       "4  Birmingham   Mar  10000              B   12k_Mar  birmingham      C      C   \n",
       "\n",
       "   location_month  \n",
       "0    New York_Mar  \n",
       "1   Michigan _Apr  \n",
       "2     Atlanta_Jan  \n",
       "3      Boston_Sep  \n",
       "4  Birmingham_Mar  "
      ]
     },
     "execution_count": 33,
     "metadata": {},
     "output_type": "execute_result"
    }
   ],
   "source": [
    "df['location_month'] = df['location'] + '_' + df['sales'].astype(str)\n",
    "\n",
    "\n",
    "df['location_month'] = df['location'] + '_' + df['month']\n",
    "df.head()"
   ]
  },
  {
   "cell_type": "code",
   "execution_count": 34,
   "metadata": {
    "colab": {
     "base_uri": "https://localhost:8080/"
    },
    "executionInfo": {
     "elapsed": 664,
     "status": "ok",
     "timestamp": 1623511654193,
     "user": {
      "displayName": "sujata drall",
      "photoUrl": "",
      "userId": "07858160099359690614"
     },
     "user_tz": -330
    },
    "id": "bQ-JMoxlarrT",
    "outputId": "3950efb8-6ec1-4206-f5a0-cee83e3933da"
   },
   "outputs": [
    {
     "data": {
      "text/plain": [
       "['hello', 'there', 'how', 'are', 'you']"
      ]
     },
     "execution_count": 34,
     "metadata": {},
     "output_type": "execute_result"
    }
   ],
   "source": [
    "' '.join(['hello','there','how','are','you']).split(' ')"
   ]
  },
  {
   "cell_type": "code",
   "execution_count": 35,
   "metadata": {
    "colab": {
     "base_uri": "https://localhost:8080/"
    },
    "executionInfo": {
     "elapsed": 407,
     "status": "ok",
     "timestamp": 1623511039541,
     "user": {
      "displayName": "sujata drall",
      "photoUrl": "",
      "userId": "07858160099359690614"
     },
     "user_tz": -330
    },
    "id": "3cMQLbbfy37J",
    "outputId": "f9db388d-e125-45cb-f6da-e173902c1446"
   },
   "outputs": [
    {
     "data": {
      "text/plain": [
       "['hello', 'there', 'how', 'are', 'you']"
      ]
     },
     "execution_count": 35,
     "metadata": {},
     "output_type": "execute_result"
    }
   ],
   "source": [
    "sen='hello,there,how,are,you'\n",
    "\n",
    "sen.split(',')"
   ]
  },
  {
   "cell_type": "code",
   "execution_count": 36,
   "metadata": {
    "id": "NAgR8oGCarrT",
    "outputId": "4871370f-6845-4180-896b-fc3f7ae38961"
   },
   "outputs": [
    {
     "data": {
      "text/plain": [
       "['a', 'b', 'c']"
      ]
     },
     "execution_count": 36,
     "metadata": {},
     "output_type": "execute_result"
    }
   ],
   "source": [
    "'a-b-c'.split('-')"
   ]
  },
  {
   "cell_type": "code",
   "execution_count": 37,
   "metadata": {
    "colab": {
     "base_uri": "https://localhost:8080/",
     "height": 206
    },
    "executionInfo": {
     "elapsed": 417,
     "status": "ok",
     "timestamp": 1623511189345,
     "user": {
      "displayName": "sujata drall",
      "photoUrl": "",
      "userId": "07858160099359690614"
     },
     "user_tz": -330
    },
    "id": "xJtYVKSharrT",
    "outputId": "97e53ce9-f509-454f-e7ea-06d5640e276d"
   },
   "outputs": [
    {
     "data": {
      "text/html": [
       "<div>\n",
       "<style scoped>\n",
       "    .dataframe tbody tr th:only-of-type {\n",
       "        vertical-align: middle;\n",
       "    }\n",
       "\n",
       "    .dataframe tbody tr th {\n",
       "        vertical-align: top;\n",
       "    }\n",
       "\n",
       "    .dataframe thead th {\n",
       "        text-align: right;\n",
       "    }\n",
       "</style>\n",
       "<table border=\"1\" class=\"dataframe\">\n",
       "  <thead>\n",
       "    <tr style=\"text-align: right;\">\n",
       "      <th></th>\n",
       "      <th>location</th>\n",
       "      <th>month</th>\n",
       "      <th>sales</th>\n",
       "      <th>sales category</th>\n",
       "      <th>selct fn2</th>\n",
       "      <th>location2</th>\n",
       "      <th>sales3</th>\n",
       "      <th>sales4</th>\n",
       "      <th>location_month</th>\n",
       "      <th>combine</th>\n",
       "    </tr>\n",
       "  </thead>\n",
       "  <tbody>\n",
       "    <tr>\n",
       "      <th>0</th>\n",
       "      <td>New York</td>\n",
       "      <td>Mar</td>\n",
       "      <td>12714</td>\n",
       "      <td>B</td>\n",
       "      <td>12k_Mar</td>\n",
       "      <td>new york</td>\n",
       "      <td>C</td>\n",
       "      <td>C</td>\n",
       "      <td>New York_Mar</td>\n",
       "      <td>new york-mar-12714</td>\n",
       "    </tr>\n",
       "    <tr>\n",
       "      <th>1</th>\n",
       "      <td>Michigan</td>\n",
       "      <td>Apr</td>\n",
       "      <td>89238</td>\n",
       "      <td>A</td>\n",
       "      <td>8k_Jan</td>\n",
       "      <td>michigan</td>\n",
       "      <td>A</td>\n",
       "      <td>A</td>\n",
       "      <td>Michigan _Apr</td>\n",
       "      <td>michigan -apr-89238</td>\n",
       "    </tr>\n",
       "    <tr>\n",
       "      <th>2</th>\n",
       "      <td>Atlanta</td>\n",
       "      <td>Jan</td>\n",
       "      <td>8161</td>\n",
       "      <td>B</td>\n",
       "      <td>8k_Jan</td>\n",
       "      <td>atlanta</td>\n",
       "      <td>C</td>\n",
       "      <td>C</td>\n",
       "      <td>Atlanta_Jan</td>\n",
       "      <td>atlanta-jan-8161</td>\n",
       "    </tr>\n",
       "    <tr>\n",
       "      <th>3</th>\n",
       "      <td>Boston</td>\n",
       "      <td>Sep</td>\n",
       "      <td>5885</td>\n",
       "      <td>B</td>\n",
       "      <td>other</td>\n",
       "      <td>boston</td>\n",
       "      <td>C</td>\n",
       "      <td>C</td>\n",
       "      <td>Boston_Sep</td>\n",
       "      <td>boston-sep-5885</td>\n",
       "    </tr>\n",
       "    <tr>\n",
       "      <th>4</th>\n",
       "      <td>Birmingham</td>\n",
       "      <td>Mar</td>\n",
       "      <td>10000</td>\n",
       "      <td>B</td>\n",
       "      <td>12k_Mar</td>\n",
       "      <td>birmingham</td>\n",
       "      <td>C</td>\n",
       "      <td>C</td>\n",
       "      <td>Birmingham_Mar</td>\n",
       "      <td>birmingham-mar-10000</td>\n",
       "    </tr>\n",
       "  </tbody>\n",
       "</table>\n",
       "</div>"
      ],
      "text/plain": [
       "     location month  sales sales category selct fn2   location2 sales3 sales4  \\\n",
       "0    New York   Mar  12714              B   12k_Mar    new york      C      C   \n",
       "1   Michigan    Apr  89238              A    8k_Jan   michigan       A      A   \n",
       "2     Atlanta   Jan   8161              B    8k_Jan     atlanta      C      C   \n",
       "3      Boston   Sep   5885              B     other      boston      C      C   \n",
       "4  Birmingham   Mar  10000              B   12k_Mar  birmingham      C      C   \n",
       "\n",
       "   location_month               combine  \n",
       "0    New York_Mar    new york-mar-12714  \n",
       "1   Michigan _Apr   michigan -apr-89238  \n",
       "2     Atlanta_Jan      atlanta-jan-8161  \n",
       "3      Boston_Sep       boston-sep-5885  \n",
       "4  Birmingham_Mar  birmingham-mar-10000  "
      ]
     },
     "execution_count": 37,
     "metadata": {},
     "output_type": "execute_result"
    }
   ],
   "source": [
    "df['combine'] = df[['location','month','sales']].astype(str).apply(lambda x: '-'.join(x), axis =1).str.lower()\n",
    "df.head()"
   ]
  },
  {
   "cell_type": "code",
   "execution_count": 38,
   "metadata": {
    "colab": {
     "base_uri": "https://localhost:8080/",
     "height": 206
    },
    "executionInfo": {
     "elapsed": 379,
     "status": "ok",
     "timestamp": 1623513573503,
     "user": {
      "displayName": "sujata drall",
      "photoUrl": "",
      "userId": "07858160099359690614"
     },
     "user_tz": -330
    },
    "id": "a6I4LvCkarrU",
    "outputId": "6c580b3d-e5ce-4f02-d270-657dc8877c18"
   },
   "outputs": [
    {
     "data": {
      "text/html": [
       "<div>\n",
       "<style scoped>\n",
       "    .dataframe tbody tr th:only-of-type {\n",
       "        vertical-align: middle;\n",
       "    }\n",
       "\n",
       "    .dataframe tbody tr th {\n",
       "        vertical-align: top;\n",
       "    }\n",
       "\n",
       "    .dataframe thead th {\n",
       "        text-align: right;\n",
       "    }\n",
       "</style>\n",
       "<table border=\"1\" class=\"dataframe\">\n",
       "  <thead>\n",
       "    <tr style=\"text-align: right;\">\n",
       "      <th></th>\n",
       "      <th>a</th>\n",
       "      <th>b</th>\n",
       "      <th>c</th>\n",
       "    </tr>\n",
       "  </thead>\n",
       "  <tbody>\n",
       "    <tr>\n",
       "      <th>0</th>\n",
       "      <td>new york</td>\n",
       "      <td>mar</td>\n",
       "      <td>12714</td>\n",
       "    </tr>\n",
       "    <tr>\n",
       "      <th>1</th>\n",
       "      <td>michigan</td>\n",
       "      <td>apr</td>\n",
       "      <td>89238</td>\n",
       "    </tr>\n",
       "    <tr>\n",
       "      <th>2</th>\n",
       "      <td>atlanta</td>\n",
       "      <td>jan</td>\n",
       "      <td>8161</td>\n",
       "    </tr>\n",
       "    <tr>\n",
       "      <th>3</th>\n",
       "      <td>boston</td>\n",
       "      <td>sep</td>\n",
       "      <td>5885</td>\n",
       "    </tr>\n",
       "    <tr>\n",
       "      <th>4</th>\n",
       "      <td>birmingham</td>\n",
       "      <td>mar</td>\n",
       "      <td>10000</td>\n",
       "    </tr>\n",
       "  </tbody>\n",
       "</table>\n",
       "</div>"
      ],
      "text/plain": [
       "            a    b      c\n",
       "0    new york  mar  12714\n",
       "1   michigan   apr  89238\n",
       "2     atlanta  jan   8161\n",
       "3      boston  sep   5885\n",
       "4  birmingham  mar  10000"
      ]
     },
     "execution_count": 38,
     "metadata": {},
     "output_type": "execute_result"
    }
   ],
   "source": [
    "dt1 = df['combine'].apply(lambda x: x.split('-')).apply(pd.Series)\n",
    "dt1.columns = ['a','b','c']\n",
    "dt1.head()"
   ]
  },
  {
   "cell_type": "code",
   "execution_count": 39,
   "metadata": {
    "colab": {
     "base_uri": "https://localhost:8080/"
    },
    "executionInfo": {
     "elapsed": 327,
     "status": "ok",
     "timestamp": 1623513717763,
     "user": {
      "displayName": "sujata drall",
      "photoUrl": "",
      "userId": "07858160099359690614"
     },
     "user_tz": -330
    },
    "id": "QElmJ0nJarrV",
    "outputId": "3a4a97a3-a55b-4502-fbd1-2d768946589e"
   },
   "outputs": [
    {
     "data": {
      "text/plain": [
       "0       New York_Mar_12714\n",
       "1      Michigan _Apr_89238\n",
       "2         Atlanta_Jan_8161\n",
       "3          Boston_Sep_5885\n",
       "4     Birmingham_Mar_10000\n",
       "5         Clanton_Feb_1714\n",
       "6         Marion _Dec_9238\n",
       "7       Atlantis_Nov_58161\n",
       "8           Alaska_Feb_585\n",
       "9        Arozona_Mar_10000\n",
       "10         Pacfic_Aug_2714\n",
       "11    Ontario _June_189238\n",
       "12       Toronto_Jan_81651\n",
       "13         Delhi_Oct_58855\n",
       "14         London_Apr_1080\n",
       "15          Texas_Sep_1714\n",
       "16    Washington _Jul_2038\n",
       "17        Florida_Jan_8161\n",
       "18      Michigan_Oct_58185\n",
       "19     New_Jersy_Apr_10015\n",
       "dtype: object"
      ]
     },
     "execution_count": 39,
     "metadata": {},
     "output_type": "execute_result"
    }
   ],
   "source": [
    "# Question 3\n",
    "\n",
    "# Print New York_Mar_12714 with LAMBDA Function\n",
    "\n",
    "df['location'] + '_' + df['month'] + '_'+ df['sales'].astype(str)"
   ]
  },
  {
   "cell_type": "code",
   "execution_count": 40,
   "metadata": {
    "id": "EVbNYPvUarrV"
   },
   "outputs": [],
   "source": [
    "df.drop(['combine','selct fn2'], axis = 1, inplace = True)\n"
   ]
  },
  {
   "cell_type": "code",
   "execution_count": 41,
   "metadata": {
    "id": "6Dp4eE2zarrW",
    "outputId": "c9163fd7-a32e-423f-baf8-ae068ff86aa6"
   },
   "outputs": [
    {
     "data": {
      "text/html": [
       "<div>\n",
       "<style scoped>\n",
       "    .dataframe tbody tr th:only-of-type {\n",
       "        vertical-align: middle;\n",
       "    }\n",
       "\n",
       "    .dataframe tbody tr th {\n",
       "        vertical-align: top;\n",
       "    }\n",
       "\n",
       "    .dataframe thead th {\n",
       "        text-align: right;\n",
       "    }\n",
       "</style>\n",
       "<table border=\"1\" class=\"dataframe\">\n",
       "  <thead>\n",
       "    <tr style=\"text-align: right;\">\n",
       "      <th></th>\n",
       "      <th>location</th>\n",
       "      <th>month</th>\n",
       "      <th>sales</th>\n",
       "      <th>sales category</th>\n",
       "      <th>location2</th>\n",
       "      <th>sales3</th>\n",
       "      <th>sales4</th>\n",
       "      <th>location_month</th>\n",
       "    </tr>\n",
       "  </thead>\n",
       "  <tbody>\n",
       "    <tr>\n",
       "      <th>0</th>\n",
       "      <td>New York</td>\n",
       "      <td>Mar</td>\n",
       "      <td>12714</td>\n",
       "      <td>B</td>\n",
       "      <td>new york</td>\n",
       "      <td>C</td>\n",
       "      <td>C</td>\n",
       "      <td>New York_Mar</td>\n",
       "    </tr>\n",
       "    <tr>\n",
       "      <th>1</th>\n",
       "      <td>Michigan</td>\n",
       "      <td>Apr</td>\n",
       "      <td>89238</td>\n",
       "      <td>A</td>\n",
       "      <td>michigan</td>\n",
       "      <td>A</td>\n",
       "      <td>A</td>\n",
       "      <td>Michigan _Apr</td>\n",
       "    </tr>\n",
       "    <tr>\n",
       "      <th>2</th>\n",
       "      <td>Atlanta</td>\n",
       "      <td>Jan</td>\n",
       "      <td>8161</td>\n",
       "      <td>B</td>\n",
       "      <td>atlanta</td>\n",
       "      <td>C</td>\n",
       "      <td>C</td>\n",
       "      <td>Atlanta_Jan</td>\n",
       "    </tr>\n",
       "    <tr>\n",
       "      <th>3</th>\n",
       "      <td>Boston</td>\n",
       "      <td>Sep</td>\n",
       "      <td>5885</td>\n",
       "      <td>B</td>\n",
       "      <td>boston</td>\n",
       "      <td>C</td>\n",
       "      <td>C</td>\n",
       "      <td>Boston_Sep</td>\n",
       "    </tr>\n",
       "    <tr>\n",
       "      <th>4</th>\n",
       "      <td>Birmingham</td>\n",
       "      <td>Mar</td>\n",
       "      <td>10000</td>\n",
       "      <td>B</td>\n",
       "      <td>birmingham</td>\n",
       "      <td>C</td>\n",
       "      <td>C</td>\n",
       "      <td>Birmingham_Mar</td>\n",
       "    </tr>\n",
       "    <tr>\n",
       "      <th>5</th>\n",
       "      <td>Clanton</td>\n",
       "      <td>Feb</td>\n",
       "      <td>1714</td>\n",
       "      <td>B</td>\n",
       "      <td>clanton</td>\n",
       "      <td>C</td>\n",
       "      <td>C</td>\n",
       "      <td>Clanton_Feb</td>\n",
       "    </tr>\n",
       "    <tr>\n",
       "      <th>6</th>\n",
       "      <td>Marion</td>\n",
       "      <td>Dec</td>\n",
       "      <td>9238</td>\n",
       "      <td>B</td>\n",
       "      <td>marion</td>\n",
       "      <td>C</td>\n",
       "      <td>C</td>\n",
       "      <td>Marion _Dec</td>\n",
       "    </tr>\n",
       "    <tr>\n",
       "      <th>7</th>\n",
       "      <td>Atlantis</td>\n",
       "      <td>Nov</td>\n",
       "      <td>58161</td>\n",
       "      <td>A</td>\n",
       "      <td>atlantis</td>\n",
       "      <td>A</td>\n",
       "      <td>A</td>\n",
       "      <td>Atlantis_Nov</td>\n",
       "    </tr>\n",
       "    <tr>\n",
       "      <th>8</th>\n",
       "      <td>Alaska</td>\n",
       "      <td>Feb</td>\n",
       "      <td>585</td>\n",
       "      <td>B</td>\n",
       "      <td>alaska</td>\n",
       "      <td>C</td>\n",
       "      <td>C</td>\n",
       "      <td>Alaska_Feb</td>\n",
       "    </tr>\n",
       "    <tr>\n",
       "      <th>9</th>\n",
       "      <td>Arozona</td>\n",
       "      <td>Mar</td>\n",
       "      <td>10000</td>\n",
       "      <td>B</td>\n",
       "      <td>arozona</td>\n",
       "      <td>C</td>\n",
       "      <td>C</td>\n",
       "      <td>Arozona_Mar</td>\n",
       "    </tr>\n",
       "    <tr>\n",
       "      <th>10</th>\n",
       "      <td>Pacfic</td>\n",
       "      <td>Aug</td>\n",
       "      <td>2714</td>\n",
       "      <td>B</td>\n",
       "      <td>pacfic</td>\n",
       "      <td>C</td>\n",
       "      <td>C</td>\n",
       "      <td>Pacfic_Aug</td>\n",
       "    </tr>\n",
       "    <tr>\n",
       "      <th>11</th>\n",
       "      <td>Ontario</td>\n",
       "      <td>June</td>\n",
       "      <td>189238</td>\n",
       "      <td>A</td>\n",
       "      <td>ontario</td>\n",
       "      <td>A</td>\n",
       "      <td>A</td>\n",
       "      <td>Ontario _June</td>\n",
       "    </tr>\n",
       "    <tr>\n",
       "      <th>12</th>\n",
       "      <td>Toronto</td>\n",
       "      <td>Jan</td>\n",
       "      <td>81651</td>\n",
       "      <td>A</td>\n",
       "      <td>toronto</td>\n",
       "      <td>A</td>\n",
       "      <td>A</td>\n",
       "      <td>Toronto_Jan</td>\n",
       "    </tr>\n",
       "    <tr>\n",
       "      <th>13</th>\n",
       "      <td>Delhi</td>\n",
       "      <td>Oct</td>\n",
       "      <td>58855</td>\n",
       "      <td>A</td>\n",
       "      <td>delhi</td>\n",
       "      <td>A</td>\n",
       "      <td>A</td>\n",
       "      <td>Delhi_Oct</td>\n",
       "    </tr>\n",
       "    <tr>\n",
       "      <th>14</th>\n",
       "      <td>London</td>\n",
       "      <td>Apr</td>\n",
       "      <td>1080</td>\n",
       "      <td>B</td>\n",
       "      <td>london</td>\n",
       "      <td>C</td>\n",
       "      <td>C</td>\n",
       "      <td>London_Apr</td>\n",
       "    </tr>\n",
       "    <tr>\n",
       "      <th>15</th>\n",
       "      <td>Texas</td>\n",
       "      <td>Sep</td>\n",
       "      <td>1714</td>\n",
       "      <td>B</td>\n",
       "      <td>texas</td>\n",
       "      <td>C</td>\n",
       "      <td>C</td>\n",
       "      <td>Texas_Sep</td>\n",
       "    </tr>\n",
       "    <tr>\n",
       "      <th>16</th>\n",
       "      <td>Washington</td>\n",
       "      <td>Jul</td>\n",
       "      <td>2038</td>\n",
       "      <td>B</td>\n",
       "      <td>washington</td>\n",
       "      <td>C</td>\n",
       "      <td>C</td>\n",
       "      <td>Washington _Jul</td>\n",
       "    </tr>\n",
       "    <tr>\n",
       "      <th>17</th>\n",
       "      <td>Florida</td>\n",
       "      <td>Jan</td>\n",
       "      <td>8161</td>\n",
       "      <td>B</td>\n",
       "      <td>florida</td>\n",
       "      <td>C</td>\n",
       "      <td>C</td>\n",
       "      <td>Florida_Jan</td>\n",
       "    </tr>\n",
       "    <tr>\n",
       "      <th>18</th>\n",
       "      <td>Michigan</td>\n",
       "      <td>Oct</td>\n",
       "      <td>58185</td>\n",
       "      <td>A</td>\n",
       "      <td>michigan</td>\n",
       "      <td>A</td>\n",
       "      <td>A</td>\n",
       "      <td>Michigan_Oct</td>\n",
       "    </tr>\n",
       "    <tr>\n",
       "      <th>19</th>\n",
       "      <td>New_Jersy</td>\n",
       "      <td>Apr</td>\n",
       "      <td>10015</td>\n",
       "      <td>B</td>\n",
       "      <td>new_jersy</td>\n",
       "      <td>C</td>\n",
       "      <td>C</td>\n",
       "      <td>New_Jersy_Apr</td>\n",
       "    </tr>\n",
       "  </tbody>\n",
       "</table>\n",
       "</div>"
      ],
      "text/plain": [
       "       location month   sales sales category    location2 sales3 sales4  \\\n",
       "0      New York   Mar   12714              B     new york      C      C   \n",
       "1     Michigan    Apr   89238              A    michigan       A      A   \n",
       "2       Atlanta   Jan    8161              B      atlanta      C      C   \n",
       "3        Boston   Sep    5885              B       boston      C      C   \n",
       "4    Birmingham   Mar   10000              B   birmingham      C      C   \n",
       "5       Clanton   Feb    1714              B      clanton      C      C   \n",
       "6       Marion    Dec    9238              B      marion       C      C   \n",
       "7      Atlantis   Nov   58161              A     atlantis      A      A   \n",
       "8        Alaska   Feb     585              B       alaska      C      C   \n",
       "9       Arozona   Mar   10000              B      arozona      C      C   \n",
       "10       Pacfic   Aug    2714              B       pacfic      C      C   \n",
       "11     Ontario   June  189238              A     ontario       A      A   \n",
       "12      Toronto   Jan   81651              A      toronto      A      A   \n",
       "13        Delhi   Oct   58855              A        delhi      A      A   \n",
       "14       London   Apr    1080              B       london      C      C   \n",
       "15        Texas   Sep    1714              B        texas      C      C   \n",
       "16  Washington    Jul    2038              B  washington       C      C   \n",
       "17      Florida   Jan    8161              B      florida      C      C   \n",
       "18     Michigan   Oct   58185              A     michigan      A      A   \n",
       "19    New_Jersy   Apr   10015              B    new_jersy      C      C   \n",
       "\n",
       "     location_month  \n",
       "0      New York_Mar  \n",
       "1     Michigan _Apr  \n",
       "2       Atlanta_Jan  \n",
       "3        Boston_Sep  \n",
       "4    Birmingham_Mar  \n",
       "5       Clanton_Feb  \n",
       "6       Marion _Dec  \n",
       "7      Atlantis_Nov  \n",
       "8        Alaska_Feb  \n",
       "9       Arozona_Mar  \n",
       "10       Pacfic_Aug  \n",
       "11    Ontario _June  \n",
       "12      Toronto_Jan  \n",
       "13        Delhi_Oct  \n",
       "14       London_Apr  \n",
       "15        Texas_Sep  \n",
       "16  Washington _Jul  \n",
       "17      Florida_Jan  \n",
       "18     Michigan_Oct  \n",
       "19    New_Jersy_Apr  "
      ]
     },
     "execution_count": 41,
     "metadata": {},
     "output_type": "execute_result"
    }
   ],
   "source": [
    "df"
   ]
  },
  {
   "cell_type": "code",
   "execution_count": 86,
   "metadata": {},
   "outputs": [
    {
     "data": {
      "text/html": [
       "<div>\n",
       "<style scoped>\n",
       "    .dataframe tbody tr th:only-of-type {\n",
       "        vertical-align: middle;\n",
       "    }\n",
       "\n",
       "    .dataframe tbody tr th {\n",
       "        vertical-align: top;\n",
       "    }\n",
       "\n",
       "    .dataframe thead th {\n",
       "        text-align: right;\n",
       "    }\n",
       "</style>\n",
       "<table border=\"1\" class=\"dataframe\">\n",
       "  <thead>\n",
       "    <tr style=\"text-align: right;\">\n",
       "      <th></th>\n",
       "      <th>sales</th>\n",
       "      <th>month sales</th>\n",
       "    </tr>\n",
       "  </thead>\n",
       "  <tbody>\n",
       "    <tr>\n",
       "      <th>count</th>\n",
       "      <td>20.000000</td>\n",
       "      <td>20.000000</td>\n",
       "    </tr>\n",
       "    <tr>\n",
       "      <th>mean</th>\n",
       "      <td>31738.650000</td>\n",
       "      <td>2644.887500</td>\n",
       "    </tr>\n",
       "    <tr>\n",
       "      <th>std</th>\n",
       "      <td>46764.508121</td>\n",
       "      <td>3897.042343</td>\n",
       "    </tr>\n",
       "    <tr>\n",
       "      <th>min</th>\n",
       "      <td>585.000000</td>\n",
       "      <td>48.750000</td>\n",
       "    </tr>\n",
       "    <tr>\n",
       "      <th>25%</th>\n",
       "      <td>5092.250000</td>\n",
       "      <td>424.354167</td>\n",
       "    </tr>\n",
       "    <tr>\n",
       "      <th>50%</th>\n",
       "      <td>10000.000000</td>\n",
       "      <td>833.333333</td>\n",
       "    </tr>\n",
       "    <tr>\n",
       "      <th>75%</th>\n",
       "      <td>58167.000000</td>\n",
       "      <td>4847.250000</td>\n",
       "    </tr>\n",
       "    <tr>\n",
       "      <th>max</th>\n",
       "      <td>189238.000000</td>\n",
       "      <td>15769.833333</td>\n",
       "    </tr>\n",
       "  </tbody>\n",
       "</table>\n",
       "</div>"
      ],
      "text/plain": [
       "               sales   month sales\n",
       "count      20.000000     20.000000\n",
       "mean    31738.650000   2644.887500\n",
       "std     46764.508121   3897.042343\n",
       "min       585.000000     48.750000\n",
       "25%      5092.250000    424.354167\n",
       "50%     10000.000000    833.333333\n",
       "75%     58167.000000   4847.250000\n",
       "max    189238.000000  15769.833333"
      ]
     },
     "execution_count": 86,
     "metadata": {},
     "output_type": "execute_result"
    }
   ],
   "source": [
    "df.describe()"
   ]
  },
  {
   "cell_type": "code",
   "execution_count": 42,
   "metadata": {
    "id": "mh3ANk3AarrW",
    "outputId": "1a42c74b-43d4-4831-d740-f8fbdca679d7"
   },
   "outputs": [
    {
     "data": {
      "text/plain": [
       "20"
      ]
     },
     "execution_count": 42,
     "metadata": {},
     "output_type": "execute_result"
    }
   ],
   "source": [
    "df.location.nunique() # total unique count in the given column"
   ]
  },
  {
   "cell_type": "markdown",
   "metadata": {
    "id": "57aD94q6arrX"
   },
   "source": [
    "### LOC & ILOC"
   ]
  },
  {
   "cell_type": "code",
   "execution_count": 54,
   "metadata": {
    "colab": {
     "base_uri": "https://localhost:8080/"
    },
    "executionInfo": {
     "elapsed": 335,
     "status": "ok",
     "timestamp": 1623514770229,
     "user": {
      "displayName": "sujata drall",
      "photoUrl": "",
      "userId": "07858160099359690614"
     },
     "user_tz": -330
    },
    "id": "-SbeTRfaarrX",
    "outputId": "c60d0929-9448-4674-b915-9b859063b50a"
   },
   "outputs": [
    {
     "name": "stdout",
     "output_type": "stream",
     "text": [
      "     location  sales\n",
      "3      Boston   5885\n",
      "4  Birmingham  10000\n",
      "5     Clanton   1714\n",
      "6     Marion    9238\n",
      "    location month   sales sales category location2 sales3 sales4  \\\n",
      "8     Alaska   Feb     585              B    alaska      C      C   \n",
      "9    Arozona   Mar   10000              B   arozona      C      C   \n",
      "10    Pacfic   Aug    2714              B    pacfic      C      C   \n",
      "11  Ontario   June  189238              A  ontario       A      A   \n",
      "12   Toronto   Jan   81651              A   toronto      A      A   \n",
      "13     Delhi   Oct   58855              A     delhi      A      A   \n",
      "\n",
      "   location_month  \n",
      "8      Alaska_Feb  \n",
      "9     Arozona_Mar  \n",
      "10     Pacfic_Aug  \n",
      "11  Ontario _June  \n",
      "12    Toronto_Jan  \n",
      "13      Delhi_Oct  \n",
      "6    c\n",
      "4    c\n",
      "8    c\n",
      "Name: sales4, dtype: object\n"
     ]
    }
   ],
   "source": [
    "# Loc - it will accept whatever the Index and only column NAMES   - .iloc[row names, column names]\n",
    "# uPPERBOUDS ARE INCLUSIVE\n",
    "\n",
    "print(df.loc[3:6,['location','sales']]) # \n",
    "\n",
    "print(df.loc[8:13, :]) # row indexes are in range\n",
    "\n",
    "print(df.loc[[6,4,8], ['sales category','sales4']]['sales4'].str.lower())  # row indexes are shuffled\n",
    "\n"
   ]
  },
  {
   "cell_type": "code",
   "execution_count": 55,
   "metadata": {
    "id": "eLdYuWuHarrX",
    "outputId": "1e9ffdc8-a821-42f0-a9b2-6865ed58b81e"
   },
   "outputs": [
    {
     "data": {
      "text/plain": [
       "'Boston'"
      ]
     },
     "execution_count": 55,
     "metadata": {},
     "output_type": "execute_result"
    }
   ],
   "source": [
    "\n",
    "df.loc[3,'location']"
   ]
  },
  {
   "cell_type": "code",
   "execution_count": 56,
   "metadata": {
    "id": "oY33Cz09arrY",
    "outputId": "9e7e33da-4d32-43e7-f42e-30e557a4fb36"
   },
   "outputs": [
    {
     "data": {
      "text/html": [
       "<div>\n",
       "<style scoped>\n",
       "    .dataframe tbody tr th:only-of-type {\n",
       "        vertical-align: middle;\n",
       "    }\n",
       "\n",
       "    .dataframe tbody tr th {\n",
       "        vertical-align: top;\n",
       "    }\n",
       "\n",
       "    .dataframe thead th {\n",
       "        text-align: right;\n",
       "    }\n",
       "</style>\n",
       "<table border=\"1\" class=\"dataframe\">\n",
       "  <thead>\n",
       "    <tr style=\"text-align: right;\">\n",
       "      <th></th>\n",
       "      <th>sales</th>\n",
       "      <th>sales category</th>\n",
       "      <th>sales3</th>\n",
       "    </tr>\n",
       "  </thead>\n",
       "  <tbody>\n",
       "    <tr>\n",
       "      <th>0</th>\n",
       "      <td>12714</td>\n",
       "      <td>Apple</td>\n",
       "      <td>C</td>\n",
       "    </tr>\n",
       "    <tr>\n",
       "      <th>1</th>\n",
       "      <td>89238</td>\n",
       "      <td>A</td>\n",
       "      <td>A</td>\n",
       "    </tr>\n",
       "  </tbody>\n",
       "</table>\n",
       "</div>"
      ],
      "text/plain": [
       "   sales sales category sales3\n",
       "0  12714          Apple      C\n",
       "1  89238              A      A"
      ]
     },
     "execution_count": 56,
     "metadata": {},
     "output_type": "execute_result"
    }
   ],
   "source": [
    "df10 = df.loc[ 0:6, ['sales', 'sales category', 'sales3'] ] \n",
    "\n",
    "df10[df10['sales']>10000]"
   ]
  },
  {
   "cell_type": "code",
   "execution_count": 57,
   "metadata": {
    "id": "T3spulsfarrY",
    "outputId": "0e87716d-ef4f-438f-a60f-6e44b5187f39"
   },
   "outputs": [
    {
     "data": {
      "text/html": [
       "<div>\n",
       "<style scoped>\n",
       "    .dataframe tbody tr th:only-of-type {\n",
       "        vertical-align: middle;\n",
       "    }\n",
       "\n",
       "    .dataframe tbody tr th {\n",
       "        vertical-align: top;\n",
       "    }\n",
       "\n",
       "    .dataframe thead th {\n",
       "        text-align: right;\n",
       "    }\n",
       "</style>\n",
       "<table border=\"1\" class=\"dataframe\">\n",
       "  <thead>\n",
       "    <tr style=\"text-align: right;\">\n",
       "      <th></th>\n",
       "      <th>sales</th>\n",
       "      <th>sales category</th>\n",
       "      <th>sales3</th>\n",
       "    </tr>\n",
       "  </thead>\n",
       "  <tbody>\n",
       "    <tr>\n",
       "      <th>2</th>\n",
       "      <td>8161</td>\n",
       "      <td>B</td>\n",
       "      <td>C</td>\n",
       "    </tr>\n",
       "    <tr>\n",
       "      <th>18</th>\n",
       "      <td>58185</td>\n",
       "      <td>A</td>\n",
       "      <td>A</td>\n",
       "    </tr>\n",
       "    <tr>\n",
       "      <th>5</th>\n",
       "      <td>1714</td>\n",
       "      <td>B</td>\n",
       "      <td>C</td>\n",
       "    </tr>\n",
       "  </tbody>\n",
       "</table>\n",
       "</div>"
      ],
      "text/plain": [
       "    sales sales category sales3\n",
       "2    8161              B      C\n",
       "18  58185              A      A\n",
       "5    1714              B      C"
      ]
     },
     "execution_count": 57,
     "metadata": {},
     "output_type": "execute_result"
    }
   ],
   "source": [
    "df.loc[ [2,18,5] , ['sales', 'sales category', 'sales3'] ] # [list of row indexes], [list of col names]"
   ]
  },
  {
   "cell_type": "code",
   "execution_count": 47,
   "metadata": {
    "id": "X4kLWLVSarrZ",
    "outputId": "36daec46-9a15-4d12-a478-3972ac483958"
   },
   "outputs": [
    {
     "data": {
      "text/plain": [
       "'Atlantis'"
      ]
     },
     "execution_count": 47,
     "metadata": {},
     "output_type": "execute_result"
    }
   ],
   "source": [
    "# ILOC - Index locations only - not accept string i.e names , neither for indexes nor for columns\n",
    "df.iloc[7,0]"
   ]
  },
  {
   "cell_type": "code",
   "execution_count": 48,
   "metadata": {
    "id": "KpgWlKjearrZ",
    "outputId": "a4406be5-52f0-4084-f09d-b17489c65f1f"
   },
   "outputs": [
    {
     "data": {
      "text/html": [
       "<div>\n",
       "<style scoped>\n",
       "    .dataframe tbody tr th:only-of-type {\n",
       "        vertical-align: middle;\n",
       "    }\n",
       "\n",
       "    .dataframe tbody tr th {\n",
       "        vertical-align: top;\n",
       "    }\n",
       "\n",
       "    .dataframe thead th {\n",
       "        text-align: right;\n",
       "    }\n",
       "</style>\n",
       "<table border=\"1\" class=\"dataframe\">\n",
       "  <thead>\n",
       "    <tr style=\"text-align: right;\">\n",
       "      <th></th>\n",
       "      <th>location</th>\n",
       "      <th>month</th>\n",
       "      <th>sales</th>\n",
       "    </tr>\n",
       "  </thead>\n",
       "  <tbody>\n",
       "    <tr>\n",
       "      <th>0</th>\n",
       "      <td>New York</td>\n",
       "      <td>Mar</td>\n",
       "      <td>12714</td>\n",
       "    </tr>\n",
       "    <tr>\n",
       "      <th>1</th>\n",
       "      <td>Michigan</td>\n",
       "      <td>Apr</td>\n",
       "      <td>89238</td>\n",
       "    </tr>\n",
       "    <tr>\n",
       "      <th>2</th>\n",
       "      <td>Atlanta</td>\n",
       "      <td>Jan</td>\n",
       "      <td>8161</td>\n",
       "    </tr>\n",
       "    <tr>\n",
       "      <th>3</th>\n",
       "      <td>Boston</td>\n",
       "      <td>Sep</td>\n",
       "      <td>5885</td>\n",
       "    </tr>\n",
       "    <tr>\n",
       "      <th>4</th>\n",
       "      <td>Birmingham</td>\n",
       "      <td>Mar</td>\n",
       "      <td>10000</td>\n",
       "    </tr>\n",
       "    <tr>\n",
       "      <th>5</th>\n",
       "      <td>Clanton</td>\n",
       "      <td>Feb</td>\n",
       "      <td>1714</td>\n",
       "    </tr>\n",
       "    <tr>\n",
       "      <th>6</th>\n",
       "      <td>Marion</td>\n",
       "      <td>Dec</td>\n",
       "      <td>9238</td>\n",
       "    </tr>\n",
       "    <tr>\n",
       "      <th>7</th>\n",
       "      <td>Atlantis</td>\n",
       "      <td>Nov</td>\n",
       "      <td>58161</td>\n",
       "    </tr>\n",
       "  </tbody>\n",
       "</table>\n",
       "</div>"
      ],
      "text/plain": [
       "     location month  sales\n",
       "0    New York   Mar  12714\n",
       "1   Michigan    Apr  89238\n",
       "2     Atlanta   Jan   8161\n",
       "3      Boston   Sep   5885\n",
       "4  Birmingham   Mar  10000\n",
       "5     Clanton   Feb   1714\n",
       "6     Marion    Dec   9238\n",
       "7    Atlantis   Nov  58161"
      ]
     },
     "execution_count": 48,
     "metadata": {},
     "output_type": "execute_result"
    }
   ],
   "source": [
    "df.iloc[0:8, 0:3] # range of row indexes and range of column indexes"
   ]
  },
  {
   "cell_type": "code",
   "execution_count": 49,
   "metadata": {
    "id": "QYlR4HBVarra",
    "outputId": "2e920568-576d-4ae7-a3d8-b0b8bcd93ea7"
   },
   "outputs": [
    {
     "data": {
      "text/html": [
       "<div>\n",
       "<style scoped>\n",
       "    .dataframe tbody tr th:only-of-type {\n",
       "        vertical-align: middle;\n",
       "    }\n",
       "\n",
       "    .dataframe tbody tr th {\n",
       "        vertical-align: top;\n",
       "    }\n",
       "\n",
       "    .dataframe thead th {\n",
       "        text-align: right;\n",
       "    }\n",
       "</style>\n",
       "<table border=\"1\" class=\"dataframe\">\n",
       "  <thead>\n",
       "    <tr style=\"text-align: right;\">\n",
       "      <th></th>\n",
       "      <th>sales category</th>\n",
       "      <th>location2</th>\n",
       "      <th>location</th>\n",
       "    </tr>\n",
       "  </thead>\n",
       "  <tbody>\n",
       "    <tr>\n",
       "      <th>0</th>\n",
       "      <td>B</td>\n",
       "      <td>new york</td>\n",
       "      <td>New York</td>\n",
       "    </tr>\n",
       "    <tr>\n",
       "      <th>18</th>\n",
       "      <td>A</td>\n",
       "      <td>michigan</td>\n",
       "      <td>Michigan</td>\n",
       "    </tr>\n",
       "    <tr>\n",
       "      <th>5</th>\n",
       "      <td>B</td>\n",
       "      <td>clanton</td>\n",
       "      <td>Clanton</td>\n",
       "    </tr>\n",
       "    <tr>\n",
       "      <th>6</th>\n",
       "      <td>B</td>\n",
       "      <td>marion</td>\n",
       "      <td>Marion</td>\n",
       "    </tr>\n",
       "  </tbody>\n",
       "</table>\n",
       "</div>"
      ],
      "text/plain": [
       "   sales category location2  location\n",
       "0               B  new york  New York\n",
       "18              A  michigan  Michigan\n",
       "5               B   clanton   Clanton\n",
       "6               B   marion    Marion "
      ]
     },
     "execution_count": 49,
     "metadata": {},
     "output_type": "execute_result"
    }
   ],
   "source": [
    "df.iloc[[0,18,5,6], [3,4,0]] # list of row indexes and list of column indexes"
   ]
  },
  {
   "cell_type": "code",
   "execution_count": 60,
   "metadata": {},
   "outputs": [
    {
     "data": {
      "text/html": [
       "<div>\n",
       "<style scoped>\n",
       "    .dataframe tbody tr th:only-of-type {\n",
       "        vertical-align: middle;\n",
       "    }\n",
       "\n",
       "    .dataframe tbody tr th {\n",
       "        vertical-align: top;\n",
       "    }\n",
       "\n",
       "    .dataframe thead th {\n",
       "        text-align: right;\n",
       "    }\n",
       "</style>\n",
       "<table border=\"1\" class=\"dataframe\">\n",
       "  <thead>\n",
       "    <tr style=\"text-align: right;\">\n",
       "      <th></th>\n",
       "      <th>location</th>\n",
       "      <th>month</th>\n",
       "      <th>sales</th>\n",
       "      <th>sales category</th>\n",
       "      <th>location2</th>\n",
       "      <th>sales3</th>\n",
       "      <th>sales4</th>\n",
       "      <th>location_month</th>\n",
       "    </tr>\n",
       "  </thead>\n",
       "  <tbody>\n",
       "    <tr>\n",
       "      <th>0</th>\n",
       "      <td>New York</td>\n",
       "      <td>Mar</td>\n",
       "      <td>12714</td>\n",
       "      <td>Apple</td>\n",
       "      <td>new york</td>\n",
       "      <td>C</td>\n",
       "      <td>C</td>\n",
       "      <td>New York_Mar</td>\n",
       "    </tr>\n",
       "    <tr>\n",
       "      <th>1</th>\n",
       "      <td>Michigan</td>\n",
       "      <td>Apr</td>\n",
       "      <td>89238</td>\n",
       "      <td>A</td>\n",
       "      <td>michigan</td>\n",
       "      <td>A</td>\n",
       "      <td>A</td>\n",
       "      <td>Michigan _Apr</td>\n",
       "    </tr>\n",
       "    <tr>\n",
       "      <th>2</th>\n",
       "      <td>Atlanta</td>\n",
       "      <td>Jan</td>\n",
       "      <td>8161</td>\n",
       "      <td>B</td>\n",
       "      <td>atlanta</td>\n",
       "      <td>C</td>\n",
       "      <td>C</td>\n",
       "      <td>Atlanta_Jan</td>\n",
       "    </tr>\n",
       "    <tr>\n",
       "      <th>3</th>\n",
       "      <td>Boston</td>\n",
       "      <td>Sep</td>\n",
       "      <td>5885</td>\n",
       "      <td>B</td>\n",
       "      <td>boston</td>\n",
       "      <td>C</td>\n",
       "      <td>C</td>\n",
       "      <td>Boston_Sep</td>\n",
       "    </tr>\n",
       "  </tbody>\n",
       "</table>\n",
       "</div>"
      ],
      "text/plain": [
       "    location month  sales sales category  location2 sales3 sales4  \\\n",
       "0   New York   Mar  12714          Apple   new york      C      C   \n",
       "1  Michigan    Apr  89238              A  michigan       A      A   \n",
       "2    Atlanta   Jan   8161              B    atlanta      C      C   \n",
       "3     Boston   Sep   5885              B     boston      C      C   \n",
       "\n",
       "  location_month  \n",
       "0   New York_Mar  \n",
       "1  Michigan _Apr  \n",
       "2    Atlanta_Jan  \n",
       "3     Boston_Sep  "
      ]
     },
     "execution_count": 60,
     "metadata": {},
     "output_type": "execute_result"
    }
   ],
   "source": [
    "df.head(4)"
   ]
  },
  {
   "cell_type": "code",
   "execution_count": 58,
   "metadata": {
    "id": "ErMjlcrGarrb",
    "outputId": "cb73e966-2790-4a6d-db36-4e239a7031a7"
   },
   "outputs": [
    {
     "data": {
      "text/html": [
       "<div>\n",
       "<style scoped>\n",
       "    .dataframe tbody tr th:only-of-type {\n",
       "        vertical-align: middle;\n",
       "    }\n",
       "\n",
       "    .dataframe tbody tr th {\n",
       "        vertical-align: top;\n",
       "    }\n",
       "\n",
       "    .dataframe thead th {\n",
       "        text-align: right;\n",
       "    }\n",
       "</style>\n",
       "<table border=\"1\" class=\"dataframe\">\n",
       "  <thead>\n",
       "    <tr style=\"text-align: right;\">\n",
       "      <th></th>\n",
       "      <th>location</th>\n",
       "      <th>month</th>\n",
       "      <th>sales</th>\n",
       "      <th>sales category</th>\n",
       "      <th>location2</th>\n",
       "      <th>sales3</th>\n",
       "      <th>sales4</th>\n",
       "      <th>location_month</th>\n",
       "    </tr>\n",
       "  </thead>\n",
       "  <tbody>\n",
       "    <tr>\n",
       "      <th>0</th>\n",
       "      <td>New York</td>\n",
       "      <td>Mar</td>\n",
       "      <td>12714</td>\n",
       "      <td>Apple</td>\n",
       "      <td>new york</td>\n",
       "      <td>C</td>\n",
       "      <td>C</td>\n",
       "      <td>New York_Mar</td>\n",
       "    </tr>\n",
       "    <tr>\n",
       "      <th>1</th>\n",
       "      <td>Michigan</td>\n",
       "      <td>Apr</td>\n",
       "      <td>89238</td>\n",
       "      <td>A</td>\n",
       "      <td>michigan</td>\n",
       "      <td>A</td>\n",
       "      <td>A</td>\n",
       "      <td>Michigan _Apr</td>\n",
       "    </tr>\n",
       "    <tr>\n",
       "      <th>2</th>\n",
       "      <td>Atlanta</td>\n",
       "      <td>Jan</td>\n",
       "      <td>8161</td>\n",
       "      <td>B</td>\n",
       "      <td>atlanta</td>\n",
       "      <td>C</td>\n",
       "      <td>C</td>\n",
       "      <td>Atlanta_Jan</td>\n",
       "    </tr>\n",
       "    <tr>\n",
       "      <th>3</th>\n",
       "      <td>Boston</td>\n",
       "      <td>Sep</td>\n",
       "      <td>5885</td>\n",
       "      <td>B</td>\n",
       "      <td>boston</td>\n",
       "      <td>C</td>\n",
       "      <td>C</td>\n",
       "      <td>Boston_Sep</td>\n",
       "    </tr>\n",
       "    <tr>\n",
       "      <th>4</th>\n",
       "      <td>Birmingham</td>\n",
       "      <td>Mar</td>\n",
       "      <td>10000</td>\n",
       "      <td>B</td>\n",
       "      <td>birmingham</td>\n",
       "      <td>C</td>\n",
       "      <td>C</td>\n",
       "      <td>Birmingham_Mar</td>\n",
       "    </tr>\n",
       "  </tbody>\n",
       "</table>\n",
       "</div>"
      ],
      "text/plain": [
       "     location month  sales sales category   location2 sales3 sales4  \\\n",
       "0    New York   Mar  12714          Apple    new york      C      C   \n",
       "1   Michigan    Apr  89238              A   michigan       A      A   \n",
       "2     Atlanta   Jan   8161              B     atlanta      C      C   \n",
       "3      Boston   Sep   5885              B      boston      C      C   \n",
       "4  Birmingham   Mar  10000              B  birmingham      C      C   \n",
       "\n",
       "   location_month  \n",
       "0    New York_Mar  \n",
       "1   Michigan _Apr  \n",
       "2     Atlanta_Jan  \n",
       "3      Boston_Sep  \n",
       "4  Birmingham_Mar  "
      ]
     },
     "execution_count": 58,
     "metadata": {},
     "output_type": "execute_result"
    }
   ],
   "source": [
    "df.iloc[0,3] = 'Apple'\n",
    "df.head()"
   ]
  },
  {
   "cell_type": "code",
   "execution_count": 51,
   "metadata": {
    "id": "d-9QD1okarrb",
    "outputId": "dbcb1d6b-fd44-4023-cc8d-102d848bd80e"
   },
   "outputs": [
    {
     "data": {
      "text/plain": [
       "0     Apple\n",
       "1         A\n",
       "2         B\n",
       "3         B\n",
       "4         B\n",
       "5         B\n",
       "6         B\n",
       "7         A\n",
       "8         B\n",
       "9         B\n",
       "10        B\n",
       "11        A\n",
       "12        A\n",
       "13        A\n",
       "14        B\n",
       "15        B\n",
       "16        B\n",
       "17        B\n",
       "18        A\n",
       "19        B\n",
       "Name: sales category, dtype: object"
      ]
     },
     "execution_count": 51,
     "metadata": {},
     "output_type": "execute_result"
    }
   ],
   "source": [
    "df.iloc[:, 3]"
   ]
  },
  {
   "cell_type": "code",
   "execution_count": 63,
   "metadata": {
    "id": "Zb0e0CLMarrb",
    "outputId": "3130ee89-e22b-42f9-f6e6-a7592a0431c0"
   },
   "outputs": [
    {
     "ename": "NameError",
     "evalue": "name 'df3' is not defined",
     "output_type": "error",
     "traceback": [
      "\u001b[1;31m---------------------------------------------------------------------------\u001b[0m",
      "\u001b[1;31mNameError\u001b[0m                                 Traceback (most recent call last)",
      "\u001b[1;32m<ipython-input-63-8c85f0f01559>\u001b[0m in \u001b[0;36m<module>\u001b[1;34m\u001b[0m\n\u001b[1;32m----> 1\u001b[1;33m \u001b[0mdf3\u001b[0m\u001b[1;33m.\u001b[0m\u001b[0mloc\u001b[0m\u001b[1;33m[\u001b[0m\u001b[1;33m[\u001b[0m\u001b[1;34m'Boston'\u001b[0m\u001b[1;33m,\u001b[0m\u001b[1;34m'New York'\u001b[0m\u001b[1;33m,\u001b[0m\u001b[1;34m'Atlanta'\u001b[0m\u001b[1;33m]\u001b[0m\u001b[1;33m,\u001b[0m \u001b[1;33m[\u001b[0m\u001b[1;34m'sales'\u001b[0m\u001b[1;33m,\u001b[0m\u001b[1;34m'month'\u001b[0m\u001b[1;33m]\u001b[0m\u001b[1;33m]\u001b[0m\u001b[1;33m\u001b[0m\u001b[1;33m\u001b[0m\u001b[0m\n\u001b[0m",
      "\u001b[1;31mNameError\u001b[0m: name 'df3' is not defined"
     ]
    }
   ],
   "source": [
    "df3.loc[['Boston','New York','Atlanta'], ['sales','month']]"
   ]
  },
  {
   "cell_type": "code",
   "execution_count": 64,
   "metadata": {
    "id": "KQQD1smsarrc",
    "outputId": "b0fb299a-1fc9-498a-8b65-e5608344e95a"
   },
   "outputs": [
    {
     "ename": "NameError",
     "evalue": "name 'df3' is not defined",
     "output_type": "error",
     "traceback": [
      "\u001b[1;31m---------------------------------------------------------------------------\u001b[0m",
      "\u001b[1;31mNameError\u001b[0m                                 Traceback (most recent call last)",
      "\u001b[1;32m<ipython-input-64-88ce1073d687>\u001b[0m in \u001b[0;36m<module>\u001b[1;34m\u001b[0m\n\u001b[1;32m----> 1\u001b[1;33m \u001b[0mdf3\u001b[0m\u001b[1;33m.\u001b[0m\u001b[0mhead\u001b[0m\u001b[1;33m(\u001b[0m\u001b[1;33m)\u001b[0m\u001b[1;33m\u001b[0m\u001b[1;33m\u001b[0m\u001b[0m\n\u001b[0m",
      "\u001b[1;31mNameError\u001b[0m: name 'df3' is not defined"
     ]
    }
   ],
   "source": [
    "df3.head()"
   ]
  },
  {
   "cell_type": "code",
   "execution_count": 65,
   "metadata": {
    "id": "B_0TnJpWarrc",
    "outputId": "99705ee4-1562-49d2-944b-ab8c92e339f1"
   },
   "outputs": [
    {
     "data": {
      "text/html": [
       "<div>\n",
       "<style scoped>\n",
       "    .dataframe tbody tr th:only-of-type {\n",
       "        vertical-align: middle;\n",
       "    }\n",
       "\n",
       "    .dataframe tbody tr th {\n",
       "        vertical-align: top;\n",
       "    }\n",
       "\n",
       "    .dataframe thead th {\n",
       "        text-align: right;\n",
       "    }\n",
       "</style>\n",
       "<table border=\"1\" class=\"dataframe\">\n",
       "  <thead>\n",
       "    <tr style=\"text-align: right;\">\n",
       "      <th></th>\n",
       "      <th>sales</th>\n",
       "      <th>location</th>\n",
       "    </tr>\n",
       "  </thead>\n",
       "  <tbody>\n",
       "    <tr>\n",
       "      <th>3</th>\n",
       "      <td>5885</td>\n",
       "      <td>Boston</td>\n",
       "    </tr>\n",
       "    <tr>\n",
       "      <th>4</th>\n",
       "      <td>10000</td>\n",
       "      <td>Birmingham</td>\n",
       "    </tr>\n",
       "    <tr>\n",
       "      <th>5</th>\n",
       "      <td>1714</td>\n",
       "      <td>Clanton</td>\n",
       "    </tr>\n",
       "    <tr>\n",
       "      <th>6</th>\n",
       "      <td>9238</td>\n",
       "      <td>Marion</td>\n",
       "    </tr>\n",
       "  </tbody>\n",
       "</table>\n",
       "</div>"
      ],
      "text/plain": [
       "   sales    location\n",
       "3   5885      Boston\n",
       "4  10000  Birmingham\n",
       "5   1714     Clanton\n",
       "6   9238     Marion "
      ]
     },
     "execution_count": 65,
     "metadata": {},
     "output_type": "execute_result"
    }
   ],
   "source": [
    "df[['sales','location']].loc[3:6]"
   ]
  },
  {
   "cell_type": "code",
   "execution_count": 66,
   "metadata": {
    "id": "IEHy4MmWarrd",
    "outputId": "136e356e-a7a7-4434-edc9-b420f374c8ca"
   },
   "outputs": [
    {
     "data": {
      "text/html": [
       "<div>\n",
       "<style scoped>\n",
       "    .dataframe tbody tr th:only-of-type {\n",
       "        vertical-align: middle;\n",
       "    }\n",
       "\n",
       "    .dataframe tbody tr th {\n",
       "        vertical-align: top;\n",
       "    }\n",
       "\n",
       "    .dataframe thead th {\n",
       "        text-align: right;\n",
       "    }\n",
       "</style>\n",
       "<table border=\"1\" class=\"dataframe\">\n",
       "  <thead>\n",
       "    <tr style=\"text-align: right;\">\n",
       "      <th></th>\n",
       "      <th>location</th>\n",
       "      <th>month</th>\n",
       "      <th>sales</th>\n",
       "      <th>sales category</th>\n",
       "      <th>location2</th>\n",
       "      <th>sales3</th>\n",
       "      <th>sales4</th>\n",
       "      <th>location_month</th>\n",
       "    </tr>\n",
       "  </thead>\n",
       "  <tbody>\n",
       "    <tr>\n",
       "      <th>0</th>\n",
       "      <td>New York</td>\n",
       "      <td>Mar</td>\n",
       "      <td>12714</td>\n",
       "      <td>Apple</td>\n",
       "      <td>new york</td>\n",
       "      <td>C</td>\n",
       "      <td>C</td>\n",
       "      <td>New York_Mar</td>\n",
       "    </tr>\n",
       "    <tr>\n",
       "      <th>1</th>\n",
       "      <td>Michigan</td>\n",
       "      <td>Apr</td>\n",
       "      <td>89238</td>\n",
       "      <td>A</td>\n",
       "      <td>michigan</td>\n",
       "      <td>A</td>\n",
       "      <td>A</td>\n",
       "      <td>Michigan _Apr</td>\n",
       "    </tr>\n",
       "    <tr>\n",
       "      <th>2</th>\n",
       "      <td>Atlanta</td>\n",
       "      <td>Jan</td>\n",
       "      <td>8161</td>\n",
       "      <td>B</td>\n",
       "      <td>atlanta</td>\n",
       "      <td>C</td>\n",
       "      <td>C</td>\n",
       "      <td>Atlanta_Jan</td>\n",
       "    </tr>\n",
       "    <tr>\n",
       "      <th>3</th>\n",
       "      <td>Boston</td>\n",
       "      <td>Sep</td>\n",
       "      <td>5885</td>\n",
       "      <td>B</td>\n",
       "      <td>boston</td>\n",
       "      <td>C</td>\n",
       "      <td>C</td>\n",
       "      <td>Boston_Sep</td>\n",
       "    </tr>\n",
       "    <tr>\n",
       "      <th>4</th>\n",
       "      <td>Birmingham</td>\n",
       "      <td>Mar</td>\n",
       "      <td>10000</td>\n",
       "      <td>B</td>\n",
       "      <td>birmingham</td>\n",
       "      <td>C</td>\n",
       "      <td>C</td>\n",
       "      <td>Birmingham_Mar</td>\n",
       "    </tr>\n",
       "    <tr>\n",
       "      <th>5</th>\n",
       "      <td>Clanton</td>\n",
       "      <td>Feb</td>\n",
       "      <td>17140</td>\n",
       "      <td>B</td>\n",
       "      <td>clanton</td>\n",
       "      <td>C</td>\n",
       "      <td>C</td>\n",
       "      <td>Clanton_Feb</td>\n",
       "    </tr>\n",
       "  </tbody>\n",
       "</table>\n",
       "</div>"
      ],
      "text/plain": [
       "     location month  sales sales category   location2 sales3 sales4  \\\n",
       "0    New York   Mar  12714          Apple    new york      C      C   \n",
       "1   Michigan    Apr  89238              A   michigan       A      A   \n",
       "2     Atlanta   Jan   8161              B     atlanta      C      C   \n",
       "3      Boston   Sep   5885              B      boston      C      C   \n",
       "4  Birmingham   Mar  10000              B  birmingham      C      C   \n",
       "5     Clanton   Feb  17140              B     clanton      C      C   \n",
       "\n",
       "   location_month  \n",
       "0    New York_Mar  \n",
       "1   Michigan _Apr  \n",
       "2     Atlanta_Jan  \n",
       "3      Boston_Sep  \n",
       "4  Birmingham_Mar  \n",
       "5     Clanton_Feb  "
      ]
     },
     "execution_count": 66,
     "metadata": {},
     "output_type": "execute_result"
    }
   ],
   "source": [
    "df.loc[3:6, ['month','sales']] # both bound Inclusive, column names ,\n",
    " # not indexes\n",
    "df.loc[5,'sales'] = 17140\n",
    "df.head(6)"
   ]
  },
  {
   "cell_type": "code",
   "execution_count": 68,
   "metadata": {
    "id": "olTv585darrd",
    "outputId": "0b183430-a920-4b5c-f732-4fdbd5347f63"
   },
   "outputs": [
    {
     "data": {
      "text/plain": [
       "6      Marion \n",
       "7     Atlantis\n",
       "8       Alaska\n",
       "9      Arozona\n",
       "10      Pacfic\n",
       "11    Ontario \n",
       "Name: location, dtype: object"
      ]
     },
     "execution_count": 68,
     "metadata": {},
     "output_type": "execute_result"
    }
   ],
   "source": [
    "df.loc[6:11,'location']"
   ]
  },
  {
   "cell_type": "code",
   "execution_count": 69,
   "metadata": {
    "colab": {
     "base_uri": "https://localhost:8080/",
     "height": 237
    },
    "executionInfo": {
     "elapsed": 8,
     "status": "ok",
     "timestamp": 1623515010592,
     "user": {
      "displayName": "sujata drall",
      "photoUrl": "",
      "userId": "07858160099359690614"
     },
     "user_tz": -330
    },
    "id": "ph8RngW-arre",
    "outputId": "002998f7-2e39-461d-d0ed-6e9a0ed4df2f"
   },
   "outputs": [
    {
     "data": {
      "text/html": [
       "<div>\n",
       "<style scoped>\n",
       "    .dataframe tbody tr th:only-of-type {\n",
       "        vertical-align: middle;\n",
       "    }\n",
       "\n",
       "    .dataframe tbody tr th {\n",
       "        vertical-align: top;\n",
       "    }\n",
       "\n",
       "    .dataframe thead th {\n",
       "        text-align: right;\n",
       "    }\n",
       "</style>\n",
       "<table border=\"1\" class=\"dataframe\">\n",
       "  <thead>\n",
       "    <tr style=\"text-align: right;\">\n",
       "      <th></th>\n",
       "      <th>month</th>\n",
       "      <th>sales</th>\n",
       "      <th>sales category</th>\n",
       "      <th>location2</th>\n",
       "      <th>sales3</th>\n",
       "      <th>sales4</th>\n",
       "      <th>location_month</th>\n",
       "    </tr>\n",
       "    <tr>\n",
       "      <th>location</th>\n",
       "      <th></th>\n",
       "      <th></th>\n",
       "      <th></th>\n",
       "      <th></th>\n",
       "      <th></th>\n",
       "      <th></th>\n",
       "      <th></th>\n",
       "    </tr>\n",
       "  </thead>\n",
       "  <tbody>\n",
       "    <tr>\n",
       "      <th>New York</th>\n",
       "      <td>Mar</td>\n",
       "      <td>12714</td>\n",
       "      <td>Apple</td>\n",
       "      <td>new york</td>\n",
       "      <td>C</td>\n",
       "      <td>C</td>\n",
       "      <td>New York_Mar</td>\n",
       "    </tr>\n",
       "    <tr>\n",
       "      <th>Michigan</th>\n",
       "      <td>Apr</td>\n",
       "      <td>89238</td>\n",
       "      <td>A</td>\n",
       "      <td>michigan</td>\n",
       "      <td>A</td>\n",
       "      <td>A</td>\n",
       "      <td>Michigan _Apr</td>\n",
       "    </tr>\n",
       "    <tr>\n",
       "      <th>Atlanta</th>\n",
       "      <td>Jan</td>\n",
       "      <td>8161</td>\n",
       "      <td>B</td>\n",
       "      <td>atlanta</td>\n",
       "      <td>C</td>\n",
       "      <td>C</td>\n",
       "      <td>Atlanta_Jan</td>\n",
       "    </tr>\n",
       "    <tr>\n",
       "      <th>Boston</th>\n",
       "      <td>Sep</td>\n",
       "      <td>5885</td>\n",
       "      <td>B</td>\n",
       "      <td>boston</td>\n",
       "      <td>C</td>\n",
       "      <td>C</td>\n",
       "      <td>Boston_Sep</td>\n",
       "    </tr>\n",
       "    <tr>\n",
       "      <th>Birmingham</th>\n",
       "      <td>Mar</td>\n",
       "      <td>10000</td>\n",
       "      <td>B</td>\n",
       "      <td>birmingham</td>\n",
       "      <td>C</td>\n",
       "      <td>C</td>\n",
       "      <td>Birmingham_Mar</td>\n",
       "    </tr>\n",
       "  </tbody>\n",
       "</table>\n",
       "</div>"
      ],
      "text/plain": [
       "           month  sales sales category   location2 sales3 sales4  \\\n",
       "location                                                           \n",
       "New York     Mar  12714          Apple    new york      C      C   \n",
       "Michigan     Apr  89238              A   michigan       A      A   \n",
       "Atlanta      Jan   8161              B     atlanta      C      C   \n",
       "Boston       Sep   5885              B      boston      C      C   \n",
       "Birmingham   Mar  10000              B  birmingham      C      C   \n",
       "\n",
       "            location_month  \n",
       "location                    \n",
       "New York      New York_Mar  \n",
       "Michigan     Michigan _Apr  \n",
       "Atlanta        Atlanta_Jan  \n",
       "Boston          Boston_Sep  \n",
       "Birmingham  Birmingham_Mar  "
      ]
     },
     "execution_count": 69,
     "metadata": {},
     "output_type": "execute_result"
    }
   ],
   "source": [
    "df2 = df.copy()\n",
    "df2.set_index('location',inplace = True)\n",
    "df2.head()"
   ]
  },
  {
   "cell_type": "code",
   "execution_count": 72,
   "metadata": {
    "colab": {
     "base_uri": "https://localhost:8080/"
    },
    "executionInfo": {
     "elapsed": 361,
     "status": "ok",
     "timestamp": 1623515049365,
     "user": {
      "displayName": "sujata drall",
      "photoUrl": "",
      "userId": "07858160099359690614"
     },
     "user_tz": -330
    },
    "id": "yPBtDGyZCU5D",
    "outputId": "0e9c5484-630b-452d-d945-5a7b98eca565"
   },
   "outputs": [
    {
     "data": {
      "text/plain": [
       "location\n",
       "New York    12714\n",
       "Boston       5885\n",
       "Name: sales, dtype: int64"
      ]
     },
     "execution_count": 72,
     "metadata": {},
     "output_type": "execute_result"
    }
   ],
   "source": [
    "df2.loc[['New York','Boston'], 'sales']"
   ]
  },
  {
   "cell_type": "code",
   "execution_count": 73,
   "metadata": {
    "colab": {
     "base_uri": "https://localhost:8080/"
    },
    "executionInfo": {
     "elapsed": 9,
     "status": "ok",
     "timestamp": 1623515012173,
     "user": {
      "displayName": "sujata drall",
      "photoUrl": "",
      "userId": "07858160099359690614"
     },
     "user_tz": -330
    },
    "id": "hPV5m5lwarrg",
    "outputId": "8d261a47-3e69-409c-d924-993c1118ac76"
   },
   "outputs": [
    {
     "data": {
      "text/plain": [
       "location\n",
       "New York    new york\n",
       "Atlanta      atlanta\n",
       "Name: location2, dtype: object"
      ]
     },
     "execution_count": 73,
     "metadata": {},
     "output_type": "execute_result"
    }
   ],
   "source": [
    "df2.iloc[[0,2], 3]"
   ]
  },
  {
   "cell_type": "code",
   "execution_count": 74,
   "metadata": {
    "id": "JJ-Tj9Gtarrh",
    "outputId": "349965d2-cad1-4995-8b63-e9989c301ca0"
   },
   "outputs": [
    {
     "data": {
      "text/html": [
       "<div>\n",
       "<style scoped>\n",
       "    .dataframe tbody tr th:only-of-type {\n",
       "        vertical-align: middle;\n",
       "    }\n",
       "\n",
       "    .dataframe tbody tr th {\n",
       "        vertical-align: top;\n",
       "    }\n",
       "\n",
       "    .dataframe thead th {\n",
       "        text-align: right;\n",
       "    }\n",
       "</style>\n",
       "<table border=\"1\" class=\"dataframe\">\n",
       "  <thead>\n",
       "    <tr style=\"text-align: right;\">\n",
       "      <th></th>\n",
       "      <th>month</th>\n",
       "      <th>sales</th>\n",
       "      <th>sales category</th>\n",
       "      <th>location2</th>\n",
       "      <th>sales3</th>\n",
       "      <th>sales4</th>\n",
       "      <th>location_month</th>\n",
       "    </tr>\n",
       "    <tr>\n",
       "      <th>location</th>\n",
       "      <th></th>\n",
       "      <th></th>\n",
       "      <th></th>\n",
       "      <th></th>\n",
       "      <th></th>\n",
       "      <th></th>\n",
       "      <th></th>\n",
       "    </tr>\n",
       "  </thead>\n",
       "  <tbody>\n",
       "    <tr>\n",
       "      <th>New York</th>\n",
       "      <td>Mar</td>\n",
       "      <td>12714</td>\n",
       "      <td>Apple</td>\n",
       "      <td>new york</td>\n",
       "      <td>C</td>\n",
       "      <td>C</td>\n",
       "      <td>New York_Mar</td>\n",
       "    </tr>\n",
       "    <tr>\n",
       "      <th>Atlanta</th>\n",
       "      <td>Jan</td>\n",
       "      <td>8161</td>\n",
       "      <td>B</td>\n",
       "      <td>atlanta</td>\n",
       "      <td>C</td>\n",
       "      <td>C</td>\n",
       "      <td>Atlanta_Jan</td>\n",
       "    </tr>\n",
       "  </tbody>\n",
       "</table>\n",
       "</div>"
      ],
      "text/plain": [
       "         month  sales sales category location2 sales3 sales4 location_month\n",
       "location                                                                   \n",
       "New York   Mar  12714          Apple  new york      C      C   New York_Mar\n",
       "Atlanta    Jan   8161              B   atlanta      C      C    Atlanta_Jan"
      ]
     },
     "execution_count": 74,
     "metadata": {},
     "output_type": "execute_result"
    }
   ],
   "source": [
    "df2.loc[['New York','Atlanta']]"
   ]
  },
  {
   "cell_type": "code",
   "execution_count": 77,
   "metadata": {
    "colab": {
     "base_uri": "https://localhost:8080/",
     "height": 206
    },
    "executionInfo": {
     "elapsed": 510,
     "status": "ok",
     "timestamp": 1623515566165,
     "user": {
      "displayName": "sujata drall",
      "photoUrl": "",
      "userId": "07858160099359690614"
     },
     "user_tz": -330
    },
    "id": "Z6E6H7ZYEQ-4",
    "outputId": "04ba474c-f7c7-4891-ac50-eacaba0ff8f0"
   },
   "outputs": [
    {
     "data": {
      "text/html": [
       "<div>\n",
       "<style scoped>\n",
       "    .dataframe tbody tr th:only-of-type {\n",
       "        vertical-align: middle;\n",
       "    }\n",
       "\n",
       "    .dataframe tbody tr th {\n",
       "        vertical-align: top;\n",
       "    }\n",
       "\n",
       "    .dataframe thead th {\n",
       "        text-align: right;\n",
       "    }\n",
       "</style>\n",
       "<table border=\"1\" class=\"dataframe\">\n",
       "  <thead>\n",
       "    <tr style=\"text-align: right;\">\n",
       "      <th></th>\n",
       "      <th>location</th>\n",
       "      <th>month</th>\n",
       "      <th>sales</th>\n",
       "      <th>sales category</th>\n",
       "      <th>location2</th>\n",
       "      <th>sales3</th>\n",
       "      <th>sales4</th>\n",
       "      <th>location_month</th>\n",
       "      <th>month sales</th>\n",
       "    </tr>\n",
       "  </thead>\n",
       "  <tbody>\n",
       "    <tr>\n",
       "      <th>0</th>\n",
       "      <td>New York</td>\n",
       "      <td>Mar</td>\n",
       "      <td>12714</td>\n",
       "      <td>Apple</td>\n",
       "      <td>new york</td>\n",
       "      <td>C</td>\n",
       "      <td>C</td>\n",
       "      <td>New York_Mar</td>\n",
       "      <td>1059.500000</td>\n",
       "    </tr>\n",
       "    <tr>\n",
       "      <th>1</th>\n",
       "      <td>Michigan</td>\n",
       "      <td>Apr</td>\n",
       "      <td>89238</td>\n",
       "      <td>A</td>\n",
       "      <td>michigan</td>\n",
       "      <td>A</td>\n",
       "      <td>A</td>\n",
       "      <td>Michigan _Apr</td>\n",
       "      <td>7436.500000</td>\n",
       "    </tr>\n",
       "    <tr>\n",
       "      <th>2</th>\n",
       "      <td>Atlanta</td>\n",
       "      <td>Jan</td>\n",
       "      <td>8161</td>\n",
       "      <td>B</td>\n",
       "      <td>atlanta</td>\n",
       "      <td>C</td>\n",
       "      <td>C</td>\n",
       "      <td>Atlanta_Jan</td>\n",
       "      <td>680.083333</td>\n",
       "    </tr>\n",
       "    <tr>\n",
       "      <th>3</th>\n",
       "      <td>Boston</td>\n",
       "      <td>Sep</td>\n",
       "      <td>5885</td>\n",
       "      <td>B</td>\n",
       "      <td>boston</td>\n",
       "      <td>C</td>\n",
       "      <td>C</td>\n",
       "      <td>Boston_Sep</td>\n",
       "      <td>490.416667</td>\n",
       "    </tr>\n",
       "    <tr>\n",
       "      <th>4</th>\n",
       "      <td>Birmingham</td>\n",
       "      <td>Mar</td>\n",
       "      <td>10000</td>\n",
       "      <td>B</td>\n",
       "      <td>birmingham</td>\n",
       "      <td>C</td>\n",
       "      <td>C</td>\n",
       "      <td>Birmingham_Mar</td>\n",
       "      <td>833.333333</td>\n",
       "    </tr>\n",
       "  </tbody>\n",
       "</table>\n",
       "</div>"
      ],
      "text/plain": [
       "     location month  sales sales category   location2 sales3 sales4  \\\n",
       "0    New York   Mar  12714          Apple    new york      C      C   \n",
       "1   Michigan    Apr  89238              A   michigan       A      A   \n",
       "2     Atlanta   Jan   8161              B     atlanta      C      C   \n",
       "3      Boston   Sep   5885              B      boston      C      C   \n",
       "4  Birmingham   Mar  10000              B  birmingham      C      C   \n",
       "\n",
       "   location_month  month sales  \n",
       "0    New York_Mar  1059.500000  \n",
       "1   Michigan _Apr  7436.500000  \n",
       "2     Atlanta_Jan   680.083333  \n",
       "3      Boston_Sep   490.416667  \n",
       "4  Birmingham_Mar   833.333333  "
      ]
     },
     "execution_count": 77,
     "metadata": {},
     "output_type": "execute_result"
    }
   ],
   "source": [
    "df['month sales']=df['sales']/12\n",
    "df.head()"
   ]
  },
  {
   "cell_type": "markdown",
   "metadata": {
    "id": "LiyTAUZQarri"
   },
   "source": [
    "## Operations"
   ]
  },
  {
   "cell_type": "code",
   "execution_count": 80,
   "metadata": {
    "colab": {
     "base_uri": "https://localhost:8080/",
     "height": 525
    },
    "executionInfo": {
     "elapsed": 346,
     "status": "ok",
     "timestamp": 1623515579959,
     "user": {
      "displayName": "sujata drall",
      "photoUrl": "",
      "userId": "07858160099359690614"
     },
     "user_tz": -330
    },
    "id": "f8RSs6K-arri",
    "outputId": "3c4a58c7-aeb9-4501-885a-dd70696d6532"
   },
   "outputs": [
    {
     "name": "stdout",
     "output_type": "stream",
     "text": [
      "Sum of all values in \"Sale\" -\n",
      " 634773 \n",
      "\n"
     ]
    },
    {
     "ename": "KeyError",
     "evalue": "'selct fn'",
     "output_type": "error",
     "traceback": [
      "\u001b[1;31m---------------------------------------------------------------------------\u001b[0m",
      "\u001b[1;31mKeyError\u001b[0m                                  Traceback (most recent call last)",
      "\u001b[1;32m~\\Anaconda3\\lib\\site-packages\\pandas\\core\\indexes\\base.py\u001b[0m in \u001b[0;36mget_loc\u001b[1;34m(self, key, method, tolerance)\u001b[0m\n\u001b[0;32m   2894\u001b[0m             \u001b[1;32mtry\u001b[0m\u001b[1;33m:\u001b[0m\u001b[1;33m\u001b[0m\u001b[1;33m\u001b[0m\u001b[0m\n\u001b[1;32m-> 2895\u001b[1;33m                 \u001b[1;32mreturn\u001b[0m \u001b[0mself\u001b[0m\u001b[1;33m.\u001b[0m\u001b[0m_engine\u001b[0m\u001b[1;33m.\u001b[0m\u001b[0mget_loc\u001b[0m\u001b[1;33m(\u001b[0m\u001b[0mcasted_key\u001b[0m\u001b[1;33m)\u001b[0m\u001b[1;33m\u001b[0m\u001b[1;33m\u001b[0m\u001b[0m\n\u001b[0m\u001b[0;32m   2896\u001b[0m             \u001b[1;32mexcept\u001b[0m \u001b[0mKeyError\u001b[0m \u001b[1;32mas\u001b[0m \u001b[0merr\u001b[0m\u001b[1;33m:\u001b[0m\u001b[1;33m\u001b[0m\u001b[1;33m\u001b[0m\u001b[0m\n",
      "\u001b[1;32mpandas\\_libs\\index.pyx\u001b[0m in \u001b[0;36mpandas._libs.index.IndexEngine.get_loc\u001b[1;34m()\u001b[0m\n",
      "\u001b[1;32mpandas\\_libs\\index.pyx\u001b[0m in \u001b[0;36mpandas._libs.index.IndexEngine.get_loc\u001b[1;34m()\u001b[0m\n",
      "\u001b[1;32mpandas\\_libs\\hashtable_class_helper.pxi\u001b[0m in \u001b[0;36mpandas._libs.hashtable.PyObjectHashTable.get_item\u001b[1;34m()\u001b[0m\n",
      "\u001b[1;32mpandas\\_libs\\hashtable_class_helper.pxi\u001b[0m in \u001b[0;36mpandas._libs.hashtable.PyObjectHashTable.get_item\u001b[1;34m()\u001b[0m\n",
      "\u001b[1;31mKeyError\u001b[0m: 'selct fn'",
      "\nThe above exception was the direct cause of the following exception:\n",
      "\u001b[1;31mKeyError\u001b[0m                                  Traceback (most recent call last)",
      "\u001b[1;32m<ipython-input-80-02e0a5e3bf79>\u001b[0m in \u001b[0;36m<module>\u001b[1;34m\u001b[0m\n\u001b[0;32m      3\u001b[0m \u001b[1;33m\u001b[0m\u001b[0m\n\u001b[0;32m      4\u001b[0m \u001b[1;31m# UNIQUE Values\u001b[0m\u001b[1;33m\u001b[0m\u001b[1;33m\u001b[0m\u001b[1;33m\u001b[0m\u001b[0m\n\u001b[1;32m----> 5\u001b[1;33m \u001b[0mprint\u001b[0m\u001b[1;33m(\u001b[0m\u001b[1;34m'Unique values in \"location\" -\\n'\u001b[0m\u001b[1;33m,\u001b[0m\u001b[0mdf\u001b[0m\u001b[1;33m[\u001b[0m\u001b[1;34m'selct fn'\u001b[0m\u001b[1;33m]\u001b[0m\u001b[1;33m.\u001b[0m\u001b[0mvalue_counts\u001b[0m\u001b[1;33m(\u001b[0m\u001b[1;33m)\u001b[0m\u001b[1;33m,\u001b[0m\u001b[1;34m'\\n'\u001b[0m\u001b[1;33m)\u001b[0m\u001b[1;31m#unique, mode, value_counts-gives value and respective count\u001b[0m\u001b[1;33m\u001b[0m\u001b[1;33m\u001b[0m\u001b[0m\n\u001b[0m\u001b[0;32m      6\u001b[0m \u001b[1;33m\u001b[0m\u001b[0m\n\u001b[0;32m      7\u001b[0m \u001b[0mprint\u001b[0m\u001b[1;33m(\u001b[0m\u001b[1;34m'Number of Unique values in \"location\" -\\n'\u001b[0m\u001b[1;33m,\u001b[0m\u001b[0mdf\u001b[0m\u001b[1;33m.\u001b[0m\u001b[0mlocation\u001b[0m\u001b[1;33m.\u001b[0m\u001b[0mnunique\u001b[0m\u001b[1;33m(\u001b[0m\u001b[1;33m)\u001b[0m\u001b[1;33m,\u001b[0m\u001b[1;34m'\\n'\u001b[0m\u001b[1;33m)\u001b[0m\u001b[1;31m# number of unique values\u001b[0m\u001b[1;33m\u001b[0m\u001b[1;33m\u001b[0m\u001b[0m\n",
      "\u001b[1;32m~\\Anaconda3\\lib\\site-packages\\pandas\\core\\frame.py\u001b[0m in \u001b[0;36m__getitem__\u001b[1;34m(self, key)\u001b[0m\n\u001b[0;32m   2900\u001b[0m             \u001b[1;32mif\u001b[0m \u001b[0mself\u001b[0m\u001b[1;33m.\u001b[0m\u001b[0mcolumns\u001b[0m\u001b[1;33m.\u001b[0m\u001b[0mnlevels\u001b[0m \u001b[1;33m>\u001b[0m \u001b[1;36m1\u001b[0m\u001b[1;33m:\u001b[0m\u001b[1;33m\u001b[0m\u001b[1;33m\u001b[0m\u001b[0m\n\u001b[0;32m   2901\u001b[0m                 \u001b[1;32mreturn\u001b[0m \u001b[0mself\u001b[0m\u001b[1;33m.\u001b[0m\u001b[0m_getitem_multilevel\u001b[0m\u001b[1;33m(\u001b[0m\u001b[0mkey\u001b[0m\u001b[1;33m)\u001b[0m\u001b[1;33m\u001b[0m\u001b[1;33m\u001b[0m\u001b[0m\n\u001b[1;32m-> 2902\u001b[1;33m             \u001b[0mindexer\u001b[0m \u001b[1;33m=\u001b[0m \u001b[0mself\u001b[0m\u001b[1;33m.\u001b[0m\u001b[0mcolumns\u001b[0m\u001b[1;33m.\u001b[0m\u001b[0mget_loc\u001b[0m\u001b[1;33m(\u001b[0m\u001b[0mkey\u001b[0m\u001b[1;33m)\u001b[0m\u001b[1;33m\u001b[0m\u001b[1;33m\u001b[0m\u001b[0m\n\u001b[0m\u001b[0;32m   2903\u001b[0m             \u001b[1;32mif\u001b[0m \u001b[0mis_integer\u001b[0m\u001b[1;33m(\u001b[0m\u001b[0mindexer\u001b[0m\u001b[1;33m)\u001b[0m\u001b[1;33m:\u001b[0m\u001b[1;33m\u001b[0m\u001b[1;33m\u001b[0m\u001b[0m\n\u001b[0;32m   2904\u001b[0m                 \u001b[0mindexer\u001b[0m \u001b[1;33m=\u001b[0m \u001b[1;33m[\u001b[0m\u001b[0mindexer\u001b[0m\u001b[1;33m]\u001b[0m\u001b[1;33m\u001b[0m\u001b[1;33m\u001b[0m\u001b[0m\n",
      "\u001b[1;32m~\\Anaconda3\\lib\\site-packages\\pandas\\core\\indexes\\base.py\u001b[0m in \u001b[0;36mget_loc\u001b[1;34m(self, key, method, tolerance)\u001b[0m\n\u001b[0;32m   2895\u001b[0m                 \u001b[1;32mreturn\u001b[0m \u001b[0mself\u001b[0m\u001b[1;33m.\u001b[0m\u001b[0m_engine\u001b[0m\u001b[1;33m.\u001b[0m\u001b[0mget_loc\u001b[0m\u001b[1;33m(\u001b[0m\u001b[0mcasted_key\u001b[0m\u001b[1;33m)\u001b[0m\u001b[1;33m\u001b[0m\u001b[1;33m\u001b[0m\u001b[0m\n\u001b[0;32m   2896\u001b[0m             \u001b[1;32mexcept\u001b[0m \u001b[0mKeyError\u001b[0m \u001b[1;32mas\u001b[0m \u001b[0merr\u001b[0m\u001b[1;33m:\u001b[0m\u001b[1;33m\u001b[0m\u001b[1;33m\u001b[0m\u001b[0m\n\u001b[1;32m-> 2897\u001b[1;33m                 \u001b[1;32mraise\u001b[0m \u001b[0mKeyError\u001b[0m\u001b[1;33m(\u001b[0m\u001b[0mkey\u001b[0m\u001b[1;33m)\u001b[0m \u001b[1;32mfrom\u001b[0m \u001b[0merr\u001b[0m\u001b[1;33m\u001b[0m\u001b[1;33m\u001b[0m\u001b[0m\n\u001b[0m\u001b[0;32m   2898\u001b[0m \u001b[1;33m\u001b[0m\u001b[0m\n\u001b[0;32m   2899\u001b[0m         \u001b[1;32mif\u001b[0m \u001b[0mtolerance\u001b[0m \u001b[1;32mis\u001b[0m \u001b[1;32mnot\u001b[0m \u001b[1;32mNone\u001b[0m\u001b[1;33m:\u001b[0m\u001b[1;33m\u001b[0m\u001b[1;33m\u001b[0m\u001b[0m\n",
      "\u001b[1;31mKeyError\u001b[0m: 'selct fn'"
     ]
    }
   ],
   "source": [
    "# SUM of values\n",
    "print('Sum of all values in \"Sale\" -\\n',df.sales.sum(),'\\n') #max, mean, sum, min, std, var, cumsum, cumprod, prod\n",
    "\n",
    "# UNIQUE Values\n",
    "print('Unique values in \"location\" -\\n',df['selct fn'].value_counts(),'\\n')#unique, mode, value_counts-gives value and respective count\n",
    "\n",
    "print('Number of Unique values in \"location\" -\\n',df.location.nunique(),'\\n')# number of unique values\n",
    "\n",
    "df.duplicated().sum() # find duplicate entries row wise \n",
    "\n",
    "df['sales4'].drop_duplicates(inplace=True) # drop duplicate entries from the data\n",
    "\n",
    "df.describe()# stastical information about numberical columns"
   ]
  },
  {
   "cell_type": "code",
   "execution_count": 81,
   "metadata": {
    "id": "XmOh0Shiarrj",
    "outputId": "0a87a2a7-a4cd-4cbc-c08c-cf78c9f302b9"
   },
   "outputs": [
    {
     "data": {
      "text/plain": [
       "[('location', 20),\n",
       " ('month', 11),\n",
       " ('sales category', 3),\n",
       " ('location2', 20),\n",
       " ('sales3', 2),\n",
       " ('sales4', 2),\n",
       " ('location_month', 20)]"
      ]
     },
     "execution_count": 81,
     "metadata": {},
     "output_type": "execute_result"
    }
   ],
   "source": [
    "# Find unique values in all columns with One liner   \n",
    "[(i, df[i].nunique()) for i in df.columns if df[i].dtype == object]"
   ]
  },
  {
   "cell_type": "code",
   "execution_count": 82,
   "metadata": {
    "id": "Iquv8_PUarrj",
    "outputId": "6b1316b3-4ed6-41bb-9ed4-86c85bd6f1e3"
   },
   "outputs": [
    {
     "data": {
      "text/plain": [
       "dtype('O')"
      ]
     },
     "execution_count": 82,
     "metadata": {},
     "output_type": "execute_result"
    }
   ],
   "source": [
    "df['location'].dtype"
   ]
  },
  {
   "cell_type": "code",
   "execution_count": 83,
   "metadata": {
    "id": "Tx-qkB9Marrk",
    "outputId": "385fb031-b48f-49ec-bce9-cbf5bb521065"
   },
   "outputs": [
    {
     "ename": "AttributeError",
     "evalue": "'Series' object has no attribute 'nuniqueue'",
     "output_type": "error",
     "traceback": [
      "\u001b[1;31m---------------------------------------------------------------------------\u001b[0m",
      "\u001b[1;31mAttributeError\u001b[0m                            Traceback (most recent call last)",
      "\u001b[1;32m<ipython-input-83-57eecdf0e089>\u001b[0m in \u001b[0;36m<module>\u001b[1;34m\u001b[0m\n\u001b[1;32m----> 1\u001b[1;33m \u001b[0mdf\u001b[0m\u001b[1;33m[\u001b[0m\u001b[1;34m'location'\u001b[0m\u001b[1;33m]\u001b[0m\u001b[1;33m.\u001b[0m\u001b[0mnuniqueue\u001b[0m\u001b[1;33m(\u001b[0m\u001b[1;33m)\u001b[0m\u001b[1;33m\u001b[0m\u001b[1;33m\u001b[0m\u001b[0m\n\u001b[0m",
      "\u001b[1;32m~\\Anaconda3\\lib\\site-packages\\pandas\\core\\generic.py\u001b[0m in \u001b[0;36m__getattr__\u001b[1;34m(self, name)\u001b[0m\n\u001b[0;32m   5137\u001b[0m             \u001b[1;32mif\u001b[0m \u001b[0mself\u001b[0m\u001b[1;33m.\u001b[0m\u001b[0m_info_axis\u001b[0m\u001b[1;33m.\u001b[0m\u001b[0m_can_hold_identifiers_and_holds_name\u001b[0m\u001b[1;33m(\u001b[0m\u001b[0mname\u001b[0m\u001b[1;33m)\u001b[0m\u001b[1;33m:\u001b[0m\u001b[1;33m\u001b[0m\u001b[1;33m\u001b[0m\u001b[0m\n\u001b[0;32m   5138\u001b[0m                 \u001b[1;32mreturn\u001b[0m \u001b[0mself\u001b[0m\u001b[1;33m[\u001b[0m\u001b[0mname\u001b[0m\u001b[1;33m]\u001b[0m\u001b[1;33m\u001b[0m\u001b[1;33m\u001b[0m\u001b[0m\n\u001b[1;32m-> 5139\u001b[1;33m             \u001b[1;32mreturn\u001b[0m \u001b[0mobject\u001b[0m\u001b[1;33m.\u001b[0m\u001b[0m__getattribute__\u001b[0m\u001b[1;33m(\u001b[0m\u001b[0mself\u001b[0m\u001b[1;33m,\u001b[0m \u001b[0mname\u001b[0m\u001b[1;33m)\u001b[0m\u001b[1;33m\u001b[0m\u001b[1;33m\u001b[0m\u001b[0m\n\u001b[0m\u001b[0;32m   5140\u001b[0m \u001b[1;33m\u001b[0m\u001b[0m\n\u001b[0;32m   5141\u001b[0m     \u001b[1;32mdef\u001b[0m \u001b[0m__setattr__\u001b[0m\u001b[1;33m(\u001b[0m\u001b[0mself\u001b[0m\u001b[1;33m,\u001b[0m \u001b[0mname\u001b[0m\u001b[1;33m:\u001b[0m \u001b[0mstr\u001b[0m\u001b[1;33m,\u001b[0m \u001b[0mvalue\u001b[0m\u001b[1;33m)\u001b[0m \u001b[1;33m->\u001b[0m \u001b[1;32mNone\u001b[0m\u001b[1;33m:\u001b[0m\u001b[1;33m\u001b[0m\u001b[1;33m\u001b[0m\u001b[0m\n",
      "\u001b[1;31mAttributeError\u001b[0m: 'Series' object has no attribute 'nuniqueue'"
     ]
    }
   ],
   "source": [
    "df['location'].nuniqueue()"
   ]
  },
  {
   "cell_type": "code",
   "execution_count": 84,
   "metadata": {
    "id": "dFf-mhWrarrm",
    "outputId": "8259fd7a-bd83-4478-f3e3-a6474cb11e4f"
   },
   "outputs": [
    {
     "data": {
      "text/plain": [
       "['location',\n",
       " 'month',\n",
       " 'sales',\n",
       " 'sales category',\n",
       " 'location2',\n",
       " 'sales3',\n",
       " 'sales4',\n",
       " 'location_month',\n",
       " 'month sales']"
      ]
     },
     "execution_count": 84,
     "metadata": {},
     "output_type": "execute_result"
    }
   ],
   "source": [
    "[i for i in df.columns]"
   ]
  },
  {
   "cell_type": "code",
   "execution_count": null,
   "metadata": {},
   "outputs": [],
   "source": []
  }
 ],
 "metadata": {
  "colab": {
   "collapsed_sections": [],
   "name": "Pandas 3 - DataFrame Filtering, Loc & iloc, Basic operations.ipynb",
   "provenance": []
  },
  "kernelspec": {
   "display_name": "Python 3",
   "language": "python",
   "name": "python3"
  },
  "language_info": {
   "codemirror_mode": {
    "name": "ipython",
    "version": 3
   },
   "file_extension": ".py",
   "mimetype": "text/x-python",
   "name": "python",
   "nbconvert_exporter": "python",
   "pygments_lexer": "ipython3",
   "version": "3.8.5"
  }
 },
 "nbformat": 4,
 "nbformat_minor": 1
}
