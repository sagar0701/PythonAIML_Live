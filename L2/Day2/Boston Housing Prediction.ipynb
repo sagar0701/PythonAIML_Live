{
 "cells": [
  {
   "cell_type": "code",
   "execution_count": 1,
   "metadata": {
    "id": "lvc-jbw8K4fx"
   },
   "outputs": [],
   "source": [
    "import pandas as pd\n",
    "import numpy as np\n",
    "from sklearn import metrics\n",
    "import matplotlib.pyplot as plt\n",
    "import seaborn as sns\n",
    "%matplotlib inline"
   ]
  },
  {
   "cell_type": "code",
   "execution_count": 2,
   "metadata": {
    "id": "pChzlJ9UK4f1"
   },
   "outputs": [],
   "source": [
    "from sklearn.datasets import load_boston\n",
    "boston = load_boston()"
   ]
  },
  {
   "cell_type": "code",
   "execution_count": 3,
   "metadata": {
    "colab": {
     "base_uri": "https://localhost:8080/"
    },
    "executionInfo": {
     "elapsed": 13,
     "status": "ok",
     "timestamp": 1627226348610,
     "user": {
      "displayName": "saranya nagarajan",
      "photoUrl": "",
      "userId": "05315324710831604653"
     },
     "user_tz": -330
    },
    "id": "XZDtd6IeK4f2",
    "outputId": "2d6a6b3b-b37c-4270-c00c-1737880ff70a"
   },
   "outputs": [
    {
     "data": {
      "text/plain": [
       "dict_keys(['data', 'target', 'feature_names', 'DESCR', 'filename'])"
      ]
     },
     "execution_count": 3,
     "metadata": {},
     "output_type": "execute_result"
    }
   ],
   "source": [
    "boston.keys()"
   ]
  },
  {
   "cell_type": "code",
   "execution_count": 4,
   "metadata": {
    "colab": {
     "base_uri": "https://localhost:8080/"
    },
    "executionInfo": {
     "elapsed": 423,
     "status": "ok",
     "timestamp": 1627226351266,
     "user": {
      "displayName": "saranya nagarajan",
      "photoUrl": "",
      "userId": "05315324710831604653"
     },
     "user_tz": -330
    },
    "id": "hyVV7Q7GK4f3",
    "outputId": "9ef720e7-c683-4b88-86ed-399319cfba5f"
   },
   "outputs": [
    {
     "data": {
      "text/plain": [
       "array([24. , 21.6])"
      ]
     },
     "execution_count": 4,
     "metadata": {},
     "output_type": "execute_result"
    }
   ],
   "source": [
    "boston.target[:2] # target columns i.e the price of the house"
   ]
  },
  {
   "cell_type": "code",
   "execution_count": 5,
   "metadata": {
    "colab": {
     "base_uri": "https://localhost:8080/"
    },
    "executionInfo": {
     "elapsed": 480,
     "status": "ok",
     "timestamp": 1627226354102,
     "user": {
      "displayName": "saranya nagarajan",
      "photoUrl": "",
      "userId": "05315324710831604653"
     },
     "user_tz": -330
    },
    "id": "Km_I6AqxK4f3",
    "outputId": "b500bde2-ffa6-4231-ee7c-7a31eb4241b9"
   },
   "outputs": [
    {
     "data": {
      "text/plain": [
       "array([[6.3200e-03, 1.8000e+01, 2.3100e+00, ..., 1.5300e+01, 3.9690e+02,\n",
       "        4.9800e+00],\n",
       "       [2.7310e-02, 0.0000e+00, 7.0700e+00, ..., 1.7800e+01, 3.9690e+02,\n",
       "        9.1400e+00],\n",
       "       [2.7290e-02, 0.0000e+00, 7.0700e+00, ..., 1.7800e+01, 3.9283e+02,\n",
       "        4.0300e+00],\n",
       "       ...,\n",
       "       [6.0760e-02, 0.0000e+00, 1.1930e+01, ..., 2.1000e+01, 3.9690e+02,\n",
       "        5.6400e+00],\n",
       "       [1.0959e-01, 0.0000e+00, 1.1930e+01, ..., 2.1000e+01, 3.9345e+02,\n",
       "        6.4800e+00],\n",
       "       [4.7410e-02, 0.0000e+00, 1.1930e+01, ..., 2.1000e+01, 3.9690e+02,\n",
       "        7.8800e+00]])"
      ]
     },
     "execution_count": 5,
     "metadata": {},
     "output_type": "execute_result"
    }
   ],
   "source": [
    "boston.data # consist of fetures i.e info. about the house"
   ]
  },
  {
   "cell_type": "code",
   "execution_count": 6,
   "metadata": {
    "colab": {
     "base_uri": "https://localhost:8080/"
    },
    "executionInfo": {
     "elapsed": 699,
     "status": "ok",
     "timestamp": 1627226357295,
     "user": {
      "displayName": "saranya nagarajan",
      "photoUrl": "",
      "userId": "05315324710831604653"
     },
     "user_tz": -330
    },
    "id": "UtjEagXiK4f4",
    "outputId": "0d735d9d-de48-4c02-d53a-0174de833ba7"
   },
   "outputs": [
    {
     "data": {
      "text/plain": [
       "array(['CRIM', 'ZN', 'INDUS', 'CHAS', 'NOX', 'RM', 'AGE', 'DIS', 'RAD',\n",
       "       'TAX', 'PTRATIO', 'B', 'LSTAT'], dtype='<U7')"
      ]
     },
     "execution_count": 6,
     "metadata": {},
     "output_type": "execute_result"
    }
   ],
   "source": [
    "boston.feature_names"
   ]
  },
  {
   "cell_type": "code",
   "execution_count": 7,
   "metadata": {
    "colab": {
     "base_uri": "https://localhost:8080/"
    },
    "executionInfo": {
     "elapsed": 433,
     "status": "ok",
     "timestamp": 1627226360780,
     "user": {
      "displayName": "saranya nagarajan",
      "photoUrl": "",
      "userId": "05315324710831604653"
     },
     "user_tz": -330
    },
    "id": "uP98OlpCK4f4",
    "outputId": "516e17ff-2051-49c2-8dcb-bdf2bbd6f5a2"
   },
   "outputs": [
    {
     "name": "stdout",
     "output_type": "stream",
     "text": [
      ".. _boston_dataset:\n",
      "\n",
      "Boston house prices dataset\n",
      "---------------------------\n",
      "\n",
      "**Data Set Characteristics:**  \n",
      "\n",
      "    :Number of Instances: 506 \n",
      "\n",
      "    :Number of Attributes: 13 numeric/categorical predictive. Median Value (attribute 14) is usually the target.\n",
      "\n",
      "    :Attribute Information (in order):\n",
      "        - CRIM     per capita crime rate by town\n",
      "        - ZN       proportion of residential land zoned for lots over 25,000 sq.ft.\n",
      "        - INDUS    proportion of non-retail business acres per town\n",
      "        - CHAS     Charles River dummy variable (= 1 if tract bounds river; 0 otherwise)\n",
      "        - NOX      nitric oxides concentration (parts per 10 million)\n",
      "        - RM       average number of rooms per dwelling\n",
      "        - AGE      proportion of owner-occupied units built prior to 1940\n",
      "        - DIS      weighted distances to five Boston employment centres\n",
      "        - RAD      index of accessibility to radial highways\n",
      "        - TAX      full-value property-tax rate per $10,000\n",
      "        - PTRATIO  pupil-teacher ratio by town\n",
      "        - B        1000(Bk - 0.63)^2 where Bk is the proportion of blacks by town\n",
      "        - LSTAT    % lower status of the population\n",
      "        - MEDV     Median value of owner-occupied homes in $1000's\n",
      "\n",
      "    :Missing Attribute Values: None\n",
      "\n",
      "    :Creator: Harrison, D. and Rubinfeld, D.L.\n",
      "\n",
      "This is a copy of UCI ML housing dataset.\n",
      "https://archive.ics.uci.edu/ml/machine-learning-databases/housing/\n",
      "\n",
      "\n",
      "This dataset was taken from the StatLib library which is maintained at Carnegie Mellon University.\n",
      "\n",
      "The Boston house-price data of Harrison, D. and Rubinfeld, D.L. 'Hedonic\n",
      "prices and the demand for clean air', J. Environ. Economics & Management,\n",
      "vol.5, 81-102, 1978.   Used in Belsley, Kuh & Welsch, 'Regression diagnostics\n",
      "...', Wiley, 1980.   N.B. Various transformations are used in the table on\n",
      "pages 244-261 of the latter.\n",
      "\n",
      "The Boston house-price data has been used in many machine learning papers that address regression\n",
      "problems.   \n",
      "     \n",
      ".. topic:: References\n",
      "\n",
      "   - Belsley, Kuh & Welsch, 'Regression diagnostics: Identifying Influential Data and Sources of Collinearity', Wiley, 1980. 244-261.\n",
      "   - Quinlan,R. (1993). Combining Instance-Based and Model-Based Learning. In Proceedings on the Tenth International Conference of Machine Learning, 236-243, University of Massachusetts, Amherst. Morgan Kaufmann.\n",
      "\n"
     ]
    }
   ],
   "source": [
    "print(boston.DESCR)"
   ]
  },
  {
   "cell_type": "code",
   "execution_count": 8,
   "metadata": {
    "id": "qdfeLgRoK4f5"
   },
   "outputs": [],
   "source": [
    "data_frame = pd.DataFrame(boston.data, columns= boston.feature_names)\n",
    "data_frame['PRICE'] = boston.target"
   ]
  },
  {
   "cell_type": "code",
   "execution_count": 9,
   "metadata": {
    "colab": {
     "base_uri": "https://localhost:8080/",
     "height": 203
    },
    "executionInfo": {
     "elapsed": 417,
     "status": "ok",
     "timestamp": 1627226369447,
     "user": {
      "displayName": "saranya nagarajan",
      "photoUrl": "",
      "userId": "05315324710831604653"
     },
     "user_tz": -330
    },
    "id": "GfP0pPFcK4f5",
    "outputId": "4f010070-0721-4a9b-bdf4-90f6f19a3daf"
   },
   "outputs": [
    {
     "data": {
      "text/html": [
       "<div>\n",
       "<style scoped>\n",
       "    .dataframe tbody tr th:only-of-type {\n",
       "        vertical-align: middle;\n",
       "    }\n",
       "\n",
       "    .dataframe tbody tr th {\n",
       "        vertical-align: top;\n",
       "    }\n",
       "\n",
       "    .dataframe thead th {\n",
       "        text-align: right;\n",
       "    }\n",
       "</style>\n",
       "<table border=\"1\" class=\"dataframe\">\n",
       "  <thead>\n",
       "    <tr style=\"text-align: right;\">\n",
       "      <th></th>\n",
       "      <th>CRIM</th>\n",
       "      <th>ZN</th>\n",
       "      <th>INDUS</th>\n",
       "      <th>CHAS</th>\n",
       "      <th>NOX</th>\n",
       "      <th>RM</th>\n",
       "      <th>AGE</th>\n",
       "      <th>DIS</th>\n",
       "      <th>RAD</th>\n",
       "      <th>TAX</th>\n",
       "      <th>PTRATIO</th>\n",
       "      <th>B</th>\n",
       "      <th>LSTAT</th>\n",
       "      <th>PRICE</th>\n",
       "    </tr>\n",
       "  </thead>\n",
       "  <tbody>\n",
       "    <tr>\n",
       "      <th>0</th>\n",
       "      <td>0.00632</td>\n",
       "      <td>18.0</td>\n",
       "      <td>2.31</td>\n",
       "      <td>0.0</td>\n",
       "      <td>0.538</td>\n",
       "      <td>6.575</td>\n",
       "      <td>65.2</td>\n",
       "      <td>4.0900</td>\n",
       "      <td>1.0</td>\n",
       "      <td>296.0</td>\n",
       "      <td>15.3</td>\n",
       "      <td>396.90</td>\n",
       "      <td>4.98</td>\n",
       "      <td>24.0</td>\n",
       "    </tr>\n",
       "    <tr>\n",
       "      <th>1</th>\n",
       "      <td>0.02731</td>\n",
       "      <td>0.0</td>\n",
       "      <td>7.07</td>\n",
       "      <td>0.0</td>\n",
       "      <td>0.469</td>\n",
       "      <td>6.421</td>\n",
       "      <td>78.9</td>\n",
       "      <td>4.9671</td>\n",
       "      <td>2.0</td>\n",
       "      <td>242.0</td>\n",
       "      <td>17.8</td>\n",
       "      <td>396.90</td>\n",
       "      <td>9.14</td>\n",
       "      <td>21.6</td>\n",
       "    </tr>\n",
       "    <tr>\n",
       "      <th>2</th>\n",
       "      <td>0.02729</td>\n",
       "      <td>0.0</td>\n",
       "      <td>7.07</td>\n",
       "      <td>0.0</td>\n",
       "      <td>0.469</td>\n",
       "      <td>7.185</td>\n",
       "      <td>61.1</td>\n",
       "      <td>4.9671</td>\n",
       "      <td>2.0</td>\n",
       "      <td>242.0</td>\n",
       "      <td>17.8</td>\n",
       "      <td>392.83</td>\n",
       "      <td>4.03</td>\n",
       "      <td>34.7</td>\n",
       "    </tr>\n",
       "    <tr>\n",
       "      <th>3</th>\n",
       "      <td>0.03237</td>\n",
       "      <td>0.0</td>\n",
       "      <td>2.18</td>\n",
       "      <td>0.0</td>\n",
       "      <td>0.458</td>\n",
       "      <td>6.998</td>\n",
       "      <td>45.8</td>\n",
       "      <td>6.0622</td>\n",
       "      <td>3.0</td>\n",
       "      <td>222.0</td>\n",
       "      <td>18.7</td>\n",
       "      <td>394.63</td>\n",
       "      <td>2.94</td>\n",
       "      <td>33.4</td>\n",
       "    </tr>\n",
       "    <tr>\n",
       "      <th>4</th>\n",
       "      <td>0.06905</td>\n",
       "      <td>0.0</td>\n",
       "      <td>2.18</td>\n",
       "      <td>0.0</td>\n",
       "      <td>0.458</td>\n",
       "      <td>7.147</td>\n",
       "      <td>54.2</td>\n",
       "      <td>6.0622</td>\n",
       "      <td>3.0</td>\n",
       "      <td>222.0</td>\n",
       "      <td>18.7</td>\n",
       "      <td>396.90</td>\n",
       "      <td>5.33</td>\n",
       "      <td>36.2</td>\n",
       "    </tr>\n",
       "  </tbody>\n",
       "</table>\n",
       "</div>"
      ],
      "text/plain": [
       "      CRIM    ZN  INDUS  CHAS    NOX     RM   AGE     DIS  RAD    TAX  \\\n",
       "0  0.00632  18.0   2.31   0.0  0.538  6.575  65.2  4.0900  1.0  296.0   \n",
       "1  0.02731   0.0   7.07   0.0  0.469  6.421  78.9  4.9671  2.0  242.0   \n",
       "2  0.02729   0.0   7.07   0.0  0.469  7.185  61.1  4.9671  2.0  242.0   \n",
       "3  0.03237   0.0   2.18   0.0  0.458  6.998  45.8  6.0622  3.0  222.0   \n",
       "4  0.06905   0.0   2.18   0.0  0.458  7.147  54.2  6.0622  3.0  222.0   \n",
       "\n",
       "   PTRATIO       B  LSTAT  PRICE  \n",
       "0     15.3  396.90   4.98   24.0  \n",
       "1     17.8  396.90   9.14   21.6  \n",
       "2     17.8  392.83   4.03   34.7  \n",
       "3     18.7  394.63   2.94   33.4  \n",
       "4     18.7  396.90   5.33   36.2  "
      ]
     },
     "execution_count": 9,
     "metadata": {},
     "output_type": "execute_result"
    }
   ],
   "source": [
    "# data_frame.columns =  # Giving Column names to out data\n",
    "data_frame.head() "
   ]
  },
  {
   "cell_type": "code",
   "execution_count": 10,
   "metadata": {
    "colab": {
     "base_uri": "https://localhost:8080/"
    },
    "executionInfo": {
     "elapsed": 461,
     "status": "ok",
     "timestamp": 1627226374769,
     "user": {
      "displayName": "saranya nagarajan",
      "photoUrl": "",
      "userId": "05315324710831604653"
     },
     "user_tz": -330
    },
    "id": "4ncXUPbdK4f6",
    "outputId": "95e12af6-d9cd-49a3-a9d3-e8bd3d1ad635"
   },
   "outputs": [
    {
     "data": {
      "text/plain": [
       "82"
      ]
     },
     "execution_count": 10,
     "metadata": {},
     "output_type": "execute_result"
    }
   ],
   "source": [
    "len(data_frame[data_frame['B']<350])"
   ]
  },
  {
   "cell_type": "code",
   "execution_count": 11,
   "metadata": {
    "colab": {
     "base_uri": "https://localhost:8080/"
    },
    "executionInfo": {
     "elapsed": 431,
     "status": "ok",
     "timestamp": 1627226388833,
     "user": {
      "displayName": "saranya nagarajan",
      "photoUrl": "",
      "userId": "05315324710831604653"
     },
     "user_tz": -330
    },
    "id": "rFntZ5UqK4f6",
    "outputId": "d40466ab-3647-4949-a006-9514327593ff"
   },
   "outputs": [
    {
     "data": {
      "text/plain": [
       "(506, 14)"
      ]
     },
     "execution_count": 11,
     "metadata": {},
     "output_type": "execute_result"
    }
   ],
   "source": [
    "data_frame.shape"
   ]
  },
  {
   "cell_type": "code",
   "execution_count": null,
   "metadata": {
    "id": "UpIr0UUiK4f7"
   },
   "outputs": [],
   "source": []
  },
  {
   "cell_type": "code",
   "execution_count": 12,
   "metadata": {
    "colab": {
     "base_uri": "https://localhost:8080/",
     "height": 350
    },
    "executionInfo": {
     "elapsed": 450,
     "status": "ok",
     "timestamp": 1627226398083,
     "user": {
      "displayName": "saranya nagarajan",
      "photoUrl": "",
      "userId": "05315324710831604653"
     },
     "user_tz": -330
    },
    "id": "gPH7bJzGK4f7",
    "outputId": "cc76def8-4f02-4550-b888-4d575f81ca7a"
   },
   "outputs": [
    {
     "name": "stderr",
     "output_type": "stream",
     "text": [
      "C:\\Users\\sagarsah\\Anaconda3\\lib\\site-packages\\seaborn\\_decorators.py:36: FutureWarning: Pass the following variable as a keyword arg: x. From version 0.12, the only valid positional argument will be `data`, and passing other arguments without an explicit keyword will result in an error or misinterpretation.\n",
      "  warnings.warn(\n"
     ]
    },
    {
     "data": {
      "text/plain": [
       "[25, 75]"
      ]
     },
     "execution_count": 12,
     "metadata": {},
     "output_type": "execute_result"
    },
    {
     "data": {
      "image/png": "[encoded data removed]",
      "text/plain": [
       "<Figure size 432x288 with 1 Axes>"
      ]
     },
     "metadata": {
      "needs_background": "light"
     },
     "output_type": "display_data"
    }
   ],
   "source": [
    "sns.boxplot(data_frame['B'])\n",
    "\n",
    "np.set_printoptions(suppress=True)\n",
    "np.percentile(data_frame['CRIM'],np.arange(1,99))\n",
    "\n",
    "\n",
    "[25, 75]"
   ]
  },
  {
   "cell_type": "code",
   "execution_count": 13,
   "metadata": {
    "colab": {
     "base_uri": "https://localhost:8080/"
    },
    "executionInfo": {
     "elapsed": 399,
     "status": "ok",
     "timestamp": 1627226405491,
     "user": {
      "displayName": "saranya nagarajan",
      "photoUrl": "",
      "userId": "05315324710831604653"
     },
     "user_tz": -330
    },
    "id": "SQHHbSSUK4f7",
    "outputId": "849cb3eb-60a6-41d6-fbed-2548cce8769d"
   },
   "outputs": [
    {
     "name": "stdout",
     "output_type": "stream",
     "text": [
      "<class 'pandas.core.frame.DataFrame'>\n",
      "RangeIndex: 506 entries, 0 to 505\n",
      "Data columns (total 14 columns):\n",
      " #   Column   Non-Null Count  Dtype  \n",
      "---  ------   --------------  -----  \n",
      " 0   CRIM     506 non-null    float64\n",
      " 1   ZN       506 non-null    float64\n",
      " 2   INDUS    506 non-null    float64\n",
      " 3   CHAS     506 non-null    float64\n",
      " 4   NOX      506 non-null    float64\n",
      " 5   RM       506 non-null    float64\n",
      " 6   AGE      506 non-null    float64\n",
      " 7   DIS      506 non-null    float64\n",
      " 8   RAD      506 non-null    float64\n",
      " 9   TAX      506 non-null    float64\n",
      " 10  PTRATIO  506 non-null    float64\n",
      " 11  B        506 non-null    float64\n",
      " 12  LSTAT    506 non-null    float64\n",
      " 13  PRICE    506 non-null    float64\n",
      "dtypes: float64(14)\n",
      "memory usage: 55.5 KB\n"
     ]
    }
   ],
   "source": [
    "data_frame.info()"
   ]
  },
  {
   "cell_type": "code",
   "execution_count": 14,
   "metadata": {
    "colab": {
     "base_uri": "https://localhost:8080/",
     "height": 1000
    },
    "executionInfo": {
     "elapsed": 1949,
     "status": "ok",
     "timestamp": 1627226421277,
     "user": {
      "displayName": "saranya nagarajan",
      "photoUrl": "",
      "userId": "05315324710831604653"
     },
     "user_tz": -330
    },
    "id": "JaZptSyZK4f8",
    "outputId": "682d0728-5b29-4884-82ea-49539df68dde"
   },
   "outputs": [
    {
     "name": "stdout",
     "output_type": "stream",
     "text": [
      "CRIM\n"
     ]
    },
    {
     "data": {
      "image/png": "[encoded data removed]",
      "text/plain": [
       "<Figure size 432x288 with 1 Axes>"
      ]
     },
     "metadata": {
      "needs_background": "light"
     },
     "output_type": "display_data"
    },
    {
     "name": "stdout",
     "output_type": "stream",
     "text": [
      "ZN\n"
     ]
    },
    {
     "data": {
      "image/png": "[encoded data removed]",
      "text/plain": [
       "<Figure size 432x288 with 1 Axes>"
      ]
     },
     "metadata": {
      "needs_background": "light"
     },
     "output_type": "display_data"
    },
    {
     "name": "stdout",
     "output_type": "stream",
     "text": [
      "INDUS\n"
     ]
    },
    {
     "data": {
      "image/png": "[encoded data removed]",
      "text/plain": [
       "<Figure size 432x288 with 1 Axes>"
      ]
     },
     "metadata": {
      "needs_background": "light"
     },
     "output_type": "display_data"
    },
    {
     "name": "stdout",
     "output_type": "stream",
     "text": [
      "NOX\n"
     ]
    },
    {
     "data": {
      "image/png": "[encoded data removed]",
      "text/plain": [
       "<Figure size 432x288 with 1 Axes>"
      ]
     },
     "metadata": {
      "needs_background": "light"
     },
     "output_type": "display_data"
    },
    {
     "name": "stdout",
     "output_type": "stream",
     "text": [
      "AGE\n"
     ]
    },
    {
     "data": {
      "image/png": "[encoded data removed]",
      "text/plain": [
       "<Figure size 432x288 with 1 Axes>"
      ]
     },
     "metadata": {
      "needs_background": "light"
     },
     "output_type": "display_data"
    },
    {
     "name": "stdout",
     "output_type": "stream",
     "text": [
      "DIS\n"
     ]
    },
    {
     "data": {
      "image/png": "[encoded data removed]",
      "text/plain": [
       "<Figure size 432x288 with 1 Axes>"
      ]
     },
     "metadata": {
      "needs_background": "light"
     },
     "output_type": "display_data"
    },
    {
     "name": "stdout",
     "output_type": "stream",
     "text": [
      "RAD\n"
     ]
    },
    {
     "data": {
      "image/png": "[encoded data removed]",
      "text/plain": [
       "<Figure size 432x288 with 1 Axes>"
      ]
     },
     "metadata": {
      "needs_background": "light"
     },
     "output_type": "display_data"
    },
    {
     "name": "stdout",
     "output_type": "stream",
     "text": [
      "TAX\n"
     ]
    },
    {
     "data": {
      "image/png": "[encoded data removed]",
      "text/plain": [
       "<Figure size 432x288 with 1 Axes>"
      ]
     },
     "metadata": {
      "needs_background": "light"
     },
     "output_type": "display_data"
    },
    {
     "name": "stdout",
     "output_type": "stream",
     "text": [
      "PTRATIO\n"
     ]
    },
    {
     "data": {
      "image/png": "[encoded data removed]",
      "text/plain": [
       "<Figure size 432x288 with 1 Axes>"
      ]
     },
     "metadata": {
      "needs_background": "light"
     },
     "output_type": "display_data"
    },
    {
     "name": "stdout",
     "output_type": "stream",
     "text": [
      "B\n"
     ]
    },
    {
     "data": {
      "image/png": "[encoded data removed]",
      "text/plain": [
       "<Figure size 432x288 with 1 Axes>"
      ]
     },
     "metadata": {
      "needs_background": "light"
     },
     "output_type": "display_data"
    },
    {
     "name": "stdout",
     "output_type": "stream",
     "text": [
      "LSTAT\n"
     ]
    },
    {
     "data": {
      "image/png": "[encoded data removed]",
      "text/plain": [
       "<Figure size 432x288 with 1 Axes>"
      ]
     },
     "metadata": {
      "needs_background": "light"
     },
     "output_type": "display_data"
    }
   ],
   "source": [
    "for i in data_frame.drop(['CHAS','PRICE','RM'], axis=1).columns:\n",
    "    print(i)\n",
    "    sns.boxplot(x=data_frame[i],data = data_frame)\n",
    "    plt.show()"
   ]
  },
  {
   "cell_type": "code",
   "execution_count": null,
   "metadata": {},
   "outputs": [],
   "source": []
  },
  {
   "cell_type": "code",
   "execution_count": 15,
   "metadata": {
    "colab": {
     "base_uri": "https://localhost:8080/"
    },
    "executionInfo": {
     "elapsed": 413,
     "status": "ok",
     "timestamp": 1627226428207,
     "user": {
      "displayName": "saranya nagarajan",
      "photoUrl": "",
      "userId": "05315324710831604653"
     },
     "user_tz": -330
    },
    "id": "4kccSOgeK4f8",
    "outputId": "da44f9dc-0458-419f-e5f5-28f6db902116"
   },
   "outputs": [
    {
     "data": {
      "text/plain": [
       "Index(['CRIM', 'ZN', 'INDUS', 'CHAS', 'NOX', 'RM', 'AGE', 'DIS', 'RAD', 'TAX',\n",
       "       'PTRATIO', 'B', 'LSTAT', 'PRICE'],\n",
       "      dtype='object')"
      ]
     },
     "execution_count": 15,
     "metadata": {},
     "output_type": "execute_result"
    }
   ],
   "source": [
    "def Outlier(data):\n",
    "    for column in data.drop(['CHAS','PRICE','RM'], axis=1).columns:\n",
    "        if data[column].dtype != object:\n",
    "            Q1 = np.percentile(data[column],25)\n",
    "            Q3 = np.percentile(data[column],75)\n",
    "            IQR =  Q3 - Q1\n",
    "            lower = Q1 - (1.5 * IQR) # min value allowed\n",
    "            upper = Q3 + (1.5 * IQR)  # max. value allowed\n",
    "            data.loc[:,column] = np.where(data[column].values > upper, upper, data[column].values)\n",
    "            data.loc[:,column] = np.where(data[column].values < lower, lower, data[column].values)\n",
    "           \n",
    "    return data\n",
    "\n",
    "data_frame2 = Outlier(data_frame)\n",
    "data_frame2.columns"
   ]
  },
  {
   "cell_type": "code",
   "execution_count": 16,
   "metadata": {
    "id": "qyoGTyZ4K4f9"
   },
   "outputs": [
    {
     "name": "stdout",
     "output_type": "stream",
     "text": [
      "CRIM\n"
     ]
    },
    {
     "name": "stderr",
     "output_type": "stream",
     "text": [
      "C:\\Users\\sagarsah\\Anaconda3\\lib\\site-packages\\seaborn\\_decorators.py:36: FutureWarning: Pass the following variable as a keyword arg: x. From version 0.12, the only valid positional argument will be `data`, and passing other arguments without an explicit keyword will result in an error or misinterpretation.\n",
      "  warnings.warn(\n"
     ]
    },
    {
     "data": {
      "image/png": "[encoded data removed]",
      "text/plain": [
       "<Figure size 432x288 with 1 Axes>"
      ]
     },
     "metadata": {
      "needs_background": "light"
     },
     "output_type": "display_data"
    },
    {
     "name": "stdout",
     "output_type": "stream",
     "text": [
      "ZN\n"
     ]
    },
    {
     "name": "stderr",
     "output_type": "stream",
     "text": [
      "C:\\Users\\sagarsah\\Anaconda3\\lib\\site-packages\\seaborn\\_decorators.py:36: FutureWarning: Pass the following variable as a keyword arg: x. From version 0.12, the only valid positional argument will be `data`, and passing other arguments without an explicit keyword will result in an error or misinterpretation.\n",
      "  warnings.warn(\n"
     ]
    },
    {
     "data": {
      "image/png": "[encoded data removed]",
      "text/plain": [
       "<Figure size 432x288 with 1 Axes>"
      ]
     },
     "metadata": {
      "needs_background": "light"
     },
     "output_type": "display_data"
    },
    {
     "name": "stdout",
     "output_type": "stream",
     "text": [
      "INDUS\n"
     ]
    },
    {
     "name": "stderr",
     "output_type": "stream",
     "text": [
      "C:\\Users\\sagarsah\\Anaconda3\\lib\\site-packages\\seaborn\\_decorators.py:36: FutureWarning: Pass the following variable as a keyword arg: x. From version 0.12, the only valid positional argument will be `data`, and passing other arguments without an explicit keyword will result in an error or misinterpretation.\n",
      "  warnings.warn(\n"
     ]
    },
    {
     "data": {
      "image/png": "[encoded data removed]",
      "text/plain": [
       "<Figure size 432x288 with 1 Axes>"
      ]
     },
     "metadata": {
      "needs_background": "light"
     },
     "output_type": "display_data"
    },
    {
     "name": "stdout",
     "output_type": "stream",
     "text": [
      "CHAS\n"
     ]
    },
    {
     "name": "stderr",
     "output_type": "stream",
     "text": [
      "C:\\Users\\sagarsah\\Anaconda3\\lib\\site-packages\\seaborn\\_decorators.py:36: FutureWarning: Pass the following variable as a keyword arg: x. From version 0.12, the only valid positional argument will be `data`, and passing other arguments without an explicit keyword will result in an error or misinterpretation.\n",
      "  warnings.warn(\n"
     ]
    },
    {
     "data": {
      "image/png": "[encoded data removed]",
      "text/plain": [
       "<Figure size 432x288 with 1 Axes>"
      ]
     },
     "metadata": {
      "needs_background": "light"
     },
     "output_type": "display_data"
    },
    {
     "name": "stderr",
     "output_type": "stream",
     "text": [
      "C:\\Users\\sagarsah\\Anaconda3\\lib\\site-packages\\seaborn\\_decorators.py:36: FutureWarning: Pass the following variable as a keyword arg: x. From version 0.12, the only valid positional argument will be `data`, and passing other arguments without an explicit keyword will result in an error or misinterpretation.\n",
      "  warnings.warn(\n"
     ]
    },
    {
     "name": "stdout",
     "output_type": "stream",
     "text": [
      "NOX\n"
     ]
    },
    {
     "data": {
      "image/png": "[encoded data removed]",
      "text/plain": [
       "<Figure size 432x288 with 1 Axes>"
      ]
     },
     "metadata": {
      "needs_background": "light"
     },
     "output_type": "display_data"
    },
    {
     "name": "stdout",
     "output_type": "stream",
     "text": [
      "RM\n"
     ]
    },
    {
     "name": "stderr",
     "output_type": "stream",
     "text": [
      "C:\\Users\\sagarsah\\Anaconda3\\lib\\site-packages\\seaborn\\_decorators.py:36: FutureWarning: Pass the following variable as a keyword arg: x. From version 0.12, the only valid positional argument will be `data`, and passing other arguments without an explicit keyword will result in an error or misinterpretation.\n",
      "  warnings.warn(\n"
     ]
    },
    {
     "data": {
      "image/png": "[encoded data removed]",
      "text/plain": [
       "<Figure size 432x288 with 1 Axes>"
      ]
     },
     "metadata": {
      "needs_background": "light"
     },
     "output_type": "display_data"
    },
    {
     "name": "stdout",
     "output_type": "stream",
     "text": [
      "AGE\n"
     ]
    },
    {
     "name": "stderr",
     "output_type": "stream",
     "text": [
      "C:\\Users\\sagarsah\\Anaconda3\\lib\\site-packages\\seaborn\\_decorators.py:36: FutureWarning: Pass the following variable as a keyword arg: x. From version 0.12, the only valid positional argument will be `data`, and passing other arguments without an explicit keyword will result in an error or misinterpretation.\n",
      "  warnings.warn(\n"
     ]
    },
    {
     "data": {
      "image/png": "[encoded data removed]",
      "text/plain": [
       "<Figure size 432x288 with 1 Axes>"
      ]
     },
     "metadata": {
      "needs_background": "light"
     },
     "output_type": "display_data"
    },
    {
     "name": "stdout",
     "output_type": "stream",
     "text": [
      "DIS\n"
     ]
    },
    {
     "name": "stderr",
     "output_type": "stream",
     "text": [
      "C:\\Users\\sagarsah\\Anaconda3\\lib\\site-packages\\seaborn\\_decorators.py:36: FutureWarning: Pass the following variable as a keyword arg: x. From version 0.12, the only valid positional argument will be `data`, and passing other arguments without an explicit keyword will result in an error or misinterpretation.\n",
      "  warnings.warn(\n"
     ]
    },
    {
     "data": {
      "image/png": "[encoded data removed]",
      "text/plain": [
       "<Figure size 432x288 with 1 Axes>"
      ]
     },
     "metadata": {
      "needs_background": "light"
     },
     "output_type": "display_data"
    },
    {
     "name": "stderr",
     "output_type": "stream",
     "text": [
      "C:\\Users\\sagarsah\\Anaconda3\\lib\\site-packages\\seaborn\\_decorators.py:36: FutureWarning: Pass the following variable as a keyword arg: x. From version 0.12, the only valid positional argument will be `data`, and passing other arguments without an explicit keyword will result in an error or misinterpretation.\n",
      "  warnings.warn(\n"
     ]
    },
    {
     "name": "stdout",
     "output_type": "stream",
     "text": [
      "RAD\n"
     ]
    },
    {
     "data": {
      "image/png": "[encoded data removed]",
      "text/plain": [
       "<Figure size 432x288 with 1 Axes>"
      ]
     },
     "metadata": {
      "needs_background": "light"
     },
     "output_type": "display_data"
    },
    {
     "name": "stdout",
     "output_type": "stream",
     "text": [
      "TAX\n"
     ]
    },
    {
     "name": "stderr",
     "output_type": "stream",
     "text": [
      "C:\\Users\\sagarsah\\Anaconda3\\lib\\site-packages\\seaborn\\_decorators.py:36: FutureWarning: Pass the following variable as a keyword arg: x. From version 0.12, the only valid positional argument will be `data`, and passing other arguments without an explicit keyword will result in an error or misinterpretation.\n",
      "  warnings.warn(\n"
     ]
    },
    {
     "data": {
      "image/png": "[encoded data removed]",
      "text/plain": [
       "<Figure size 432x288 with 1 Axes>"
      ]
     },
     "metadata": {
      "needs_background": "light"
     },
     "output_type": "display_data"
    },
    {
     "name": "stdout",
     "output_type": "stream",
     "text": [
      "PTRATIO\n"
     ]
    },
    {
     "name": "stderr",
     "output_type": "stream",
     "text": [
      "C:\\Users\\sagarsah\\Anaconda3\\lib\\site-packages\\seaborn\\_decorators.py:36: FutureWarning: Pass the following variable as a keyword arg: x. From version 0.12, the only valid positional argument will be `data`, and passing other arguments without an explicit keyword will result in an error or misinterpretation.\n",
      "  warnings.warn(\n"
     ]
    },
    {
     "data": {
      "image/png": "[encoded data removed]",
      "text/plain": [
       "<Figure size 432x288 with 1 Axes>"
      ]
     },
     "metadata": {
      "needs_background": "light"
     },
     "output_type": "display_data"
    },
    {
     "name": "stdout",
     "output_type": "stream",
     "text": [
      "B\n"
     ]
    },
    {
     "name": "stderr",
     "output_type": "stream",
     "text": [
      "C:\\Users\\sagarsah\\Anaconda3\\lib\\site-packages\\seaborn\\_decorators.py:36: FutureWarning: Pass the following variable as a keyword arg: x. From version 0.12, the only valid positional argument will be `data`, and passing other arguments without an explicit keyword will result in an error or misinterpretation.\n",
      "  warnings.warn(\n"
     ]
    },
    {
     "data": {
      "image/png": "[encoded data removed]",
      "text/plain": [
       "<Figure size 432x288 with 1 Axes>"
      ]
     },
     "metadata": {
      "needs_background": "light"
     },
     "output_type": "display_data"
    },
    {
     "name": "stderr",
     "output_type": "stream",
     "text": [
      "C:\\Users\\sagarsah\\Anaconda3\\lib\\site-packages\\seaborn\\_decorators.py:36: FutureWarning: Pass the following variable as a keyword arg: x. From version 0.12, the only valid positional argument will be `data`, and passing other arguments without an explicit keyword will result in an error or misinterpretation.\n",
      "  warnings.warn(\n"
     ]
    },
    {
     "name": "stdout",
     "output_type": "stream",
     "text": [
      "LSTAT\n"
     ]
    },
    {
     "data": {
      "image/png": "[encoded data removed]",
      "text/plain": [
       "<Figure size 432x288 with 1 Axes>"
      ]
     },
     "metadata": {
      "needs_background": "light"
     },
     "output_type": "display_data"
    },
    {
     "name": "stdout",
     "output_type": "stream",
     "text": [
      "PRICE\n"
     ]
    },
    {
     "name": "stderr",
     "output_type": "stream",
     "text": [
      "C:\\Users\\sagarsah\\Anaconda3\\lib\\site-packages\\seaborn\\_decorators.py:36: FutureWarning: Pass the following variable as a keyword arg: x. From version 0.12, the only valid positional argument will be `data`, and passing other arguments without an explicit keyword will result in an error or misinterpretation.\n",
      "  warnings.warn(\n"
     ]
    },
    {
     "data": {
      "image/png": "[encoded data removed]",
      "text/plain": [
       "<Figure size 432x288 with 1 Axes>"
      ]
     },
     "metadata": {
      "needs_background": "light"
     },
     "output_type": "display_data"
    }
   ],
   "source": [
    "# checking treated data for outliers\n",
    "for i in data_frame2.columns:\n",
    "    print(i)\n",
    "    sns.boxplot(data_frame2[i],data = data_frame2)\n",
    "    plt.show()"
   ]
  },
  {
   "cell_type": "code",
   "execution_count": 30,
   "metadata": {
    "id": "k50k92MSK4f9"
   },
   "outputs": [
    {
     "data": {
      "image/png": "[encoded data removed]",
      "text/plain": [
       "<Figure size 432x288 with 1 Axes>"
      ]
     },
     "metadata": {
      "needs_background": "light"
     },
     "output_type": "display_data"
    }
   ],
   "source": [
    "sns.regplot(x=\"RM\",y=\"LSTAT\", data=data_frame2, fit_reg=True)\n",
    "plt.title(\"Relationship between No. of rooms and Lstat\")\n",
    "plt.show()"
   ]
  },
  {
   "cell_type": "code",
   "execution_count": 31,
   "metadata": {
    "colab": {
     "base_uri": "https://localhost:8080/",
     "height": 295
    },
    "executionInfo": {
     "elapsed": 595,
     "status": "ok",
     "timestamp": 1627226454611,
     "user": {
      "displayName": "saranya nagarajan",
      "photoUrl": "",
      "userId": "05315324710831604653"
     },
     "user_tz": -330
    },
    "id": "qvDT7W7wK4f-",
    "outputId": "0c2e100b-133b-4b49-db33-ced3850b38ad"
   },
   "outputs": [
    {
     "data": {
      "image/png": "[encoded data removed]",
      "text/plain": [
       "<Figure size 432x288 with 1 Axes>"
      ]
     },
     "metadata": {
      "needs_background": "light"
     },
     "output_type": "display_data"
    }
   ],
   "source": [
    "# Between prices and No. of rooms\n",
    "sns.regplot(x=\"RM\",y=\"PRICE\", data=data_frame2)\n",
    "plt.title(\"Relationship between No. of rooms and Price\")\n",
    "plt.show()"
   ]
  },
  {
   "cell_type": "code",
   "execution_count": null,
   "metadata": {
    "colab": {
     "base_uri": "https://localhost:8080/",
     "height": 295
    },
    "executionInfo": {
     "elapsed": 705,
     "status": "ok",
     "timestamp": 1627226480362,
     "user": {
      "displayName": "saranya nagarajan",
      "photoUrl": "",
      "userId": "05315324710831604653"
     },
     "user_tz": -330
    },
    "id": "RaXj8xKvK4f-",
    "outputId": "f577cd66-51ae-4893-c4dd-bac29a560cf5"
   },
   "outputs": [
    {
     "data": {
      "image/png": "[encoded data removed]",
      "text/plain": [
       "<Figure size 432x288 with 1 Axes>"
      ]
     },
     "metadata": {
      "needs_background": "light",
      "tags": []
     },
     "output_type": "display_data"
    }
   ],
   "source": [
    "# Between prices and Lower Status Population\n",
    "sns.regplot(y=\"PRICE\",x=\"LSTAT\", data=data_frame2, fit_reg= True)\n",
    "plt.title(\"Relationship between Lower Status Population and Price\")\n",
    "plt.show()"
   ]
  },
  {
   "cell_type": "code",
   "execution_count": 32,
   "metadata": {
    "id": "46INmIcLK4f-",
    "outputId": "fc7c1784-22cf-4127-f2e2-2cdf8c467169"
   },
   "outputs": [
    {
     "data": {
      "text/plain": [
       "<AxesSubplot:xlabel='PRICE', ylabel='Density'>"
      ]
     },
     "execution_count": 32,
     "metadata": {},
     "output_type": "execute_result"
    },
    {
     "data": {
      "image/png": "[encoded data removed]",
      "text/plain": [
       "<Figure size 432x288 with 1 Axes>"
      ]
     },
     "metadata": {
      "needs_background": "light"
     },
     "output_type": "display_data"
    }
   ],
   "source": [
    "sns.kdeplot(data_frame2['PRICE']) # kernal density estimation"
   ]
  },
  {
   "cell_type": "code",
   "execution_count": 17,
   "metadata": {
    "id": "fKMnbAqjK4f_"
   },
   "outputs": [
    {
     "name": "stderr",
     "output_type": "stream",
     "text": [
      "C:\\Users\\sagarsah\\Anaconda3\\lib\\site-packages\\seaborn\\distributions.py:2551: FutureWarning: `distplot` is a deprecated function and will be removed in a future version. Please adapt your code to use either `displot` (a figure-level function with similar flexibility) or `histplot` (an axes-level function for histograms).\n",
      "  warnings.warn(msg, FutureWarning)\n"
     ]
    },
    {
     "data": {
      "image/png": "[encoded data removed]",
      "text/plain": [
       "<Figure size 432x288 with 1 Axes>"
      ]
     },
     "metadata": {
      "needs_background": "light"
     },
     "output_type": "display_data"
    },
    {
     "data": {
      "image/png": "[encoded data removed]",
      "text/plain": [
       "<Figure size 432x288 with 1 Axes>"
      ]
     },
     "metadata": {
      "needs_background": "light"
     },
     "output_type": "display_data"
    },
    {
     "data": {
      "image/png": "[encoded data removed]",
      "text/plain": [
       "<Figure size 432x288 with 1 Axes>"
      ]
     },
     "metadata": {
      "needs_background": "light"
     },
     "output_type": "display_data"
    },
    {
     "data": {
      "image/png": "[encoded data removed]",
      "text/plain": [
       "<Figure size 432x288 with 1 Axes>"
      ]
     },
     "metadata": {
      "needs_background": "light"
     },
     "output_type": "display_data"
    },
    {
     "data": {
      "image/png": "[encoded data removed]",
      "text/plain": [
       "<Figure size 432x288 with 1 Axes>"
      ]
     },
     "metadata": {
      "needs_background": "light"
     },
     "output_type": "display_data"
    },
    {
     "data": {
      "image/png": "[encoded data removed]",
      "text/plain": [
       "<Figure size 432x288 with 1 Axes>"
      ]
     },
     "metadata": {
      "needs_background": "light"
     },
     "output_type": "display_data"
    },
    {
     "data": {
      "image/png": "[encoded data removed]",
      "text/plain": [
       "<Figure size 432x288 with 1 Axes>"
      ]
     },
     "metadata": {
      "needs_background": "light"
     },
     "output_type": "display_data"
    },
    {
     "data": {
      "image/png": "[encoded data removed]",
      "text/plain": [
       "<Figure size 432x288 with 1 Axes>"
      ]
     },
     "metadata": {
      "needs_background": "light"
     },
     "output_type": "display_data"
    },
    {
     "data": {
      "image/png": "[encoded data removed]",
      "text/plain": [
       "<Figure size 432x288 with 1 Axes>"
      ]
     },
     "metadata": {
      "needs_background": "light"
     },
     "output_type": "display_data"
    },
    {
     "data": {
      "image/png": "[encoded data removed]",
      "text/plain": [
       "<Figure size 432x288 with 1 Axes>"
      ]
     },
     "metadata": {
      "needs_background": "light"
     },
     "output_type": "display_data"
    },
    {
     "data": {
      "image/png": "[encoded data removed]",
      "text/plain": [
       "<Figure size 432x288 with 1 Axes>"
      ]
     },
     "metadata": {
      "needs_background": "light"
     },
     "output_type": "display_data"
    },
    {
     "data": {
      "image/png": "[encoded data removed]",
      "text/plain": [
       "<Figure size 432x288 with 1 Axes>"
      ]
     },
     "metadata": {
      "needs_background": "light"
     },
     "output_type": "display_data"
    }
   ],
   "source": [
    "for val in data_frame2.drop(['PRICE','CHAS'], axis = 1):\n",
    "    sns.distplot(data_frame2[val], kde = False,bins=20,label=val)\n",
    "    plt.legend()\n",
    "    plt.show()\n"
   ]
  },
  {
   "cell_type": "code",
   "execution_count": null,
   "metadata": {
    "id": "HbiqueWyK4f_"
   },
   "outputs": [],
   "source": [
    "# print(data_frame.CRIM.mean(), data_frame.CRIM.median(), data_frame.CRIM.mode()[0])"
   ]
  },
  {
   "cell_type": "code",
   "execution_count": null,
   "metadata": {
    "id": "lsv5_LadK4f_"
   },
   "outputs": [],
   "source": [
    "# print(data_frame.B.mean(), data_frame.B.median(), data_frame.B.mode()[0])"
   ]
  },
  {
   "cell_type": "code",
   "execution_count": null,
   "metadata": {
    "id": "ndD1QGY2K4gA"
   },
   "outputs": [],
   "source": []
  },
  {
   "cell_type": "code",
   "execution_count": 18,
   "metadata": {
    "id": "-uuz__EXK4gA",
    "outputId": "e5ca4a18-a729-4cf3-8ace-d9f85732b806"
   },
   "outputs": [
    {
     "data": {
      "text/plain": [
       "Int64Index([], dtype='int64')"
      ]
     },
     "execution_count": 18,
     "metadata": {},
     "output_type": "execute_result"
    }
   ],
   "source": [
    "data_frame2[data_frame2.duplicated()==True].index # to get to know the duplicate data indexs"
   ]
  },
  {
   "cell_type": "code",
   "execution_count": 19,
   "metadata": {
    "id": "lroQNA0OK4gA"
   },
   "outputs": [],
   "source": [
    "# Check Duplicate Records in a data\n",
    "data_frame2.duplicated().sum()\n",
    "data_frame2.drop_duplicates(inplace=True)"
   ]
  },
  {
   "cell_type": "code",
   "execution_count": 20,
   "metadata": {
    "id": "1gOvLGzuK4gA"
   },
   "outputs": [
    {
     "data": {
      "text/html": [
       "<div>\n",
       "<style scoped>\n",
       "    .dataframe tbody tr th:only-of-type {\n",
       "        vertical-align: middle;\n",
       "    }\n",
       "\n",
       "    .dataframe tbody tr th {\n",
       "        vertical-align: top;\n",
       "    }\n",
       "\n",
       "    .dataframe thead th {\n",
       "        text-align: right;\n",
       "    }\n",
       "</style>\n",
       "<table border=\"1\" class=\"dataframe\">\n",
       "  <thead>\n",
       "    <tr style=\"text-align: right;\">\n",
       "      <th></th>\n",
       "      <th>CRIM</th>\n",
       "      <th>ZN</th>\n",
       "      <th>INDUS</th>\n",
       "      <th>CHAS</th>\n",
       "      <th>NOX</th>\n",
       "      <th>RM</th>\n",
       "      <th>AGE</th>\n",
       "      <th>DIS</th>\n",
       "      <th>RAD</th>\n",
       "      <th>TAX</th>\n",
       "      <th>PTRATIO</th>\n",
       "      <th>B</th>\n",
       "      <th>LSTAT</th>\n",
       "      <th>PRICE</th>\n",
       "    </tr>\n",
       "  </thead>\n",
       "  <tbody>\n",
       "    <tr>\n",
       "      <th>count</th>\n",
       "      <td>506.000000</td>\n",
       "      <td>506.000000</td>\n",
       "      <td>506.000000</td>\n",
       "      <td>506.000000</td>\n",
       "      <td>506.000000</td>\n",
       "      <td>506.000000</td>\n",
       "      <td>506.000000</td>\n",
       "      <td>506.000000</td>\n",
       "      <td>506.000000</td>\n",
       "      <td>506.000000</td>\n",
       "      <td>506.000000</td>\n",
       "      <td>506.000000</td>\n",
       "      <td>506.000000</td>\n",
       "      <td>506.000000</td>\n",
       "    </tr>\n",
       "    <tr>\n",
       "      <th>mean</th>\n",
       "      <td>2.225032</td>\n",
       "      <td>6.963439</td>\n",
       "      <td>11.136779</td>\n",
       "      <td>0.069170</td>\n",
       "      <td>0.554695</td>\n",
       "      <td>6.284634</td>\n",
       "      <td>68.574901</td>\n",
       "      <td>3.783947</td>\n",
       "      <td>9.549407</td>\n",
       "      <td>408.237154</td>\n",
       "      <td>18.463834</td>\n",
       "      <td>381.918836</td>\n",
       "      <td>12.612011</td>\n",
       "      <td>22.532806</td>\n",
       "    </tr>\n",
       "    <tr>\n",
       "      <th>std</th>\n",
       "      <td>3.313353</td>\n",
       "      <td>12.028788</td>\n",
       "      <td>6.860353</td>\n",
       "      <td>0.253994</td>\n",
       "      <td>0.115878</td>\n",
       "      <td>0.702617</td>\n",
       "      <td>28.148861</td>\n",
       "      <td>2.069765</td>\n",
       "      <td>8.707259</td>\n",
       "      <td>168.537116</td>\n",
       "      <td>2.143924</td>\n",
       "      <td>19.054913</td>\n",
       "      <td>7.016829</td>\n",
       "      <td>9.197104</td>\n",
       "    </tr>\n",
       "    <tr>\n",
       "      <th>min</th>\n",
       "      <td>0.006320</td>\n",
       "      <td>0.000000</td>\n",
       "      <td>0.460000</td>\n",
       "      <td>0.000000</td>\n",
       "      <td>0.385000</td>\n",
       "      <td>3.561000</td>\n",
       "      <td>2.900000</td>\n",
       "      <td>1.129600</td>\n",
       "      <td>1.000000</td>\n",
       "      <td>187.000000</td>\n",
       "      <td>13.200000</td>\n",
       "      <td>344.106250</td>\n",
       "      <td>1.730000</td>\n",
       "      <td>5.000000</td>\n",
       "    </tr>\n",
       "    <tr>\n",
       "      <th>25%</th>\n",
       "      <td>0.082045</td>\n",
       "      <td>0.000000</td>\n",
       "      <td>5.190000</td>\n",
       "      <td>0.000000</td>\n",
       "      <td>0.449000</td>\n",
       "      <td>5.885500</td>\n",
       "      <td>45.025000</td>\n",
       "      <td>2.100175</td>\n",
       "      <td>4.000000</td>\n",
       "      <td>279.000000</td>\n",
       "      <td>17.400000</td>\n",
       "      <td>375.377500</td>\n",
       "      <td>6.950000</td>\n",
       "      <td>17.025000</td>\n",
       "    </tr>\n",
       "    <tr>\n",
       "      <th>50%</th>\n",
       "      <td>0.256510</td>\n",
       "      <td>0.000000</td>\n",
       "      <td>9.690000</td>\n",
       "      <td>0.000000</td>\n",
       "      <td>0.538000</td>\n",
       "      <td>6.208500</td>\n",
       "      <td>77.500000</td>\n",
       "      <td>3.207450</td>\n",
       "      <td>5.000000</td>\n",
       "      <td>330.000000</td>\n",
       "      <td>19.050000</td>\n",
       "      <td>391.440000</td>\n",
       "      <td>11.360000</td>\n",
       "      <td>21.200000</td>\n",
       "    </tr>\n",
       "    <tr>\n",
       "      <th>75%</th>\n",
       "      <td>3.677083</td>\n",
       "      <td>12.500000</td>\n",
       "      <td>18.100000</td>\n",
       "      <td>0.000000</td>\n",
       "      <td>0.624000</td>\n",
       "      <td>6.623500</td>\n",
       "      <td>94.075000</td>\n",
       "      <td>5.188425</td>\n",
       "      <td>24.000000</td>\n",
       "      <td>666.000000</td>\n",
       "      <td>20.200000</td>\n",
       "      <td>396.225000</td>\n",
       "      <td>16.955000</td>\n",
       "      <td>25.000000</td>\n",
       "    </tr>\n",
       "    <tr>\n",
       "      <th>max</th>\n",
       "      <td>9.069639</td>\n",
       "      <td>31.250000</td>\n",
       "      <td>27.740000</td>\n",
       "      <td>1.000000</td>\n",
       "      <td>0.871000</td>\n",
       "      <td>8.780000</td>\n",
       "      <td>100.000000</td>\n",
       "      <td>9.820800</td>\n",
       "      <td>24.000000</td>\n",
       "      <td>711.000000</td>\n",
       "      <td>22.000000</td>\n",
       "      <td>396.900000</td>\n",
       "      <td>31.962500</td>\n",
       "      <td>50.000000</td>\n",
       "    </tr>\n",
       "  </tbody>\n",
       "</table>\n",
       "</div>"
      ],
      "text/plain": [
       "             CRIM          ZN       INDUS        CHAS         NOX          RM  \\\n",
       "count  506.000000  506.000000  506.000000  506.000000  506.000000  506.000000   \n",
       "mean     2.225032    6.963439   11.136779    0.069170    0.554695    6.284634   \n",
       "std      3.313353   12.028788    6.860353    0.253994    0.115878    0.702617   \n",
       "min      0.006320    0.000000    0.460000    0.000000    0.385000    3.561000   \n",
       "25%      0.082045    0.000000    5.190000    0.000000    0.449000    5.885500   \n",
       "50%      0.256510    0.000000    9.690000    0.000000    0.538000    6.208500   \n",
       "75%      3.677083   12.500000   18.100000    0.000000    0.624000    6.623500   \n",
       "max      9.069639   31.250000   27.740000    1.000000    0.871000    8.780000   \n",
       "\n",
       "              AGE         DIS         RAD         TAX     PTRATIO           B  \\\n",
       "count  506.000000  506.000000  506.000000  506.000000  506.000000  506.000000   \n",
       "mean    68.574901    3.783947    9.549407  408.237154   18.463834  381.918836   \n",
       "std     28.148861    2.069765    8.707259  168.537116    2.143924   19.054913   \n",
       "min      2.900000    1.129600    1.000000  187.000000   13.200000  344.106250   \n",
       "25%     45.025000    2.100175    4.000000  279.000000   17.400000  375.377500   \n",
       "50%     77.500000    3.207450    5.000000  330.000000   19.050000  391.440000   \n",
       "75%     94.075000    5.188425   24.000000  666.000000   20.200000  396.225000   \n",
       "max    100.000000    9.820800   24.000000  711.000000   22.000000  396.900000   \n",
       "\n",
       "            LSTAT       PRICE  \n",
       "count  506.000000  506.000000  \n",
       "mean    12.612011   22.532806  \n",
       "std      7.016829    9.197104  \n",
       "min      1.730000    5.000000  \n",
       "25%      6.950000   17.025000  \n",
       "50%     11.360000   21.200000  \n",
       "75%     16.955000   25.000000  \n",
       "max     31.962500   50.000000  "
      ]
     },
     "execution_count": 20,
     "metadata": {},
     "output_type": "execute_result"
    }
   ],
   "source": [
    "data_frame2.describe()"
   ]
  },
  {
   "cell_type": "code",
   "execution_count": 21,
   "metadata": {
    "colab": {
     "base_uri": "https://localhost:8080/",
     "height": 502
    },
    "executionInfo": {
     "elapsed": 426,
     "status": "ok",
     "timestamp": 1627229705833,
     "user": {
      "displayName": "sujata drall",
      "photoUrl": "",
      "userId": "07858160099359690614"
     },
     "user_tz": -330
    },
    "id": "ByRlVPpIK4gB",
    "outputId": "61cd3c52-bf7c-4770-b6b7-d21ba0b0ea42"
   },
   "outputs": [
    {
     "data": {
      "text/html": [
       "<div>\n",
       "<style scoped>\n",
       "    .dataframe tbody tr th:only-of-type {\n",
       "        vertical-align: middle;\n",
       "    }\n",
       "\n",
       "    .dataframe tbody tr th {\n",
       "        vertical-align: top;\n",
       "    }\n",
       "\n",
       "    .dataframe thead th {\n",
       "        text-align: right;\n",
       "    }\n",
       "</style>\n",
       "<table border=\"1\" class=\"dataframe\">\n",
       "  <thead>\n",
       "    <tr style=\"text-align: right;\">\n",
       "      <th></th>\n",
       "      <th>CRIM</th>\n",
       "      <th>ZN</th>\n",
       "      <th>INDUS</th>\n",
       "      <th>CHAS</th>\n",
       "      <th>NOX</th>\n",
       "      <th>RM</th>\n",
       "      <th>AGE</th>\n",
       "      <th>DIS</th>\n",
       "      <th>RAD</th>\n",
       "      <th>TAX</th>\n",
       "      <th>PTRATIO</th>\n",
       "      <th>B</th>\n",
       "      <th>LSTAT</th>\n",
       "      <th>PRICE</th>\n",
       "    </tr>\n",
       "  </thead>\n",
       "  <tbody>\n",
       "    <tr>\n",
       "      <th>CRIM</th>\n",
       "      <td>1.000000</td>\n",
       "      <td>-0.370213</td>\n",
       "      <td>0.629315</td>\n",
       "      <td>-0.030748</td>\n",
       "      <td>0.663412</td>\n",
       "      <td>-0.264338</td>\n",
       "      <td>0.518951</td>\n",
       "      <td>-0.555054</td>\n",
       "      <td>0.926977</td>\n",
       "      <td>0.870686</td>\n",
       "      <td>0.416269</td>\n",
       "      <td>-0.436156</td>\n",
       "      <td>0.592587</td>\n",
       "      <td>-0.454495</td>\n",
       "    </tr>\n",
       "    <tr>\n",
       "      <th>ZN</th>\n",
       "      <td>-0.370213</td>\n",
       "      <td>1.000000</td>\n",
       "      <td>-0.584079</td>\n",
       "      <td>-0.038059</td>\n",
       "      <td>-0.549670</td>\n",
       "      <td>0.331999</td>\n",
       "      <td>-0.583149</td>\n",
       "      <td>0.681019</td>\n",
       "      <td>-0.344043</td>\n",
       "      <td>-0.383860</td>\n",
       "      <td>-0.432409</td>\n",
       "      <td>0.236768</td>\n",
       "      <td>-0.448131</td>\n",
       "      <td>0.374691</td>\n",
       "    </tr>\n",
       "    <tr>\n",
       "      <th>INDUS</th>\n",
       "      <td>0.629315</td>\n",
       "      <td>-0.584079</td>\n",
       "      <td>1.000000</td>\n",
       "      <td>0.062938</td>\n",
       "      <td>0.763651</td>\n",
       "      <td>-0.391676</td>\n",
       "      <td>0.644779</td>\n",
       "      <td>-0.713079</td>\n",
       "      <td>0.595129</td>\n",
       "      <td>0.720760</td>\n",
       "      <td>0.382359</td>\n",
       "      <td>-0.417485</td>\n",
       "      <td>0.608158</td>\n",
       "      <td>-0.483725</td>\n",
       "    </tr>\n",
       "    <tr>\n",
       "      <th>CHAS</th>\n",
       "      <td>-0.030748</td>\n",
       "      <td>-0.038059</td>\n",
       "      <td>0.062938</td>\n",
       "      <td>1.000000</td>\n",
       "      <td>0.091203</td>\n",
       "      <td>0.091251</td>\n",
       "      <td>0.086518</td>\n",
       "      <td>-0.099435</td>\n",
       "      <td>-0.007368</td>\n",
       "      <td>-0.035587</td>\n",
       "      <td>-0.123763</td>\n",
       "      <td>-0.011069</td>\n",
       "      <td>-0.053288</td>\n",
       "      <td>0.175260</td>\n",
       "    </tr>\n",
       "    <tr>\n",
       "      <th>NOX</th>\n",
       "      <td>0.663412</td>\n",
       "      <td>-0.549670</td>\n",
       "      <td>0.763651</td>\n",
       "      <td>0.091203</td>\n",
       "      <td>1.000000</td>\n",
       "      <td>-0.302188</td>\n",
       "      <td>0.731470</td>\n",
       "      <td>-0.775934</td>\n",
       "      <td>0.611441</td>\n",
       "      <td>0.668023</td>\n",
       "      <td>0.190159</td>\n",
       "      <td>-0.427034</td>\n",
       "      <td>0.595619</td>\n",
       "      <td>-0.427321</td>\n",
       "    </tr>\n",
       "    <tr>\n",
       "      <th>RM</th>\n",
       "      <td>-0.264338</td>\n",
       "      <td>0.331999</td>\n",
       "      <td>-0.391676</td>\n",
       "      <td>0.091251</td>\n",
       "      <td>-0.302188</td>\n",
       "      <td>1.000000</td>\n",
       "      <td>-0.240265</td>\n",
       "      <td>0.208558</td>\n",
       "      <td>-0.209847</td>\n",
       "      <td>-0.292048</td>\n",
       "      <td>-0.353229</td>\n",
       "      <td>0.192227</td>\n",
       "      <td>-0.611234</td>\n",
       "      <td>0.695360</td>\n",
       "    </tr>\n",
       "    <tr>\n",
       "      <th>AGE</th>\n",
       "      <td>0.518951</td>\n",
       "      <td>-0.583149</td>\n",
       "      <td>0.644779</td>\n",
       "      <td>0.086518</td>\n",
       "      <td>0.731470</td>\n",
       "      <td>-0.240265</td>\n",
       "      <td>1.000000</td>\n",
       "      <td>-0.753333</td>\n",
       "      <td>0.456022</td>\n",
       "      <td>0.506456</td>\n",
       "      <td>0.263355</td>\n",
       "      <td>-0.307560</td>\n",
       "      <td>0.606711</td>\n",
       "      <td>-0.376955</td>\n",
       "    </tr>\n",
       "    <tr>\n",
       "      <th>DIS</th>\n",
       "      <td>-0.555054</td>\n",
       "      <td>0.681019</td>\n",
       "      <td>-0.713079</td>\n",
       "      <td>-0.099435</td>\n",
       "      <td>-0.775934</td>\n",
       "      <td>0.208558</td>\n",
       "      <td>-0.753333</td>\n",
       "      <td>1.000000</td>\n",
       "      <td>-0.500007</td>\n",
       "      <td>-0.540200</td>\n",
       "      <td>-0.238556</td>\n",
       "      <td>0.311406</td>\n",
       "      <td>-0.502644</td>\n",
       "      <td>0.253172</td>\n",
       "    </tr>\n",
       "    <tr>\n",
       "      <th>RAD</th>\n",
       "      <td>0.926977</td>\n",
       "      <td>-0.344043</td>\n",
       "      <td>0.595129</td>\n",
       "      <td>-0.007368</td>\n",
       "      <td>0.611441</td>\n",
       "      <td>-0.209847</td>\n",
       "      <td>0.456022</td>\n",
       "      <td>-0.500007</td>\n",
       "      <td>1.000000</td>\n",
       "      <td>0.910228</td>\n",
       "      <td>0.466698</td>\n",
       "      <td>-0.392793</td>\n",
       "      <td>0.489186</td>\n",
       "      <td>-0.381626</td>\n",
       "    </tr>\n",
       "    <tr>\n",
       "      <th>TAX</th>\n",
       "      <td>0.870686</td>\n",
       "      <td>-0.383860</td>\n",
       "      <td>0.720760</td>\n",
       "      <td>-0.035587</td>\n",
       "      <td>0.668023</td>\n",
       "      <td>-0.292048</td>\n",
       "      <td>0.506456</td>\n",
       "      <td>-0.540200</td>\n",
       "      <td>0.910228</td>\n",
       "      <td>1.000000</td>\n",
       "      <td>0.462693</td>\n",
       "      <td>-0.433288</td>\n",
       "      <td>0.545598</td>\n",
       "      <td>-0.468536</td>\n",
       "    </tr>\n",
       "    <tr>\n",
       "      <th>PTRATIO</th>\n",
       "      <td>0.416269</td>\n",
       "      <td>-0.432409</td>\n",
       "      <td>0.382359</td>\n",
       "      <td>-0.123763</td>\n",
       "      <td>0.190159</td>\n",
       "      <td>-0.353229</td>\n",
       "      <td>0.263355</td>\n",
       "      <td>-0.238556</td>\n",
       "      <td>0.466698</td>\n",
       "      <td>0.462693</td>\n",
       "      <td>1.000000</td>\n",
       "      <td>-0.099739</td>\n",
       "      <td>0.376433</td>\n",
       "      <td>-0.507188</td>\n",
       "    </tr>\n",
       "    <tr>\n",
       "      <th>B</th>\n",
       "      <td>-0.436156</td>\n",
       "      <td>0.236768</td>\n",
       "      <td>-0.417485</td>\n",
       "      <td>-0.011069</td>\n",
       "      <td>-0.427034</td>\n",
       "      <td>0.192227</td>\n",
       "      <td>-0.307560</td>\n",
       "      <td>0.311406</td>\n",
       "      <td>-0.392793</td>\n",
       "      <td>-0.433288</td>\n",
       "      <td>-0.099739</td>\n",
       "      <td>1.000000</td>\n",
       "      <td>-0.350237</td>\n",
       "      <td>0.271067</td>\n",
       "    </tr>\n",
       "    <tr>\n",
       "      <th>LSTAT</th>\n",
       "      <td>0.592587</td>\n",
       "      <td>-0.448131</td>\n",
       "      <td>0.608158</td>\n",
       "      <td>-0.053288</td>\n",
       "      <td>0.595619</td>\n",
       "      <td>-0.611234</td>\n",
       "      <td>0.606711</td>\n",
       "      <td>-0.502644</td>\n",
       "      <td>0.489186</td>\n",
       "      <td>0.545598</td>\n",
       "      <td>0.376433</td>\n",
       "      <td>-0.350237</td>\n",
       "      <td>1.000000</td>\n",
       "      <td>-0.744112</td>\n",
       "    </tr>\n",
       "    <tr>\n",
       "      <th>PRICE</th>\n",
       "      <td>-0.454495</td>\n",
       "      <td>0.374691</td>\n",
       "      <td>-0.483725</td>\n",
       "      <td>0.175260</td>\n",
       "      <td>-0.427321</td>\n",
       "      <td>0.695360</td>\n",
       "      <td>-0.376955</td>\n",
       "      <td>0.253172</td>\n",
       "      <td>-0.381626</td>\n",
       "      <td>-0.468536</td>\n",
       "      <td>-0.507188</td>\n",
       "      <td>0.271067</td>\n",
       "      <td>-0.744112</td>\n",
       "      <td>1.000000</td>\n",
       "    </tr>\n",
       "  </tbody>\n",
       "</table>\n",
       "</div>"
      ],
      "text/plain": [
       "             CRIM        ZN     INDUS      CHAS       NOX        RM       AGE  \\\n",
       "CRIM     1.000000 -0.370213  0.629315 -0.030748  0.663412 -0.264338  0.518951   \n",
       "ZN      -0.370213  1.000000 -0.584079 -0.038059 -0.549670  0.331999 -0.583149   \n",
       "INDUS    0.629315 -0.584079  1.000000  0.062938  0.763651 -0.391676  0.644779   \n",
       "CHAS    -0.030748 -0.038059  0.062938  1.000000  0.091203  0.091251  0.086518   \n",
       "NOX      0.663412 -0.549670  0.763651  0.091203  1.000000 -0.302188  0.731470   \n",
       "RM      -0.264338  0.331999 -0.391676  0.091251 -0.302188  1.000000 -0.240265   \n",
       "AGE      0.518951 -0.583149  0.644779  0.086518  0.731470 -0.240265  1.000000   \n",
       "DIS     -0.555054  0.681019 -0.713079 -0.099435 -0.775934  0.208558 -0.753333   \n",
       "RAD      0.926977 -0.344043  0.595129 -0.007368  0.611441 -0.209847  0.456022   \n",
       "TAX      0.870686 -0.383860  0.720760 -0.035587  0.668023 -0.292048  0.506456   \n",
       "PTRATIO  0.416269 -0.432409  0.382359 -0.123763  0.190159 -0.353229  0.263355   \n",
       "B       -0.436156  0.236768 -0.417485 -0.011069 -0.427034  0.192227 -0.307560   \n",
       "LSTAT    0.592587 -0.448131  0.608158 -0.053288  0.595619 -0.611234  0.606711   \n",
       "PRICE   -0.454495  0.374691 -0.483725  0.175260 -0.427321  0.695360 -0.376955   \n",
       "\n",
       "              DIS       RAD       TAX   PTRATIO         B     LSTAT     PRICE  \n",
       "CRIM    -0.555054  0.926977  0.870686  0.416269 -0.436156  0.592587 -0.454495  \n",
       "ZN       0.681019 -0.344043 -0.383860 -0.432409  0.236768 -0.448131  0.374691  \n",
       "INDUS   -0.713079  0.595129  0.720760  0.382359 -0.417485  0.608158 -0.483725  \n",
       "CHAS    -0.099435 -0.007368 -0.035587 -0.123763 -0.011069 -0.053288  0.175260  \n",
       "NOX     -0.775934  0.611441  0.668023  0.190159 -0.427034  0.595619 -0.427321  \n",
       "RM       0.208558 -0.209847 -0.292048 -0.353229  0.192227 -0.611234  0.695360  \n",
       "AGE     -0.753333  0.456022  0.506456  0.263355 -0.307560  0.606711 -0.376955  \n",
       "DIS      1.000000 -0.500007 -0.540200 -0.238556  0.311406 -0.502644  0.253172  \n",
       "RAD     -0.500007  1.000000  0.910228  0.466698 -0.392793  0.489186 -0.381626  \n",
       "TAX     -0.540200  0.910228  1.000000  0.462693 -0.433288  0.545598 -0.468536  \n",
       "PTRATIO -0.238556  0.466698  0.462693  1.000000 -0.099739  0.376433 -0.507188  \n",
       "B        0.311406 -0.392793 -0.433288 -0.099739  1.000000 -0.350237  0.271067  \n",
       "LSTAT   -0.502644  0.489186  0.545598  0.376433 -0.350237  1.000000 -0.744112  \n",
       "PRICE    0.253172 -0.381626 -0.468536 -0.507188  0.271067 -0.744112  1.000000  "
      ]
     },
     "execution_count": 21,
     "metadata": {},
     "output_type": "execute_result"
    }
   ],
   "source": [
    "data_frame2.corr()\n",
    "\n",
    "# -1 to +1  -- close to 0"
   ]
  },
  {
   "cell_type": "code",
   "execution_count": 22,
   "metadata": {
    "id": "3VBH9TpKK4gB"
   },
   "outputs": [
    {
     "data": {
      "text/plain": [
       "CRIM       0\n",
       "ZN         0\n",
       "INDUS      0\n",
       "CHAS       0\n",
       "NOX        0\n",
       "RM         0\n",
       "AGE        0\n",
       "DIS        0\n",
       "RAD        0\n",
       "TAX        0\n",
       "PTRATIO    0\n",
       "B          0\n",
       "LSTAT      0\n",
       "PRICE      0\n",
       "dtype: int64"
      ]
     },
     "execution_count": 22,
     "metadata": {},
     "output_type": "execute_result"
    }
   ],
   "source": [
    "data_frame2.isna().sum() # total null value count"
   ]
  },
  {
   "cell_type": "code",
   "execution_count": 23,
   "metadata": {
    "colab": {
     "base_uri": "https://localhost:8080/",
     "height": 500
    },
    "executionInfo": {
     "elapsed": 1748,
     "status": "ok",
     "timestamp": 1627230889045,
     "user": {
      "displayName": "sujata drall",
      "photoUrl": "",
      "userId": "07858160099359690614"
     },
     "user_tz": -330
    },
    "id": "RVQak2NbK4gB",
    "outputId": "a8f38ee4-0732-403b-8659-085cd5ed7371"
   },
   "outputs": [
    {
     "data": {
      "text/plain": [
       "<AxesSubplot:>"
      ]
     },
     "execution_count": 23,
     "metadata": {},
     "output_type": "execute_result"
    },
    {
     "data": {
      "image/png": "[encoded data removed]",
      "text/plain": [
       "<Figure size 1296x576 with 2 Axes>"
      ]
     },
     "metadata": {
      "needs_background": "light"
     },
     "output_type": "display_data"
    }
   ],
   "source": [
    "fig=plt.figure(figsize=(18,8))\n",
    "sns.heatmap(data_frame.describe(), annot = True, fmt='0.2f', cmap='Pastel2') # used where data has more than 2d"
   ]
  },
  {
   "cell_type": "code",
   "execution_count": 24,
   "metadata": {
    "id": "BjrZ_45hK4gB",
    "scrolled": true
   },
   "outputs": [
    {
     "data": {
      "text/plain": [
       "<AxesSubplot:>"
      ]
     },
     "execution_count": 24,
     "metadata": {},
     "output_type": "execute_result"
    },
    {
     "data": {
      "image/png": "[encoded data removed]",
      "text/plain": [
       "<Figure size 1080x360 with 2 Axes>"
      ]
     },
     "metadata": {
      "needs_background": "light"
     },
     "output_type": "display_data"
    }
   ],
   "source": [
    "fig = plt.figure(figsize = (15,5))\n",
    "sns.heatmap(data_frame2.corr(), annot = True)"
   ]
  },
  {
   "cell_type": "code",
   "execution_count": null,
   "metadata": {
    "id": "UhfAOEMLK4gC"
   },
   "outputs": [],
   "source": [
    "# Outliers\n",
    "# data visualisation\n",
    "# duplicated data check\n",
    "# null value check\n",
    "# correlation check and plotted them\n",
    "# info, describe check\n",
    "# till this point all features are in number from \n",
    "# no furtur type casting as data is clean , \n",
    "# no dummy needed\n",
    "# created features, target- using correlation score\n",
    "# created train test data from features and target using train test split\n",
    "# scaled the data\n",
    "# import algorithm \n",
    "# train the algorithm on scaled data\n",
    "# predicted the values on scaled test data\n",
    "# calculated MSE, RMSE, R2"
   ]
  },
  {
   "cell_type": "code",
   "execution_count": 25,
   "metadata": {
    "id": "0u8gw62qK4gC"
   },
   "outputs": [],
   "source": [
    "X = data_frame2.drop(['PRICE','CHAS','DIS','B'], axis = 1) # Independet Feature\n",
    "y = data_frame2['PRICE'] # Target"
   ]
  },
  {
   "cell_type": "code",
   "execution_count": 26,
   "metadata": {
    "id": "kE8hHqUzK4gC"
   },
   "outputs": [
    {
     "data": {
      "text/html": [
       "<div>\n",
       "<style scoped>\n",
       "    .dataframe tbody tr th:only-of-type {\n",
       "        vertical-align: middle;\n",
       "    }\n",
       "\n",
       "    .dataframe tbody tr th {\n",
       "        vertical-align: top;\n",
       "    }\n",
       "\n",
       "    .dataframe thead th {\n",
       "        text-align: right;\n",
       "    }\n",
       "</style>\n",
       "<table border=\"1\" class=\"dataframe\">\n",
       "  <thead>\n",
       "    <tr style=\"text-align: right;\">\n",
       "      <th></th>\n",
       "      <th>CRIM</th>\n",
       "      <th>ZN</th>\n",
       "      <th>INDUS</th>\n",
       "      <th>NOX</th>\n",
       "      <th>RM</th>\n",
       "      <th>AGE</th>\n",
       "      <th>RAD</th>\n",
       "      <th>TAX</th>\n",
       "      <th>PTRATIO</th>\n",
       "      <th>LSTAT</th>\n",
       "    </tr>\n",
       "  </thead>\n",
       "  <tbody>\n",
       "    <tr>\n",
       "      <th>0</th>\n",
       "      <td>0.00632</td>\n",
       "      <td>18.0</td>\n",
       "      <td>2.31</td>\n",
       "      <td>0.538</td>\n",
       "      <td>6.575</td>\n",
       "      <td>65.2</td>\n",
       "      <td>1.0</td>\n",
       "      <td>296.0</td>\n",
       "      <td>15.3</td>\n",
       "      <td>4.98</td>\n",
       "    </tr>\n",
       "    <tr>\n",
       "      <th>1</th>\n",
       "      <td>0.02731</td>\n",
       "      <td>0.0</td>\n",
       "      <td>7.07</td>\n",
       "      <td>0.469</td>\n",
       "      <td>6.421</td>\n",
       "      <td>78.9</td>\n",
       "      <td>2.0</td>\n",
       "      <td>242.0</td>\n",
       "      <td>17.8</td>\n",
       "      <td>9.14</td>\n",
       "    </tr>\n",
       "    <tr>\n",
       "      <th>2</th>\n",
       "      <td>0.02729</td>\n",
       "      <td>0.0</td>\n",
       "      <td>7.07</td>\n",
       "      <td>0.469</td>\n",
       "      <td>7.185</td>\n",
       "      <td>61.1</td>\n",
       "      <td>2.0</td>\n",
       "      <td>242.0</td>\n",
       "      <td>17.8</td>\n",
       "      <td>4.03</td>\n",
       "    </tr>\n",
       "    <tr>\n",
       "      <th>3</th>\n",
       "      <td>0.03237</td>\n",
       "      <td>0.0</td>\n",
       "      <td>2.18</td>\n",
       "      <td>0.458</td>\n",
       "      <td>6.998</td>\n",
       "      <td>45.8</td>\n",
       "      <td>3.0</td>\n",
       "      <td>222.0</td>\n",
       "      <td>18.7</td>\n",
       "      <td>2.94</td>\n",
       "    </tr>\n",
       "    <tr>\n",
       "      <th>4</th>\n",
       "      <td>0.06905</td>\n",
       "      <td>0.0</td>\n",
       "      <td>2.18</td>\n",
       "      <td>0.458</td>\n",
       "      <td>7.147</td>\n",
       "      <td>54.2</td>\n",
       "      <td>3.0</td>\n",
       "      <td>222.0</td>\n",
       "      <td>18.7</td>\n",
       "      <td>5.33</td>\n",
       "    </tr>\n",
       "  </tbody>\n",
       "</table>\n",
       "</div>"
      ],
      "text/plain": [
       "      CRIM    ZN  INDUS    NOX     RM   AGE  RAD    TAX  PTRATIO  LSTAT\n",
       "0  0.00632  18.0   2.31  0.538  6.575  65.2  1.0  296.0     15.3   4.98\n",
       "1  0.02731   0.0   7.07  0.469  6.421  78.9  2.0  242.0     17.8   9.14\n",
       "2  0.02729   0.0   7.07  0.469  7.185  61.1  2.0  242.0     17.8   4.03\n",
       "3  0.03237   0.0   2.18  0.458  6.998  45.8  3.0  222.0     18.7   2.94\n",
       "4  0.06905   0.0   2.18  0.458  7.147  54.2  3.0  222.0     18.7   5.33"
      ]
     },
     "execution_count": 26,
     "metadata": {},
     "output_type": "execute_result"
    }
   ],
   "source": [
    "X.head()"
   ]
  },
  {
   "cell_type": "code",
   "execution_count": 27,
   "metadata": {
    "id": "uyv2HPeGK4gD"
   },
   "outputs": [
    {
     "data": {
      "text/plain": [
       "0    24.0\n",
       "1    21.6\n",
       "2    34.7\n",
       "3    33.4\n",
       "4    36.2\n",
       "Name: PRICE, dtype: float64"
      ]
     },
     "execution_count": 27,
     "metadata": {},
     "output_type": "execute_result"
    }
   ],
   "source": [
    "y.head()"
   ]
  },
  {
   "cell_type": "markdown",
   "metadata": {
    "id": "KgKFU9E8K4gD"
   },
   "source": [
    "# Min MAx Scaler\n",
    "![normal.png](attachment:normal.png)"
   ]
  },
  {
   "cell_type": "markdown",
   "metadata": {
    "id": "8YczWVe3K4gD"
   },
   "source": [
    "# Standard Scaler\n",
    "![standard.png](attachment:standard.png)"
   ]
  },
  {
   "cell_type": "code",
   "execution_count": 28,
   "metadata": {
    "colab": {
     "base_uri": "https://localhost:8080/",
     "height": 231
    },
    "executionInfo": {
     "elapsed": 480,
     "status": "error",
     "timestamp": 1627232038275,
     "user": {
      "displayName": "karan sharma",
      "photoUrl": "https://lh3.googleusercontent.com/a-/AOh14Gipse8TyL-hlZMKPLX8ZzDD2sEC4QLbU69RnZm0Fw=s64",
      "userId": "10432301573263485509"
     },
     "user_tz": -330
    },
    "id": "KFRKdo2MK4gE",
    "outputId": "d02902c3-32f2-4251-8e24-188c389370e6"
   },
   "outputs": [],
   "source": [
    "from sklearn.model_selection import train_test_split\n",
    "\n",
    "\n",
    "X_train, X_test, y_train, y_test = train_test_split(X,\n",
    "                                                    y,\n",
    "                                                    test_size = 0.25,\n",
    "                                                    random_state = 41)\n",
    "\n",
    "from sklearn.preprocessing import StandardScaler, MinMaxScaler\n",
    "sc = StandardScaler()  # mean around 0 ,and Variance around 1\n",
    "min_max = MinMaxScaler()  # values will always lie in range 0-1\n",
    "\n",
    "x_train_transformed = min_max.fit_transform(X_train)\n",
    "\n",
    "x_test_transformed = min_max.transform(X_test) # will always return array"
   ]
  },
  {
   "cell_type": "code",
   "execution_count": 33,
   "metadata": {},
   "outputs": [
    {
     "name": "stdout",
     "output_type": "stream",
     "text": [
      "3790 1270 379 127\n"
     ]
    }
   ],
   "source": [
    "print(X_train.size,X_test.size,y_train.size, y_test.size)"
   ]
  },
  {
   "cell_type": "code",
   "execution_count": 34,
   "metadata": {},
   "outputs": [
    {
     "data": {
      "text/html": [
       "<div>\n",
       "<style scoped>\n",
       "    .dataframe tbody tr th:only-of-type {\n",
       "        vertical-align: middle;\n",
       "    }\n",
       "\n",
       "    .dataframe tbody tr th {\n",
       "        vertical-align: top;\n",
       "    }\n",
       "\n",
       "    .dataframe thead th {\n",
       "        text-align: right;\n",
       "    }\n",
       "</style>\n",
       "<table border=\"1\" class=\"dataframe\">\n",
       "  <thead>\n",
       "    <tr style=\"text-align: right;\">\n",
       "      <th></th>\n",
       "      <th>CRIM</th>\n",
       "      <th>ZN</th>\n",
       "      <th>INDUS</th>\n",
       "      <th>NOX</th>\n",
       "      <th>RM</th>\n",
       "      <th>AGE</th>\n",
       "      <th>RAD</th>\n",
       "      <th>TAX</th>\n",
       "      <th>PTRATIO</th>\n",
       "      <th>LSTAT</th>\n",
       "    </tr>\n",
       "  </thead>\n",
       "  <tbody>\n",
       "    <tr>\n",
       "      <th>295</th>\n",
       "      <td>0.129320</td>\n",
       "      <td>0.0</td>\n",
       "      <td>13.92</td>\n",
       "      <td>0.437</td>\n",
       "      <td>6.678</td>\n",
       "      <td>31.1</td>\n",
       "      <td>4.0</td>\n",
       "      <td>289.0</td>\n",
       "      <td>16.0</td>\n",
       "      <td>6.27</td>\n",
       "    </tr>\n",
       "    <tr>\n",
       "      <th>252</th>\n",
       "      <td>0.082210</td>\n",
       "      <td>22.0</td>\n",
       "      <td>5.86</td>\n",
       "      <td>0.431</td>\n",
       "      <td>6.957</td>\n",
       "      <td>6.8</td>\n",
       "      <td>7.0</td>\n",
       "      <td>330.0</td>\n",
       "      <td>19.1</td>\n",
       "      <td>3.53</td>\n",
       "    </tr>\n",
       "    <tr>\n",
       "      <th>324</th>\n",
       "      <td>0.341090</td>\n",
       "      <td>0.0</td>\n",
       "      <td>7.38</td>\n",
       "      <td>0.493</td>\n",
       "      <td>6.415</td>\n",
       "      <td>40.1</td>\n",
       "      <td>5.0</td>\n",
       "      <td>287.0</td>\n",
       "      <td>19.6</td>\n",
       "      <td>6.12</td>\n",
       "    </tr>\n",
       "    <tr>\n",
       "      <th>379</th>\n",
       "      <td>9.069639</td>\n",
       "      <td>0.0</td>\n",
       "      <td>18.10</td>\n",
       "      <td>0.671</td>\n",
       "      <td>6.223</td>\n",
       "      <td>100.0</td>\n",
       "      <td>24.0</td>\n",
       "      <td>666.0</td>\n",
       "      <td>20.2</td>\n",
       "      <td>21.78</td>\n",
       "    </tr>\n",
       "    <tr>\n",
       "      <th>261</th>\n",
       "      <td>0.534120</td>\n",
       "      <td>20.0</td>\n",
       "      <td>3.97</td>\n",
       "      <td>0.647</td>\n",
       "      <td>7.520</td>\n",
       "      <td>89.4</td>\n",
       "      <td>5.0</td>\n",
       "      <td>264.0</td>\n",
       "      <td>13.2</td>\n",
       "      <td>7.26</td>\n",
       "    </tr>\n",
       "  </tbody>\n",
       "</table>\n",
       "</div>"
      ],
      "text/plain": [
       "         CRIM    ZN  INDUS    NOX     RM    AGE   RAD    TAX  PTRATIO  LSTAT\n",
       "295  0.129320   0.0  13.92  0.437  6.678   31.1   4.0  289.0     16.0   6.27\n",
       "252  0.082210  22.0   5.86  0.431  6.957    6.8   7.0  330.0     19.1   3.53\n",
       "324  0.341090   0.0   7.38  0.493  6.415   40.1   5.0  287.0     19.6   6.12\n",
       "379  9.069639   0.0  18.10  0.671  6.223  100.0  24.0  666.0     20.2  21.78\n",
       "261  0.534120  20.0   3.97  0.647  7.520   89.4   5.0  264.0     13.2   7.26"
      ]
     },
     "execution_count": 34,
     "metadata": {},
     "output_type": "execute_result"
    }
   ],
   "source": [
    "X_train.head()"
   ]
  },
  {
   "cell_type": "code",
   "execution_count": 35,
   "metadata": {},
   "outputs": [
    {
     "data": {
      "text/html": [
       "<div>\n",
       "<style scoped>\n",
       "    .dataframe tbody tr th:only-of-type {\n",
       "        vertical-align: middle;\n",
       "    }\n",
       "\n",
       "    .dataframe tbody tr th {\n",
       "        vertical-align: top;\n",
       "    }\n",
       "\n",
       "    .dataframe thead th {\n",
       "        text-align: right;\n",
       "    }\n",
       "</style>\n",
       "<table border=\"1\" class=\"dataframe\">\n",
       "  <thead>\n",
       "    <tr style=\"text-align: right;\">\n",
       "      <th></th>\n",
       "      <th>CRIM</th>\n",
       "      <th>ZN</th>\n",
       "      <th>INDUS</th>\n",
       "      <th>NOX</th>\n",
       "      <th>RM</th>\n",
       "      <th>AGE</th>\n",
       "      <th>RAD</th>\n",
       "      <th>TAX</th>\n",
       "      <th>PTRATIO</th>\n",
       "      <th>LSTAT</th>\n",
       "    </tr>\n",
       "  </thead>\n",
       "  <tbody>\n",
       "    <tr>\n",
       "      <th>157</th>\n",
       "      <td>1.22358</td>\n",
       "      <td>0.00</td>\n",
       "      <td>19.58</td>\n",
       "      <td>0.605</td>\n",
       "      <td>6.943</td>\n",
       "      <td>97.4</td>\n",
       "      <td>5.0</td>\n",
       "      <td>403.0</td>\n",
       "      <td>14.7</td>\n",
       "      <td>4.59</td>\n",
       "    </tr>\n",
       "    <tr>\n",
       "      <th>358</th>\n",
       "      <td>5.20177</td>\n",
       "      <td>0.00</td>\n",
       "      <td>18.10</td>\n",
       "      <td>0.770</td>\n",
       "      <td>6.127</td>\n",
       "      <td>83.4</td>\n",
       "      <td>24.0</td>\n",
       "      <td>666.0</td>\n",
       "      <td>20.2</td>\n",
       "      <td>11.48</td>\n",
       "    </tr>\n",
       "    <tr>\n",
       "      <th>495</th>\n",
       "      <td>0.17899</td>\n",
       "      <td>0.00</td>\n",
       "      <td>9.69</td>\n",
       "      <td>0.585</td>\n",
       "      <td>5.670</td>\n",
       "      <td>28.8</td>\n",
       "      <td>6.0</td>\n",
       "      <td>391.0</td>\n",
       "      <td>19.2</td>\n",
       "      <td>17.60</td>\n",
       "    </tr>\n",
       "    <tr>\n",
       "      <th>299</th>\n",
       "      <td>0.05561</td>\n",
       "      <td>31.25</td>\n",
       "      <td>2.24</td>\n",
       "      <td>0.400</td>\n",
       "      <td>7.041</td>\n",
       "      <td>10.0</td>\n",
       "      <td>5.0</td>\n",
       "      <td>358.0</td>\n",
       "      <td>14.8</td>\n",
       "      <td>4.74</td>\n",
       "    </tr>\n",
       "    <tr>\n",
       "      <th>193</th>\n",
       "      <td>0.02187</td>\n",
       "      <td>31.25</td>\n",
       "      <td>2.93</td>\n",
       "      <td>0.401</td>\n",
       "      <td>6.800</td>\n",
       "      <td>9.9</td>\n",
       "      <td>1.0</td>\n",
       "      <td>265.0</td>\n",
       "      <td>15.6</td>\n",
       "      <td>5.03</td>\n",
       "    </tr>\n",
       "  </tbody>\n",
       "</table>\n",
       "</div>"
      ],
      "text/plain": [
       "        CRIM     ZN  INDUS    NOX     RM   AGE   RAD    TAX  PTRATIO  LSTAT\n",
       "157  1.22358   0.00  19.58  0.605  6.943  97.4   5.0  403.0     14.7   4.59\n",
       "358  5.20177   0.00  18.10  0.770  6.127  83.4  24.0  666.0     20.2  11.48\n",
       "495  0.17899   0.00   9.69  0.585  5.670  28.8   6.0  391.0     19.2  17.60\n",
       "299  0.05561  31.25   2.24  0.400  7.041  10.0   5.0  358.0     14.8   4.74\n",
       "193  0.02187  31.25   2.93  0.401  6.800   9.9   1.0  265.0     15.6   5.03"
      ]
     },
     "execution_count": 35,
     "metadata": {},
     "output_type": "execute_result"
    }
   ],
   "source": [
    "X_test.head()"
   ]
  },
  {
   "cell_type": "code",
   "execution_count": 66,
   "metadata": {},
   "outputs": [
    {
     "data": {
      "text/plain": [
       "295    28.6\n",
       "252    29.6\n",
       "324    25.0\n",
       "379    10.2\n",
       "261    43.1\n",
       "Name: PRICE, dtype: float64"
      ]
     },
     "execution_count": 66,
     "metadata": {},
     "output_type": "execute_result"
    }
   ],
   "source": [
    "y_train.head()"
   ]
  },
  {
   "cell_type": "code",
   "execution_count": 67,
   "metadata": {},
   "outputs": [
    {
     "data": {
      "text/plain": [
       "157    41.3\n",
       "358    22.7\n",
       "495    23.1\n",
       "299    29.0\n",
       "193    31.1\n",
       "Name: PRICE, dtype: float64"
      ]
     },
     "execution_count": 67,
     "metadata": {},
     "output_type": "execute_result"
    }
   ],
   "source": [
    "y_test.head()"
   ]
  },
  {
   "cell_type": "code",
   "execution_count": 36,
   "metadata": {
    "colab": {
     "base_uri": "https://localhost:8080/",
     "height": 417
    },
    "executionInfo": {
     "elapsed": 419,
     "status": "ok",
     "timestamp": 1627230596255,
     "user": {
      "displayName": "saranya nagarajan",
      "photoUrl": "",
      "userId": "05315324710831604653"
     },
     "user_tz": -330
    },
    "id": "MDTwQpiiK4gE",
    "outputId": "6419e601-a550-40e1-94f3-32df3ae5608d"
   },
   "outputs": [
    {
     "data": {
      "text/html": [
       "<div>\n",
       "<style scoped>\n",
       "    .dataframe tbody tr th:only-of-type {\n",
       "        vertical-align: middle;\n",
       "    }\n",
       "\n",
       "    .dataframe tbody tr th {\n",
       "        vertical-align: top;\n",
       "    }\n",
       "\n",
       "    .dataframe thead th {\n",
       "        text-align: right;\n",
       "    }\n",
       "</style>\n",
       "<table border=\"1\" class=\"dataframe\">\n",
       "  <thead>\n",
       "    <tr style=\"text-align: right;\">\n",
       "      <th></th>\n",
       "      <th>CRIM</th>\n",
       "      <th>ZN</th>\n",
       "      <th>INDUS</th>\n",
       "      <th>NOX</th>\n",
       "      <th>RM</th>\n",
       "      <th>AGE</th>\n",
       "      <th>RAD</th>\n",
       "      <th>TAX</th>\n",
       "      <th>PTRATIO</th>\n",
       "      <th>LSTAT</th>\n",
       "    </tr>\n",
       "  </thead>\n",
       "  <tbody>\n",
       "    <tr>\n",
       "      <th>0</th>\n",
       "      <td>0.013273</td>\n",
       "      <td>0.000</td>\n",
       "      <td>0.493402</td>\n",
       "      <td>0.106996</td>\n",
       "      <td>0.603602</td>\n",
       "      <td>0.267021</td>\n",
       "      <td>0.130435</td>\n",
       "      <td>0.194656</td>\n",
       "      <td>0.318182</td>\n",
       "      <td>0.150170</td>\n",
       "    </tr>\n",
       "    <tr>\n",
       "      <th>1</th>\n",
       "      <td>0.008073</td>\n",
       "      <td>0.704</td>\n",
       "      <td>0.197947</td>\n",
       "      <td>0.094650</td>\n",
       "      <td>0.657630</td>\n",
       "      <td>0.008511</td>\n",
       "      <td>0.260870</td>\n",
       "      <td>0.272901</td>\n",
       "      <td>0.670455</td>\n",
       "      <td>0.059539</td>\n",
       "    </tr>\n",
       "    <tr>\n",
       "      <th>2</th>\n",
       "      <td>0.036646</td>\n",
       "      <td>0.000</td>\n",
       "      <td>0.253666</td>\n",
       "      <td>0.222222</td>\n",
       "      <td>0.552672</td>\n",
       "      <td>0.362766</td>\n",
       "      <td>0.173913</td>\n",
       "      <td>0.190840</td>\n",
       "      <td>0.727273</td>\n",
       "      <td>0.145208</td>\n",
       "    </tr>\n",
       "    <tr>\n",
       "      <th>3</th>\n",
       "      <td>1.000000</td>\n",
       "      <td>0.000</td>\n",
       "      <td>0.646628</td>\n",
       "      <td>0.588477</td>\n",
       "      <td>0.515492</td>\n",
       "      <td>1.000000</td>\n",
       "      <td>1.000000</td>\n",
       "      <td>0.914122</td>\n",
       "      <td>0.795455</td>\n",
       "      <td>0.663194</td>\n",
       "    </tr>\n",
       "    <tr>\n",
       "      <th>4</th>\n",
       "      <td>0.057950</td>\n",
       "      <td>0.640</td>\n",
       "      <td>0.128666</td>\n",
       "      <td>0.539095</td>\n",
       "      <td>0.766654</td>\n",
       "      <td>0.887234</td>\n",
       "      <td>0.173913</td>\n",
       "      <td>0.146947</td>\n",
       "      <td>0.000000</td>\n",
       "      <td>0.182916</td>\n",
       "    </tr>\n",
       "    <tr>\n",
       "      <th>...</th>\n",
       "      <td>...</td>\n",
       "      <td>...</td>\n",
       "      <td>...</td>\n",
       "      <td>...</td>\n",
       "      <td>...</td>\n",
       "      <td>...</td>\n",
       "      <td>...</td>\n",
       "      <td>...</td>\n",
       "      <td>...</td>\n",
       "      <td>...</td>\n",
       "    </tr>\n",
       "    <tr>\n",
       "      <th>374</th>\n",
       "      <td>0.003540</td>\n",
       "      <td>0.800</td>\n",
       "      <td>0.161290</td>\n",
       "      <td>0.084362</td>\n",
       "      <td>0.613091</td>\n",
       "      <td>0.292553</td>\n",
       "      <td>0.130435</td>\n",
       "      <td>0.179389</td>\n",
       "      <td>0.659091</td>\n",
       "      <td>0.117754</td>\n",
       "    </tr>\n",
       "    <tr>\n",
       "      <th>375</th>\n",
       "      <td>0.631538</td>\n",
       "      <td>0.000</td>\n",
       "      <td>0.646628</td>\n",
       "      <td>0.302469</td>\n",
       "      <td>0.677769</td>\n",
       "      <td>0.755319</td>\n",
       "      <td>1.000000</td>\n",
       "      <td>0.914122</td>\n",
       "      <td>0.795455</td>\n",
       "      <td>0.174646</td>\n",
       "    </tr>\n",
       "    <tr>\n",
       "      <th>376</th>\n",
       "      <td>0.647088</td>\n",
       "      <td>0.000</td>\n",
       "      <td>0.646628</td>\n",
       "      <td>0.633745</td>\n",
       "      <td>0.550736</td>\n",
       "      <td>0.957447</td>\n",
       "      <td>1.000000</td>\n",
       "      <td>0.914122</td>\n",
       "      <td>0.795455</td>\n",
       "      <td>0.583478</td>\n",
       "    </tr>\n",
       "    <tr>\n",
       "      <th>377</th>\n",
       "      <td>1.000000</td>\n",
       "      <td>0.000</td>\n",
       "      <td>0.646628</td>\n",
       "      <td>0.685185</td>\n",
       "      <td>0.631875</td>\n",
       "      <td>0.750000</td>\n",
       "      <td>1.000000</td>\n",
       "      <td>0.914122</td>\n",
       "      <td>0.795455</td>\n",
       "      <td>0.694947</td>\n",
       "    </tr>\n",
       "    <tr>\n",
       "      <th>378</th>\n",
       "      <td>1.000000</td>\n",
       "      <td>0.000</td>\n",
       "      <td>0.646628</td>\n",
       "      <td>0.674897</td>\n",
       "      <td>0.508133</td>\n",
       "      <td>0.986170</td>\n",
       "      <td>1.000000</td>\n",
       "      <td>0.914122</td>\n",
       "      <td>0.795455</td>\n",
       "      <td>0.542463</td>\n",
       "    </tr>\n",
       "  </tbody>\n",
       "</table>\n",
       "<p>379 rows × 10 columns</p>\n",
       "</div>"
      ],
      "text/plain": [
       "         CRIM     ZN     INDUS       NOX        RM       AGE       RAD  \\\n",
       "0    0.013273  0.000  0.493402  0.106996  0.603602  0.267021  0.130435   \n",
       "1    0.008073  0.704  0.197947  0.094650  0.657630  0.008511  0.260870   \n",
       "2    0.036646  0.000  0.253666  0.222222  0.552672  0.362766  0.173913   \n",
       "3    1.000000  0.000  0.646628  0.588477  0.515492  1.000000  1.000000   \n",
       "4    0.057950  0.640  0.128666  0.539095  0.766654  0.887234  0.173913   \n",
       "..        ...    ...       ...       ...       ...       ...       ...   \n",
       "374  0.003540  0.800  0.161290  0.084362  0.613091  0.292553  0.130435   \n",
       "375  0.631538  0.000  0.646628  0.302469  0.677769  0.755319  1.000000   \n",
       "376  0.647088  0.000  0.646628  0.633745  0.550736  0.957447  1.000000   \n",
       "377  1.000000  0.000  0.646628  0.685185  0.631875  0.750000  1.000000   \n",
       "378  1.000000  0.000  0.646628  0.674897  0.508133  0.986170  1.000000   \n",
       "\n",
       "          TAX   PTRATIO     LSTAT  \n",
       "0    0.194656  0.318182  0.150170  \n",
       "1    0.272901  0.670455  0.059539  \n",
       "2    0.190840  0.727273  0.145208  \n",
       "3    0.914122  0.795455  0.663194  \n",
       "4    0.146947  0.000000  0.182916  \n",
       "..        ...       ...       ...  \n",
       "374  0.179389  0.659091  0.117754  \n",
       "375  0.914122  0.795455  0.174646  \n",
       "376  0.914122  0.795455  0.583478  \n",
       "377  0.914122  0.795455  0.694947  \n",
       "378  0.914122  0.795455  0.542463  \n",
       "\n",
       "[379 rows x 10 columns]"
      ]
     },
     "execution_count": 36,
     "metadata": {},
     "output_type": "execute_result"
    }
   ],
   "source": [
    "pd.DataFrame(x_train_transformed, columns = X_train.columns) # getting dataframe out of transformed data"
   ]
  },
  {
   "cell_type": "code",
   "execution_count": 55,
   "metadata": {
    "colab": {
     "base_uri": "https://localhost:8080/",
     "height": 203
    },
    "executionInfo": {
     "elapsed": 432,
     "status": "ok",
     "timestamp": 1627230602205,
     "user": {
      "displayName": "saranya nagarajan",
      "photoUrl": "",
      "userId": "05315324710831604653"
     },
     "user_tz": -330
    },
    "id": "QMcUz2KLK4gE",
    "outputId": "4277fe66-0c26-48c4-86eb-af47db4ac951"
   },
   "outputs": [
    {
     "data": {
      "text/html": [
       "<div>\n",
       "<style scoped>\n",
       "    .dataframe tbody tr th:only-of-type {\n",
       "        vertical-align: middle;\n",
       "    }\n",
       "\n",
       "    .dataframe tbody tr th {\n",
       "        vertical-align: top;\n",
       "    }\n",
       "\n",
       "    .dataframe thead th {\n",
       "        text-align: right;\n",
       "    }\n",
       "</style>\n",
       "<table border=\"1\" class=\"dataframe\">\n",
       "  <thead>\n",
       "    <tr style=\"text-align: right;\">\n",
       "      <th></th>\n",
       "      <th>CRIM</th>\n",
       "      <th>ZN</th>\n",
       "      <th>INDUS</th>\n",
       "      <th>NOX</th>\n",
       "      <th>RM</th>\n",
       "      <th>AGE</th>\n",
       "      <th>RAD</th>\n",
       "      <th>TAX</th>\n",
       "      <th>PTRATIO</th>\n",
       "      <th>LSTAT</th>\n",
       "    </tr>\n",
       "  </thead>\n",
       "  <tbody>\n",
       "    <tr>\n",
       "      <th>157</th>\n",
       "      <td>1.22358</td>\n",
       "      <td>0.00</td>\n",
       "      <td>19.58</td>\n",
       "      <td>0.605</td>\n",
       "      <td>6.943</td>\n",
       "      <td>97.4</td>\n",
       "      <td>5.0</td>\n",
       "      <td>403.0</td>\n",
       "      <td>14.7</td>\n",
       "      <td>4.59</td>\n",
       "    </tr>\n",
       "    <tr>\n",
       "      <th>358</th>\n",
       "      <td>5.20177</td>\n",
       "      <td>0.00</td>\n",
       "      <td>18.10</td>\n",
       "      <td>0.770</td>\n",
       "      <td>6.127</td>\n",
       "      <td>83.4</td>\n",
       "      <td>24.0</td>\n",
       "      <td>666.0</td>\n",
       "      <td>20.2</td>\n",
       "      <td>11.48</td>\n",
       "    </tr>\n",
       "    <tr>\n",
       "      <th>495</th>\n",
       "      <td>0.17899</td>\n",
       "      <td>0.00</td>\n",
       "      <td>9.69</td>\n",
       "      <td>0.585</td>\n",
       "      <td>5.670</td>\n",
       "      <td>28.8</td>\n",
       "      <td>6.0</td>\n",
       "      <td>391.0</td>\n",
       "      <td>19.2</td>\n",
       "      <td>17.60</td>\n",
       "    </tr>\n",
       "    <tr>\n",
       "      <th>299</th>\n",
       "      <td>0.05561</td>\n",
       "      <td>31.25</td>\n",
       "      <td>2.24</td>\n",
       "      <td>0.400</td>\n",
       "      <td>7.041</td>\n",
       "      <td>10.0</td>\n",
       "      <td>5.0</td>\n",
       "      <td>358.0</td>\n",
       "      <td>14.8</td>\n",
       "      <td>4.74</td>\n",
       "    </tr>\n",
       "    <tr>\n",
       "      <th>193</th>\n",
       "      <td>0.02187</td>\n",
       "      <td>31.25</td>\n",
       "      <td>2.93</td>\n",
       "      <td>0.401</td>\n",
       "      <td>6.800</td>\n",
       "      <td>9.9</td>\n",
       "      <td>1.0</td>\n",
       "      <td>265.0</td>\n",
       "      <td>15.6</td>\n",
       "      <td>5.03</td>\n",
       "    </tr>\n",
       "  </tbody>\n",
       "</table>\n",
       "</div>"
      ],
      "text/plain": [
       "        CRIM     ZN  INDUS    NOX     RM   AGE   RAD    TAX  PTRATIO  LSTAT\n",
       "157  1.22358   0.00  19.58  0.605  6.943  97.4   5.0  403.0     14.7   4.59\n",
       "358  5.20177   0.00  18.10  0.770  6.127  83.4  24.0  666.0     20.2  11.48\n",
       "495  0.17899   0.00   9.69  0.585  5.670  28.8   6.0  391.0     19.2  17.60\n",
       "299  0.05561  31.25   2.24  0.400  7.041  10.0   5.0  358.0     14.8   4.74\n",
       "193  0.02187  31.25   2.93  0.401  6.800   9.9   1.0  265.0     15.6   5.03"
      ]
     },
     "execution_count": 55,
     "metadata": {},
     "output_type": "execute_result"
    }
   ],
   "source": [
    "X_test.head()"
   ]
  },
  {
   "cell_type": "code",
   "execution_count": null,
   "metadata": {
    "colab": {
     "base_uri": "https://localhost:8080/"
    },
    "executionInfo": {
     "elapsed": 603,
     "status": "ok",
     "timestamp": 1627230605974,
     "user": {
      "displayName": "saranya nagarajan",
      "photoUrl": "",
      "userId": "05315324710831604653"
     },
     "user_tz": -330
    },
    "id": "b3L3BgZGK4gE",
    "outputId": "7334d2dc-a9e8-4ba5-d8f0-2fa2a1e9fa69"
   },
   "outputs": [
    {
     "data": {
      "text/plain": [
       "157    41.3\n",
       "358    22.7\n",
       "495    23.1\n",
       "299    29.0\n",
       "193    31.1\n",
       "Name: PRICE, dtype: float64"
      ]
     },
     "execution_count": 24,
     "metadata": {
      "tags": []
     },
     "output_type": "execute_result"
    }
   ],
   "source": [
    "y_test.head()"
   ]
  },
  {
   "cell_type": "code",
   "execution_count": 56,
   "metadata": {
    "colab": {
     "base_uri": "https://localhost:8080/",
     "height": 180
    },
    "executionInfo": {
     "elapsed": 367,
     "status": "error",
     "timestamp": 1627232050110,
     "user": {
      "displayName": "karan sharma",
      "photoUrl": "https://lh3.googleusercontent.com/a-/AOh14Gipse8TyL-hlZMKPLX8ZzDD2sEC4QLbU69RnZm0Fw=s64",
      "userId": "10432301573263485509"
     },
     "user_tz": -330
    },
    "id": "Rp7b3GI3K4gF",
    "outputId": "d169d859-ba2f-4d8a-f15a-220486cd5c7a"
   },
   "outputs": [
    {
     "data": {
      "text/html": [
       "<div>\n",
       "<style scoped>\n",
       "    .dataframe tbody tr th:only-of-type {\n",
       "        vertical-align: middle;\n",
       "    }\n",
       "\n",
       "    .dataframe tbody tr th {\n",
       "        vertical-align: top;\n",
       "    }\n",
       "\n",
       "    .dataframe thead th {\n",
       "        text-align: right;\n",
       "    }\n",
       "</style>\n",
       "<table border=\"1\" class=\"dataframe\">\n",
       "  <thead>\n",
       "    <tr style=\"text-align: right;\">\n",
       "      <th></th>\n",
       "      <th>CRIM</th>\n",
       "      <th>ZN</th>\n",
       "      <th>INDUS</th>\n",
       "      <th>NOX</th>\n",
       "      <th>RM</th>\n",
       "      <th>AGE</th>\n",
       "      <th>RAD</th>\n",
       "      <th>TAX</th>\n",
       "      <th>PTRATIO</th>\n",
       "      <th>LSTAT</th>\n",
       "    </tr>\n",
       "  </thead>\n",
       "  <tbody>\n",
       "    <tr>\n",
       "      <th>0</th>\n",
       "      <td>0.129320</td>\n",
       "      <td>0.0</td>\n",
       "      <td>13.92</td>\n",
       "      <td>0.437</td>\n",
       "      <td>6.678</td>\n",
       "      <td>31.1</td>\n",
       "      <td>4.0</td>\n",
       "      <td>289.0</td>\n",
       "      <td>16.0</td>\n",
       "      <td>6.27</td>\n",
       "    </tr>\n",
       "    <tr>\n",
       "      <th>1</th>\n",
       "      <td>0.082210</td>\n",
       "      <td>22.0</td>\n",
       "      <td>5.86</td>\n",
       "      <td>0.431</td>\n",
       "      <td>6.957</td>\n",
       "      <td>6.8</td>\n",
       "      <td>7.0</td>\n",
       "      <td>330.0</td>\n",
       "      <td>19.1</td>\n",
       "      <td>3.53</td>\n",
       "    </tr>\n",
       "    <tr>\n",
       "      <th>2</th>\n",
       "      <td>0.341090</td>\n",
       "      <td>0.0</td>\n",
       "      <td>7.38</td>\n",
       "      <td>0.493</td>\n",
       "      <td>6.415</td>\n",
       "      <td>40.1</td>\n",
       "      <td>5.0</td>\n",
       "      <td>287.0</td>\n",
       "      <td>19.6</td>\n",
       "      <td>6.12</td>\n",
       "    </tr>\n",
       "    <tr>\n",
       "      <th>3</th>\n",
       "      <td>9.069639</td>\n",
       "      <td>0.0</td>\n",
       "      <td>18.10</td>\n",
       "      <td>0.671</td>\n",
       "      <td>6.223</td>\n",
       "      <td>100.0</td>\n",
       "      <td>24.0</td>\n",
       "      <td>666.0</td>\n",
       "      <td>20.2</td>\n",
       "      <td>21.78</td>\n",
       "    </tr>\n",
       "    <tr>\n",
       "      <th>4</th>\n",
       "      <td>0.534120</td>\n",
       "      <td>20.0</td>\n",
       "      <td>3.97</td>\n",
       "      <td>0.647</td>\n",
       "      <td>7.520</td>\n",
       "      <td>89.4</td>\n",
       "      <td>5.0</td>\n",
       "      <td>264.0</td>\n",
       "      <td>13.2</td>\n",
       "      <td>7.26</td>\n",
       "    </tr>\n",
       "    <tr>\n",
       "      <th>...</th>\n",
       "      <td>...</td>\n",
       "      <td>...</td>\n",
       "      <td>...</td>\n",
       "      <td>...</td>\n",
       "      <td>...</td>\n",
       "      <td>...</td>\n",
       "      <td>...</td>\n",
       "      <td>...</td>\n",
       "      <td>...</td>\n",
       "      <td>...</td>\n",
       "    </tr>\n",
       "    <tr>\n",
       "      <th>374</th>\n",
       "      <td>0.041130</td>\n",
       "      <td>25.0</td>\n",
       "      <td>4.86</td>\n",
       "      <td>0.426</td>\n",
       "      <td>6.727</td>\n",
       "      <td>33.5</td>\n",
       "      <td>4.0</td>\n",
       "      <td>281.0</td>\n",
       "      <td>19.0</td>\n",
       "      <td>5.29</td>\n",
       "    </tr>\n",
       "    <tr>\n",
       "      <th>375</th>\n",
       "      <td>5.731160</td>\n",
       "      <td>0.0</td>\n",
       "      <td>18.10</td>\n",
       "      <td>0.532</td>\n",
       "      <td>7.061</td>\n",
       "      <td>77.0</td>\n",
       "      <td>24.0</td>\n",
       "      <td>666.0</td>\n",
       "      <td>20.2</td>\n",
       "      <td>7.01</td>\n",
       "    </tr>\n",
       "    <tr>\n",
       "      <th>376</th>\n",
       "      <td>5.872050</td>\n",
       "      <td>0.0</td>\n",
       "      <td>18.10</td>\n",
       "      <td>0.693</td>\n",
       "      <td>6.405</td>\n",
       "      <td>96.0</td>\n",
       "      <td>24.0</td>\n",
       "      <td>666.0</td>\n",
       "      <td>20.2</td>\n",
       "      <td>19.37</td>\n",
       "    </tr>\n",
       "    <tr>\n",
       "      <th>377</th>\n",
       "      <td>9.069639</td>\n",
       "      <td>0.0</td>\n",
       "      <td>18.10</td>\n",
       "      <td>0.718</td>\n",
       "      <td>6.824</td>\n",
       "      <td>76.5</td>\n",
       "      <td>24.0</td>\n",
       "      <td>666.0</td>\n",
       "      <td>20.2</td>\n",
       "      <td>22.74</td>\n",
       "    </tr>\n",
       "    <tr>\n",
       "      <th>378</th>\n",
       "      <td>9.069639</td>\n",
       "      <td>0.0</td>\n",
       "      <td>18.10</td>\n",
       "      <td>0.713</td>\n",
       "      <td>6.185</td>\n",
       "      <td>98.7</td>\n",
       "      <td>24.0</td>\n",
       "      <td>666.0</td>\n",
       "      <td>20.2</td>\n",
       "      <td>18.13</td>\n",
       "    </tr>\n",
       "  </tbody>\n",
       "</table>\n",
       "<p>379 rows × 10 columns</p>\n",
       "</div>"
      ],
      "text/plain": [
       "         CRIM    ZN  INDUS    NOX     RM    AGE   RAD    TAX  PTRATIO  LSTAT\n",
       "0    0.129320   0.0  13.92  0.437  6.678   31.1   4.0  289.0     16.0   6.27\n",
       "1    0.082210  22.0   5.86  0.431  6.957    6.8   7.0  330.0     19.1   3.53\n",
       "2    0.341090   0.0   7.38  0.493  6.415   40.1   5.0  287.0     19.6   6.12\n",
       "3    9.069639   0.0  18.10  0.671  6.223  100.0  24.0  666.0     20.2  21.78\n",
       "4    0.534120  20.0   3.97  0.647  7.520   89.4   5.0  264.0     13.2   7.26\n",
       "..        ...   ...    ...    ...    ...    ...   ...    ...      ...    ...\n",
       "374  0.041130  25.0   4.86  0.426  6.727   33.5   4.0  281.0     19.0   5.29\n",
       "375  5.731160   0.0  18.10  0.532  7.061   77.0  24.0  666.0     20.2   7.01\n",
       "376  5.872050   0.0  18.10  0.693  6.405   96.0  24.0  666.0     20.2  19.37\n",
       "377  9.069639   0.0  18.10  0.718  6.824   76.5  24.0  666.0     20.2  22.74\n",
       "378  9.069639   0.0  18.10  0.713  6.185   98.7  24.0  666.0     20.2  18.13\n",
       "\n",
       "[379 rows x 10 columns]"
      ]
     },
     "execution_count": 56,
     "metadata": {},
     "output_type": "execute_result"
    }
   ],
   "source": [
    "pd.DataFrame(min_max.inverse_transform(x_train_transformed), columns = X_train.columns) \n",
    "# getting values back from transfored data using inverse_transform function"
   ]
  },
  {
   "cell_type": "code",
   "execution_count": 38,
   "metadata": {
    "colab": {
     "base_uri": "https://localhost:8080/"
    },
    "executionInfo": {
     "elapsed": 409,
     "status": "ok",
     "timestamp": 1627230633076,
     "user": {
      "displayName": "saranya nagarajan",
      "photoUrl": "",
      "userId": "05315324710831604653"
     },
     "user_tz": -330
    },
    "id": "9x2c52crK4gF",
    "outputId": "e77fe7da-e886-4e9d-818c-c2e0a7e142e4"
   },
   "outputs": [
    {
     "data": {
      "text/plain": [
       "LinearRegression()"
      ]
     },
     "execution_count": 38,
     "metadata": {},
     "output_type": "execute_result"
    }
   ],
   "source": [
    "# importing algorithm\n",
    "from sklearn.linear_model import LinearRegression\n",
    "\n",
    "# Create a Linear regressor\n",
    "lm = LinearRegression()\n",
    "\n",
    "# Train the model using the training sets \n",
    "lm.fit(x_train_transformed, y_train)"
   ]
  },
  {
   "cell_type": "code",
   "execution_count": 39,
   "metadata": {
    "colab": {
     "base_uri": "https://localhost:8080/"
    },
    "executionInfo": {
     "elapsed": 645,
     "status": "ok",
     "timestamp": 1627230638664,
     "user": {
      "displayName": "saranya nagarajan",
      "photoUrl": "",
      "userId": "05315324710831604653"
     },
     "user_tz": -330
    },
    "id": "fE-ZY2ohK4gF",
    "outputId": "a852f00f-fb77-4ee0-801b-b4043693a983"
   },
   "outputs": [
    {
     "data": {
      "text/plain": [
       "array([36.75905804, 21.74867837, 12.83343737, 32.60712766, 30.24588931,\n",
       "       20.20315576, 15.84711255, 31.12608388, 37.17739845,  1.50419939,\n",
       "       23.38048024, 11.09863074, 26.03611629, 31.25909868, 20.50577817,\n",
       "       21.62219998, 32.12646538, 23.40219561, 14.297703  , 11.68370399,\n",
       "       20.33143271, 16.34577819, 20.38064512, 19.93080279, 20.59123878,\n",
       "       15.30595082, 25.16943806, 10.43132293, 30.99635151, 21.88565107,\n",
       "       11.29133918, 32.21594805, 26.17889347, 14.72303455, 29.02828613,\n",
       "       35.93616563, 12.21637235, 20.25840916, 25.69321528, 21.64494804,\n",
       "       28.25212516, 21.13762824, 19.47717577, 18.61549004, 27.41934207,\n",
       "       35.79614171, 19.15140374, 14.49697757, 20.32942174, 25.65899823,\n",
       "       25.81723598,  7.0896988 , 21.01346771, 27.23892502, 16.39230933,\n",
       "       22.66592562, 21.19412798, 27.70640417, 28.65181413, 14.63578221,\n",
       "       28.7563757 ,  2.00745647, 20.81158423, 18.70781244, 27.41974444,\n",
       "       29.91129531, 14.71766585, 10.15876318, 23.87830122, 17.93089032,\n",
       "       30.88535077, 26.13232471, 13.83495522, 10.45805534, 21.48663988,\n",
       "       17.83343224, 15.57812871, 28.635523  ,  4.52255498, 15.70337228,\n",
       "       35.80344752, 25.98414909, 38.37146404, 21.03163107, 26.14082266,\n",
       "       18.9409463 , 23.2284384 , 19.8123152 , 24.87590328, 26.02215882,\n",
       "       10.62614317, 25.67414048,  2.60143043, 10.30216651, 19.71661799,\n",
       "       29.03188107, 34.52733768, 20.96266593, 18.99435191, 13.68888563,\n",
       "       35.65991637, 11.20517527, 17.75718758, 31.82821672, 21.42632079,\n",
       "       24.0333931 , 32.71403678, 40.73122727, 24.97883068, 29.60867214,\n",
       "       24.65104018, 26.61427132, 22.16501293, 29.2302805 , 25.17157945,\n",
       "       20.89788543, 18.95571752, 21.48224122, 23.50991041, 22.16556407,\n",
       "       27.35577641, 19.86711747, 27.45401804, 17.90670837, 26.45432397,\n",
       "       20.98783202, 30.01518073])"
      ]
     },
     "execution_count": 39,
     "metadata": {},
     "output_type": "execute_result"
    }
   ],
   "source": [
    "y_pred = lm.predict(x_test_transformed)\n",
    "y_pred"
   ]
  },
  {
   "cell_type": "code",
   "execution_count": 40,
   "metadata": {
    "colab": {
     "base_uri": "https://localhost:8080/",
     "height": 417
    },
    "executionInfo": {
     "elapsed": 418,
     "status": "ok",
     "timestamp": 1627230644204,
     "user": {
      "displayName": "saranya nagarajan",
      "photoUrl": "",
      "userId": "05315324710831604653"
     },
     "user_tz": -330
    },
    "id": "umCbrjs3K4gG",
    "outputId": "89bb88f5-7074-4668-c3c7-b982025cc730"
   },
   "outputs": [
    {
     "data": {
      "text/html": [
       "<div>\n",
       "<style scoped>\n",
       "    .dataframe tbody tr th:only-of-type {\n",
       "        vertical-align: middle;\n",
       "    }\n",
       "\n",
       "    .dataframe tbody tr th {\n",
       "        vertical-align: top;\n",
       "    }\n",
       "\n",
       "    .dataframe thead th {\n",
       "        text-align: right;\n",
       "    }\n",
       "</style>\n",
       "<table border=\"1\" class=\"dataframe\">\n",
       "  <thead>\n",
       "    <tr style=\"text-align: right;\">\n",
       "      <th></th>\n",
       "      <th>CRIM</th>\n",
       "      <th>ZN</th>\n",
       "      <th>INDUS</th>\n",
       "      <th>NOX</th>\n",
       "      <th>RM</th>\n",
       "      <th>AGE</th>\n",
       "      <th>RAD</th>\n",
       "      <th>TAX</th>\n",
       "      <th>PTRATIO</th>\n",
       "      <th>LSTAT</th>\n",
       "      <th>y_test</th>\n",
       "      <th>predictions</th>\n",
       "    </tr>\n",
       "  </thead>\n",
       "  <tbody>\n",
       "    <tr>\n",
       "      <th>157</th>\n",
       "      <td>1.22358</td>\n",
       "      <td>0.00</td>\n",
       "      <td>19.58</td>\n",
       "      <td>0.605</td>\n",
       "      <td>6.943</td>\n",
       "      <td>97.4</td>\n",
       "      <td>5.0</td>\n",
       "      <td>403.0</td>\n",
       "      <td>14.7</td>\n",
       "      <td>4.59</td>\n",
       "      <td>41.3</td>\n",
       "      <td>36.759058</td>\n",
       "    </tr>\n",
       "    <tr>\n",
       "      <th>358</th>\n",
       "      <td>5.20177</td>\n",
       "      <td>0.00</td>\n",
       "      <td>18.10</td>\n",
       "      <td>0.770</td>\n",
       "      <td>6.127</td>\n",
       "      <td>83.4</td>\n",
       "      <td>24.0</td>\n",
       "      <td>666.0</td>\n",
       "      <td>20.2</td>\n",
       "      <td>11.48</td>\n",
       "      <td>22.7</td>\n",
       "      <td>21.748678</td>\n",
       "    </tr>\n",
       "    <tr>\n",
       "      <th>495</th>\n",
       "      <td>0.17899</td>\n",
       "      <td>0.00</td>\n",
       "      <td>9.69</td>\n",
       "      <td>0.585</td>\n",
       "      <td>5.670</td>\n",
       "      <td>28.8</td>\n",
       "      <td>6.0</td>\n",
       "      <td>391.0</td>\n",
       "      <td>19.2</td>\n",
       "      <td>17.60</td>\n",
       "      <td>23.1</td>\n",
       "      <td>12.833437</td>\n",
       "    </tr>\n",
       "    <tr>\n",
       "      <th>299</th>\n",
       "      <td>0.05561</td>\n",
       "      <td>31.25</td>\n",
       "      <td>2.24</td>\n",
       "      <td>0.400</td>\n",
       "      <td>7.041</td>\n",
       "      <td>10.0</td>\n",
       "      <td>5.0</td>\n",
       "      <td>358.0</td>\n",
       "      <td>14.8</td>\n",
       "      <td>4.74</td>\n",
       "      <td>29.0</td>\n",
       "      <td>32.607128</td>\n",
       "    </tr>\n",
       "    <tr>\n",
       "      <th>193</th>\n",
       "      <td>0.02187</td>\n",
       "      <td>31.25</td>\n",
       "      <td>2.93</td>\n",
       "      <td>0.401</td>\n",
       "      <td>6.800</td>\n",
       "      <td>9.9</td>\n",
       "      <td>1.0</td>\n",
       "      <td>265.0</td>\n",
       "      <td>15.6</td>\n",
       "      <td>5.03</td>\n",
       "      <td>31.1</td>\n",
       "      <td>30.245889</td>\n",
       "    </tr>\n",
       "    <tr>\n",
       "      <th>...</th>\n",
       "      <td>...</td>\n",
       "      <td>...</td>\n",
       "      <td>...</td>\n",
       "      <td>...</td>\n",
       "      <td>...</td>\n",
       "      <td>...</td>\n",
       "      <td>...</td>\n",
       "      <td>...</td>\n",
       "      <td>...</td>\n",
       "      <td>...</td>\n",
       "      <td>...</td>\n",
       "      <td>...</td>\n",
       "    </tr>\n",
       "    <tr>\n",
       "      <th>293</th>\n",
       "      <td>0.08265</td>\n",
       "      <td>0.00</td>\n",
       "      <td>13.92</td>\n",
       "      <td>0.437</td>\n",
       "      <td>6.127</td>\n",
       "      <td>18.4</td>\n",
       "      <td>4.0</td>\n",
       "      <td>289.0</td>\n",
       "      <td>16.0</td>\n",
       "      <td>8.58</td>\n",
       "      <td>23.9</td>\n",
       "      <td>27.454018</td>\n",
       "    </tr>\n",
       "    <tr>\n",
       "      <th>497</th>\n",
       "      <td>0.26838</td>\n",
       "      <td>0.00</td>\n",
       "      <td>9.69</td>\n",
       "      <td>0.585</td>\n",
       "      <td>5.794</td>\n",
       "      <td>70.6</td>\n",
       "      <td>6.0</td>\n",
       "      <td>391.0</td>\n",
       "      <td>19.2</td>\n",
       "      <td>14.10</td>\n",
       "      <td>18.3</td>\n",
       "      <td>17.906708</td>\n",
       "    </tr>\n",
       "    <tr>\n",
       "      <th>56</th>\n",
       "      <td>0.02055</td>\n",
       "      <td>31.25</td>\n",
       "      <td>0.74</td>\n",
       "      <td>0.410</td>\n",
       "      <td>6.383</td>\n",
       "      <td>35.7</td>\n",
       "      <td>2.0</td>\n",
       "      <td>313.0</td>\n",
       "      <td>17.3</td>\n",
       "      <td>5.77</td>\n",
       "      <td>24.7</td>\n",
       "      <td>26.454324</td>\n",
       "    </tr>\n",
       "    <tr>\n",
       "      <th>359</th>\n",
       "      <td>4.26131</td>\n",
       "      <td>0.00</td>\n",
       "      <td>18.10</td>\n",
       "      <td>0.770</td>\n",
       "      <td>6.112</td>\n",
       "      <td>81.3</td>\n",
       "      <td>24.0</td>\n",
       "      <td>666.0</td>\n",
       "      <td>20.2</td>\n",
       "      <td>12.67</td>\n",
       "      <td>22.6</td>\n",
       "      <td>20.987832</td>\n",
       "    </tr>\n",
       "    <tr>\n",
       "      <th>298</th>\n",
       "      <td>0.06466</td>\n",
       "      <td>31.25</td>\n",
       "      <td>2.24</td>\n",
       "      <td>0.400</td>\n",
       "      <td>6.345</td>\n",
       "      <td>20.1</td>\n",
       "      <td>5.0</td>\n",
       "      <td>358.0</td>\n",
       "      <td>14.8</td>\n",
       "      <td>4.97</td>\n",
       "      <td>22.5</td>\n",
       "      <td>30.015181</td>\n",
       "    </tr>\n",
       "  </tbody>\n",
       "</table>\n",
       "<p>127 rows × 12 columns</p>\n",
       "</div>"
      ],
      "text/plain": [
       "        CRIM     ZN  INDUS    NOX     RM   AGE   RAD    TAX  PTRATIO  LSTAT  \\\n",
       "157  1.22358   0.00  19.58  0.605  6.943  97.4   5.0  403.0     14.7   4.59   \n",
       "358  5.20177   0.00  18.10  0.770  6.127  83.4  24.0  666.0     20.2  11.48   \n",
       "495  0.17899   0.00   9.69  0.585  5.670  28.8   6.0  391.0     19.2  17.60   \n",
       "299  0.05561  31.25   2.24  0.400  7.041  10.0   5.0  358.0     14.8   4.74   \n",
       "193  0.02187  31.25   2.93  0.401  6.800   9.9   1.0  265.0     15.6   5.03   \n",
       "..       ...    ...    ...    ...    ...   ...   ...    ...      ...    ...   \n",
       "293  0.08265   0.00  13.92  0.437  6.127  18.4   4.0  289.0     16.0   8.58   \n",
       "497  0.26838   0.00   9.69  0.585  5.794  70.6   6.0  391.0     19.2  14.10   \n",
       "56   0.02055  31.25   0.74  0.410  6.383  35.7   2.0  313.0     17.3   5.77   \n",
       "359  4.26131   0.00  18.10  0.770  6.112  81.3  24.0  666.0     20.2  12.67   \n",
       "298  0.06466  31.25   2.24  0.400  6.345  20.1   5.0  358.0     14.8   4.97   \n",
       "\n",
       "     y_test  predictions  \n",
       "157    41.3    36.759058  \n",
       "358    22.7    21.748678  \n",
       "495    23.1    12.833437  \n",
       "299    29.0    32.607128  \n",
       "193    31.1    30.245889  \n",
       "..      ...          ...  \n",
       "293    23.9    27.454018  \n",
       "497    18.3    17.906708  \n",
       "56     24.7    26.454324  \n",
       "359    22.6    20.987832  \n",
       "298    22.5    30.015181  \n",
       "\n",
       "[127 rows x 12 columns]"
      ]
     },
     "execution_count": 40,
     "metadata": {},
     "output_type": "execute_result"
    }
   ],
   "source": [
    "# visualising predictions along with actual data and price\n",
    "test_results = pd.DataFrame(X_test)\n",
    "test_results['y_test'] = y_test\n",
    "test_results['predictions'] = y_pred\n",
    "test_results"
   ]
  },
  {
   "cell_type": "code",
   "execution_count": 45,
   "metadata": {
    "colab": {
     "base_uri": "https://localhost:8080/",
     "height": 202
    },
    "executionInfo": {
     "elapsed": 425,
     "status": "ok",
     "timestamp": 1627230659069,
     "user": {
      "displayName": "saranya nagarajan",
      "photoUrl": "",
      "userId": "05315324710831604653"
     },
     "user_tz": -330
    },
    "id": "htpBF-RHK4gG",
    "outputId": "ae47a890-9b14-49ab-b746-b654d30953c2"
   },
   "outputs": [
    {
     "data": {
      "text/plain": [
       "23.677809188700763"
      ]
     },
     "metadata": {},
     "output_type": "display_data"
    },
    {
     "data": {
      "text/plain": [
       "[(-2.7471418555342506, 'CRIM'),\n",
       " (-0.7853949879970377, 'ZN'),\n",
       " (3.588972706782819, 'INDUS'),\n",
       " (-4.4783120864660475, 'NOX'),\n",
       " (21.50111435034733, 'RM'),\n",
       " (4.462912797392623, 'AGE'),\n",
       " (9.151162075223152, 'RAD'),\n",
       " (-7.524751000419834, 'TAX'),\n",
       " (-10.707918678629449, 'PTRATIO'),\n",
       " (-22.454184924190553, 'LSTAT')]"
      ]
     },
     "metadata": {},
     "output_type": "display_data"
    }
   ],
   "source": [
    "'''y = mx +c -----> y = m1x1 + m2mx + .....+ mN Xn + C'''\n",
    "display(lm.intercept_ , list(zip(lm.coef_, X_train.columns)))"
   ]
  },
  {
   "cell_type": "code",
   "execution_count": 46,
   "metadata": {
    "id": "zooDGHlCK4gG"
   },
   "outputs": [
    {
     "data": {
      "text/html": [
       "<div>\n",
       "<style scoped>\n",
       "    .dataframe tbody tr th:only-of-type {\n",
       "        vertical-align: middle;\n",
       "    }\n",
       "\n",
       "    .dataframe tbody tr th {\n",
       "        vertical-align: top;\n",
       "    }\n",
       "\n",
       "    .dataframe thead th {\n",
       "        text-align: right;\n",
       "    }\n",
       "</style>\n",
       "<table border=\"1\" class=\"dataframe\">\n",
       "  <thead>\n",
       "    <tr style=\"text-align: right;\">\n",
       "      <th></th>\n",
       "      <th>Coefficient</th>\n",
       "    </tr>\n",
       "  </thead>\n",
       "  <tbody>\n",
       "    <tr>\n",
       "      <th>CRIM</th>\n",
       "      <td>-2.747142</td>\n",
       "    </tr>\n",
       "    <tr>\n",
       "      <th>ZN</th>\n",
       "      <td>-0.785395</td>\n",
       "    </tr>\n",
       "    <tr>\n",
       "      <th>INDUS</th>\n",
       "      <td>3.588973</td>\n",
       "    </tr>\n",
       "    <tr>\n",
       "      <th>NOX</th>\n",
       "      <td>-4.478312</td>\n",
       "    </tr>\n",
       "    <tr>\n",
       "      <th>RM</th>\n",
       "      <td>21.501114</td>\n",
       "    </tr>\n",
       "    <tr>\n",
       "      <th>AGE</th>\n",
       "      <td>4.462913</td>\n",
       "    </tr>\n",
       "    <tr>\n",
       "      <th>RAD</th>\n",
       "      <td>9.151162</td>\n",
       "    </tr>\n",
       "    <tr>\n",
       "      <th>TAX</th>\n",
       "      <td>-7.524751</td>\n",
       "    </tr>\n",
       "    <tr>\n",
       "      <th>PTRATIO</th>\n",
       "      <td>-10.707919</td>\n",
       "    </tr>\n",
       "    <tr>\n",
       "      <th>LSTAT</th>\n",
       "      <td>-22.454185</td>\n",
       "    </tr>\n",
       "  </tbody>\n",
       "</table>\n",
       "</div>"
      ],
      "text/plain": [
       "         Coefficient\n",
       "CRIM       -2.747142\n",
       "ZN         -0.785395\n",
       "INDUS       3.588973\n",
       "NOX        -4.478312\n",
       "RM         21.501114\n",
       "AGE         4.462913\n",
       "RAD         9.151162\n",
       "TAX        -7.524751\n",
       "PTRATIO   -10.707919\n",
       "LSTAT     -22.454185"
      ]
     },
     "execution_count": 46,
     "metadata": {},
     "output_type": "execute_result"
    }
   ],
   "source": [
    "coeff_df = pd.DataFrame(lm.coef_, X.columns, columns=['Coefficient'])\n",
    "coeff_df"
   ]
  },
  {
   "cell_type": "code",
   "execution_count": 47,
   "metadata": {
    "id": "wNArWRABK4gH"
   },
   "outputs": [],
   "source": [
    "from sklearn.metrics import  mean_absolute_error, mean_squared_error, r2_score"
   ]
  },
  {
   "cell_type": "code",
   "execution_count": 52,
   "metadata": {
    "id": "-aDWeqWJK4gH",
    "outputId": "a47d15cb-79ef-46ec-adc4-e7587ee021c0"
   },
   "outputs": [
    {
     "name": "stdout",
     "output_type": "stream",
     "text": [
      "R^2: 0.4791378230697676\n",
      "Adjusted R^2: 0.4243102254981641\n",
      "MAE: 3.5951235150087935\n",
      "MSE: 24.302979003902024\n",
      "RMSE: 4.929805168959725\n"
     ]
    }
   ],
   "source": [
    "print('R^2:',r2_score(y_test, y_pred))\n",
    "\n",
    "print('Adjusted R^2:',1 - (1-r2_score(y_test, y_pred))*(len(y_test)-1)/(len(y_test)-X_test.shape[1]-1))\n",
    "\n",
    "print('MAE:',mean_absolute_error(y_test, y_pred))\n",
    "\n",
    "print('MSE:',mean_squared_error(y_test, y_pred))\n",
    "\n",
    "print('RMSE:',np.sqrt(mean_squared_error(y_test, y_pred)))"
   ]
  },
  {
   "cell_type": "code",
   "execution_count": null,
   "metadata": {},
   "outputs": [],
   "source": []
  },
  {
   "cell_type": "markdown",
   "metadata": {
    "id": "xjjR71FWK4gI"
   },
   "source": [
    "#### OVERFITTING and UNDERFITTING\n",
    "\n",
    "Overfitting happens to have - when Train Results (90 R2) > Test Results (60 R2)\n",
    "\n",
    "\n",
    "Underfittig happens to have - Both Train and Test Results are not Good  - (R2 score - 50- train data & r2 score - 48 test data)"
   ]
  },
  {
   "cell_type": "code",
   "execution_count": 54,
   "metadata": {
    "id": "M-RMnfaEK4gI",
    "outputId": "c8f618b0-d99d-4641-a9f0-1b7d96856346"
   },
   "outputs": [
    {
     "ename": "SyntaxError",
     "evalue": "invalid syntax (<ipython-input-54-1eb07487000f>, line 13)",
     "output_type": "error",
     "traceback": [
      "\u001b[1;36m  File \u001b[1;32m\"<ipython-input-54-1eb07487000f>\"\u001b[1;36m, line \u001b[1;32m13\u001b[0m\n\u001b[1;33m    y_pred = lm.predict2_score(y_test, y_pred))\u001b[0m\n\u001b[1;37m    ^\u001b[0m\n\u001b[1;31mSyntaxError\u001b[0m\u001b[1;31m:\u001b[0m invalid syntax\n"
     ]
    }
   ],
   "source": [
    "# TRAIN ERROR\n",
    "y_train_pred = lm.predict(x_train_transformed)\n",
    "# # Model Evaluation\n",
    "print('R^2 Train:',metrics.r2_score(y_train, y_train_pred))\n",
    "print('Adjusted R^2:',1 - (1-metrics.r2_score(y_train, y_train_pred))*(len(y_train)-1)/(len(y_train)-X_train.shape[1]-1))\n",
    "print('MAE train:',metrics.mean_absolute_error(y_train, y_train_pred))\n",
    "print('MSE train:',metrics.mean_squared_error(y_train, y_train_pred))\n",
    "print('RMSE:',np.sqrt(metrics.mean_squared_error(y_train,y_train_pred)))\n",
    "\n",
    "\n",
    "# Testing Error(x_test_transformed)\n",
    "print('\\n R^2 Test:',metrics.r\n",
    "y_pred = lm.predict2_score(y_test, y_pred))\n",
    "print('Adjusted R^2:',1 - (1-metrics.r2_score(y_test, y_pred))*(len(y_test)-1)/(len(y_test)-X_test.shape[1]-1))\n",
    "print('MAE test:',metrics.mean_absolute_error(y_test, y_pred))\n",
    "print('MSE test:',metrics.mean_squared_error(y_test, y_pred))\n",
    "print('RMSE:',np.sqrt(metrics.mean_squared_error(y_test, y_pred)))"
   ]
  },
  {
   "cell_type": "markdown",
   "metadata": {
    "id": "UVt6tsI6K4gJ"
   },
   "source": [
    "# 1. Visualizing the differences between actual prices and predicted values"
   ]
  },
  {
   "cell_type": "code",
   "execution_count": 55,
   "metadata": {
    "colab": {
     "base_uri": "https://localhost:8080/",
     "height": 180
    },
    "executionInfo": {
     "elapsed": 1406,
     "status": "error",
     "timestamp": 1627231926109,
     "user": {
      "displayName": "karan sharma",
      "photoUrl": "https://lh3.googleusercontent.com/a-/AOh14Gipse8TyL-hlZMKPLX8ZzDD2sEC4QLbU69RnZm0Fw=s64",
      "userId": "10432301573263485509"
     },
     "user_tz": -330
    },
    "id": "eQeNtKl8LlTy",
    "outputId": "8b11590d-9db5-4e65-f3b0-5fe672a9dc95"
   },
   "outputs": [
    {
     "name": "stderr",
     "output_type": "stream",
     "text": [
      "C:\\Users\\sagarsah\\Anaconda3\\lib\\site-packages\\seaborn\\_decorators.py:36: FutureWarning: Pass the following variables as keyword args: x, y. From version 0.12, the only valid positional argument will be `data`, and passing other arguments without an explicit keyword will result in an error or misinterpretation.\n",
      "  warnings.warn(\n"
     ]
    },
    {
     "data": {
      "text/plain": [
       "<AxesSubplot:xlabel='PRICE', ylabel='CRIM'>"
      ]
     },
     "execution_count": 55,
     "metadata": {},
     "output_type": "execute_result"
    },
    {
     "data": {
      "image/png": "[encoded data removed]",
      "text/plain": [
       "<Figure size 432x288 with 1 Axes>"
      ]
     },
     "metadata": {
      "needs_background": "light"
     },
     "output_type": "display_data"
    }
   ],
   "source": [
    "import seaborn as sns\n",
    "sns.regplot(data_frame['PRICE'],data_frame['CRIM'], data=data_frame)"
   ]
  },
  {
   "cell_type": "code",
   "execution_count": null,
   "metadata": {
    "colab": {
     "base_uri": "https://localhost:8080/",
     "height": 351
    },
    "executionInfo": {
     "elapsed": 565,
     "status": "ok",
     "timestamp": 1627225409460,
     "user": {
      "displayName": "sujata drall",
      "photoUrl": "",
      "userId": "07858160099359690614"
     },
     "user_tz": -330
    },
    "id": "EEwGDD8hL5xH",
    "outputId": "a42fc97c-1506-4117-a3d8-19894702f7a7"
   },
   "outputs": [
    {
     "name": "stderr",
     "output_type": "stream",
     "text": [
      "/usr/local/lib/python3.7/dist-packages/seaborn/_decorators.py:43: FutureWarning: Pass the following variables as keyword args: x, y. From version 0.12, the only valid positional argument will be `data`, and passing other arguments without an explicit keyword will result in an error or misinterpretation.\n",
      "  FutureWarning\n"
     ]
    },
    {
     "data": {
      "text/plain": [
       "<matplotlib.axes._subplots.AxesSubplot at 0x7fc930fb36d0>"
      ]
     },
     "execution_count": 13,
     "metadata": {
      "tags": []
     },
     "output_type": "execute_result"
    },
    {
     "data": {
      "image/png": "[encoded data removed]",
      "text/plain": [
       "<Figure size 432x288 with 1 Axes>"
      ]
     },
     "metadata": {
      "needs_background": "light",
      "tags": []
     },
     "output_type": "display_data"
    }
   ],
   "source": [
    "sns.regplot(data_frame['RM'],data_frame['PRICE'], data=data_frame)"
   ]
  },
  {
   "cell_type": "code",
   "execution_count": null,
   "metadata": {
    "id": "RTUitMWpK4gJ",
    "outputId": "4e5946ab-215b-405c-bb17-fd9657bd0cd3"
   },
   "outputs": [
    {
     "data": {
      "image/png": "[encoded data removed]",
      "text/plain": [
       "<Figure size 432x288 with 1 Axes>"
      ]
     },
     "metadata": {
      "needs_background": "light",
      "tags": []
     },
     "output_type": "display_data"
    }
   ],
   "source": [
    "plt.scatter(y_test,\n",
    "            y_pred , \n",
    "            color = 'red')\n",
    "plt.xlabel(\"Prices\")\n",
    "plt.ylabel(\"Predicted prices\")\n",
    "plt.title(\"Prices vs Predicted prices\")\n",
    "plt.show()\n"
   ]
  },
  {
   "cell_type": "markdown",
   "metadata": {
    "id": "hho0muv8K4gK"
   },
   "source": [
    "# 2.  Checking residuals - Heteroskedasticity - The presence of non-constant variance in the error terms results n heteroskedasticity\n",
    "\n",
    "\n",
    "# The  variance in the error terms should be costant. \n"
   ]
  },
  {
   "cell_type": "code",
   "execution_count": null,
   "metadata": {
    "id": "tgL_8iKlK4gL",
    "outputId": "b0b835f5-9545-46d0-d392-a361300e5ed7"
   },
   "outputs": [
    {
     "data": {
      "image/png": "[encoded data removed]",
      "text/plain": [
       "<Figure size 432x288 with 1 Axes>"
      ]
     },
     "metadata": {
      "needs_background": "light",
      "tags": []
     },
     "output_type": "display_data"
    }
   ],
   "source": [
    "plt.scatter(y_pred,\n",
    "            y_test-y_pred)\n",
    "\n",
    "plt.title(\"Predicted vs residuals\")\n",
    "plt.xlabel(\"Predicted\")\n",
    "plt.ylabel(\"Residuals\")\n",
    "plt.show()\n"
   ]
  },
  {
   "cell_type": "markdown",
   "metadata": {
    "id": "gdQbNHeUK4gN"
   },
   "source": [
    "# 3. Checking Normality of errors\n"
   ]
  },
  {
   "cell_type": "code",
   "execution_count": null,
   "metadata": {
    "id": "UFKRweoAK4gN",
    "outputId": "21a79ca8-cf56-4fef-c99c-d9d8d07c6fbc"
   },
   "outputs": [
    {
     "name": "stderr",
     "output_type": "stream",
     "text": [
      "C:\\Users\\Dralls\\anaconda3\\lib\\site-packages\\seaborn\\distributions.py:2551: FutureWarning: `distplot` is a deprecated function and will be removed in a future version. Please adapt your code to use either `displot` (a figure-level function with similar flexibility) or `histplot` (an axes-level function for histograms).\n",
      "  warnings.warn(msg, FutureWarning)\n"
     ]
    },
    {
     "data": {
      "image/png": "[encoded data removed]",
      "text/plain": [
       "<Figure size 432x288 with 1 Axes>"
      ]
     },
     "metadata": {
      "needs_background": "light",
      "tags": []
     },
     "output_type": "display_data"
    }
   ],
   "source": [
    "sns.distplot(y_test-y_pred)\n",
    "\n",
    "plt.title(\"Histogram of Residuals\")\n",
    "plt.xlabel(\"Residuals\")\n",
    "plt.ylabel(\"Frequency\")\n",
    "plt.show()"
   ]
  },
  {
   "cell_type": "markdown",
   "metadata": {
    "id": "3AAq93K4K4gN"
   },
   "source": [
    "# 4. Check for Multicollinearity\n",
    "\n",
    "\"multicollinearity\" refers to predictors that are correlated with other predictors\n",
    "\n",
    "* If the VIF is equal to 1 there is no multicollinearity among factors,\n",
    "  but if the VIF is greater than 1, the predictors may be moderately correlated. \n",
    "  \n",
    "*  A VIF between 5 and 10 indicates high multicollinearity that may be problematic"
   ]
  },
  {
   "cell_type": "markdown",
   "metadata": {
    "id": "76ptiqc7K4gO"
   },
   "source": [
    "# Dealing with it\n",
    "\n",
    "* Remove highly correlated predictors from the model.  \n",
    "  If you have two or more factors with a high VIF, remove one from the model. \n",
    "  Because they supply redundant information, removing one of the correlated \n",
    "  factors usually doesn't drastically reduce the R-squared\n",
    "  \n",
    "* Can also Use PCA"
   ]
  },
  {
   "cell_type": "code",
   "execution_count": null,
   "metadata": {
    "colab": {
     "base_uri": "https://localhost:8080/"
    },
    "executionInfo": {
     "elapsed": 2985,
     "status": "ok",
     "timestamp": 1627225091377,
     "user": {
      "displayName": "sujata drall",
      "photoUrl": "",
      "userId": "07858160099359690614"
     },
     "user_tz": -330
    },
    "id": "yo3jq3xRK4gO",
    "outputId": "6b3f111f-8c66-42c5-c649-b786e24892d0"
   },
   "outputs": [
    {
     "name": "stderr",
     "output_type": "stream",
     "text": [
      "/usr/local/lib/python3.7/dist-packages/statsmodels/tools/_testing.py:19: FutureWarning: pandas.util.testing is deprecated. Use the functions in the public API at pandas.testing instead.\n",
      "  import pandas.util.testing as tm\n"
     ]
    }
   ],
   "source": [
    "from statsmodels.stats.outliers_influence import variance_inflation_factor"
   ]
  },
  {
   "cell_type": "code",
   "execution_count": null,
   "metadata": {
    "colab": {
     "base_uri": "https://localhost:8080/",
     "height": 167
    },
    "executionInfo": {
     "elapsed": 20,
     "status": "error",
     "timestamp": 1627225091379,
     "user": {
      "displayName": "sujata drall",
      "photoUrl": "",
      "userId": "07858160099359690614"
     },
     "user_tz": -330
    },
    "id": "nQd6tCE4K4gO",
    "outputId": "f44f6e30-ec83-42c6-d7c1-1676f1355da8"
   },
   "outputs": [
    {
     "ename": "NameError",
     "evalue": "ignored",
     "output_type": "error",
     "traceback": [
      "\u001b[0;31m---------------------------------------------------------------------------\u001b[0m",
      "\u001b[0;31mNameError\u001b[0m                                 Traceback (most recent call last)",
      "\u001b[0;32m<ipython-input-2-6c508df7fc59>\u001b[0m in \u001b[0;36m<module>\u001b[0;34m()\u001b[0m\n\u001b[0;32m----> 1\u001b[0;31m \u001b[0mdata_frame\u001b[0m\u001b[0;34m.\u001b[0m\u001b[0mshape\u001b[0m\u001b[0;34m[\u001b[0m\u001b[0;36m1\u001b[0m\u001b[0;34m]\u001b[0m\u001b[0;34m\u001b[0m\u001b[0;34m\u001b[0m\u001b[0m\n\u001b[0m",
      "\u001b[0;31mNameError\u001b[0m: name 'data_frame' is not defined"
     ]
    }
   ],
   "source": [
    "data_frame.shape[1]"
   ]
  },
  {
   "cell_type": "code",
   "execution_count": null,
   "metadata": {
    "id": "GelK99SzK4gO"
   },
   "outputs": [],
   "source": [
    "# VIF(array , index)\n",
    "h = [variance_inflation_factor(data_frame2.drop(['B','PTRATIO','PRICE'], axis=1).values, i) for i in range(11)]\n",
    "pd.DataFrame(h, index=data_frame2.drop(['B','PTRATIO','PRICE'], axis=1).columns, columns = ['VIF Score'])\n",
    "\n",
    "# VIF < 4 - no multicollinearity\n",
    "# VIF > 4 - 10 - multicollinearity"
   ]
  },
  {
   "cell_type": "markdown",
   "metadata": {
    "id": "2e-mjxy5K4gP"
   },
   "source": [
    "# 5. Durbin- Watson Test for Autocoorelation for Errors\n"
   ]
  },
  {
   "cell_type": "code",
   "execution_count": null,
   "metadata": {
    "id": "RqMoJIvFK4gP"
   },
   "outputs": [],
   "source": [
    "from statsmodels.stats.stattools import durbin_watson"
   ]
  },
  {
   "cell_type": "code",
   "execution_count": null,
   "metadata": {
    "id": "D3YXSUuSK4gP"
   },
   "outputs": [],
   "source": [
    "# y_test - y_pred # SKLEARN LINEAR REGRESSION PREDICTED VALUE"
   ]
  },
  {
   "cell_type": "code",
   "execution_count": null,
   "metadata": {
    "id": "1J5kA--NK4gQ",
    "outputId": "a3ee0b47-8af2-4e24-bf67-66abcc6172b4"
   },
   "outputs": [
    {
     "data": {
      "text/plain": [
       "2.0062636540270256"
      ]
     },
     "execution_count": 114,
     "metadata": {
      "tags": []
     },
     "output_type": "execute_result"
    }
   ],
   "source": [
    "durbin_watson(y_test-y_pred)"
   ]
  },
  {
   "cell_type": "code",
   "execution_count": null,
   "metadata": {
    "id": "ZGTwUwGdK4gQ"
   },
   "outputs": [],
   "source": []
  }
 ],
 "metadata": {
  "colab": {
   "collapsed_sections": [
    "KgKFU9E8K4gD",
    "xjjR71FWK4gI",
    "hho0muv8K4gK",
    "gdQbNHeUK4gN",
    "3AAq93K4K4gN",
    "76ptiqc7K4gO",
    "2e-mjxy5K4gP"
   ],
   "name": "Boston Housing Prediction.ipynb",
   "provenance": []
  },
  "kernelspec": {
   "display_name": "Python 3",
   "language": "python",
   "name": "python3"
  },
  "language_info": {
   "codemirror_mode": {
    "name": "ipython",
    "version": 3
   },
   "file_extension": ".py",
   "mimetype": "text/x-python",
   "name": "python",
   "nbconvert_exporter": "python",
   "pygments_lexer": "ipython3",
   "version": "3.8.5"
  }
 },
 "nbformat": 4,
 "nbformat_minor": 1
}
