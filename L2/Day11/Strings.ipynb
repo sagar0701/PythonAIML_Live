{
  "nbformat": 4,
  "nbformat_minor": 0,
  "metadata": {
    "colab": {
      "name": "Strings.ipynb",
      "provenance": [],
      "collapsed_sections": []
    },
    "kernelspec": {
      "display_name": "Python 3",
      "language": "python",
      "name": "python3"
    },
    "language_info": {
      "codemirror_mode": {
        "name": "ipython",
        "version": 3
      },
      "file_extension": ".py",
      "mimetype": "text/x-python",
      "name": "python",
      "nbconvert_exporter": "python",
      "pygments_lexer": "ipython3",
      "version": "3.8.8"
    },
    "varInspector": {
      "cols": {
        "lenName": 16,
        "lenType": 16,
        "lenVar": 40
      },
      "kernels_config": {
        "python": {
          "delete_cmd_postfix": "",
          "delete_cmd_prefix": "del ",
          "library": "var_list.py",
          "varRefreshCmd": "print(var_dic_list())"
        },
        "r": {
          "delete_cmd_postfix": ") ",
          "delete_cmd_prefix": "rm(",
          "library": "var_list.r",
          "varRefreshCmd": "cat(var_dic_list()) "
        }
      },
      "types_to_exclude": [
        "module",
        "function",
        "builtin_function_or_method",
        "instance",
        "_Feature"
      ],
      "window_display": false
    }
  },
  "cells": [
    {
      "cell_type": "code",
      "metadata": {
        "ExecuteTime": {
          "end_time": "2021-03-31T05:29:24.362210Z",
          "start_time": "2021-03-31T05:29:24.338256Z"
        },
        "colab": {
          "base_uri": "https://localhost:8080/"
        },
        "id": "BlYEQtr2DgBO",
        "outputId": "0d6e36a3-56b3-4092-a64d-09daa7fb0d35"
      },
      "source": [
        "# creating a string\n",
        "s = 'PYTHON'\n",
        "s, type(s)"
      ],
      "execution_count": null,
      "outputs": [
        {
          "data": {
            "text/plain": [
              "('PYTHON', str)"
            ]
          },
          "execution_count": 1,
          "metadata": {},
          "output_type": "execute_result"
        }
      ]
    },
    {
      "cell_type": "code",
      "metadata": {
        "ExecuteTime": {
          "end_time": "2021-03-31T05:33:15.774075Z",
          "start_time": "2021-03-31T05:33:15.757549Z"
        },
        "colab": {
          "base_uri": "https://localhost:8080/"
        },
        "id": "UFvo9LnVD-QB",
        "outputId": "e6721467-1d99-4296-a8f3-b7090e65216e"
      },
      "source": [
        "# depicting string indexes\n",
        "for index, character in enumerate(s):\n",
        "    print('Character ->', character, 'has index->', index)"
      ],
      "execution_count": null,
      "outputs": [
        {
          "name": "stdout",
          "output_type": "stream",
          "text": [
            "Character -> P has index-> 0\n",
            "Character -> Y has index-> 1\n",
            "Character -> T has index-> 2\n",
            "Character -> H has index-> 3\n",
            "Character -> O has index-> 4\n",
            "Character -> N has index-> 5\n"
          ]
        }
      ]
    },
    {
      "cell_type": "code",
      "metadata": {
        "ExecuteTime": {
          "end_time": "2021-03-31T05:33:31.189852Z",
          "start_time": "2021-03-31T05:33:31.173655Z"
        },
        "colab": {
          "base_uri": "https://localhost:8080/"
        },
        "id": "z6B656eUD-ET",
        "outputId": "36df8f13-17c7-41e5-cc51-a8c5999635f7"
      },
      "source": [
        "s[0], s[1], s[2], s[3], s[4], s[5]"
      ],
      "execution_count": null,
      "outputs": [
        {
          "data": {
            "text/plain": [
              "('P', 'Y', 'T', 'H', 'O', 'N')"
            ]
          },
          "execution_count": 8,
          "metadata": {},
          "output_type": "execute_result"
        }
      ]
    },
    {
      "cell_type": "code",
      "metadata": {
        "ExecuteTime": {
          "end_time": "2021-03-31T05:33:36.113806Z",
          "start_time": "2021-03-31T05:33:36.089499Z"
        },
        "colab": {
          "base_uri": "https://localhost:8080/"
        },
        "id": "FC9HPUVqD99I",
        "outputId": "69898010-42b8-4e79-e467-7c2a19f31198"
      },
      "source": [
        "s[-1], s[-2], s[-3], s[-4], s[-5], s[-6]"
      ],
      "execution_count": null,
      "outputs": [
        {
          "data": {
            "text/plain": [
              "('N', 'O', 'H', 'T', 'Y', 'P')"
            ]
          },
          "execution_count": 9,
          "metadata": {},
          "output_type": "execute_result"
        }
      ]
    },
    {
      "cell_type": "code",
      "metadata": {
        "colab": {
          "base_uri": "https://localhost:8080/",
          "height": 35
        },
        "id": "VljOn5F-D9yX",
        "outputId": "83ed730e-9b4c-424c-a62d-f429adb83a60"
      },
      "source": [
        "s[:] "
      ],
      "execution_count": null,
      "outputs": [
        {
          "data": {
            "application/vnd.google.colaboratory.intrinsic+json": {
              "type": "string"
            },
            "text/plain": [
              "'PYTHON'"
            ]
          },
          "execution_count": 5,
          "metadata": {
            "tags": []
          },
          "output_type": "execute_result"
        }
      ]
    },
    {
      "cell_type": "code",
      "metadata": {
        "colab": {
          "base_uri": "https://localhost:8080/",
          "height": 35
        },
        "id": "qETyB6C8Eboz",
        "outputId": "346b8f3b-3d63-4e1f-dbf1-efca5b578e94"
      },
      "source": [
        "s[1:4]"
      ],
      "execution_count": null,
      "outputs": [
        {
          "data": {
            "application/vnd.google.colaboratory.intrinsic+json": {
              "type": "string"
            },
            "text/plain": [
              "'YTH'"
            ]
          },
          "execution_count": 6,
          "metadata": {
            "tags": []
          },
          "output_type": "execute_result"
        }
      ]
    },
    {
      "cell_type": "code",
      "metadata": {
        "colab": {
          "base_uri": "https://localhost:8080/",
          "height": 35
        },
        "id": "zOCEcNzkEb7B",
        "outputId": "30524f0d-08d0-48e6-a2b0-6af2d0bbc6cb"
      },
      "source": [
        "s[-3:-1]"
      ],
      "execution_count": null,
      "outputs": [
        {
          "data": {
            "application/vnd.google.colaboratory.intrinsic+json": {
              "type": "string"
            },
            "text/plain": [
              "'HO'"
            ]
          },
          "execution_count": 8,
          "metadata": {
            "tags": []
          },
          "output_type": "execute_result"
        }
      ]
    },
    {
      "cell_type": "code",
      "metadata": {
        "colab": {
          "base_uri": "https://localhost:8080/"
        },
        "id": "yOmLcJqaEbeI",
        "outputId": "2fa2f813-71aa-41ab-a23f-85119c6b7896"
      },
      "source": [
        "s[:3], s[3:]"
      ],
      "execution_count": null,
      "outputs": [
        {
          "data": {
            "text/plain": [
              "('PYT', 'HON')"
            ]
          },
          "execution_count": 9,
          "metadata": {
            "tags": []
          },
          "output_type": "execute_result"
        }
      ]
    },
    {
      "cell_type": "code",
      "metadata": {
        "colab": {
          "base_uri": "https://localhost:8080/",
          "height": 35
        },
        "id": "jRHhLkLFEyQR",
        "outputId": "f555d948-8983-49ab-e116-d4e7cfb4e144"
      },
      "source": [
        "s[-3:]"
      ],
      "execution_count": null,
      "outputs": [
        {
          "data": {
            "application/vnd.google.colaboratory.intrinsic+json": {
              "type": "string"
            },
            "text/plain": [
              "'HON'"
            ]
          },
          "execution_count": 10,
          "metadata": {
            "tags": []
          },
          "output_type": "execute_result"
        }
      ]
    },
    {
      "cell_type": "code",
      "metadata": {
        "colab": {
          "base_uri": "https://localhost:8080/",
          "height": 35
        },
        "id": "M73WHuxxEyFH",
        "outputId": "778f541d-7be1-40ca-b2e3-6bb7c0275aab"
      },
      "source": [
        "s[:3] + s[3:]"
      ],
      "execution_count": null,
      "outputs": [
        {
          "data": {
            "application/vnd.google.colaboratory.intrinsic+json": {
              "type": "string"
            },
            "text/plain": [
              "'PYTHON'"
            ]
          },
          "execution_count": 11,
          "metadata": {
            "tags": []
          },
          "output_type": "execute_result"
        }
      ]
    },
    {
      "cell_type": "code",
      "metadata": {
        "ExecuteTime": {
          "end_time": "2021-03-31T05:42:39.442067Z",
          "start_time": "2021-03-31T05:42:39.425468Z"
        },
        "colab": {
          "base_uri": "https://localhost:8080/",
          "height": 35
        },
        "id": "AhqHuFH8E9cX",
        "outputId": "2e6c3561-7405-40c4-8947-8ca4302855bc"
      },
      "source": [
        "s[::1]  # no offset"
      ],
      "execution_count": null,
      "outputs": [
        {
          "data": {
            "text/plain": [
              "'PYTHON'"
            ]
          },
          "execution_count": 6,
          "metadata": {},
          "output_type": "execute_result"
        }
      ]
    },
    {
      "cell_type": "code",
      "metadata": {
        "ExecuteTime": {
          "end_time": "2021-03-31T05:42:40.583234Z",
          "start_time": "2021-03-31T05:42:40.567676Z"
        },
        "colab": {
          "base_uri": "https://localhost:8080/",
          "height": 35
        },
        "id": "Ivu19RRMFCc_",
        "outputId": "ab598871-5d2f-4dd9-9920-11477fd4e450"
      },
      "source": [
        "s[::2]  # print every 2nd character in string"
      ],
      "execution_count": null,
      "outputs": [
        {
          "data": {
            "text/plain": [
              "'PTO'"
            ]
          },
          "execution_count": 14,
          "metadata": {},
          "output_type": "execute_result"
        }
      ]
    },
    {
      "cell_type": "markdown",
      "metadata": {
        "id": "VhQ0a_cSGDjj"
      },
      "source": [
        "String Splitting and Joining"
      ]
    },
    {
      "cell_type": "code",
      "metadata": {
        "ExecuteTime": {
          "end_time": "2021-03-31T05:42:51.532807Z",
          "start_time": "2021-03-31T05:42:51.516441Z"
        },
        "colab": {
          "base_uri": "https://localhost:8080/",
          "height": 35
        },
        "id": "zRQqM5nSGGv8",
        "outputId": "49e9e949-b767-4f04-f6ca-fcf4ae04cdd7"
      },
      "source": [
        "s = 'Hurray !,Charlie Chaplin,has written,directed and acted in his own films.'\n",
        "s"
      ],
      "execution_count": null,
      "outputs": [
        {
          "data": {
            "text/plain": [
              "'Hurray !,Charlie Chaplin,has written,directed and acted in his own films.'"
            ]
          },
          "execution_count": 15,
          "metadata": {},
          "output_type": "execute_result"
        }
      ]
    },
    {
      "cell_type": "code",
      "metadata": {
        "ExecuteTime": {
          "end_time": "2021-03-31T05:42:52.631995Z",
          "start_time": "2021-03-31T05:42:52.615900Z"
        },
        "colab": {
          "base_uri": "https://localhost:8080/"
        },
        "id": "5dywFnLoGVez",
        "outputId": "04b42292-df54-4b71-9b3e-21cd0cf1b669"
      },
      "source": [
        "s.split(',')"
      ],
      "execution_count": null,
      "outputs": [
        {
          "data": {
            "text/plain": [
              "['Hurray !',\n",
              " 'Charlie Chaplin',\n",
              " 'has written',\n",
              " 'directed and acted in his own films.']"
            ]
          },
          "execution_count": 16,
          "metadata": {},
          "output_type": "execute_result"
        }
      ]
    },
    {
      "cell_type": "code",
      "metadata": {
        "colab": {
          "base_uri": "https://localhost:8080/"
        },
        "id": "ZdEZlvgrGVUu",
        "outputId": "1e609458-75dc-43ed-b63c-7978d86bf478"
      },
      "source": [
        "s.split('!')"
      ],
      "execution_count": null,
      "outputs": [
        {
          "data": {
            "text/plain": [
              "['Hurray ',\n",
              " ',Charlie Chaplin,has written,directed and acted in his own films.']"
            ]
          },
          "execution_count": 5,
          "metadata": {
            "tags": []
          },
          "output_type": "execute_result"
        }
      ]
    },
    {
      "cell_type": "code",
      "metadata": {
        "ExecuteTime": {
          "end_time": "2021-03-06T16:53:26.001024Z",
          "start_time": "2021-03-06T16:53:25.994043Z"
        },
        "id": "bm_8SAho3r7_",
        "outputId": "6d675ce6-47b6-4ee9-d945-4df09540b81c"
      },
      "source": [
        "'###'.join(['a','b','c','d'])"
      ],
      "execution_count": null,
      "outputs": [
        {
          "data": {
            "text/plain": [
              "'a###b###c###d'"
            ]
          },
          "execution_count": 7,
          "metadata": {},
          "output_type": "execute_result"
        }
      ]
    },
    {
      "cell_type": "code",
      "metadata": {
        "ExecuteTime": {
          "end_time": "2021-03-06T16:53:33.559452Z",
          "start_time": "2021-03-06T16:53:33.552470Z"
        },
        "colab": {
          "base_uri": "https://localhost:8080/",
          "height": 35
        },
        "id": "fgoo6fteG0p4",
        "outputId": "21530663-0fed-4d76-e8f9-ebf8f1164379"
      },
      "source": [
        "''.join(s.split('!'))"
      ],
      "execution_count": null,
      "outputs": [
        {
          "data": {
            "text/plain": [
              "'Hurray ,Charlie Chaplin,has written,directed and acted in his own films.'"
            ]
          },
          "execution_count": 8,
          "metadata": {},
          "output_type": "execute_result"
        }
      ]
    }
  ]
}