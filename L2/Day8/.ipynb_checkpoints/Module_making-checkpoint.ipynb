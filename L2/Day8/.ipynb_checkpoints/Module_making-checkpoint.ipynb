{
 "cells": [
  {
   "cell_type": "code",
   "execution_count": 1,
   "metadata": {},
   "outputs": [],
   "source": [
    "import pandas as pd\n",
    "import numpy as np\n",
    "import matplotlib.pyplot as plt\n",
    "\n",
    "from statsmodels.tsa.stattools import adfuller\n",
    "from statsmodels.tsa.seasonal import seasonal_decompose\n",
    "from statsmodels.graphics.tsaplots import plot_acf\n",
    "from statsmodels.graphics.tsaplots import plot_pacf\n",
    "from sklearn.metrics import r2_score, mean_absolute_error, mean_squared_error, median_absolute_error"
   ]
  },
  {
   "cell_type": "code",
   "execution_count": 2,
   "metadata": {},
   "outputs": [],
   "source": [
    "# pd.set_option('display.max_rows', 500)\n",
    "# pd.set_option('display.max_columns', 500)\n",
    "# pd.set_option('display.width', 1000)"
   ]
  },
  {
   "cell_type": "code",
   "execution_count": 3,
   "metadata": {},
   "outputs": [],
   "source": [
    "# we have to perform all the steps again so made a function.\n",
    "def ts(data):\n",
    "\n",
    "    # rolling stats.\n",
    "    rollig_mean = data.rolling(window = 12).mean()\n",
    "    \n",
    "    rolling_std = data.rolling(window = 12).std()\n",
    "    \n",
    "    \n",
    "    # ploting rolling stats\n",
    "    fig = plt.figure(figsize=(10,5))\n",
    "    orig = plt.plot(data , 'b' ,label = 'original data')\n",
    "    \n",
    "    rolling_mean_plot = plt.plot(rollig_mean , 'r' ,label = 'rolling mean')\n",
    "    \n",
    "    rolling_std_plot = plt.plot(rolling_std , 'black' ,label = 'rolling std')\n",
    "\n",
    "    plt.legend(loc = 0)\n",
    "    \n",
    "    \n",
    "    # dickey fuller test\n",
    "        \n",
    "    dftest = adfuller(data)\n",
    "    dfoutput = pd.Series(dftest[1:4] , \n",
    "                         index = [ 'p-value' , 'lags-used', 'no. of observations used'])\n",
    "    print(dfoutput)        \n",
    "        \n",
    "  # Checking for Stationarity of Transformed Data i.e Log of data taken\n",
    "\n"
   ]
  },
  {
   "cell_type": "code",
   "execution_count": 4,
   "metadata": {},
   "outputs": [],
   "source": [
    "def acf_pacf_plots(data):\n",
    "#     ACF Plot\n",
    "    plot_acf(data)\n",
    "    plt.show()\n",
    "\n",
    "#     PACF Plot\n",
    "    plot_pacf(data)\n",
    "    plt.show()"
   ]
  },
  {
   "cell_type": "code",
   "execution_count": 5,
   "metadata": {},
   "outputs": [],
   "source": [
    "def evaluate_forecast(y,pred):\n",
    "    \n",
    "    results = pd.DataFrame({'Mean_Absolute_Error' : mean_absolute_error(y, pred)}, index=['Values'])\n",
    "    \n",
    "    results['Mean_Squared_Error'] = mean_squared_error(y, pred)\n",
    "   \n",
    "    results['Mean_Absolute_Percentage_Error'] = np.mean(np.abs((y - pred) / y)) * 100\n",
    "    \n",
    "    results['Root_Mean_Sqared_Error'] = np.sqrt(results['Mean_Squared_Error'])\n",
    "    \n",
    "    return results"
   ]
  },
  {
   "cell_type": "code",
   "execution_count": 6,
   "metadata": {},
   "outputs": [],
   "source": [
    "def season_decomp(data):\n",
    "    \n",
    "    fig = plt.figure(figsize=(10,5))\n",
    "    decomposition = seasonal_decompose(data)\n",
    "    decomposition.plot()\n",
    "\n",
    "    # To Check for Individual Values\n",
    "    trend = decomposition.trend\n",
    "    seasonal = decomposition.seasonal\n",
    "    residual = decomposition.resid\n",
    "    \n",
    "\n",
    "    \n"
   ]
  },
  {
   "cell_type": "code",
   "execution_count": 7,
   "metadata": {},
   "outputs": [],
   "source": [
    "# #Rolling Mean and Rolling std. code\n",
    "\n",
    "# # determing rolling statistics to check stationarity of time series\n",
    "\n",
    "# rolling_mean = indexed_df.rolling(window = 12).mean()\n",
    "# rolling_std = indexed_df.rolling(window = 12).std()\n",
    "\n",
    "# fig = plt.figure(figsize=(10,5))\n",
    "\n",
    "# indexed_data_plot = plt.plot(indexed_df , 'b' ,label = 'original data')\n",
    "\n",
    "# rolling_mean_plot = plt.plot(rolling_mean , 'r' ,label = 'rolling mean')\n",
    "# rolling_std_plot = plt.plot(rolling_std , 'black' ,label = 'rolling std')\n",
    "\n",
    "# plt.legend();\n",
    "\n",
    "# # by the graph we are able to see that the mean ad std is not constant , so time series is not stationary"
   ]
  },
  {
   "cell_type": "code",
   "execution_count": 8,
   "metadata": {},
   "outputs": [],
   "source": [
    "# #Dicky Fuller test code\n",
    "\n",
    "\n",
    "# from statsmodels.tsa.stattools import adfuller\n",
    "# # The adfuller function returns a tuple of statistics from the ADF test such as the Test Statistic, P -Value, \n",
    "\n",
    "\n",
    "# dftest = adfuller(indexed_df['Passengers'])\n",
    "\n",
    "# dfoutput = pd.Series(dftest[0:4] , index = ['Test Statistic' , 'p-value' , 'lags-used', 'no. of observations used'])\n",
    "# # print(dftest)\n",
    "# print(dfoutput)\n",
    "\n",
    "# for key,value in dftest[4].items():\n",
    "#     print('\\n critical value',key,'=',value)\n",
    "# # dfoutput\n",
    "\n",
    "# # p value should be less than 0.5\n",
    "# # here P value > 0.05 , so we ACCEPT our NULL HYPOTHESIS, the data is non-stationary.\n"
   ]
  },
  {
   "cell_type": "code",
   "execution_count": null,
   "metadata": {},
   "outputs": [],
   "source": []
  },
  {
   "cell_type": "code",
   "execution_count": null,
   "metadata": {},
   "outputs": [],
   "source": []
  },
  {
   "cell_type": "code",
   "execution_count": null,
   "metadata": {},
   "outputs": [],
   "source": []
  }
 ],
 "metadata": {
  "kernelspec": {
   "display_name": "Python 3",
   "language": "python",
   "name": "python3"
  },
  "language_info": {
   "codemirror_mode": {
    "name": "ipython",
    "version": 3
   },
   "file_extension": ".py",
   "mimetype": "text/x-python",
   "name": "python",
   "nbconvert_exporter": "python",
   "pygments_lexer": "ipython3",
   "version": "3.8.5"
  }
 },
 "nbformat": 4,
 "nbformat_minor": 4
}
