{
 "cells": [
  {
   "cell_type": "markdown",
   "metadata": {
    "id": "jEQnBWMmi6Ah"
   },
   "source": [
    "# Time Series"
   ]
  },
  {
   "cell_type": "markdown",
   "metadata": {
    "id": "nKUTXVI7i6Ak"
   },
   "source": [
    "# Introduction to Time series\n",
    "\n",
    "* A time series is a sequence taken at successive equally spaced points in time. Thus it is a sequence of discrete-time data. \n",
    "\n",
    "* A time series is a sequence of numerical data points in successive order.\n",
    "\n",
    "* A time series tracks the movement of the chosen data points, over a specified period of time with data points recorded at regular intervals. \n",
    "\n",
    "* There is no minimum or maximum amount of time that must be included\n",
    "\n",
    "eg - Economic Forecasting , Sales Forecasting , Budgetary Analysis , Stock Market Analysis , Yield Projections , Census Analysis"
   ]
  },
  {
   "cell_type": "markdown",
   "metadata": {
    "id": "fWXdgPAyi6Al"
   },
   "source": [
    "# Time Series Forecasting\n",
    "\n",
    "* Time series forecasting is the use of a model to predict future values based on previously observed values. Most often, this relates to trend analysis, cyclical fluctuation analysis and issues of seasonality.\n",
    "\n"
   ]
  },
  {
   "cell_type": "markdown",
   "metadata": {
    "id": "QI2sn4fei6Am"
   },
   "source": [
    "# Components of Time Series\n",
    "* Trend\n",
    "\n",
    "* Seasonality\n",
    "\n",
    "* Irregularity\n",
    "\n",
    "* Cyclic"
   ]
  },
  {
   "cell_type": "markdown",
   "metadata": {
    "id": "LoLw7v-Ei6Am"
   },
   "source": [
    "## Trend\n",
    "* A movement relatively higher or lower values over a long period of time,when the series analysis  show a pattern that is upward or downward we call it upterend and downterend respectively.\n",
    "\n",
    "* If there is no Trend we call it horizontal trend or stationary trend\n",
    "\n",
    "* Trend is something that happens for time and then disappears."
   ]
  },
  {
   "cell_type": "markdown",
   "metadata": {
    "id": "grURGJZ4i6An"
   },
   "source": [
    "## Seasonality\n",
    "Seasonality is a characteristic of a time series in which the data experiences regular and predictable changes that recur every calendar year. Any predictable fluctuation or pattern that recurs or repeats over a one-year period is said to be seasonal.\n",
    "\n",
    "\n",
    "Seasonal effects are different from cyclical effects, as seasonal cycles are observed within one calendar year, while cyclical effects, such as boosted sales due to low unemployment rates, can span time periods shorter or longer than one calendar year."
   ]
  },
  {
   "cell_type": "markdown",
   "metadata": {
    "id": "gcncZweti6An"
   },
   "source": [
    "## Irregularity\n",
    "* It is also called noise or residual\n",
    "\n",
    "* These are unpredictabe in nature or unsystematic , they happen for short duration and are non repeating.\n",
    "\n",
    "eg- buying of medicine due to flood goes up , but when flood goes ,the sales of medicines come down , in this we don't know how much sale is going to happen."
   ]
  },
  {
   "cell_type": "markdown",
   "metadata": {
    "id": "QIfGlYGFi6Ap"
   },
   "source": [
    "## Cyclic\n",
    "cycles are observed within one calendar year, while cyclical effects, such as boosted sales due to low unemployment rates, can span time periods shorter or longer than one calendar year.\n"
   ]
  },
  {
   "cell_type": "markdown",
   "metadata": {
    "id": "p1ACBzvsi6Aq"
   },
   "source": [
    "### Time series can not be used \n",
    "* when the values are constant. ef - sale of coffee is same every day for every month.\n",
    "\n",
    "* values are in form of functions - sin(x) or cos(x) , we can just get the values by putting them in function."
   ]
  },
  {
   "cell_type": "markdown",
   "metadata": {
    "id": "3mL0UaZZi6Ar"
   },
   "source": [
    "## Stationarity \n",
    "For applying any kind of model on time series data . The data should be stationary.\n",
    "\n",
    "For data to be stationary -\n",
    "\n",
    "* It should have a constant mean according to time.\n",
    "\n",
    "* It should have constan variance i.e variance should be equal at equal intervals of time.\n"
   ]
  },
  {
   "cell_type": "markdown",
   "metadata": {
    "id": "_HUrvaV9i6As"
   },
   "source": [
    "**Time Series analysis have 4 phases:**\n",
    "\n",
    "* Load data\n",
    "\n",
    "* check stationarity\n",
    "\n",
    "* Make series stationary\n",
    "\n",
    "* Buid model"
   ]
  },
  {
   "cell_type": "markdown",
   "metadata": {
    "id": "LMqwTHICi6At"
   },
   "source": [
    "## in Anaconda Prompt ------   pip install import_ipynb\n",
    "\n",
    "\n",
    "- This will allow to import other ipynb file"
   ]
  },
  {
   "cell_type": "code",
   "execution_count": 2,
   "metadata": {
    "id": "BbqcD2YMi6At",
    "outputId": "5b2ce306-9fd9-4aee-ffc7-2890482d7c3d"
   },
   "outputs": [
    {
     "name": "stdout",
     "output_type": "stream",
     "text": [
      "Collecting import_ipynb\n",
      "  Downloading import-ipynb-0.1.3.tar.gz (4.0 kB)\n",
      "Building wheels for collected packages: import-ipynb\n",
      "  Building wheel for import-ipynb (setup.py): started\n",
      "  Building wheel for import-ipynb (setup.py): finished with status 'done'\n",
      "  Created wheel for import-ipynb: filename=import_ipynb-0.1.3-py3-none-any.whl size=2979 sha256=dc19b70daa6ac85fcc6f5d7c90bc19601ba789fde22862616a622abadfcd2d51\n",
      "  Stored in directory: c:\\users\\sagarsah\\appdata\\local\\pip\\cache\\wheels\\06\\7e\\ad\\1cb03e935234186825cefc7e2c8f3451b4f654b5bc72232a7b\n",
      "Successfully built import-ipynb\n",
      "Installing collected packages: import-ipynb\n",
      "Successfully installed import-ipynb-0.1.3\n"
     ]
    }
   ],
   "source": [
    "#!pip install import_ipynb"
   ]
  },
  {
   "cell_type": "code",
   "execution_count": 3,
   "metadata": {
    "id": "biok694li6Av",
    "outputId": "903bd932-9dc9-445b-b070-3592468c1235"
   },
   "outputs": [
    {
     "name": "stdout",
     "output_type": "stream",
     "text": [
      "importing Jupyter notebook from Module_making.ipynb\n"
     ]
    }
   ],
   "source": [
    "import import_ipynb\n",
    "import Module_making\n"
   ]
  },
  {
   "cell_type": "code",
   "execution_count": null,
   "metadata": {
    "id": "4XVvss4fi6Aw"
   },
   "outputs": [],
   "source": [
    "import pandas as pd          \n",
    "import numpy as np          # For mathematical calculations \n",
    "import matplotlib.pyplot as plt  # For plotting graphs    \n",
    "import warnings\n",
    "warnings.filterwarnings(\"ignore\")\n",
    "\n",
    "%matplotlib inline\n",
    "\n",
    "from statsmodels.tsa.arima_model import ARIMA, ARMA\n",
    "from statsmodels.tsa.ar_model import AR"
   ]
  },
  {
   "cell_type": "code",
   "execution_count": null,
   "metadata": {
    "id": "sqn1vS4Ai6Aw",
    "outputId": "fc94b817-f3cb-4e13-dabe-e6aacf43676b"
   },
   "outputs": [
    {
     "name": "stdout",
     "output_type": "stream",
     "text": [
      "<class 'pandas.core.frame.DataFrame'>\n",
      "RangeIndex: 144 entries, 0 to 143\n",
      "Data columns (total 2 columns):\n",
      " #   Column      Non-Null Count  Dtype \n",
      "---  ------      --------------  ----- \n",
      " 0   TravelDate  144 non-null    object\n",
      " 1   Passengers  144 non-null    int64 \n",
      "dtypes: int64(1), object(1)\n",
      "memory usage: 2.4+ KB\n",
      "None\n"
     ]
    },
    {
     "data": {
      "text/html": [
       "<div>\n",
       "<style scoped>\n",
       "    .dataframe tbody tr th:only-of-type {\n",
       "        vertical-align: middle;\n",
       "    }\n",
       "\n",
       "    .dataframe tbody tr th {\n",
       "        vertical-align: top;\n",
       "    }\n",
       "\n",
       "    .dataframe thead th {\n",
       "        text-align: right;\n",
       "    }\n",
       "</style>\n",
       "<table border=\"1\" class=\"dataframe\">\n",
       "  <thead>\n",
       "    <tr style=\"text-align: right;\">\n",
       "      <th></th>\n",
       "      <th>TravelDate</th>\n",
       "      <th>Passengers</th>\n",
       "    </tr>\n",
       "  </thead>\n",
       "  <tbody>\n",
       "    <tr>\n",
       "      <th>0</th>\n",
       "      <td>01-01-1949</td>\n",
       "      <td>112</td>\n",
       "    </tr>\n",
       "    <tr>\n",
       "      <th>1</th>\n",
       "      <td>02-01-1949</td>\n",
       "      <td>118</td>\n",
       "    </tr>\n",
       "    <tr>\n",
       "      <th>2</th>\n",
       "      <td>03-01-1949</td>\n",
       "      <td>132</td>\n",
       "    </tr>\n",
       "    <tr>\n",
       "      <th>3</th>\n",
       "      <td>04-01-1949</td>\n",
       "      <td>129</td>\n",
       "    </tr>\n",
       "    <tr>\n",
       "      <th>4</th>\n",
       "      <td>05-01-1949</td>\n",
       "      <td>121</td>\n",
       "    </tr>\n",
       "  </tbody>\n",
       "</table>\n",
       "</div>"
      ],
      "text/plain": [
       "   TravelDate  Passengers\n",
       "0  01-01-1949         112\n",
       "1  02-01-1949         118\n",
       "2  03-01-1949         132\n",
       "3  04-01-1949         129\n",
       "4  05-01-1949         121"
      ]
     },
     "execution_count": 3,
     "metadata": {
      "tags": []
     },
     "output_type": "execute_result"
    }
   ],
   "source": [
    "df = pd.read_csv('AirPassengers.csv')\n",
    "print(df.info())\n",
    "df.head()"
   ]
  },
  {
   "cell_type": "code",
   "execution_count": null,
   "metadata": {
    "id": "V5HhLvS0i6Aw",
    "outputId": "a91dfd8b-2318-4d35-a5a3-12e9853ce74a"
   },
   "outputs": [
    {
     "name": "stdout",
     "output_type": "stream",
     "text": [
      "<class 'pandas.core.frame.DataFrame'>\n",
      "RangeIndex: 144 entries, 0 to 143\n",
      "Data columns (total 2 columns):\n",
      " #   Column      Non-Null Count  Dtype         \n",
      "---  ------      --------------  -----         \n",
      " 0   TravelDate  144 non-null    datetime64[ns]\n",
      " 1   Passengers  144 non-null    int64         \n",
      "dtypes: datetime64[ns](1), int64(1)\n",
      "memory usage: 2.4 KB\n",
      "None\n"
     ]
    },
    {
     "data": {
      "text/html": [
       "<div>\n",
       "<style scoped>\n",
       "    .dataframe tbody tr th:only-of-type {\n",
       "        vertical-align: middle;\n",
       "    }\n",
       "\n",
       "    .dataframe tbody tr th {\n",
       "        vertical-align: top;\n",
       "    }\n",
       "\n",
       "    .dataframe thead th {\n",
       "        text-align: right;\n",
       "    }\n",
       "</style>\n",
       "<table border=\"1\" class=\"dataframe\">\n",
       "  <thead>\n",
       "    <tr style=\"text-align: right;\">\n",
       "      <th></th>\n",
       "      <th>Passengers</th>\n",
       "    </tr>\n",
       "    <tr>\n",
       "      <th>TravelDate</th>\n",
       "      <th></th>\n",
       "    </tr>\n",
       "  </thead>\n",
       "  <tbody>\n",
       "    <tr>\n",
       "      <th>1949-01-01</th>\n",
       "      <td>112</td>\n",
       "    </tr>\n",
       "    <tr>\n",
       "      <th>1949-02-01</th>\n",
       "      <td>118</td>\n",
       "    </tr>\n",
       "    <tr>\n",
       "      <th>1949-03-01</th>\n",
       "      <td>132</td>\n",
       "    </tr>\n",
       "    <tr>\n",
       "      <th>1949-04-01</th>\n",
       "      <td>129</td>\n",
       "    </tr>\n",
       "    <tr>\n",
       "      <th>1949-05-01</th>\n",
       "      <td>121</td>\n",
       "    </tr>\n",
       "  </tbody>\n",
       "</table>\n",
       "</div>"
      ],
      "text/plain": [
       "            Passengers\n",
       "TravelDate            \n",
       "1949-01-01         112\n",
       "1949-02-01         118\n",
       "1949-03-01         132\n",
       "1949-04-01         129\n",
       "1949-05-01         121"
      ]
     },
     "execution_count": 5,
     "metadata": {
      "tags": []
     },
     "output_type": "execute_result"
    }
   ],
   "source": [
    "df['TravelDate'] = pd.to_datetime(df['TravelDate'])\n",
    "\n",
    "print(df.info())\n",
    "\n",
    "indexed_df = df.set_index('TravelDate')\n",
    "indexed_df.head()"
   ]
  },
  {
   "cell_type": "markdown",
   "metadata": {
    "id": "LQttjt1Gi6Ax"
   },
   "source": [
    "### To check stationarity we have 2 popular tests - \n",
    "* **Rolling statistics** - Here we plot the moving average or moving variance and see if it varies with time.\n",
    "\n",
    "\n",
    "* **Augumented Dikley Fuler Test (ADF Test)** - IT HAS A NULL HYPOTHESIS - That the time series is not stationary  , the result comparises of Test statistic and some critical values for different confidence level.\n",
    "\n",
    "p value should be less than 0.5\n",
    "\n",
    "if test statistic < critical value , we can reject the null hypothesis and say that the series is stationary."
   ]
  },
  {
   "cell_type": "markdown",
   "metadata": {
    "id": "ydEKZCSki6Ax"
   },
   "source": [
    "**Using Another IPYNB file as a Module here and using Function TS defined in that module to check stationarity**"
   ]
  },
  {
   "cell_type": "code",
   "execution_count": null,
   "metadata": {
    "id": "R4BoeZ4-i6Ax",
    "outputId": "c273c23b-7778-4526-9e47-0698ccbdbbd0"
   },
   "outputs": [
    {
     "name": "stdout",
     "output_type": "stream",
     "text": [
      "p-value                       0.99188\n",
      "lags-used                    13.00000\n",
      "no. of observations used    130.00000\n",
      "dtype: float64\n"
     ]
    },
    {
     "data": {
      "text/plain": [
       "'p > 0.05 - Accept the Null Hypothesis '"
      ]
     },
     "execution_count": 6,
     "metadata": {
      "tags": []
     },
     "output_type": "execute_result"
    },
    {
     "data": {
      "image/png": "[encoded data removed]",
      "text/plain": [
       "<Figure size 720x360 with 1 Axes>"
      ]
     },
     "metadata": {
      "needs_background": "light",
      "tags": []
     },
     "output_type": "display_data"
    }
   ],
   "source": [
    "Module_making.ts(indexed_df)\n",
    "\n",
    "''' P Value < 0.05 '''\n",
    "# so we Accept the Null Hypothesis, thus Time Series is Not Stationary\n",
    "'''p > 0.05 - Accept the Null Hypothesis '''"
   ]
  },
  {
   "cell_type": "markdown",
   "metadata": {
    "id": "JIquLrUci6Ay"
   },
   "source": [
    "## Making Time Series Stationary\n",
    "There are 2 major reasons behind non-stationaruty of a TS:\n",
    "\n",
    "1. __Trend__ – varying mean over time. For eg, in this case we saw that on average, the number of passengers was growing over time.\n",
    "2. __Seasonality__ – variations at specific time-frames. eg people might have a tendency to buy cars in a particular month because of pay increment or festivals."
   ]
  },
  {
   "cell_type": "markdown",
   "metadata": {
    "id": "D8IWz3Qni6Ay"
   },
   "source": [
    "### Transformations\n",
    "- These can be taking a LOG or DIFFERENCE the data"
   ]
  },
  {
   "cell_type": "markdown",
   "metadata": {
    "id": "KyphlwDYi6Az"
   },
   "source": [
    "## Taking LOG of these values"
   ]
  },
  {
   "cell_type": "code",
   "execution_count": null,
   "metadata": {
    "id": "MFiT-sVJi6Az",
    "outputId": "0c9c4dad-472e-401d-8c0d-1d4d0b0e2f08"
   },
   "outputs": [
    {
     "data": {
      "text/html": [
       "<div>\n",
       "<style scoped>\n",
       "    .dataframe tbody tr th:only-of-type {\n",
       "        vertical-align: middle;\n",
       "    }\n",
       "\n",
       "    .dataframe tbody tr th {\n",
       "        vertical-align: top;\n",
       "    }\n",
       "\n",
       "    .dataframe thead th {\n",
       "        text-align: right;\n",
       "    }\n",
       "</style>\n",
       "<table border=\"1\" class=\"dataframe\">\n",
       "  <thead>\n",
       "    <tr style=\"text-align: right;\">\n",
       "      <th></th>\n",
       "      <th>Passengers</th>\n",
       "    </tr>\n",
       "    <tr>\n",
       "      <th>TravelDate</th>\n",
       "      <th></th>\n",
       "    </tr>\n",
       "  </thead>\n",
       "  <tbody>\n",
       "    <tr>\n",
       "      <th>1949-01-01</th>\n",
       "      <td>112</td>\n",
       "    </tr>\n",
       "    <tr>\n",
       "      <th>1949-02-01</th>\n",
       "      <td>118</td>\n",
       "    </tr>\n",
       "    <tr>\n",
       "      <th>1949-03-01</th>\n",
       "      <td>132</td>\n",
       "    </tr>\n",
       "    <tr>\n",
       "      <th>1949-04-01</th>\n",
       "      <td>129</td>\n",
       "    </tr>\n",
       "    <tr>\n",
       "      <th>1949-05-01</th>\n",
       "      <td>121</td>\n",
       "    </tr>\n",
       "  </tbody>\n",
       "</table>\n",
       "</div>"
      ],
      "text/plain": [
       "            Passengers\n",
       "TravelDate            \n",
       "1949-01-01         112\n",
       "1949-02-01         118\n",
       "1949-03-01         132\n",
       "1949-04-01         129\n",
       "1949-05-01         121"
      ]
     },
     "execution_count": 8,
     "metadata": {
      "tags": []
     },
     "output_type": "execute_result"
    }
   ],
   "source": [
    "indexed_df.head()"
   ]
  },
  {
   "cell_type": "code",
   "execution_count": null,
   "metadata": {
    "id": "lYzZP6y6i6Az",
    "outputId": "3b401dfc-8b30-4ff0-8f96-5c8c9df4571e"
   },
   "outputs": [
    {
     "name": "stdout",
     "output_type": "stream",
     "text": [
      "            Passengers\n",
      "TravelDate            \n",
      "1949-01-01    4.718499\n",
      "1949-02-01    4.770685\n",
      "1949-03-01    4.882802\n",
      "1949-04-01    4.859812\n",
      "1949-05-01    4.795791\n"
     ]
    }
   ],
   "source": [
    "# estimate trend , we take lOG of the original data , it changes the values on y\n",
    "indexed_df_log = np.log(indexed_df)\n",
    "print(indexed_df_log.head())"
   ]
  },
  {
   "cell_type": "markdown",
   "metadata": {
    "id": "7WxHNudKi6Az"
   },
   "source": [
    "## Checking Stationarity"
   ]
  },
  {
   "cell_type": "code",
   "execution_count": null,
   "metadata": {
    "id": "edu78xPPi6Az",
    "outputId": "005c473f-0a95-4f85-8d93-643ddf98e0df"
   },
   "outputs": [
    {
     "name": "stdout",
     "output_type": "stream",
     "text": [
      "p-value                       0.422367\n",
      "lags-used                    13.000000\n",
      "no. of observations used    130.000000\n",
      "dtype: float64\n"
     ]
    },
    {
     "data": {
      "text/plain": [
       "'if p < 0.05 - stationarity achieved'"
      ]
     },
     "execution_count": 9,
     "metadata": {
      "tags": []
     },
     "output_type": "execute_result"
    },
    {
     "data": {
      "image/png": "[encoded data removed]",
      "text/plain": [
       "<Figure size 720x360 with 1 Axes>"
      ]
     },
     "metadata": {
      "needs_background": "light",
      "tags": []
     },
     "output_type": "display_data"
    }
   ],
   "source": [
    "Module_making.ts(indexed_df_log) \n",
    "\n",
    "'''if p < 0.05 - stationarity achieved'''"
   ]
  },
  {
   "cell_type": "markdown",
   "metadata": {
    "id": "ZXOWHDYJi6A0"
   },
   "source": [
    "## Differencing - 2nd method to remove stationarity\n",
    "\n",
    "#### .shift() = Shifts index by desired number of periods with an optional time freq.\n",
    "\n",
    "By it we can see the percentage change or change in number of passengers in a month.\n",
    "\n",
    "The following command shifts the passengers forward by 1 month.\n",
    "- Differencing is performed by subtracting the previous observation from the current observation."
   ]
  },
  {
   "cell_type": "code",
   "execution_count": null,
   "metadata": {
    "id": "R4tRdz8Li6A0",
    "outputId": "43f02b6c-1be2-4769-edd6-218a4d850732"
   },
   "outputs": [
    {
     "data": {
      "text/html": [
       "<div>\n",
       "<style scoped>\n",
       "    .dataframe tbody tr th:only-of-type {\n",
       "        vertical-align: middle;\n",
       "    }\n",
       "\n",
       "    .dataframe tbody tr th {\n",
       "        vertical-align: top;\n",
       "    }\n",
       "\n",
       "    .dataframe thead th {\n",
       "        text-align: right;\n",
       "    }\n",
       "</style>\n",
       "<table border=\"1\" class=\"dataframe\">\n",
       "  <thead>\n",
       "    <tr style=\"text-align: right;\">\n",
       "      <th></th>\n",
       "      <th>Passengers</th>\n",
       "    </tr>\n",
       "    <tr>\n",
       "      <th>TravelDate</th>\n",
       "      <th></th>\n",
       "    </tr>\n",
       "  </thead>\n",
       "  <tbody>\n",
       "    <tr>\n",
       "      <th>1949-01-01</th>\n",
       "      <td>112</td>\n",
       "    </tr>\n",
       "    <tr>\n",
       "      <th>1949-02-01</th>\n",
       "      <td>118</td>\n",
       "    </tr>\n",
       "    <tr>\n",
       "      <th>1949-03-01</th>\n",
       "      <td>132</td>\n",
       "    </tr>\n",
       "    <tr>\n",
       "      <th>1949-04-01</th>\n",
       "      <td>129</td>\n",
       "    </tr>\n",
       "    <tr>\n",
       "      <th>1949-05-01</th>\n",
       "      <td>121</td>\n",
       "    </tr>\n",
       "  </tbody>\n",
       "</table>\n",
       "</div>"
      ],
      "text/plain": [
       "            Passengers\n",
       "TravelDate            \n",
       "1949-01-01         112\n",
       "1949-02-01         118\n",
       "1949-03-01         132\n",
       "1949-04-01         129\n",
       "1949-05-01         121"
      ]
     },
     "execution_count": 26,
     "metadata": {
      "tags": []
     },
     "output_type": "execute_result"
    }
   ],
   "source": [
    "indexed_df.head()"
   ]
  },
  {
   "cell_type": "code",
   "execution_count": null,
   "metadata": {
    "id": "NAh81vfZi6A0"
   },
   "outputs": [],
   "source": [
    "# mn = indexed_df.copy()\n",
    "# mn['shift 1'] = indexed_df.shift(periods = 2)\n",
    "# mn['order1'] = mn['Passengers']- mn['shift 1']\n",
    "# mn.head(8)"
   ]
  },
  {
   "cell_type": "code",
   "execution_count": null,
   "metadata": {
    "id": "b5jwU2xci6A1"
   },
   "outputs": [],
   "source": [
    "# indexed_df.shift(periods = 1).head()"
   ]
  },
  {
   "cell_type": "code",
   "execution_count": null,
   "metadata": {
    "id": "RWGh4DvTi6A1",
    "outputId": "eda0930e-9674-486f-caa4-695aed70210f"
   },
   "outputs": [
    {
     "name": "stdout",
     "output_type": "stream",
     "text": [
      "            Passengers\n",
      "TravelDate            \n",
      "1949-01-01         NaN\n",
      "1949-02-01         NaN\n",
      "1949-03-01        20.0\n",
      "1949-04-01        11.0\n",
      "1949-05-01       -11.0\n"
     ]
    }
   ],
   "source": [
    "indexed_df_shiffting = indexed_df - indexed_df.shift(periods = 2)\n",
    "\n",
    "print(indexed_df_shiffting.head())\n",
    "indexed_df_shiffting.dropna(inplace = True)"
   ]
  },
  {
   "cell_type": "code",
   "execution_count": null,
   "metadata": {
    "id": "kUIIBfjNi6A1",
    "outputId": "ba2494c9-393b-4084-bc94-7662d9ee6f47"
   },
   "outputs": [
    {
     "name": "stdout",
     "output_type": "stream",
     "text": [
      "p-value                       0.03863\n",
      "lags-used                    11.00000\n",
      "no. of observations used    130.00000\n",
      "dtype: float64\n"
     ]
    },
    {
     "data": {
      "image/png": "[encoded data removed]",
      "text/plain": [
       "<Figure size 720x360 with 1 Axes>"
      ]
     },
     "metadata": {
      "needs_background": "light",
      "tags": []
     },
     "output_type": "display_data"
    }
   ],
   "source": [
    "# Checking Stationarity\n",
    "Module_making.ts(indexed_df_shiffting)"
   ]
  },
  {
   "cell_type": "markdown",
   "metadata": {
    "id": "8Py6vXgsi6A1"
   },
   "source": [
    "## ACF & PACF Graphs"
   ]
  },
  {
   "cell_type": "markdown",
   "metadata": {
    "id": "3UEcRzo3i6A1"
   },
   "source": [
    "- Autocorrelation function (ACF) and Partial autocorrelation (PACF) \n",
    "- ACF describes the autocorrelation between an observation and another observation at a prior time step that includes direct and indirect dependence information.\n",
    "- A lag 1 autocorrelation (i.e., k = 1 in the above) is the correlation between values that are one time period apart. More generally, a lag k autocorrelation is the correlation between values that are k time periods apart.\n",
    "- The ACF is a way to measure the linear relationship between an observation at time t and the observations at previous times\n",
    "- ACF Graph is used to check the Value to be taken for MA model\n",
    "- The PACF is most useful for identifying the order of an autoregressive model. \n",
    "- PACF graph is used to check the Value to be taken for AR model"
   ]
  },
  {
   "cell_type": "markdown",
   "metadata": {
    "id": "DtwprP7ki6A1"
   },
   "source": [
    "## ARIMA\n",
    "* ARIMA models (which include ARMA, AR and MA models) are a general class of models to forecast stationary time series. ARIMA models are made of three parts:\n",
    "\n",
    "\n",
    "    - A weighted sum of lagged values of the series (Auto-regressive (AR) part) - p\n",
    "    - A weighted sum of lagged forecasted errors of the series (Moving-average (MA) part) -q\n",
    "    - A difference of the time series (Integrated (I) part)-i\n",
    "    \n",
    "    \n",
    "* An ARIMA model is often noted ARIMA(p, d, q) where p represents the order of the AR part, d the order of differencing (“I” part), and q the order of the MA term."
   ]
  },
  {
   "cell_type": "markdown",
   "metadata": {
    "id": "mjdkUt_Wi6A2"
   },
   "source": [
    "## Feeding Data without taking log and Differencing thus without making it Stationary"
   ]
  },
  {
   "cell_type": "code",
   "execution_count": null,
   "metadata": {
    "id": "nWcrQJeJi6A2",
    "outputId": "19f0b771-48b7-4aa9-ff90-de04079c2f9d"
   },
   "outputs": [
    {
     "data": {
      "image/png": "[encoded data removed]",
      "text/plain": [
       "<Figure size 432x288 with 1 Axes>"
      ]
     },
     "metadata": {
      "needs_background": "light",
      "tags": []
     },
     "output_type": "display_data"
    },
    {
     "data": {
      "image/png": "[encoded data removed]",
      "text/plain": [
       "<Figure size 432x288 with 1 Axes>"
      ]
     },
     "metadata": {
      "needs_background": "light",
      "tags": []
     },
     "output_type": "display_data"
    }
   ],
   "source": [
    "x2 = indexed_df[:130] # train data\n",
    "y2 = indexed_df[130:] # test data\n",
    "\n",
    "Module_making.acf_pacf_plots(x2)\n",
    "\n",
    "# PACF - AR - AR Model - only value for p\n",
    "# ACF -  MA - MA Model - only value for q"
   ]
  },
  {
   "cell_type": "code",
   "execution_count": null,
   "metadata": {
    "id": "qnrOzNMfi6A2",
    "outputId": "82bcfe70-f7a4-45c5-9bc6-b196ee650e0e"
   },
   "outputs": [
    {
     "data": {
      "text/plain": [
       "Timestamp('1960-12-01 00:00:00')"
      ]
     },
     "execution_count": 11,
     "metadata": {
      "tags": []
     },
     "output_type": "execute_result"
    }
   ],
   "source": [
    "y2.index[-1]"
   ]
  },
  {
   "cell_type": "code",
   "execution_count": null,
   "metadata": {
    "id": "vko3xbyDi6A2"
   },
   "outputs": [],
   "source": [
    "# ARIMA model\n",
    "model  = ARIMA(x2, order = (10,1,0))  # (p , d(differenced) , q) values , we can use different values to make model good or worse\n",
    "\n",
    "results_ar_2 = model.fit()\n",
    "\n",
    "pred_2 = results_ar_2.predict(start = y2.index[0], end = y2.index[-1],typ = 'levels')"
   ]
  },
  {
   "cell_type": "code",
   "execution_count": null,
   "metadata": {
    "id": "504Djjori6A2",
    "outputId": "76082ba7-e428-4c78-a718-85ddaa9b2b6a"
   },
   "outputs": [
    {
     "data": {
      "text/plain": [
       "1959-11-01    342.989967\n",
       "1959-12-01    370.994296\n",
       "1960-01-01    374.340078\n",
       "1960-02-01    385.840390\n",
       "1960-03-01    428.001305\n",
       "Freq: MS, dtype: float64"
      ]
     },
     "execution_count": 14,
     "metadata": {
      "tags": []
     },
     "output_type": "execute_result"
    }
   ],
   "source": [
    "pred_2.head()"
   ]
  },
  {
   "cell_type": "code",
   "execution_count": null,
   "metadata": {
    "id": "Kuq882Fci6A2",
    "outputId": "2a7a9588-15db-4cbd-f18c-571f29794182"
   },
   "outputs": [
    {
     "data": {
      "text/html": [
       "<div>\n",
       "<style scoped>\n",
       "    .dataframe tbody tr th:only-of-type {\n",
       "        vertical-align: middle;\n",
       "    }\n",
       "\n",
       "    .dataframe tbody tr th {\n",
       "        vertical-align: top;\n",
       "    }\n",
       "\n",
       "    .dataframe thead th {\n",
       "        text-align: right;\n",
       "    }\n",
       "</style>\n",
       "<table border=\"1\" class=\"dataframe\">\n",
       "  <thead>\n",
       "    <tr style=\"text-align: right;\">\n",
       "      <th></th>\n",
       "      <th>Mean_Absolute_Error</th>\n",
       "      <th>Mean_Squared_Error</th>\n",
       "      <th>Mean_Absolute_Percentage_Error</th>\n",
       "      <th>Root_Mean_Sqared_Error</th>\n",
       "    </tr>\n",
       "  </thead>\n",
       "  <tbody>\n",
       "    <tr>\n",
       "      <th>Values</th>\n",
       "      <td>24.605376</td>\n",
       "      <td>820.329918</td>\n",
       "      <td>5.293704</td>\n",
       "      <td>28.641402</td>\n",
       "    </tr>\n",
       "  </tbody>\n",
       "</table>\n",
       "</div>"
      ],
      "text/plain": [
       "        Mean_Absolute_Error  Mean_Squared_Error  \\\n",
       "Values            24.605376          820.329918   \n",
       "\n",
       "        Mean_Absolute_Percentage_Error  Root_Mean_Sqared_Error  \n",
       "Values                        5.293704               28.641402  "
      ]
     },
     "execution_count": 43,
     "metadata": {
      "tags": []
     },
     "output_type": "execute_result"
    },
    {
     "data": {
      "image/png": "[encoded data removed]",
      "text/plain": [
       "<Figure size 936x504 with 1 Axes>"
      ]
     },
     "metadata": {
      "needs_background": "light",
      "tags": []
     },
     "output_type": "display_data"
    }
   ],
   "source": [
    "df_pred_2 = pd.DataFrame({'Actual': y2.Passengers, 'Predicted':pred_2})\n",
    "\n",
    "fig = plt.figure(figsize=(13,7))\n",
    "\n",
    "plt.plot(df_pred_2['Actual'],color = 'red', label = 'orignal')\n",
    "\n",
    "plt.plot(df_pred_2['Predicted'],color = 'black',label = 'predicted')\n",
    "\n",
    "plt.plot(x2['Passengers'], color = 'yellow', label = 'train')\n",
    "\n",
    "plt.legend();\n",
    "\n",
    "# To check results\n",
    "Module_making.evaluate_forecast(y2.Passengers, pred_2)"
   ]
  },
  {
   "cell_type": "code",
   "execution_count": null,
   "metadata": {
    "id": "jl5u2qXFi6A3",
    "outputId": "bcc73b07-c8db-4869-e583-dae11dbf3116"
   },
   "outputs": [
    {
     "name": "stdout",
     "output_type": "stream",
     "text": [
      " # Forecasted Value:  [342.98996672 370.99429635 374.34007849 385.84039044]\n",
      "\n",
      " # Standard Error:  [231.58291708 308.00874159 310.93062476 312.55728196]\n",
      "\n",
      " Confidence Interval:  [[-110.9042102   796.88414364]\n",
      " [-232.69174408  974.68033679]\n",
      " [-235.07274774  983.75290472]\n",
      " [-226.76062531  998.44140618]]\n"
     ]
    }
   ],
   "source": [
    "forecast = results_ar_2.forecast(steps = 4)\n",
    "\n",
    "print(' # Forecasted Value: ', forecast[0]) # Forecasted Value\n",
    "# print('\\n # Standard Error: ',forecast[1]) # Standard Error\n",
    "# print('\\n Confidence Interval: ', forecast[2]) # Confidence Interval"
   ]
  },
  {
   "cell_type": "markdown",
   "metadata": {
    "id": "1snNBpR8i6A3"
   },
   "source": [
    "### Making pickle"
   ]
  },
  {
   "cell_type": "code",
   "execution_count": null,
   "metadata": {
    "id": "yixZaZo5i6A3"
   },
   "outputs": [],
   "source": [
    "# df_pred"
   ]
  },
  {
   "cell_type": "code",
   "execution_count": null,
   "metadata": {
    "id": "XFM1qhWSi6A4"
   },
   "outputs": [],
   "source": [
    "# import pickle\n",
    "# # saved the trained model in file with given name\n",
    "# pickle_out = open(\"random forest model.pickle\",\"wb\")\n",
    "# pickle.dump(model, pickle_out)\n",
    "# pickle_out.close()"
   ]
  },
  {
   "cell_type": "code",
   "execution_count": null,
   "metadata": {
    "id": "xErqcHROi6A4"
   },
   "outputs": [],
   "source": [
    "# loading the pickeled model\n",
    "# pickle_in = open(\"random forest model.pickle\",\"rb\")\n",
    "# trained_model = pickle.load(pickle_in)"
   ]
  },
  {
   "cell_type": "code",
   "execution_count": null,
   "metadata": {
    "id": "Rifny4zci6A4",
    "outputId": "06ac44be-396c-4c95-b21b-e343d0cfdf14"
   },
   "outputs": [
    {
     "data": {
      "text/plain": [
       "array([5.88331554, 5.95614342, 6.02788082, 5.98254467, 6.12625247])"
      ]
     },
     "execution_count": 36,
     "metadata": {
      "tags": []
     },
     "output_type": "execute_result"
    }
   ],
   "source": [
    "# trained_model.forecast(5)[0]"
   ]
  }
 ],
 "metadata": {
  "colab": {
   "collapsed_sections": [],
   "name": "Fin_ARIMA_Model.ipynb",
   "provenance": []
  },
  "kernelspec": {
   "display_name": "Python 3",
   "language": "python",
   "name": "python3"
  },
  "language_info": {
   "codemirror_mode": {
    "name": "ipython",
    "version": 3
   },
   "file_extension": ".py",
   "mimetype": "text/x-python",
   "name": "python",
   "nbconvert_exporter": "python",
   "pygments_lexer": "ipython3",
   "version": "3.8.5"
  }
 },
 "nbformat": 4,
 "nbformat_minor": 1
}
