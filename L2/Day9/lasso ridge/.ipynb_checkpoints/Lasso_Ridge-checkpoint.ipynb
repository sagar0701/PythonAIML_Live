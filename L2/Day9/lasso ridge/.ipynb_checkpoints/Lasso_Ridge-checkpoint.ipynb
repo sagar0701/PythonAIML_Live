{
 "cells": [
  {
   "cell_type": "code",
   "execution_count": 1,
   "metadata": {},
   "outputs": [],
   "source": [
    "import pandas as pd \n",
    "import numpy as np \n",
    "import matplotlib.pyplot as plt \n",
    "from sklearn import datasets \n",
    "from sklearn.model_selection import train_test_split \n",
    "from sklearn.linear_model import LinearRegression \n",
    "from sklearn.metrics import mean_squared_error"
   ]
  },
  {
   "cell_type": "code",
   "execution_count": 2,
   "metadata": {},
   "outputs": [],
   "source": [
    "# Loading pre-defined Boston Dataset \n",
    "boston_dataset = datasets.load_boston() \n",
    "# print(boston_dataset.DESCR) "
   ]
  },
  {
   "cell_type": "code",
   "execution_count": 3,
   "metadata": {},
   "outputs": [
    {
     "data": {
      "text/plain": [
       "dict_keys(['data', 'target', 'feature_names', 'DESCR', 'filename'])"
      ]
     },
     "execution_count": 3,
     "metadata": {},
     "output_type": "execute_result"
    }
   ],
   "source": [
    "boston_dataset.keys()"
   ]
  },
  {
   "cell_type": "code",
   "execution_count": 6,
   "metadata": {},
   "outputs": [
    {
     "data": {
      "text/plain": [
       "array(['CRIM', 'ZN', 'INDUS', 'CHAS', 'NOX', 'RM', 'AGE', 'DIS', 'RAD',\n",
       "       'TAX', 'PTRATIO', 'B', 'LSTAT'], dtype='<U7')"
      ]
     },
     "execution_count": 6,
     "metadata": {},
     "output_type": "execute_result"
    }
   ],
   "source": [
    "boston_dataset.feature_names"
   ]
  },
  {
   "cell_type": "code",
   "execution_count": 4,
   "metadata": {
    "scrolled": true
   },
   "outputs": [
    {
     "name": "stdout",
     "output_type": "stream",
     "text": [
      "Train data shape of X = (379, 13) and Y = (379,) : \n",
      "Test data shape of X = (127, 13) and Y = (127,) : \n"
     ]
    }
   ],
   "source": [
    "x_train, x_test, y_train, y_test = train_test_split(boston_dataset.data, \n",
    "                                                    boston_dataset.target,  \n",
    "                                                    test_size = 0.25,\n",
    "                                                   random_state = 41) \n",
    "  \n",
    "print(\"Train data shape of X = % s and Y = % s : \"%(x_train.shape, y_train.shape)) \n",
    "  \n",
    "print(\"Test data shape of X = % s and Y = % s : \"%(x_test.shape, y_test.shape)) "
   ]
  },
  {
   "cell_type": "code",
   "execution_count": 7,
   "metadata": {},
   "outputs": [
    {
     "name": "stdout",
     "output_type": "stream",
     "text": [
      "Root Mean squared Error on test set :  4.597800668458803\n"
     ]
    },
    {
     "data": {
      "text/html": [
       "<div>\n",
       "<style scoped>\n",
       "    .dataframe tbody tr th:only-of-type {\n",
       "        vertical-align: middle;\n",
       "    }\n",
       "\n",
       "    .dataframe tbody tr th {\n",
       "        vertical-align: top;\n",
       "    }\n",
       "\n",
       "    .dataframe thead th {\n",
       "        text-align: right;\n",
       "    }\n",
       "</style>\n",
       "<table border=\"1\" class=\"dataframe\">\n",
       "  <thead>\n",
       "    <tr style=\"text-align: right;\">\n",
       "      <th></th>\n",
       "      <th>Columns</th>\n",
       "      <th>Coefficient Estimate</th>\n",
       "    </tr>\n",
       "  </thead>\n",
       "  <tbody>\n",
       "    <tr>\n",
       "      <th>0</th>\n",
       "      <td>CRIM</td>\n",
       "      <td>-0.044514</td>\n",
       "    </tr>\n",
       "    <tr>\n",
       "      <th>1</th>\n",
       "      <td>ZN</td>\n",
       "      <td>0.039383</td>\n",
       "    </tr>\n",
       "    <tr>\n",
       "      <th>2</th>\n",
       "      <td>INDUS</td>\n",
       "      <td>0.024568</td>\n",
       "    </tr>\n",
       "    <tr>\n",
       "      <th>3</th>\n",
       "      <td>CHAS</td>\n",
       "      <td>3.975857</td>\n",
       "    </tr>\n",
       "    <tr>\n",
       "      <th>4</th>\n",
       "      <td>NOX</td>\n",
       "      <td>-15.964512</td>\n",
       "    </tr>\n",
       "    <tr>\n",
       "      <th>5</th>\n",
       "      <td>RM</td>\n",
       "      <td>4.004434</td>\n",
       "    </tr>\n",
       "    <tr>\n",
       "      <th>6</th>\n",
       "      <td>AGE</td>\n",
       "      <td>0.015961</td>\n",
       "    </tr>\n",
       "    <tr>\n",
       "      <th>7</th>\n",
       "      <td>DIS</td>\n",
       "      <td>-1.295413</td>\n",
       "    </tr>\n",
       "    <tr>\n",
       "      <th>8</th>\n",
       "      <td>RAD</td>\n",
       "      <td>0.298655</td>\n",
       "    </tr>\n",
       "    <tr>\n",
       "      <th>9</th>\n",
       "      <td>TAX</td>\n",
       "      <td>-0.012213</td>\n",
       "    </tr>\n",
       "    <tr>\n",
       "      <th>10</th>\n",
       "      <td>PTRATIO</td>\n",
       "      <td>-0.991261</td>\n",
       "    </tr>\n",
       "    <tr>\n",
       "      <th>11</th>\n",
       "      <td>B</td>\n",
       "      <td>0.010274</td>\n",
       "    </tr>\n",
       "    <tr>\n",
       "      <th>12</th>\n",
       "      <td>LSTAT</td>\n",
       "      <td>-0.639809</td>\n",
       "    </tr>\n",
       "  </tbody>\n",
       "</table>\n",
       "</div>"
      ],
      "text/plain": [
       "    Columns  Coefficient Estimate\n",
       "0      CRIM             -0.044514\n",
       "1        ZN              0.039383\n",
       "2     INDUS              0.024568\n",
       "3      CHAS              3.975857\n",
       "4       NOX            -15.964512\n",
       "5        RM              4.004434\n",
       "6       AGE              0.015961\n",
       "7       DIS             -1.295413\n",
       "8       RAD              0.298655\n",
       "9       TAX             -0.012213\n",
       "10  PTRATIO             -0.991261\n",
       "11        B              0.010274\n",
       "12    LSTAT             -0.639809"
      ]
     },
     "execution_count": 7,
     "metadata": {},
     "output_type": "execute_result"
    }
   ],
   "source": [
    "# Apply multiple Linear Regression Model \n",
    "lreg = LinearRegression() \n",
    "lreg.fit(x_train, y_train) \n",
    "  \n",
    "# Generate Prediction on test set \n",
    "lreg_y_pred = lreg.predict(x_test) \n",
    "  \n",
    "# # calculating Root Mean Squared Error (rmse) \n",
    "root_mean_squared_error = np.sqrt(mean_squared_error(lreg_y_pred, y_test)) \n",
    "print(\"Root Mean squared Error on test set : \", root_mean_squared_error)   \n",
    "    \n",
    "# # Putting together the coefficient and their corrsponding variable names  \n",
    "lreg_coefficient = pd.DataFrame() \n",
    "lreg_coefficient[\"Columns\"] = boston_dataset.feature_names \n",
    "lreg_coefficient['Coefficient Estimate'] = pd.Series(lreg.coef_) \n",
    "lreg_coefficient"
   ]
  },
  {
   "cell_type": "code",
   "execution_count": 12,
   "metadata": {},
   "outputs": [
    {
     "data": {
      "image/png": "[encoded data removed]",
      "text/plain": [
       "<Figure size 1440x720 with 1 Axes>"
      ]
     },
     "metadata": {},
     "output_type": "display_data"
    }
   ],
   "source": [
    "fig, ax = plt.subplots(figsize =(20, 10)) \n",
    "  \n",
    "color =['gray', 'blue', 'orange','green', 'red', 'purple', 'brown',  \n",
    "        'pink', 'gray', 'olive', 'orange',  'orange', 'green', 'blue', 'olive'] \n",
    "  \n",
    "ax.bar(lreg_coefficient[\"Columns\"],\n",
    "       lreg_coefficient['Coefficient Estimate'],\n",
    "       color = color) \n",
    "  \n",
    "plt.style.use('ggplot') \n",
    "plt.show() "
   ]
  },
  {
   "cell_type": "code",
   "execution_count": 9,
   "metadata": {},
   "outputs": [
    {
     "name": "stdout",
     "output_type": "stream",
     "text": [
      "RMSE Scores:  [4.203424, 4.084851, 4.038995, 4.46231, 5.425059, 6.237453, 4.234604, 4.562467]\n"
     ]
    }
   ],
   "source": [
    "# import ridge regression from sklearn library \n",
    "from sklearn.linear_model import Ridge \n",
    "  \n",
    "# Train the model  \n",
    "rmse=[]\n",
    "\n",
    "'''  y = MX + B  '''\n",
    "\n",
    "# check the below alpha values for Ridge Regression\n",
    "alpha_list=[0.3, 0.5, 1, 3, 10, 30, 2, 0.02]\n",
    "\n",
    "for alph in alpha_list:\n",
    "    \n",
    "    ridge_R = Ridge(alpha=alph, fit_intercept=True, normalize=True) \n",
    "    \n",
    "    ridge_R.fit(x_train, y_train)\n",
    "    \n",
    "#     ridge_R_predict_train = ridge_R.predict(x_train)\n",
    "    \n",
    "    ridge_R_predict_test = ridge_R.predict(x_test)\n",
    "    \n",
    "    error = np.sqrt(mean_squared_error(ridge_R_predict_test, y_test))\n",
    "    \n",
    "    rmse.append(np.round(error,6))\n",
    "\n",
    "print('RMSE Scores: ',rmse)\n",
    "\n"
   ]
  },
  {
   "cell_type": "code",
   "execution_count": 10,
   "metadata": {},
   "outputs": [
    {
     "data": {
      "text/plain": [
       "4.038995"
      ]
     },
     "execution_count": 10,
     "metadata": {},
     "output_type": "execute_result"
    }
   ],
   "source": [
    "min(rmse)"
   ]
  },
  {
   "cell_type": "code",
   "execution_count": 12,
   "metadata": {},
   "outputs": [
    {
     "data": {
      "text/plain": [
       "1"
      ]
     },
     "execution_count": 12,
     "metadata": {},
     "output_type": "execute_result"
    }
   ],
   "source": [
    "# Optimal Alpha\n",
    "a = alpha_list[rmse.index(min(rmse))]\n",
    "a"
   ]
  },
  {
   "cell_type": "code",
   "execution_count": 13,
   "metadata": {},
   "outputs": [
    {
     "name": "stdout",
     "output_type": "stream",
     "text": [
      "Coeff with alpha equal to 1\n"
     ]
    },
    {
     "data": {
      "text/html": [
       "<div>\n",
       "<style scoped>\n",
       "    .dataframe tbody tr th:only-of-type {\n",
       "        vertical-align: middle;\n",
       "    }\n",
       "\n",
       "    .dataframe tbody tr th {\n",
       "        vertical-align: top;\n",
       "    }\n",
       "\n",
       "    .dataframe thead th {\n",
       "        text-align: right;\n",
       "    }\n",
       "</style>\n",
       "<table border=\"1\" class=\"dataframe\">\n",
       "  <thead>\n",
       "    <tr style=\"text-align: right;\">\n",
       "      <th></th>\n",
       "      <th>Columns</th>\n",
       "      <th>Coefficient Estimate</th>\n",
       "    </tr>\n",
       "  </thead>\n",
       "  <tbody>\n",
       "    <tr>\n",
       "      <th>0</th>\n",
       "      <td>CRIM</td>\n",
       "      <td>-0.050918</td>\n",
       "    </tr>\n",
       "    <tr>\n",
       "      <th>1</th>\n",
       "      <td>ZN</td>\n",
       "      <td>0.018036</td>\n",
       "    </tr>\n",
       "    <tr>\n",
       "      <th>2</th>\n",
       "      <td>INDUS</td>\n",
       "      <td>-0.081809</td>\n",
       "    </tr>\n",
       "    <tr>\n",
       "      <th>3</th>\n",
       "      <td>CHAS</td>\n",
       "      <td>2.976834</td>\n",
       "    </tr>\n",
       "    <tr>\n",
       "      <th>4</th>\n",
       "      <td>NOX</td>\n",
       "      <td>-3.763169</td>\n",
       "    </tr>\n",
       "    <tr>\n",
       "      <th>5</th>\n",
       "      <td>RM</td>\n",
       "      <td>3.040296</td>\n",
       "    </tr>\n",
       "    <tr>\n",
       "      <th>6</th>\n",
       "      <td>AGE</td>\n",
       "      <td>-0.008074</td>\n",
       "    </tr>\n",
       "    <tr>\n",
       "      <th>7</th>\n",
       "      <td>DIS</td>\n",
       "      <td>-0.269382</td>\n",
       "    </tr>\n",
       "    <tr>\n",
       "      <th>8</th>\n",
       "      <td>RAD</td>\n",
       "      <td>-0.002596</td>\n",
       "    </tr>\n",
       "    <tr>\n",
       "      <th>9</th>\n",
       "      <td>TAX</td>\n",
       "      <td>-0.002677</td>\n",
       "    </tr>\n",
       "    <tr>\n",
       "      <th>10</th>\n",
       "      <td>PTRATIO</td>\n",
       "      <td>-0.549779</td>\n",
       "    </tr>\n",
       "    <tr>\n",
       "      <th>11</th>\n",
       "      <td>B</td>\n",
       "      <td>0.006556</td>\n",
       "    </tr>\n",
       "    <tr>\n",
       "      <th>12</th>\n",
       "      <td>LSTAT</td>\n",
       "      <td>-0.296024</td>\n",
       "    </tr>\n",
       "  </tbody>\n",
       "</table>\n",
       "</div>"
      ],
      "text/plain": [
       "    Columns  Coefficient Estimate\n",
       "0      CRIM             -0.050918\n",
       "1        ZN              0.018036\n",
       "2     INDUS             -0.081809\n",
       "3      CHAS              2.976834\n",
       "4       NOX             -3.763169\n",
       "5        RM              3.040296\n",
       "6       AGE             -0.008074\n",
       "7       DIS             -0.269382\n",
       "8       RAD             -0.002596\n",
       "9       TAX             -0.002677\n",
       "10  PTRATIO             -0.549779\n",
       "11        B              0.006556\n",
       "12    LSTAT             -0.296024"
      ]
     },
     "execution_count": 13,
     "metadata": {},
     "output_type": "execute_result"
    }
   ],
   "source": [
    "# Building Ridge Regression Model with optimal alpha\n",
    "\n",
    "ridge = Ridge(alpha = a, fit_intercept=True, normalize=True)\n",
    "\n",
    "ridge.fit(x_train, y_train)\n",
    "\n",
    "# ridge_predict_train_1 = ridge.predict(x_train)\n",
    "\n",
    "ridge_predict_test_1 = ridge.predict(x_test)\n",
    "\n",
    "  \n",
    "# get ridge coefficient and print them \n",
    "ridge_coefficient = pd.DataFrame()\n",
    "\n",
    "ridge_coefficient[\"Columns\"]= boston_dataset.feature_names \n",
    "ridge_coefficient['Coefficient Estimate'] = pd.Series(ridge.coef_) \n",
    "\n",
    "\n",
    "print('Coeff with alpha equal to ' + str(a))\n",
    "ridge_coefficient \n"
   ]
  },
  {
   "cell_type": "code",
   "execution_count": 14,
   "metadata": {},
   "outputs": [
    {
     "name": "stdout",
     "output_type": "stream",
     "text": [
      "Graph with alpha equal to 1\n"
     ]
    },
    {
     "data": {
      "image/png": "[encoded data removed]",
      "text/plain": [
       "<Figure size 1440x720 with 1 Axes>"
      ]
     },
     "metadata": {
      "needs_background": "light"
     },
     "output_type": "display_data"
    }
   ],
   "source": [
    "print('Graph with alpha equal to ' + str(ridge.alpha))\n",
    "\n",
    "fig, ax = plt.subplots(figsize =(20, 10)) \n",
    "  \n",
    "color =['gray', 'blue', 'orange','green', 'red', 'purple', 'brown',  \n",
    "        'pink', 'gray', 'olive', 'orange',  'orange', 'green', 'blue', 'olive'] \n",
    "  \n",
    "ax.bar(ridge_coefficient[\"Columns\"],\n",
    "       ridge_coefficient['Coefficient Estimate'],\n",
    "       color = color) \n",
    "plt.style.use('ggplot') \n",
    "plt.show() \n"
   ]
  },
  {
   "cell_type": "code",
   "execution_count": 15,
   "metadata": {},
   "outputs": [
    {
     "name": "stdout",
     "output_type": "stream",
     "text": [
      "Testing RMSE  5.976427795794801\n",
      "Training RMSE  8.821851102787146\n",
      "\n",
      "Coeff with alpha Penality equal to 20\n"
     ]
    },
    {
     "data": {
      "text/html": [
       "<div>\n",
       "<style scoped>\n",
       "    .dataframe tbody tr th:only-of-type {\n",
       "        vertical-align: middle;\n",
       "    }\n",
       "\n",
       "    .dataframe tbody tr th {\n",
       "        vertical-align: top;\n",
       "    }\n",
       "\n",
       "    .dataframe thead th {\n",
       "        text-align: right;\n",
       "    }\n",
       "</style>\n",
       "<table border=\"1\" class=\"dataframe\">\n",
       "  <thead>\n",
       "    <tr style=\"text-align: right;\">\n",
       "      <th></th>\n",
       "      <th>Columns</th>\n",
       "      <th>Coefficient Estimate</th>\n",
       "    </tr>\n",
       "  </thead>\n",
       "  <tbody>\n",
       "    <tr>\n",
       "      <th>0</th>\n",
       "      <td>CRIM</td>\n",
       "      <td>-0.019236</td>\n",
       "    </tr>\n",
       "    <tr>\n",
       "      <th>1</th>\n",
       "      <td>ZN</td>\n",
       "      <td>0.005505</td>\n",
       "    </tr>\n",
       "    <tr>\n",
       "      <th>2</th>\n",
       "      <td>INDUS</td>\n",
       "      <td>-0.026800</td>\n",
       "    </tr>\n",
       "    <tr>\n",
       "      <th>3</th>\n",
       "      <td>CHAS</td>\n",
       "      <td>0.354910</td>\n",
       "    </tr>\n",
       "    <tr>\n",
       "      <th>4</th>\n",
       "      <td>NOX</td>\n",
       "      <td>-1.302565</td>\n",
       "    </tr>\n",
       "    <tr>\n",
       "      <th>5</th>\n",
       "      <td>RM</td>\n",
       "      <td>0.420992</td>\n",
       "    </tr>\n",
       "    <tr>\n",
       "      <th>6</th>\n",
       "      <td>AGE</td>\n",
       "      <td>-0.004694</td>\n",
       "    </tr>\n",
       "    <tr>\n",
       "      <th>7</th>\n",
       "      <td>DIS</td>\n",
       "      <td>0.031136</td>\n",
       "    </tr>\n",
       "    <tr>\n",
       "      <th>8</th>\n",
       "      <td>RAD</td>\n",
       "      <td>-0.015186</td>\n",
       "    </tr>\n",
       "    <tr>\n",
       "      <th>9</th>\n",
       "      <td>TAX</td>\n",
       "      <td>-0.001008</td>\n",
       "    </tr>\n",
       "    <tr>\n",
       "      <th>10</th>\n",
       "      <td>PTRATIO</td>\n",
       "      <td>-0.094865</td>\n",
       "    </tr>\n",
       "    <tr>\n",
       "      <th>11</th>\n",
       "      <td>B</td>\n",
       "      <td>0.001371</td>\n",
       "    </tr>\n",
       "    <tr>\n",
       "      <th>12</th>\n",
       "      <td>LSTAT</td>\n",
       "      <td>-0.042997</td>\n",
       "    </tr>\n",
       "  </tbody>\n",
       "</table>\n",
       "</div>"
      ],
      "text/plain": [
       "    Columns  Coefficient Estimate\n",
       "0      CRIM             -0.019236\n",
       "1        ZN              0.005505\n",
       "2     INDUS             -0.026800\n",
       "3      CHAS              0.354910\n",
       "4       NOX             -1.302565\n",
       "5        RM              0.420992\n",
       "6       AGE             -0.004694\n",
       "7       DIS              0.031136\n",
       "8       RAD             -0.015186\n",
       "9       TAX             -0.001008\n",
       "10  PTRATIO             -0.094865\n",
       "11        B              0.001371\n",
       "12    LSTAT             -0.042997"
      ]
     },
     "execution_count": 15,
     "metadata": {},
     "output_type": "execute_result"
    }
   ],
   "source": [
    "# Building Ridge Regression Model with optimal alpha\n",
    "ridge = Ridge(alpha = 20, fit_intercept=True, normalize=True)\n",
    "\n",
    "ridge.fit(x_train, y_train)\n",
    "\n",
    "ridge_predict_train_1 = ridge.predict(x_train)\n",
    "\n",
    "ridge_predict_test_1 = ridge.predict(x_test)\n",
    "\n",
    "testing_error = np.sqrt(mean_squared_error(ridge_predict_test_1, y_test))\n",
    "\n",
    "training_error = np.sqrt(mean_squared_error(ridge_predict_train_1, y_train))\n",
    "\n",
    "print('Testing RMSE ',testing_error)\n",
    "print('Training RMSE ',training_error)\n",
    "\n",
    "# get ridge coefficient and print them \n",
    "ridge_coefficient = pd.DataFrame()\n",
    "\n",
    "ridge_coefficient[\"Columns\"]= boston_dataset.feature_names \n",
    "ridge_coefficient['Coefficient Estimate'] = pd.Series(ridge.coef_) \n",
    "\n",
    "\n",
    "print('\\nCoeff with alpha Penality equal to '+ str(ridge.alpha) )\n",
    "ridge_coefficient \n"
   ]
  },
  {
   "cell_type": "code",
   "execution_count": 17,
   "metadata": {},
   "outputs": [
    {
     "name": "stdout",
     "output_type": "stream",
     "text": [
      "Graph with alpha equal to 20- Higher Penality\n"
     ]
    },
    {
     "data": {
      "image/png": "[encoded data removed]",
      "text/plain": [
       "<Figure size 1440x720 with 1 Axes>"
      ]
     },
     "metadata": {},
     "output_type": "display_data"
    }
   ],
   "source": [
    "print('Graph with alpha equal to '+ str(ridge.alpha) + '- Higher Penality')\n",
    "\n",
    "fig, ax = plt.subplots(figsize =(20, 10)) \n",
    "  \n",
    "color =['gray', 'blue', 'orange','green', 'red', 'purple', 'brown',  \n",
    "        'pink', 'gray', 'olive', 'orange',  'orange', 'green', 'blue', 'olive'] \n",
    "  \n",
    "ax.bar(ridge_coefficient[\"Columns\"],\n",
    "       ridge_coefficient['Coefficient Estimate'],\n",
    "       color = color) \n",
    "  \n",
    "# ax.spines['center'].set_position('bottom') \n",
    "\n",
    "ax.xaxis.set_ticks_position('bottom')\n",
    "\n",
    "plt.style.use('ggplot') \n",
    "plt.show() \n"
   ]
  },
  {
   "cell_type": "code",
   "execution_count": null,
   "metadata": {},
   "outputs": [],
   "source": []
  },
  {
   "cell_type": "markdown",
   "metadata": {},
   "source": [
    "## LASSO - in this coefficients value will become zero, if higher penalty is imposed"
   ]
  },
  {
   "cell_type": "code",
   "execution_count": 18,
   "metadata": {},
   "outputs": [
    {
     "name": "stdout",
     "output_type": "stream",
     "text": [
      "LASSO RMSE Scores:  [[0.02, 5.955410895593172], [0.02, 4.708496371577984], [0.02, 4.499397625732219], [0.02, 6.96053828293445]]\n"
     ]
    }
   ],
   "source": [
    "from sklearn.linear_model import Lasso \n",
    "  \n",
    "# Train the model \n",
    "alpha_1=[0.3,0.01,0.1, 0.5]\n",
    "rmse_lasso = []\n",
    "\n",
    "for alph_1 in alpha_1:\n",
    "    lasso = Lasso(alpha=alph_1, fit_intercept=True, normalize=True) \n",
    "    lasso.fit(x_train, y_train)\n",
    "    lasso_predict_train = lasso.predict(x_train)\n",
    "    lasso_predict_test = lasso.predict(x_test)\n",
    "    \n",
    "    rmse_lasso.append([alph,np.sqrt(mean_squared_error(lasso_predict_test, y_test))])\n",
    "print('LASSO RMSE Scores: ',rmse_lasso)\n"
   ]
  },
  {
   "cell_type": "code",
   "execution_count": 19,
   "metadata": {},
   "outputs": [
    {
     "data": {
      "text/plain": [
       "0.1"
      ]
     },
     "execution_count": 19,
     "metadata": {},
     "output_type": "execute_result"
    }
   ],
   "source": [
    "# Optimal Alpha\n",
    "lasso_a = alpha_1[rmse_lasso.index(min(rmse_lasso))]\n",
    "lasso_a"
   ]
  },
  {
   "cell_type": "code",
   "execution_count": 23,
   "metadata": {},
   "outputs": [
    {
     "name": "stdout",
     "output_type": "stream",
     "text": [
      "Coeff with alpha equal to 0.1\n"
     ]
    },
    {
     "data": {
      "text/html": [
       "<div>\n",
       "<style scoped>\n",
       "    .dataframe tbody tr th:only-of-type {\n",
       "        vertical-align: middle;\n",
       "    }\n",
       "\n",
       "    .dataframe tbody tr th {\n",
       "        vertical-align: top;\n",
       "    }\n",
       "\n",
       "    .dataframe thead th {\n",
       "        text-align: right;\n",
       "    }\n",
       "</style>\n",
       "<table border=\"1\" class=\"dataframe\">\n",
       "  <thead>\n",
       "    <tr style=\"text-align: right;\">\n",
       "      <th></th>\n",
       "      <th>Columns</th>\n",
       "      <th>Coefficient Estimate</th>\n",
       "    </tr>\n",
       "  </thead>\n",
       "  <tbody>\n",
       "    <tr>\n",
       "      <th>0</th>\n",
       "      <td>CRIM</td>\n",
       "      <td>-0.000000</td>\n",
       "    </tr>\n",
       "    <tr>\n",
       "      <th>1</th>\n",
       "      <td>ZN</td>\n",
       "      <td>0.000000</td>\n",
       "    </tr>\n",
       "    <tr>\n",
       "      <th>2</th>\n",
       "      <td>INDUS</td>\n",
       "      <td>-0.000000</td>\n",
       "    </tr>\n",
       "    <tr>\n",
       "      <th>3</th>\n",
       "      <td>CHAS</td>\n",
       "      <td>0.000000</td>\n",
       "    </tr>\n",
       "    <tr>\n",
       "      <th>4</th>\n",
       "      <td>NOX</td>\n",
       "      <td>-0.000000</td>\n",
       "    </tr>\n",
       "    <tr>\n",
       "      <th>5</th>\n",
       "      <td>RM</td>\n",
       "      <td>3.578766</td>\n",
       "    </tr>\n",
       "    <tr>\n",
       "      <th>6</th>\n",
       "      <td>AGE</td>\n",
       "      <td>-0.000000</td>\n",
       "    </tr>\n",
       "    <tr>\n",
       "      <th>7</th>\n",
       "      <td>DIS</td>\n",
       "      <td>-0.000000</td>\n",
       "    </tr>\n",
       "    <tr>\n",
       "      <th>8</th>\n",
       "      <td>RAD</td>\n",
       "      <td>-0.000000</td>\n",
       "    </tr>\n",
       "    <tr>\n",
       "      <th>9</th>\n",
       "      <td>TAX</td>\n",
       "      <td>-0.000000</td>\n",
       "    </tr>\n",
       "    <tr>\n",
       "      <th>10</th>\n",
       "      <td>PTRATIO</td>\n",
       "      <td>-0.343392</td>\n",
       "    </tr>\n",
       "    <tr>\n",
       "      <th>11</th>\n",
       "      <td>B</td>\n",
       "      <td>0.000000</td>\n",
       "    </tr>\n",
       "    <tr>\n",
       "      <th>12</th>\n",
       "      <td>LSTAT</td>\n",
       "      <td>-0.494200</td>\n",
       "    </tr>\n",
       "  </tbody>\n",
       "</table>\n",
       "</div>"
      ],
      "text/plain": [
       "    Columns  Coefficient Estimate\n",
       "0      CRIM             -0.000000\n",
       "1        ZN              0.000000\n",
       "2     INDUS             -0.000000\n",
       "3      CHAS              0.000000\n",
       "4       NOX             -0.000000\n",
       "5        RM              3.578766\n",
       "6       AGE             -0.000000\n",
       "7       DIS             -0.000000\n",
       "8       RAD             -0.000000\n",
       "9       TAX             -0.000000\n",
       "10  PTRATIO             -0.343392\n",
       "11        B              0.000000\n",
       "12    LSTAT             -0.494200"
      ]
     },
     "execution_count": 23,
     "metadata": {},
     "output_type": "execute_result"
    }
   ],
   "source": [
    "# Building Lasso Regression Model with optimal alpha\n",
    "lasso = Lasso(alpha=lasso_a, fit_intercept=True, normalize=True)\n",
    "\n",
    "lasso.fit(x_train, y_train)\n",
    "\n",
    "lasso_predict_train = lasso.predict(x_train)\n",
    "\n",
    "lasso_predict_test = lasso.predict(x_test)\n",
    "\n",
    "\n",
    "# get lasso coefficient and print them \n",
    "lasso_coeff = pd.DataFrame() \n",
    "lasso_coeff[\"Columns\"] = boston_dataset.feature_names \n",
    "lasso_coeff['Coefficient Estimate'] = pd.Series(lasso.coef_) \n",
    "\n",
    "print('Coeff with alpha equal to '+ str(lasso.alpha))\n",
    "lasso_coeff \n"
   ]
  },
  {
   "cell_type": "code",
   "execution_count": 21,
   "metadata": {},
   "outputs": [
    {
     "name": "stdout",
     "output_type": "stream",
     "text": [
      "Coeff with alpha equal to 0.08\n"
     ]
    },
    {
     "data": {
      "text/html": [
       "<div>\n",
       "<style scoped>\n",
       "    .dataframe tbody tr th:only-of-type {\n",
       "        vertical-align: middle;\n",
       "    }\n",
       "\n",
       "    .dataframe tbody tr th {\n",
       "        vertical-align: top;\n",
       "    }\n",
       "\n",
       "    .dataframe thead th {\n",
       "        text-align: right;\n",
       "    }\n",
       "</style>\n",
       "<table border=\"1\" class=\"dataframe\">\n",
       "  <thead>\n",
       "    <tr style=\"text-align: right;\">\n",
       "      <th></th>\n",
       "      <th>Columns</th>\n",
       "      <th>Coefficient Estimate</th>\n",
       "    </tr>\n",
       "  </thead>\n",
       "  <tbody>\n",
       "    <tr>\n",
       "      <th>0</th>\n",
       "      <td>CRIM</td>\n",
       "      <td>-0.000000</td>\n",
       "    </tr>\n",
       "    <tr>\n",
       "      <th>1</th>\n",
       "      <td>ZN</td>\n",
       "      <td>0.000000</td>\n",
       "    </tr>\n",
       "    <tr>\n",
       "      <th>2</th>\n",
       "      <td>INDUS</td>\n",
       "      <td>-0.000000</td>\n",
       "    </tr>\n",
       "    <tr>\n",
       "      <th>3</th>\n",
       "      <td>CHAS</td>\n",
       "      <td>0.000000</td>\n",
       "    </tr>\n",
       "    <tr>\n",
       "      <th>4</th>\n",
       "      <td>NOX</td>\n",
       "      <td>-0.000000</td>\n",
       "    </tr>\n",
       "    <tr>\n",
       "      <th>5</th>\n",
       "      <td>RM</td>\n",
       "      <td>3.809237</td>\n",
       "    </tr>\n",
       "    <tr>\n",
       "      <th>6</th>\n",
       "      <td>AGE</td>\n",
       "      <td>-0.000000</td>\n",
       "    </tr>\n",
       "    <tr>\n",
       "      <th>7</th>\n",
       "      <td>DIS</td>\n",
       "      <td>-0.000000</td>\n",
       "    </tr>\n",
       "    <tr>\n",
       "      <th>8</th>\n",
       "      <td>RAD</td>\n",
       "      <td>-0.000000</td>\n",
       "    </tr>\n",
       "    <tr>\n",
       "      <th>9</th>\n",
       "      <td>TAX</td>\n",
       "      <td>-0.000000</td>\n",
       "    </tr>\n",
       "    <tr>\n",
       "      <th>10</th>\n",
       "      <td>PTRATIO</td>\n",
       "      <td>-0.459921</td>\n",
       "    </tr>\n",
       "    <tr>\n",
       "      <th>11</th>\n",
       "      <td>B</td>\n",
       "      <td>0.000000</td>\n",
       "    </tr>\n",
       "    <tr>\n",
       "      <th>12</th>\n",
       "      <td>LSTAT</td>\n",
       "      <td>-0.521059</td>\n",
       "    </tr>\n",
       "  </tbody>\n",
       "</table>\n",
       "</div>"
      ],
      "text/plain": [
       "    Columns  Coefficient Estimate\n",
       "0      CRIM             -0.000000\n",
       "1        ZN              0.000000\n",
       "2     INDUS             -0.000000\n",
       "3      CHAS              0.000000\n",
       "4       NOX             -0.000000\n",
       "5        RM              3.809237\n",
       "6       AGE             -0.000000\n",
       "7       DIS             -0.000000\n",
       "8       RAD             -0.000000\n",
       "9       TAX             -0.000000\n",
       "10  PTRATIO             -0.459921\n",
       "11        B              0.000000\n",
       "12    LSTAT             -0.521059"
      ]
     },
     "execution_count": 21,
     "metadata": {},
     "output_type": "execute_result"
    }
   ],
   "source": [
    "# Building Lasso Regression Model with higher alpha\n",
    "lasso_1 = Lasso(alpha=0.08, fit_intercept=True, normalize=True)\n",
    "\n",
    "lasso_1.fit(x_train, y_train)\n",
    "\n",
    "lasso_predict_train_1 = lasso_1.predict(x_train)\n",
    "lasso_predict_test_1 = lasso_1.predict(x_test)\n",
    "\n",
    "\n",
    "# get lasso coefficient and print them \n",
    "lasso_1_coeff = pd.DataFrame() \n",
    "lasso_1_coeff[\"Columns\"] = boston_dataset.feature_names \n",
    "lasso_1_coeff['Coefficient Estimate'] = pd.Series(lasso_1.coef_) \n",
    "\n",
    "print('Coeff with alpha equal to '+ str(lasso_1.alpha))\n",
    "lasso_1_coeff \n",
    "\n"
   ]
  },
  {
   "cell_type": "code",
   "execution_count": 24,
   "metadata": {},
   "outputs": [
    {
     "name": "stdout",
     "output_type": "stream",
     "text": [
      "Graph with alpha equal to 0.1 Penality\n"
     ]
    },
    {
     "data": {
      "image/png": "[encoded data removed]",
      "text/plain": [
       "<Figure size 1440x720 with 1 Axes>"
      ]
     },
     "metadata": {},
     "output_type": "display_data"
    }
   ],
   "source": [
    "print('Graph with alpha equal to ' + str(lasso.alpha) + ' Penality')\n",
    "\n",
    "fig, ax = plt.subplots(figsize =(20, 10)) \n",
    "  \n",
    "color =['gray', 'blue', 'orange','green', 'red', 'purple', 'brown',  \n",
    "        'pink', 'gray', 'olive', 'orange',  'orange', 'green', 'blue', 'olive'] \n",
    "  \n",
    "ax.bar(lasso_coeff[\"Columns\"],\n",
    "       lasso_coeff['Coefficient Estimate'],\n",
    "       color = color) \n",
    "  \n",
    "# ax.spines['center'].set_position('bottom') \n",
    "\n",
    "ax.xaxis.set_ticks_position('bottom')\n",
    "\n",
    "plt.style.use('ggplot') \n",
    "plt.show() \n"
   ]
  },
  {
   "cell_type": "code",
   "execution_count": null,
   "metadata": {},
   "outputs": [],
   "source": []
  }
 ],
 "metadata": {
  "kernelspec": {
   "display_name": "Python 3",
   "language": "python",
   "name": "python3"
  },
  "language_info": {
   "codemirror_mode": {
    "name": "ipython",
    "version": 3
   },
   "file_extension": ".py",
   "mimetype": "text/x-python",
   "name": "python",
   "nbconvert_exporter": "python",
   "pygments_lexer": "ipython3",
   "version": "3.8.5"
  }
 },
 "nbformat": 4,
 "nbformat_minor": 4
}
