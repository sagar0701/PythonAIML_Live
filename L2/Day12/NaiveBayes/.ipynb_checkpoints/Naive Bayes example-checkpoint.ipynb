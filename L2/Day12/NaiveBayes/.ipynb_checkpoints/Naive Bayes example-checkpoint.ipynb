{
 "cells": [
  {
   "cell_type": "markdown",
   "metadata": {
    "id": "XrMtuanlreYr"
   },
   "source": [
    "'''  \n",
    "Can Golf be played give ----- Outlook     - Rainy, \n",
    "                              Temperature - Hot, \n",
    "                              Humidity    - High,\n",
    "                              Windy       - False \n",
    "'''"
   ]
  },
  {
   "cell_type": "markdown",
   "metadata": {
    "id": "BvXxEKVGreYu"
   },
   "source": [
    "![image.png](attachment:image.png)"
   ]
  },
  {
   "cell_type": "markdown",
   "metadata": {
    "id": "fcb6vRErreYv"
   },
   "source": []
  },
  {
   "cell_type": "code",
   "execution_count": null,
   "metadata": {
    "id": "0VZc9QHCreYv"
   },
   "outputs": [],
   "source": [
    "''' GOLF PLAYED - YES-- \n",
    "\n",
    "WHEN - Rainy, Hot, High and False '''\n",
    "\n",
    "P_X_C_YES = (2/9)+(2/9)+(3/9)+(6/9)"
   ]
  },
  {
   "cell_type": "code",
   "execution_count": null,
   "metadata": {
    "id": "auOWGKOGreYw"
   },
   "outputs": [],
   "source": []
  },
  {
   "cell_type": "code",
   "execution_count": null,
   "metadata": {
    "id": "QTwl0QDAreYw"
   },
   "outputs": [],
   "source": [
    "''' Probability of Playing Golf '''\n",
    "\n",
    "P_C_YES = (9/14)"
   ]
  },
  {
   "cell_type": "code",
   "execution_count": null,
   "metadata": {
    "id": "Xve_6rJ_reYw",
    "outputId": "b56bd749-5776-47dd-b4f0-a06c1f241285"
   },
   "outputs": [
    {
     "data": {
      "text/plain": [
       "1.7142857142857142"
      ]
     },
     "execution_count": 3,
     "metadata": {},
     "output_type": "execute_result"
    }
   ],
   "source": [
    "''' TOTAL PROBABILITY OF \n",
    "\n",
    "Rainy, Hot, High and False \n",
    "\n",
    "IRRESPECTIVE OF GOLF PLAYED OF NOT '''\n",
    "\n",
    "P_X = (5/14)+(4/14)+(7/14)+(8/14)\n",
    "P_X"
   ]
  },
  {
   "cell_type": "code",
   "execution_count": null,
   "metadata": {
    "id": "Hg46cgnireYx",
    "outputId": "4d08153e-a0f0-49be-a0a4-b19382667bff"
   },
   "outputs": [
    {
     "data": {
      "text/plain": [
       "0.54"
      ]
     },
     "metadata": {},
     "output_type": "display_data"
    },
    {
     "data": {
      "text/plain": [
       "0.54"
      ]
     },
     "metadata": {},
     "output_type": "display_data"
    },
    {
     "data": {
      "text/plain": [
       "0.54"
      ]
     },
     "metadata": {},
     "output_type": "display_data"
    }
   ],
   "source": [
    "'''\n",
    "    P(X|C)*P(C)\n",
    "   -------------\n",
    "       P(X)\n",
    "\n",
    "'''\n",
    "''' Putting up values in above formulae - for playing Golf given Rainy, Hot, High and False conditions '''\n",
    "\n",
    "\n",
    "prob_golf_played = ( (P_X_C_YES) * P_C_YES ) / P_X\n",
    "\n",
    "import numpy as np\n",
    "\n",
    "display( np.round(prob_golf_played,2))"
   ]
  },
  {
   "cell_type": "code",
   "execution_count": null,
   "metadata": {
    "id": "GXjBX6TAreYy",
    "outputId": "721865b4-37ad-4175-9ebe-d1db911fe7f9"
   },
   "outputs": [
    {
     "data": {
      "text/plain": [
       "0.45999999999999996"
      ]
     },
     "execution_count": 3,
     "metadata": {},
     "output_type": "execute_result"
    }
   ],
   "source": [
    "1-0.54"
   ]
  },
  {
   "cell_type": "code",
   "execution_count": null,
   "metadata": {
    "id": "K3_2nMPJreYy"
   },
   "outputs": [],
   "source": [
    "''' Probability of Not Playing Golf '''\n",
    "P_C_NO = 5/14"
   ]
  },
  {
   "cell_type": "code",
   "execution_count": null,
   "metadata": {
    "id": "NjmwU4amreYy"
   },
   "outputs": [],
   "source": [
    "''' Probability of Not Playing Golf given above conditions '''\n",
    "\n",
    "P_X_C_NO = (3/5)+(2/5)+(4/5)+(2/5)"
   ]
  },
  {
   "cell_type": "code",
   "execution_count": null,
   "metadata": {
    "id": "_YsiJQA_reYy",
    "outputId": "d43d8300-e2fa-4255-b600-21a99752005f"
   },
   "outputs": [
    {
     "data": {
      "text/plain": [
       "0.4583333333333334"
      ]
     },
     "execution_count": 11,
     "metadata": {},
     "output_type": "execute_result"
    }
   ],
   "source": [
    "'''  Putting up values in above formulae - for not playing Golf given Rainy, Hot, High and False conditions '''\n",
    "\n",
    "prob_no_golf_played = (  (P_X_C_NO) * P_C_NO  ) / P_X\n",
    "\n",
    "prob_no_golf_played"
   ]
  },
  {
   "cell_type": "code",
   "execution_count": 1,
   "metadata": {
    "executionInfo": {
     "elapsed": 2824,
     "status": "ok",
     "timestamp": 1630857589522,
     "user": {
      "displayName": "sujata drall",
      "photoUrl": "",
      "userId": "07858160099359690614"
     },
     "user_tz": -330
    },
    "id": "N5Ls5Xt2reYz"
   },
   "outputs": [],
   "source": [
    "from sklearn.naive_bayes import GaussianNB"
   ]
  }
 ],
 "metadata": {
  "colab": {
   "collapsed_sections": [],
   "name": "Naive Bayes example.ipynb",
   "provenance": []
  },
  "kernelspec": {
   "display_name": "Python 3",
   "language": "python",
   "name": "python3"
  },
  "language_info": {
   "codemirror_mode": {
    "name": "ipython",
    "version": 3
   },
   "file_extension": ".py",
   "mimetype": "text/x-python",
   "name": "python",
   "nbconvert_exporter": "python",
   "pygments_lexer": "ipython3",
   "version": "3.8.5"
  }
 },
 "nbformat": 4,
 "nbformat_minor": 1
}
