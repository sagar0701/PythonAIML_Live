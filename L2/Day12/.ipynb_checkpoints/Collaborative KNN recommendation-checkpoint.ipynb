{
 "cells": [
  {
   "cell_type": "code",
   "execution_count": 1,
   "metadata": {
    "executionInfo": {
     "elapsed": 363,
     "status": "ok",
     "timestamp": 1630847223494,
     "user": {
      "displayName": "sujata drall",
      "photoUrl": "",
      "userId": "07858160099359690614"
     },
     "user_tz": -330
    },
    "id": "A6yk69V6B3xN"
   },
   "outputs": [],
   "source": [
    "import pandas as pd\n",
    "import numpy as np"
   ]
  },
  {
   "cell_type": "code",
   "execution_count": 2,
   "metadata": {
    "executionInfo": {
     "elapsed": 18,
     "status": "ok",
     "timestamp": 1630847223935,
     "user": {
      "displayName": "sujata drall",
      "photoUrl": "",
      "userId": "07858160099359690614"
     },
     "user_tz": -330
    },
    "id": "jsNsieCdB3xQ"
   },
   "outputs": [],
   "source": [
    "movies_df = pd.read_csv('movies.csv',usecols=['movieId','title'],dtype={'movieId': 'int32', 'title': 'str'})\n",
    "rating_df=pd.read_csv('ratings.csv',usecols=['userId', 'movieId', 'rating'],\n",
    "    dtype={'userId': 'int32', 'movieId': 'int32', 'rating': 'float32'})"
   ]
  },
  {
   "cell_type": "code",
   "execution_count": 3,
   "metadata": {
    "colab": {
     "base_uri": "https://localhost:8080/",
     "height": 204
    },
    "executionInfo": {
     "elapsed": 18,
     "status": "ok",
     "timestamp": 1630847223936,
     "user": {
      "displayName": "sujata drall",
      "photoUrl": "",
      "userId": "07858160099359690614"
     },
     "user_tz": -330
    },
    "id": "gMox3G79B3xR",
    "outputId": "19934040-b56b-43b2-c3ba-6f154a530fd9"
   },
   "outputs": [
    {
     "data": {
      "text/html": [
       "<div>\n",
       "<style scoped>\n",
       "    .dataframe tbody tr th:only-of-type {\n",
       "        vertical-align: middle;\n",
       "    }\n",
       "\n",
       "    .dataframe tbody tr th {\n",
       "        vertical-align: top;\n",
       "    }\n",
       "\n",
       "    .dataframe thead th {\n",
       "        text-align: right;\n",
       "    }\n",
       "</style>\n",
       "<table border=\"1\" class=\"dataframe\">\n",
       "  <thead>\n",
       "    <tr style=\"text-align: right;\">\n",
       "      <th></th>\n",
       "      <th>movieId</th>\n",
       "      <th>title</th>\n",
       "    </tr>\n",
       "  </thead>\n",
       "  <tbody>\n",
       "    <tr>\n",
       "      <th>0</th>\n",
       "      <td>1</td>\n",
       "      <td>Toy Story (1995)</td>\n",
       "    </tr>\n",
       "    <tr>\n",
       "      <th>1</th>\n",
       "      <td>2</td>\n",
       "      <td>Jumanji (1995)</td>\n",
       "    </tr>\n",
       "    <tr>\n",
       "      <th>2</th>\n",
       "      <td>3</td>\n",
       "      <td>Grumpier Old Men (1995)</td>\n",
       "    </tr>\n",
       "    <tr>\n",
       "      <th>3</th>\n",
       "      <td>4</td>\n",
       "      <td>Waiting to Exhale (1995)</td>\n",
       "    </tr>\n",
       "    <tr>\n",
       "      <th>4</th>\n",
       "      <td>5</td>\n",
       "      <td>Father of the Bride Part II (1995)</td>\n",
       "    </tr>\n",
       "  </tbody>\n",
       "</table>\n",
       "</div>"
      ],
      "text/plain": [
       "   movieId                               title\n",
       "0        1                    Toy Story (1995)\n",
       "1        2                      Jumanji (1995)\n",
       "2        3             Grumpier Old Men (1995)\n",
       "3        4            Waiting to Exhale (1995)\n",
       "4        5  Father of the Bride Part II (1995)"
      ]
     },
     "execution_count": 3,
     "metadata": {},
     "output_type": "execute_result"
    }
   ],
   "source": [
    "movies_df.head()"
   ]
  },
  {
   "cell_type": "code",
   "execution_count": 4,
   "metadata": {
    "colab": {
     "base_uri": "https://localhost:8080/",
     "height": 204
    },
    "executionInfo": {
     "elapsed": 591,
     "status": "ok",
     "timestamp": 1630847224513,
     "user": {
      "displayName": "sujata drall",
      "photoUrl": "",
      "userId": "07858160099359690614"
     },
     "user_tz": -330
    },
    "id": "3II2ejcQB3xT",
    "outputId": "779466ba-2d89-485f-ab5c-f37eceabefe1"
   },
   "outputs": [
    {
     "data": {
      "text/html": [
       "<div>\n",
       "<style scoped>\n",
       "    .dataframe tbody tr th:only-of-type {\n",
       "        vertical-align: middle;\n",
       "    }\n",
       "\n",
       "    .dataframe tbody tr th {\n",
       "        vertical-align: top;\n",
       "    }\n",
       "\n",
       "    .dataframe thead th {\n",
       "        text-align: right;\n",
       "    }\n",
       "</style>\n",
       "<table border=\"1\" class=\"dataframe\">\n",
       "  <thead>\n",
       "    <tr style=\"text-align: right;\">\n",
       "      <th></th>\n",
       "      <th>userId</th>\n",
       "      <th>movieId</th>\n",
       "      <th>rating</th>\n",
       "    </tr>\n",
       "  </thead>\n",
       "  <tbody>\n",
       "    <tr>\n",
       "      <th>0</th>\n",
       "      <td>1</td>\n",
       "      <td>1</td>\n",
       "      <td>4.0</td>\n",
       "    </tr>\n",
       "    <tr>\n",
       "      <th>1</th>\n",
       "      <td>1</td>\n",
       "      <td>3</td>\n",
       "      <td>4.0</td>\n",
       "    </tr>\n",
       "    <tr>\n",
       "      <th>2</th>\n",
       "      <td>1</td>\n",
       "      <td>6</td>\n",
       "      <td>4.0</td>\n",
       "    </tr>\n",
       "    <tr>\n",
       "      <th>3</th>\n",
       "      <td>1</td>\n",
       "      <td>47</td>\n",
       "      <td>5.0</td>\n",
       "    </tr>\n",
       "    <tr>\n",
       "      <th>4</th>\n",
       "      <td>1</td>\n",
       "      <td>50</td>\n",
       "      <td>5.0</td>\n",
       "    </tr>\n",
       "  </tbody>\n",
       "</table>\n",
       "</div>"
      ],
      "text/plain": [
       "   userId  movieId  rating\n",
       "0       1        1     4.0\n",
       "1       1        3     4.0\n",
       "2       1        6     4.0\n",
       "3       1       47     5.0\n",
       "4       1       50     5.0"
      ]
     },
     "execution_count": 4,
     "metadata": {},
     "output_type": "execute_result"
    }
   ],
   "source": [
    "rating_df.head()"
   ]
  },
  {
   "cell_type": "code",
   "execution_count": 6,
   "metadata": {
    "colab": {
     "base_uri": "https://localhost:8080/",
     "height": 204
    },
    "executionInfo": {
     "elapsed": 49,
     "status": "ok",
     "timestamp": 1630847224515,
     "user": {
      "displayName": "sujata drall",
      "photoUrl": "",
      "userId": "07858160099359690614"
     },
     "user_tz": -330
    },
    "id": "uRcHNE0DB3xV",
    "outputId": "9e432256-622b-43af-9731-1f6a8a0bd776"
   },
   "outputs": [
    {
     "data": {
      "text/html": [
       "<div>\n",
       "<style scoped>\n",
       "    .dataframe tbody tr th:only-of-type {\n",
       "        vertical-align: middle;\n",
       "    }\n",
       "\n",
       "    .dataframe tbody tr th {\n",
       "        vertical-align: top;\n",
       "    }\n",
       "\n",
       "    .dataframe thead th {\n",
       "        text-align: right;\n",
       "    }\n",
       "</style>\n",
       "<table border=\"1\" class=\"dataframe\">\n",
       "  <thead>\n",
       "    <tr style=\"text-align: right;\">\n",
       "      <th></th>\n",
       "      <th>userId</th>\n",
       "      <th>movieId</th>\n",
       "      <th>rating</th>\n",
       "      <th>title</th>\n",
       "    </tr>\n",
       "  </thead>\n",
       "  <tbody>\n",
       "    <tr>\n",
       "      <th>0</th>\n",
       "      <td>1</td>\n",
       "      <td>1</td>\n",
       "      <td>4.0</td>\n",
       "      <td>Toy Story (1995)</td>\n",
       "    </tr>\n",
       "    <tr>\n",
       "      <th>1</th>\n",
       "      <td>5</td>\n",
       "      <td>1</td>\n",
       "      <td>4.0</td>\n",
       "      <td>Toy Story (1995)</td>\n",
       "    </tr>\n",
       "    <tr>\n",
       "      <th>2</th>\n",
       "      <td>7</td>\n",
       "      <td>1</td>\n",
       "      <td>4.5</td>\n",
       "      <td>Toy Story (1995)</td>\n",
       "    </tr>\n",
       "    <tr>\n",
       "      <th>3</th>\n",
       "      <td>15</td>\n",
       "      <td>1</td>\n",
       "      <td>2.5</td>\n",
       "      <td>Toy Story (1995)</td>\n",
       "    </tr>\n",
       "    <tr>\n",
       "      <th>4</th>\n",
       "      <td>17</td>\n",
       "      <td>1</td>\n",
       "      <td>4.5</td>\n",
       "      <td>Toy Story (1995)</td>\n",
       "    </tr>\n",
       "  </tbody>\n",
       "</table>\n",
       "</div>"
      ],
      "text/plain": [
       "   userId  movieId  rating             title\n",
       "0       1        1     4.0  Toy Story (1995)\n",
       "1       5        1     4.0  Toy Story (1995)\n",
       "2       7        1     4.5  Toy Story (1995)\n",
       "3      15        1     2.5  Toy Story (1995)\n",
       "4      17        1     4.5  Toy Story (1995)"
      ]
     },
     "execution_count": 6,
     "metadata": {},
     "output_type": "execute_result"
    }
   ],
   "source": [
    "df = pd.merge(rating_df,movies_df,on='movieId')\n",
    "df.head()"
   ]
  },
  {
   "cell_type": "code",
   "execution_count": 8,
   "metadata": {
    "colab": {
     "base_uri": "https://localhost:8080/",
     "height": 204
    },
    "executionInfo": {
     "elapsed": 47,
     "status": "ok",
     "timestamp": 1630847224516,
     "user": {
      "displayName": "sujata drall",
      "photoUrl": "",
      "userId": "07858160099359690614"
     },
     "user_tz": -330
    },
    "id": "mdCdj_YeB3xV",
    "outputId": "7ba904f5-68ec-4838-936a-9a8487b7d561"
   },
   "outputs": [
    {
     "data": {
      "text/html": [
       "<div>\n",
       "<style scoped>\n",
       "    .dataframe tbody tr th:only-of-type {\n",
       "        vertical-align: middle;\n",
       "    }\n",
       "\n",
       "    .dataframe tbody tr th {\n",
       "        vertical-align: top;\n",
       "    }\n",
       "\n",
       "    .dataframe thead th {\n",
       "        text-align: right;\n",
       "    }\n",
       "</style>\n",
       "<table border=\"1\" class=\"dataframe\">\n",
       "  <thead>\n",
       "    <tr style=\"text-align: right;\">\n",
       "      <th></th>\n",
       "      <th>title</th>\n",
       "      <th>totalRatingCount</th>\n",
       "    </tr>\n",
       "  </thead>\n",
       "  <tbody>\n",
       "    <tr>\n",
       "      <th>0</th>\n",
       "      <td>'71 (2014)</td>\n",
       "      <td>1</td>\n",
       "    </tr>\n",
       "    <tr>\n",
       "      <th>1</th>\n",
       "      <td>'Hellboy': The Seeds of Creation (2004)</td>\n",
       "      <td>1</td>\n",
       "    </tr>\n",
       "    <tr>\n",
       "      <th>2</th>\n",
       "      <td>'Round Midnight (1986)</td>\n",
       "      <td>2</td>\n",
       "    </tr>\n",
       "    <tr>\n",
       "      <th>3</th>\n",
       "      <td>'Salem's Lot (2004)</td>\n",
       "      <td>1</td>\n",
       "    </tr>\n",
       "    <tr>\n",
       "      <th>4</th>\n",
       "      <td>'Til There Was You (1997)</td>\n",
       "      <td>2</td>\n",
       "    </tr>\n",
       "  </tbody>\n",
       "</table>\n",
       "</div>"
      ],
      "text/plain": [
       "                                     title  totalRatingCount\n",
       "0                               '71 (2014)                 1\n",
       "1  'Hellboy': The Seeds of Creation (2004)                 1\n",
       "2                   'Round Midnight (1986)                 2\n",
       "3                      'Salem's Lot (2004)                 1\n",
       "4                'Til There Was You (1997)                 2"
      ]
     },
     "execution_count": 8,
     "metadata": {},
     "output_type": "execute_result"
    }
   ],
   "source": [
    "combine_movie_rating = df.dropna(axis = 0, subset = ['title'])\n",
    "movie_ratingCount = (combine_movie_rating.groupby(by = ['title'])['rating'].count().reset_index().\n",
    "                     rename(columns = {'rating': 'totalRatingCount'})[['title', 'totalRatingCount']])\n",
    "movie_ratingCount.head()\n"
   ]
  },
  {
   "cell_type": "code",
   "execution_count": 9,
   "metadata": {
    "colab": {
     "base_uri": "https://localhost:8080/",
     "height": 204
    },
    "executionInfo": {
     "elapsed": 46,
     "status": "ok",
     "timestamp": 1630847224518,
     "user": {
      "displayName": "sujata drall",
      "photoUrl": "",
      "userId": "07858160099359690614"
     },
     "user_tz": -330
    },
    "id": "_TX11PBnB3xW",
    "outputId": "bbf4c44b-d0bd-41f9-8715-9c513694569c"
   },
   "outputs": [
    {
     "data": {
      "text/html": [
       "<div>\n",
       "<style scoped>\n",
       "    .dataframe tbody tr th:only-of-type {\n",
       "        vertical-align: middle;\n",
       "    }\n",
       "\n",
       "    .dataframe tbody tr th {\n",
       "        vertical-align: top;\n",
       "    }\n",
       "\n",
       "    .dataframe thead th {\n",
       "        text-align: right;\n",
       "    }\n",
       "</style>\n",
       "<table border=\"1\" class=\"dataframe\">\n",
       "  <thead>\n",
       "    <tr style=\"text-align: right;\">\n",
       "      <th></th>\n",
       "      <th>userId</th>\n",
       "      <th>movieId</th>\n",
       "      <th>rating</th>\n",
       "      <th>title</th>\n",
       "      <th>totalRatingCount</th>\n",
       "    </tr>\n",
       "  </thead>\n",
       "  <tbody>\n",
       "    <tr>\n",
       "      <th>0</th>\n",
       "      <td>1</td>\n",
       "      <td>1</td>\n",
       "      <td>4.0</td>\n",
       "      <td>Toy Story (1995)</td>\n",
       "      <td>215</td>\n",
       "    </tr>\n",
       "    <tr>\n",
       "      <th>1</th>\n",
       "      <td>5</td>\n",
       "      <td>1</td>\n",
       "      <td>4.0</td>\n",
       "      <td>Toy Story (1995)</td>\n",
       "      <td>215</td>\n",
       "    </tr>\n",
       "    <tr>\n",
       "      <th>2</th>\n",
       "      <td>7</td>\n",
       "      <td>1</td>\n",
       "      <td>4.5</td>\n",
       "      <td>Toy Story (1995)</td>\n",
       "      <td>215</td>\n",
       "    </tr>\n",
       "    <tr>\n",
       "      <th>3</th>\n",
       "      <td>15</td>\n",
       "      <td>1</td>\n",
       "      <td>2.5</td>\n",
       "      <td>Toy Story (1995)</td>\n",
       "      <td>215</td>\n",
       "    </tr>\n",
       "    <tr>\n",
       "      <th>4</th>\n",
       "      <td>17</td>\n",
       "      <td>1</td>\n",
       "      <td>4.5</td>\n",
       "      <td>Toy Story (1995)</td>\n",
       "      <td>215</td>\n",
       "    </tr>\n",
       "  </tbody>\n",
       "</table>\n",
       "</div>"
      ],
      "text/plain": [
       "   userId  movieId  rating             title  totalRatingCount\n",
       "0       1        1     4.0  Toy Story (1995)               215\n",
       "1       5        1     4.0  Toy Story (1995)               215\n",
       "2       7        1     4.5  Toy Story (1995)               215\n",
       "3      15        1     2.5  Toy Story (1995)               215\n",
       "4      17        1     4.5  Toy Story (1995)               215"
      ]
     },
     "execution_count": 9,
     "metadata": {},
     "output_type": "execute_result"
    }
   ],
   "source": [
    "rating_with_totalRatingCount = combine_movie_rating.merge(movie_ratingCount, on = 'title', how = 'left')\n",
    "rating_with_totalRatingCount.head()"
   ]
  },
  {
   "cell_type": "code",
   "execution_count": 11,
   "metadata": {
    "colab": {
     "base_uri": "https://localhost:8080/",
     "height": 204
    },
    "executionInfo": {
     "elapsed": 45,
     "status": "ok",
     "timestamp": 1630847224519,
     "user": {
      "displayName": "sujata drall",
      "photoUrl": "",
      "userId": "07858160099359690614"
     },
     "user_tz": -330
    },
    "id": "5YIbAmDeB3xX",
    "outputId": "0fea80e5-4603-4f2b-e0cb-b527a508ac2e"
   },
   "outputs": [
    {
     "data": {
      "text/html": [
       "<div>\n",
       "<style scoped>\n",
       "    .dataframe tbody tr th:only-of-type {\n",
       "        vertical-align: middle;\n",
       "    }\n",
       "\n",
       "    .dataframe tbody tr th {\n",
       "        vertical-align: top;\n",
       "    }\n",
       "\n",
       "    .dataframe thead th {\n",
       "        text-align: right;\n",
       "    }\n",
       "</style>\n",
       "<table border=\"1\" class=\"dataframe\">\n",
       "  <thead>\n",
       "    <tr style=\"text-align: right;\">\n",
       "      <th></th>\n",
       "      <th>userId</th>\n",
       "      <th>movieId</th>\n",
       "      <th>rating</th>\n",
       "      <th>title</th>\n",
       "      <th>totalRatingCount</th>\n",
       "    </tr>\n",
       "  </thead>\n",
       "  <tbody>\n",
       "    <tr>\n",
       "      <th>0</th>\n",
       "      <td>1</td>\n",
       "      <td>1</td>\n",
       "      <td>4.0</td>\n",
       "      <td>Toy Story (1995)</td>\n",
       "      <td>215</td>\n",
       "    </tr>\n",
       "    <tr>\n",
       "      <th>1</th>\n",
       "      <td>5</td>\n",
       "      <td>1</td>\n",
       "      <td>4.0</td>\n",
       "      <td>Toy Story (1995)</td>\n",
       "      <td>215</td>\n",
       "    </tr>\n",
       "    <tr>\n",
       "      <th>2</th>\n",
       "      <td>7</td>\n",
       "      <td>1</td>\n",
       "      <td>4.5</td>\n",
       "      <td>Toy Story (1995)</td>\n",
       "      <td>215</td>\n",
       "    </tr>\n",
       "    <tr>\n",
       "      <th>3</th>\n",
       "      <td>15</td>\n",
       "      <td>1</td>\n",
       "      <td>2.5</td>\n",
       "      <td>Toy Story (1995)</td>\n",
       "      <td>215</td>\n",
       "    </tr>\n",
       "    <tr>\n",
       "      <th>4</th>\n",
       "      <td>17</td>\n",
       "      <td>1</td>\n",
       "      <td>4.5</td>\n",
       "      <td>Toy Story (1995)</td>\n",
       "      <td>215</td>\n",
       "    </tr>\n",
       "  </tbody>\n",
       "</table>\n",
       "</div>"
      ],
      "text/plain": [
       "   userId  movieId  rating             title  totalRatingCount\n",
       "0       1        1     4.0  Toy Story (1995)               215\n",
       "1       5        1     4.0  Toy Story (1995)               215\n",
       "2       7        1     4.5  Toy Story (1995)               215\n",
       "3      15        1     2.5  Toy Story (1995)               215\n",
       "4      17        1     4.5  Toy Story (1995)               215"
      ]
     },
     "execution_count": 11,
     "metadata": {},
     "output_type": "execute_result"
    }
   ],
   "source": [
    "popularity_threshold = 50\n",
    "rating_popular_movie= rating_with_totalRatingCount.query('totalRatingCount >= @popularity_threshold')\n",
    "rating_popular_movie.head()"
   ]
  },
  {
   "cell_type": "code",
   "execution_count": 12,
   "metadata": {
    "colab": {
     "base_uri": "https://localhost:8080/"
    },
    "executionInfo": {
     "elapsed": 43,
     "status": "ok",
     "timestamp": 1630847224521,
     "user": {
      "displayName": "sujata drall",
      "photoUrl": "",
      "userId": "07858160099359690614"
     },
     "user_tz": -330
    },
    "id": "YxmhXaTkB3xY",
    "outputId": "a42ef8cf-54c2-40a0-9d47-39309b2f720e"
   },
   "outputs": [
    {
     "data": {
      "text/plain": [
       "(41362, 5)"
      ]
     },
     "execution_count": 12,
     "metadata": {},
     "output_type": "execute_result"
    }
   ],
   "source": [
    "rating_popular_movie.shape"
   ]
  },
  {
   "cell_type": "code",
   "execution_count": 13,
   "metadata": {
    "colab": {
     "base_uri": "https://localhost:8080/",
     "height": 522
    },
    "executionInfo": {
     "elapsed": 36,
     "status": "ok",
     "timestamp": 1630847224522,
     "user": {
      "displayName": "sujata drall",
      "photoUrl": "",
      "userId": "07858160099359690614"
     },
     "user_tz": -330
    },
    "id": "Id2_tA48B3xZ",
    "outputId": "f891fe3b-66f2-46ff-b508-db2c58893170"
   },
   "outputs": [
    {
     "data": {
      "text/html": [
       "<div>\n",
       "<style scoped>\n",
       "    .dataframe tbody tr th:only-of-type {\n",
       "        vertical-align: middle;\n",
       "    }\n",
       "\n",
       "    .dataframe tbody tr th {\n",
       "        vertical-align: top;\n",
       "    }\n",
       "\n",
       "    .dataframe thead th {\n",
       "        text-align: right;\n",
       "    }\n",
       "</style>\n",
       "<table border=\"1\" class=\"dataframe\">\n",
       "  <thead>\n",
       "    <tr style=\"text-align: right;\">\n",
       "      <th>userId</th>\n",
       "      <th>1</th>\n",
       "      <th>2</th>\n",
       "      <th>3</th>\n",
       "      <th>4</th>\n",
       "      <th>5</th>\n",
       "      <th>6</th>\n",
       "      <th>7</th>\n",
       "      <th>8</th>\n",
       "      <th>9</th>\n",
       "      <th>10</th>\n",
       "      <th>...</th>\n",
       "      <th>601</th>\n",
       "      <th>602</th>\n",
       "      <th>603</th>\n",
       "      <th>604</th>\n",
       "      <th>605</th>\n",
       "      <th>606</th>\n",
       "      <th>607</th>\n",
       "      <th>608</th>\n",
       "      <th>609</th>\n",
       "      <th>610</th>\n",
       "    </tr>\n",
       "    <tr>\n",
       "      <th>title</th>\n",
       "      <th></th>\n",
       "      <th></th>\n",
       "      <th></th>\n",
       "      <th></th>\n",
       "      <th></th>\n",
       "      <th></th>\n",
       "      <th></th>\n",
       "      <th></th>\n",
       "      <th></th>\n",
       "      <th></th>\n",
       "      <th></th>\n",
       "      <th></th>\n",
       "      <th></th>\n",
       "      <th></th>\n",
       "      <th></th>\n",
       "      <th></th>\n",
       "      <th></th>\n",
       "      <th></th>\n",
       "      <th></th>\n",
       "      <th></th>\n",
       "      <th></th>\n",
       "    </tr>\n",
       "  </thead>\n",
       "  <tbody>\n",
       "    <tr>\n",
       "      <th>10 Things I Hate About You (1999)</th>\n",
       "      <td>0.0</td>\n",
       "      <td>0.0</td>\n",
       "      <td>0.0</td>\n",
       "      <td>0.0</td>\n",
       "      <td>0.0</td>\n",
       "      <td>0.0</td>\n",
       "      <td>0.0</td>\n",
       "      <td>0.0</td>\n",
       "      <td>0.0</td>\n",
       "      <td>0.0</td>\n",
       "      <td>...</td>\n",
       "      <td>0.0</td>\n",
       "      <td>0.0</td>\n",
       "      <td>3.0</td>\n",
       "      <td>0.0</td>\n",
       "      <td>5.0</td>\n",
       "      <td>0.0</td>\n",
       "      <td>0.0</td>\n",
       "      <td>0.0</td>\n",
       "      <td>0.0</td>\n",
       "      <td>0.0</td>\n",
       "    </tr>\n",
       "    <tr>\n",
       "      <th>12 Angry Men (1957)</th>\n",
       "      <td>0.0</td>\n",
       "      <td>0.0</td>\n",
       "      <td>0.0</td>\n",
       "      <td>5.0</td>\n",
       "      <td>0.0</td>\n",
       "      <td>0.0</td>\n",
       "      <td>0.0</td>\n",
       "      <td>0.0</td>\n",
       "      <td>0.0</td>\n",
       "      <td>0.0</td>\n",
       "      <td>...</td>\n",
       "      <td>5.0</td>\n",
       "      <td>0.0</td>\n",
       "      <td>0.0</td>\n",
       "      <td>0.0</td>\n",
       "      <td>0.0</td>\n",
       "      <td>0.0</td>\n",
       "      <td>0.0</td>\n",
       "      <td>0.0</td>\n",
       "      <td>0.0</td>\n",
       "      <td>0.0</td>\n",
       "    </tr>\n",
       "    <tr>\n",
       "      <th>2001: A Space Odyssey (1968)</th>\n",
       "      <td>0.0</td>\n",
       "      <td>0.0</td>\n",
       "      <td>0.0</td>\n",
       "      <td>0.0</td>\n",
       "      <td>0.0</td>\n",
       "      <td>0.0</td>\n",
       "      <td>4.0</td>\n",
       "      <td>0.0</td>\n",
       "      <td>0.0</td>\n",
       "      <td>0.0</td>\n",
       "      <td>...</td>\n",
       "      <td>0.0</td>\n",
       "      <td>0.0</td>\n",
       "      <td>5.0</td>\n",
       "      <td>0.0</td>\n",
       "      <td>0.0</td>\n",
       "      <td>5.0</td>\n",
       "      <td>0.0</td>\n",
       "      <td>3.0</td>\n",
       "      <td>0.0</td>\n",
       "      <td>4.5</td>\n",
       "    </tr>\n",
       "    <tr>\n",
       "      <th>28 Days Later (2002)</th>\n",
       "      <td>0.0</td>\n",
       "      <td>0.0</td>\n",
       "      <td>0.0</td>\n",
       "      <td>0.0</td>\n",
       "      <td>0.0</td>\n",
       "      <td>0.0</td>\n",
       "      <td>0.0</td>\n",
       "      <td>0.0</td>\n",
       "      <td>0.0</td>\n",
       "      <td>0.0</td>\n",
       "      <td>...</td>\n",
       "      <td>0.0</td>\n",
       "      <td>0.0</td>\n",
       "      <td>0.0</td>\n",
       "      <td>0.0</td>\n",
       "      <td>0.0</td>\n",
       "      <td>0.0</td>\n",
       "      <td>0.0</td>\n",
       "      <td>3.5</td>\n",
       "      <td>0.0</td>\n",
       "      <td>5.0</td>\n",
       "    </tr>\n",
       "    <tr>\n",
       "      <th>300 (2007)</th>\n",
       "      <td>0.0</td>\n",
       "      <td>0.0</td>\n",
       "      <td>0.0</td>\n",
       "      <td>0.0</td>\n",
       "      <td>0.0</td>\n",
       "      <td>0.0</td>\n",
       "      <td>0.0</td>\n",
       "      <td>0.0</td>\n",
       "      <td>0.0</td>\n",
       "      <td>3.0</td>\n",
       "      <td>...</td>\n",
       "      <td>0.0</td>\n",
       "      <td>0.0</td>\n",
       "      <td>0.0</td>\n",
       "      <td>0.0</td>\n",
       "      <td>3.0</td>\n",
       "      <td>0.0</td>\n",
       "      <td>0.0</td>\n",
       "      <td>5.0</td>\n",
       "      <td>0.0</td>\n",
       "      <td>4.0</td>\n",
       "    </tr>\n",
       "  </tbody>\n",
       "</table>\n",
       "<p>5 rows × 606 columns</p>\n",
       "</div>"
      ],
      "text/plain": [
       "userId                             1    2    3    4    5    6    7    8    \\\n",
       "title                                                                       \n",
       "10 Things I Hate About You (1999)  0.0  0.0  0.0  0.0  0.0  0.0  0.0  0.0   \n",
       "12 Angry Men (1957)                0.0  0.0  0.0  5.0  0.0  0.0  0.0  0.0   \n",
       "2001: A Space Odyssey (1968)       0.0  0.0  0.0  0.0  0.0  0.0  4.0  0.0   \n",
       "28 Days Later (2002)               0.0  0.0  0.0  0.0  0.0  0.0  0.0  0.0   \n",
       "300 (2007)                         0.0  0.0  0.0  0.0  0.0  0.0  0.0  0.0   \n",
       "\n",
       "userId                             9    10   ...  601  602  603  604  605  \\\n",
       "title                                        ...                            \n",
       "10 Things I Hate About You (1999)  0.0  0.0  ...  0.0  0.0  3.0  0.0  5.0   \n",
       "12 Angry Men (1957)                0.0  0.0  ...  5.0  0.0  0.0  0.0  0.0   \n",
       "2001: A Space Odyssey (1968)       0.0  0.0  ...  0.0  0.0  5.0  0.0  0.0   \n",
       "28 Days Later (2002)               0.0  0.0  ...  0.0  0.0  0.0  0.0  0.0   \n",
       "300 (2007)                         0.0  3.0  ...  0.0  0.0  0.0  0.0  3.0   \n",
       "\n",
       "userId                             606  607  608  609  610  \n",
       "title                                                       \n",
       "10 Things I Hate About You (1999)  0.0  0.0  0.0  0.0  0.0  \n",
       "12 Angry Men (1957)                0.0  0.0  0.0  0.0  0.0  \n",
       "2001: A Space Odyssey (1968)       5.0  0.0  3.0  0.0  4.5  \n",
       "28 Days Later (2002)               0.0  0.0  3.5  0.0  5.0  \n",
       "300 (2007)                         0.0  0.0  5.0  0.0  4.0  \n",
       "\n",
       "[5 rows x 606 columns]"
      ]
     },
     "execution_count": 13,
     "metadata": {},
     "output_type": "execute_result"
    }
   ],
   "source": [
    "## First lets create a Pivot matrix\n",
    "\n",
    "movie_features_df=rating_popular_movie.pivot_table(index='title',columns='userId',values='rating').fillna(0)\n",
    "movie_features_df.head()"
   ]
  },
  {
   "cell_type": "code",
   "execution_count": 14,
   "metadata": {
    "colab": {
     "base_uri": "https://localhost:8080/"
    },
    "executionInfo": {
     "elapsed": 1330,
     "status": "ok",
     "timestamp": 1630847225817,
     "user": {
      "displayName": "sujata drall",
      "photoUrl": "",
      "userId": "07858160099359690614"
     },
     "user_tz": -330
    },
    "id": "Y5eee2iWB3xZ",
    "outputId": "1344d34e-aafe-4674-b1ea-ce898973a68b"
   },
   "outputs": [
    {
     "name": "stdout",
     "output_type": "stream",
     "text": [
      "  (0, 11)\t5.0\n",
      "  (0, 18)\t3.0\n",
      "  (0, 66)\t4.5\n",
      "  (0, 90)\t5.0\n",
      "  (0, 102)\t5.0\n",
      "  (0, 109)\t4.0\n",
      "  (0, 130)\t4.0\n",
      "  (0, 151)\t1.0\n",
      "  (0, 156)\t3.5\n",
      "  (0, 174)\t4.5\n",
      "  (0, 179)\t4.0\n",
      "  (0, 195)\t1.0\n",
      "  (0, 197)\t5.0\n",
      "  (0, 216)\t2.0\n",
      "  (0, 233)\t5.0\n",
      "  (0, 246)\t3.5\n",
      "  (0, 257)\t4.5\n",
      "  (0, 271)\t3.0\n",
      "  (0, 272)\t4.0\n",
      "  (0, 277)\t4.0\n",
      "  (0, 283)\t3.0\n",
      "  (0, 295)\t2.5\n",
      "  (0, 304)\t0.5\n",
      "  (0, 313)\t3.0\n",
      "  (0, 322)\t3.0\n",
      "  :\t:\n",
      "  (449, 378)\t2.0\n",
      "  (449, 384)\t3.0\n",
      "  (449, 410)\t0.5\n",
      "  (449, 411)\t4.0\n",
      "  (449, 416)\t4.0\n",
      "  (449, 417)\t4.0\n",
      "  (449, 421)\t3.0\n",
      "  (449, 423)\t2.0\n",
      "  (449, 435)\t2.5\n",
      "  (449, 444)\t3.0\n",
      "  (449, 476)\t4.5\n",
      "  (449, 479)\t5.0\n",
      "  (449, 480)\t4.5\n",
      "  (449, 485)\t1.5\n",
      "  (449, 491)\t5.0\n",
      "  (449, 521)\t4.0\n",
      "  (449, 530)\t4.0\n",
      "  (449, 538)\t1.5\n",
      "  (449, 556)\t4.0\n",
      "  (449, 557)\t3.0\n",
      "  (449, 569)\t5.0\n",
      "  (449, 585)\t2.5\n",
      "  (449, 595)\t4.5\n",
      "  (449, 603)\t3.0\n",
      "  (449, 605)\t4.0\n"
     ]
    },
    {
     "data": {
      "text/plain": [
       "NearestNeighbors(metric='cosine')"
      ]
     },
     "execution_count": 14,
     "metadata": {},
     "output_type": "execute_result"
    }
   ],
   "source": [
    "from scipy.sparse import csr_matrix\n",
    "\n",
    "movie_features_df_matrix = csr_matrix(movie_features_df.values)\n",
    "print(movie_features_df_matrix)\n",
    "from sklearn.neighbors import NearestNeighbors\n",
    "\n",
    "model_knn = NearestNeighbors(metric = 'cosine')\n",
    "model_knn.fit(movie_features_df_matrix)"
   ]
  },
  {
   "cell_type": "markdown",
   "metadata": {
    "id": "dQKMOZr6DXJv"
   },
   "source": [
    "![image.png](data:image/png;base64,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)"
   ]
  },
  {
   "cell_type": "code",
   "execution_count": 15,
   "metadata": {
    "colab": {
     "base_uri": "https://localhost:8080/"
    },
    "executionInfo": {
     "elapsed": 41,
     "status": "ok",
     "timestamp": 1630847225820,
     "user": {
      "displayName": "sujata drall",
      "photoUrl": "",
      "userId": "07858160099359690614"
     },
     "user_tz": -330
    },
    "id": "FZq0p12NB3yK",
    "outputId": "7df5464c-2bcf-4c58-ba16-a7cd27bac7a7"
   },
   "outputs": [
    {
     "data": {
      "text/plain": [
       "(450, 606)"
      ]
     },
     "execution_count": 15,
     "metadata": {},
     "output_type": "execute_result"
    }
   ],
   "source": [
    "movie_features_df.shape"
   ]
  },
  {
   "cell_type": "code",
   "execution_count": 16,
   "metadata": {
    "colab": {
     "base_uri": "https://localhost:8080/"
    },
    "executionInfo": {
     "elapsed": 32,
     "status": "ok",
     "timestamp": 1630847225822,
     "user": {
      "displayName": "sujata drall",
      "photoUrl": "",
      "userId": "07858160099359690614"
     },
     "user_tz": -330
    },
    "id": "fux9QQPOB3yL",
    "outputId": "50e22e59-06d5-4184-ca82-cf544085048e"
   },
   "outputs": [
    {
     "name": "stdout",
     "output_type": "stream",
     "text": [
      "64\n"
     ]
    }
   ],
   "source": [
    "query_index = np.random.randint(movie_features_df.shape[0])\n",
    "print(query_index)\n",
    "distances, indices = model_knn.kneighbors(movie_features_df.iloc[query_index,:].values.reshape(1, -1), n_neighbors = 5)\n",
    "# distance has cosine distance of other movies w.r.t movie at query_index locatiom\n",
    "# indices has Index values of the respective moives"
   ]
  },
  {
   "cell_type": "code",
   "execution_count": 18,
   "metadata": {
    "colab": {
     "base_uri": "https://localhost:8080/",
     "height": 522
    },
    "executionInfo": {
     "elapsed": 29,
     "status": "ok",
     "timestamp": 1630847225825,
     "user": {
      "displayName": "sujata drall",
      "photoUrl": "",
      "userId": "07858160099359690614"
     },
     "user_tz": -330
    },
    "id": "xei6tXyJB3yL",
    "outputId": "582238f1-6119-4490-efb5-c3c075edc794"
   },
   "outputs": [
    {
     "data": {
      "text/html": [
       "<div>\n",
       "<style scoped>\n",
       "    .dataframe tbody tr th:only-of-type {\n",
       "        vertical-align: middle;\n",
       "    }\n",
       "\n",
       "    .dataframe tbody tr th {\n",
       "        vertical-align: top;\n",
       "    }\n",
       "\n",
       "    .dataframe thead th {\n",
       "        text-align: right;\n",
       "    }\n",
       "</style>\n",
       "<table border=\"1\" class=\"dataframe\">\n",
       "  <thead>\n",
       "    <tr style=\"text-align: right;\">\n",
       "      <th>userId</th>\n",
       "      <th>1</th>\n",
       "      <th>2</th>\n",
       "      <th>3</th>\n",
       "      <th>4</th>\n",
       "      <th>5</th>\n",
       "      <th>6</th>\n",
       "      <th>7</th>\n",
       "      <th>8</th>\n",
       "      <th>9</th>\n",
       "      <th>10</th>\n",
       "      <th>...</th>\n",
       "      <th>601</th>\n",
       "      <th>602</th>\n",
       "      <th>603</th>\n",
       "      <th>604</th>\n",
       "      <th>605</th>\n",
       "      <th>606</th>\n",
       "      <th>607</th>\n",
       "      <th>608</th>\n",
       "      <th>609</th>\n",
       "      <th>610</th>\n",
       "    </tr>\n",
       "    <tr>\n",
       "      <th>title</th>\n",
       "      <th></th>\n",
       "      <th></th>\n",
       "      <th></th>\n",
       "      <th></th>\n",
       "      <th></th>\n",
       "      <th></th>\n",
       "      <th></th>\n",
       "      <th></th>\n",
       "      <th></th>\n",
       "      <th></th>\n",
       "      <th></th>\n",
       "      <th></th>\n",
       "      <th></th>\n",
       "      <th></th>\n",
       "      <th></th>\n",
       "      <th></th>\n",
       "      <th></th>\n",
       "      <th></th>\n",
       "      <th></th>\n",
       "      <th></th>\n",
       "      <th></th>\n",
       "    </tr>\n",
       "  </thead>\n",
       "  <tbody>\n",
       "    <tr>\n",
       "      <th>10 Things I Hate About You (1999)</th>\n",
       "      <td>0.0</td>\n",
       "      <td>0.0</td>\n",
       "      <td>0.0</td>\n",
       "      <td>0.0</td>\n",
       "      <td>0.0</td>\n",
       "      <td>0.0</td>\n",
       "      <td>0.0</td>\n",
       "      <td>0.0</td>\n",
       "      <td>0.0</td>\n",
       "      <td>0.0</td>\n",
       "      <td>...</td>\n",
       "      <td>0.0</td>\n",
       "      <td>0.0</td>\n",
       "      <td>3.0</td>\n",
       "      <td>0.0</td>\n",
       "      <td>5.0</td>\n",
       "      <td>0.0</td>\n",
       "      <td>0.0</td>\n",
       "      <td>0.0</td>\n",
       "      <td>0.0</td>\n",
       "      <td>0.0</td>\n",
       "    </tr>\n",
       "    <tr>\n",
       "      <th>12 Angry Men (1957)</th>\n",
       "      <td>0.0</td>\n",
       "      <td>0.0</td>\n",
       "      <td>0.0</td>\n",
       "      <td>5.0</td>\n",
       "      <td>0.0</td>\n",
       "      <td>0.0</td>\n",
       "      <td>0.0</td>\n",
       "      <td>0.0</td>\n",
       "      <td>0.0</td>\n",
       "      <td>0.0</td>\n",
       "      <td>...</td>\n",
       "      <td>5.0</td>\n",
       "      <td>0.0</td>\n",
       "      <td>0.0</td>\n",
       "      <td>0.0</td>\n",
       "      <td>0.0</td>\n",
       "      <td>0.0</td>\n",
       "      <td>0.0</td>\n",
       "      <td>0.0</td>\n",
       "      <td>0.0</td>\n",
       "      <td>0.0</td>\n",
       "    </tr>\n",
       "    <tr>\n",
       "      <th>2001: A Space Odyssey (1968)</th>\n",
       "      <td>0.0</td>\n",
       "      <td>0.0</td>\n",
       "      <td>0.0</td>\n",
       "      <td>0.0</td>\n",
       "      <td>0.0</td>\n",
       "      <td>0.0</td>\n",
       "      <td>4.0</td>\n",
       "      <td>0.0</td>\n",
       "      <td>0.0</td>\n",
       "      <td>0.0</td>\n",
       "      <td>...</td>\n",
       "      <td>0.0</td>\n",
       "      <td>0.0</td>\n",
       "      <td>5.0</td>\n",
       "      <td>0.0</td>\n",
       "      <td>0.0</td>\n",
       "      <td>5.0</td>\n",
       "      <td>0.0</td>\n",
       "      <td>3.0</td>\n",
       "      <td>0.0</td>\n",
       "      <td>4.5</td>\n",
       "    </tr>\n",
       "    <tr>\n",
       "      <th>28 Days Later (2002)</th>\n",
       "      <td>0.0</td>\n",
       "      <td>0.0</td>\n",
       "      <td>0.0</td>\n",
       "      <td>0.0</td>\n",
       "      <td>0.0</td>\n",
       "      <td>0.0</td>\n",
       "      <td>0.0</td>\n",
       "      <td>0.0</td>\n",
       "      <td>0.0</td>\n",
       "      <td>0.0</td>\n",
       "      <td>...</td>\n",
       "      <td>0.0</td>\n",
       "      <td>0.0</td>\n",
       "      <td>0.0</td>\n",
       "      <td>0.0</td>\n",
       "      <td>0.0</td>\n",
       "      <td>0.0</td>\n",
       "      <td>0.0</td>\n",
       "      <td>3.5</td>\n",
       "      <td>0.0</td>\n",
       "      <td>5.0</td>\n",
       "    </tr>\n",
       "    <tr>\n",
       "      <th>300 (2007)</th>\n",
       "      <td>0.0</td>\n",
       "      <td>0.0</td>\n",
       "      <td>0.0</td>\n",
       "      <td>0.0</td>\n",
       "      <td>0.0</td>\n",
       "      <td>0.0</td>\n",
       "      <td>0.0</td>\n",
       "      <td>0.0</td>\n",
       "      <td>0.0</td>\n",
       "      <td>3.0</td>\n",
       "      <td>...</td>\n",
       "      <td>0.0</td>\n",
       "      <td>0.0</td>\n",
       "      <td>0.0</td>\n",
       "      <td>0.0</td>\n",
       "      <td>3.0</td>\n",
       "      <td>0.0</td>\n",
       "      <td>0.0</td>\n",
       "      <td>5.0</td>\n",
       "      <td>0.0</td>\n",
       "      <td>4.0</td>\n",
       "    </tr>\n",
       "  </tbody>\n",
       "</table>\n",
       "<p>5 rows × 606 columns</p>\n",
       "</div>"
      ],
      "text/plain": [
       "userId                             1    2    3    4    5    6    7    8    \\\n",
       "title                                                                       \n",
       "10 Things I Hate About You (1999)  0.0  0.0  0.0  0.0  0.0  0.0  0.0  0.0   \n",
       "12 Angry Men (1957)                0.0  0.0  0.0  5.0  0.0  0.0  0.0  0.0   \n",
       "2001: A Space Odyssey (1968)       0.0  0.0  0.0  0.0  0.0  0.0  4.0  0.0   \n",
       "28 Days Later (2002)               0.0  0.0  0.0  0.0  0.0  0.0  0.0  0.0   \n",
       "300 (2007)                         0.0  0.0  0.0  0.0  0.0  0.0  0.0  0.0   \n",
       "\n",
       "userId                             9    10   ...  601  602  603  604  605  \\\n",
       "title                                        ...                            \n",
       "10 Things I Hate About You (1999)  0.0  0.0  ...  0.0  0.0  3.0  0.0  5.0   \n",
       "12 Angry Men (1957)                0.0  0.0  ...  5.0  0.0  0.0  0.0  0.0   \n",
       "2001: A Space Odyssey (1968)       0.0  0.0  ...  0.0  0.0  5.0  0.0  0.0   \n",
       "28 Days Later (2002)               0.0  0.0  ...  0.0  0.0  0.0  0.0  0.0   \n",
       "300 (2007)                         0.0  3.0  ...  0.0  0.0  0.0  0.0  3.0   \n",
       "\n",
       "userId                             606  607  608  609  610  \n",
       "title                                                       \n",
       "10 Things I Hate About You (1999)  0.0  0.0  0.0  0.0  0.0  \n",
       "12 Angry Men (1957)                0.0  0.0  0.0  0.0  0.0  \n",
       "2001: A Space Odyssey (1968)       5.0  0.0  3.0  0.0  4.5  \n",
       "28 Days Later (2002)               0.0  0.0  3.5  0.0  5.0  \n",
       "300 (2007)                         0.0  0.0  5.0  0.0  4.0  \n",
       "\n",
       "[5 rows x 606 columns]"
      ]
     },
     "execution_count": 18,
     "metadata": {},
     "output_type": "execute_result"
    }
   ],
   "source": [
    "movie_features_df.head()"
   ]
  },
  {
   "cell_type": "code",
   "execution_count": 20,
   "metadata": {
    "colab": {
     "base_uri": "https://localhost:8080/"
    },
    "executionInfo": {
     "elapsed": 30,
     "status": "ok",
     "timestamp": 1630847225829,
     "user": {
      "displayName": "sujata drall",
      "photoUrl": "",
      "userId": "07858160099359690614"
     },
     "user_tz": -330
    },
    "id": "H3uS8QVmB3yM",
    "outputId": "462e19bc-f03b-432e-b4a7-c38bc51369bc"
   },
   "outputs": [
    {
     "name": "stdout",
     "output_type": "stream",
     "text": [
      "Recommendations for Borat: Cultural Learnings of America for Make Benefit Glorious Nation of Kazakhstan (2006):\n",
      "\n",
      "1: Monty Python and the Holy Grail (1975), with distance of 0.41875237226486206:\n",
      "2: Groundhog Day (1993), with distance of 0.47147566080093384:\n",
      "3: Monty Python's Life of Brian (1979), with distance of 0.4805862307548523:\n",
      "4: Rocky (1976), with distance of 0.481788694858551:\n"
     ]
    }
   ],
   "source": [
    "for i in range(0, len(distances.flatten())):\n",
    "    if i == 0:\n",
    "        print('Recommendations for {0}:\\n'.format(movie_features_df.index[query_index]))\n",
    "    else:\n",
    "        print('{0}: {1}, with distance of {2}:'.format(i,\n",
    "                                                       movie_features_df.index[indices.flatten()[i]], \n",
    "                                                       distances.flatten()[i]))"
   ]
  },
  {
   "cell_type": "code",
   "execution_count": null,
   "metadata": {},
   "outputs": [],
   "source": []
  }
 ],
 "metadata": {
  "colab": {
   "collapsed_sections": [],
   "name": "Collaborative KNN recommendation.ipynb",
   "provenance": []
  },
  "kernelspec": {
   "display_name": "Python 3",
   "language": "python",
   "name": "python3"
  },
  "language_info": {
   "codemirror_mode": {
    "name": "ipython",
    "version": 3
   },
   "file_extension": ".py",
   "mimetype": "text/x-python",
   "name": "python",
   "nbconvert_exporter": "python",
   "pygments_lexer": "ipython3",
   "version": "3.8.5"
  }
 },
 "nbformat": 4,
 "nbformat_minor": 1
}
