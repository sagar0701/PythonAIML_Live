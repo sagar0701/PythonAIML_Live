{
 "cells": [
  {
   "cell_type": "code",
   "execution_count": 114,
   "metadata": {},
   "outputs": [],
   "source": [
    "import pandas as pd\n",
    "import numpy as np\n",
    "import matplotlib.pyplot as plt\n",
    "import seaborn as sns\n",
    "%matplotlib inline"
   ]
  },
  {
   "cell_type": "code",
   "execution_count": 115,
   "metadata": {},
   "outputs": [],
   "source": [
    "df=pd.read_csv('voice-classification.csv')"
   ]
  },
  {
   "cell_type": "code",
   "execution_count": 116,
   "metadata": {},
   "outputs": [
    {
     "data": {
      "text/html": [
       "<div>\n",
       "<style scoped>\n",
       "    .dataframe tbody tr th:only-of-type {\n",
       "        vertical-align: middle;\n",
       "    }\n",
       "\n",
       "    .dataframe tbody tr th {\n",
       "        vertical-align: top;\n",
       "    }\n",
       "\n",
       "    .dataframe thead th {\n",
       "        text-align: right;\n",
       "    }\n",
       "</style>\n",
       "<table border=\"1\" class=\"dataframe\">\n",
       "  <thead>\n",
       "    <tr style=\"text-align: right;\">\n",
       "      <th></th>\n",
       "      <th>meanfreq</th>\n",
       "      <th>sd</th>\n",
       "      <th>median</th>\n",
       "      <th>Q25</th>\n",
       "      <th>Q75</th>\n",
       "      <th>IQR</th>\n",
       "      <th>skew</th>\n",
       "      <th>kurt</th>\n",
       "      <th>sp.ent</th>\n",
       "      <th>sfm</th>\n",
       "      <th>...</th>\n",
       "      <th>centroid</th>\n",
       "      <th>meanfun</th>\n",
       "      <th>minfun</th>\n",
       "      <th>maxfun</th>\n",
       "      <th>meandom</th>\n",
       "      <th>mindom</th>\n",
       "      <th>maxdom</th>\n",
       "      <th>dfrange</th>\n",
       "      <th>modindx</th>\n",
       "      <th>label</th>\n",
       "    </tr>\n",
       "  </thead>\n",
       "  <tbody>\n",
       "    <tr>\n",
       "      <th>0</th>\n",
       "      <td>0.059781</td>\n",
       "      <td>0.064241</td>\n",
       "      <td>0.032027</td>\n",
       "      <td>0.015071</td>\n",
       "      <td>0.090193</td>\n",
       "      <td>0.075122</td>\n",
       "      <td>12.863462</td>\n",
       "      <td>274.402906</td>\n",
       "      <td>0.893369</td>\n",
       "      <td>0.491918</td>\n",
       "      <td>...</td>\n",
       "      <td>0.059781</td>\n",
       "      <td>0.084279</td>\n",
       "      <td>0.015702</td>\n",
       "      <td>0.275862</td>\n",
       "      <td>0.007812</td>\n",
       "      <td>0.007812</td>\n",
       "      <td>0.007812</td>\n",
       "      <td>0.000000</td>\n",
       "      <td>0.000000</td>\n",
       "      <td>male</td>\n",
       "    </tr>\n",
       "    <tr>\n",
       "      <th>1</th>\n",
       "      <td>0.066009</td>\n",
       "      <td>0.067310</td>\n",
       "      <td>0.040229</td>\n",
       "      <td>0.019414</td>\n",
       "      <td>0.092666</td>\n",
       "      <td>0.073252</td>\n",
       "      <td>22.423285</td>\n",
       "      <td>634.613855</td>\n",
       "      <td>0.892193</td>\n",
       "      <td>0.513724</td>\n",
       "      <td>...</td>\n",
       "      <td>0.066009</td>\n",
       "      <td>0.107937</td>\n",
       "      <td>0.015826</td>\n",
       "      <td>0.250000</td>\n",
       "      <td>0.009014</td>\n",
       "      <td>0.007812</td>\n",
       "      <td>0.054688</td>\n",
       "      <td>0.046875</td>\n",
       "      <td>0.052632</td>\n",
       "      <td>male</td>\n",
       "    </tr>\n",
       "    <tr>\n",
       "      <th>2</th>\n",
       "      <td>0.077316</td>\n",
       "      <td>0.083829</td>\n",
       "      <td>0.036718</td>\n",
       "      <td>0.008701</td>\n",
       "      <td>0.131908</td>\n",
       "      <td>0.123207</td>\n",
       "      <td>30.757155</td>\n",
       "      <td>1024.927705</td>\n",
       "      <td>0.846389</td>\n",
       "      <td>0.478905</td>\n",
       "      <td>...</td>\n",
       "      <td>0.077316</td>\n",
       "      <td>0.098706</td>\n",
       "      <td>0.015656</td>\n",
       "      <td>0.271186</td>\n",
       "      <td>0.007990</td>\n",
       "      <td>0.007812</td>\n",
       "      <td>0.015625</td>\n",
       "      <td>0.007812</td>\n",
       "      <td>0.046512</td>\n",
       "      <td>male</td>\n",
       "    </tr>\n",
       "    <tr>\n",
       "      <th>3</th>\n",
       "      <td>0.151228</td>\n",
       "      <td>0.072111</td>\n",
       "      <td>0.158011</td>\n",
       "      <td>0.096582</td>\n",
       "      <td>0.207955</td>\n",
       "      <td>0.111374</td>\n",
       "      <td>1.232831</td>\n",
       "      <td>4.177296</td>\n",
       "      <td>0.963322</td>\n",
       "      <td>0.727232</td>\n",
       "      <td>...</td>\n",
       "      <td>0.151228</td>\n",
       "      <td>0.088965</td>\n",
       "      <td>0.017798</td>\n",
       "      <td>0.250000</td>\n",
       "      <td>0.201497</td>\n",
       "      <td>0.007812</td>\n",
       "      <td>0.562500</td>\n",
       "      <td>0.554688</td>\n",
       "      <td>0.247119</td>\n",
       "      <td>male</td>\n",
       "    </tr>\n",
       "    <tr>\n",
       "      <th>4</th>\n",
       "      <td>0.135120</td>\n",
       "      <td>0.079146</td>\n",
       "      <td>0.124656</td>\n",
       "      <td>0.078720</td>\n",
       "      <td>0.206045</td>\n",
       "      <td>0.127325</td>\n",
       "      <td>1.101174</td>\n",
       "      <td>4.333713</td>\n",
       "      <td>0.971955</td>\n",
       "      <td>0.783568</td>\n",
       "      <td>...</td>\n",
       "      <td>0.135120</td>\n",
       "      <td>0.106398</td>\n",
       "      <td>0.016931</td>\n",
       "      <td>0.266667</td>\n",
       "      <td>0.712812</td>\n",
       "      <td>0.007812</td>\n",
       "      <td>5.484375</td>\n",
       "      <td>5.476562</td>\n",
       "      <td>0.208274</td>\n",
       "      <td>male</td>\n",
       "    </tr>\n",
       "  </tbody>\n",
       "</table>\n",
       "<p>5 rows × 21 columns</p>\n",
       "</div>"
      ],
      "text/plain": [
       "   meanfreq        sd    median       Q25       Q75       IQR       skew  \\\n",
       "0  0.059781  0.064241  0.032027  0.015071  0.090193  0.075122  12.863462   \n",
       "1  0.066009  0.067310  0.040229  0.019414  0.092666  0.073252  22.423285   \n",
       "2  0.077316  0.083829  0.036718  0.008701  0.131908  0.123207  30.757155   \n",
       "3  0.151228  0.072111  0.158011  0.096582  0.207955  0.111374   1.232831   \n",
       "4  0.135120  0.079146  0.124656  0.078720  0.206045  0.127325   1.101174   \n",
       "\n",
       "          kurt    sp.ent       sfm  ...  centroid   meanfun    minfun  \\\n",
       "0   274.402906  0.893369  0.491918  ...  0.059781  0.084279  0.015702   \n",
       "1   634.613855  0.892193  0.513724  ...  0.066009  0.107937  0.015826   \n",
       "2  1024.927705  0.846389  0.478905  ...  0.077316  0.098706  0.015656   \n",
       "3     4.177296  0.963322  0.727232  ...  0.151228  0.088965  0.017798   \n",
       "4     4.333713  0.971955  0.783568  ...  0.135120  0.106398  0.016931   \n",
       "\n",
       "     maxfun   meandom    mindom    maxdom   dfrange   modindx  label  \n",
       "0  0.275862  0.007812  0.007812  0.007812  0.000000  0.000000   male  \n",
       "1  0.250000  0.009014  0.007812  0.054688  0.046875  0.052632   male  \n",
       "2  0.271186  0.007990  0.007812  0.015625  0.007812  0.046512   male  \n",
       "3  0.250000  0.201497  0.007812  0.562500  0.554688  0.247119   male  \n",
       "4  0.266667  0.712812  0.007812  5.484375  5.476562  0.208274   male  \n",
       "\n",
       "[5 rows x 21 columns]"
      ]
     },
     "execution_count": 116,
     "metadata": {},
     "output_type": "execute_result"
    }
   ],
   "source": [
    "df.head()"
   ]
  },
  {
   "cell_type": "code",
   "execution_count": 117,
   "metadata": {},
   "outputs": [
    {
     "data": {
      "text/plain": [
       "meanfreq    3168\n",
       "sd          3168\n",
       "median      3168\n",
       "Q25         3168\n",
       "Q75         3168\n",
       "IQR         3168\n",
       "skew        3168\n",
       "kurt        3168\n",
       "sp.ent      3168\n",
       "sfm         3168\n",
       "mode        3168\n",
       "centroid    3168\n",
       "meanfun     3168\n",
       "minfun      3168\n",
       "maxfun      3168\n",
       "meandom     3168\n",
       "mindom      3168\n",
       "maxdom      3168\n",
       "dfrange     3168\n",
       "modindx     3168\n",
       "label       3168\n",
       "dtype: int64"
      ]
     },
     "execution_count": 117,
     "metadata": {},
     "output_type": "execute_result"
    }
   ],
   "source": [
    "df.isna().count()"
   ]
  },
  {
   "cell_type": "code",
   "execution_count": 118,
   "metadata": {},
   "outputs": [
    {
     "name": "stdout",
     "output_type": "stream",
     "text": [
      "<class 'pandas.core.frame.DataFrame'>\n",
      "RangeIndex: 3168 entries, 0 to 3167\n",
      "Data columns (total 21 columns):\n",
      " #   Column    Non-Null Count  Dtype  \n",
      "---  ------    --------------  -----  \n",
      " 0   meanfreq  3168 non-null   float64\n",
      " 1   sd        3168 non-null   float64\n",
      " 2   median    3168 non-null   float64\n",
      " 3   Q25       3168 non-null   float64\n",
      " 4   Q75       3168 non-null   float64\n",
      " 5   IQR       3168 non-null   float64\n",
      " 6   skew      3168 non-null   float64\n",
      " 7   kurt      3168 non-null   float64\n",
      " 8   sp.ent    3168 non-null   float64\n",
      " 9   sfm       3168 non-null   float64\n",
      " 10  mode      3168 non-null   float64\n",
      " 11  centroid  3168 non-null   float64\n",
      " 12  meanfun   3168 non-null   float64\n",
      " 13  minfun    3168 non-null   float64\n",
      " 14  maxfun    3168 non-null   float64\n",
      " 15  meandom   3168 non-null   float64\n",
      " 16  mindom    3168 non-null   float64\n",
      " 17  maxdom    3168 non-null   float64\n",
      " 18  dfrange   3168 non-null   float64\n",
      " 19  modindx   3168 non-null   float64\n",
      " 20  label     3168 non-null   object \n",
      "dtypes: float64(20), object(1)\n",
      "memory usage: 519.9+ KB\n"
     ]
    }
   ],
   "source": [
    "df.info()"
   ]
  },
  {
   "cell_type": "code",
   "execution_count": 119,
   "metadata": {},
   "outputs": [
    {
     "data": {
      "text/plain": [
       "<AxesSubplot:>"
      ]
     },
     "execution_count": 119,
     "metadata": {},
     "output_type": "execute_result"
    },
    {
     "data": {
      "image/png": "[encoded data removed]",
      "text/plain": [
       "<Figure size 432x288 with 1 Axes>"
      ]
     },
     "metadata": {
      "needs_background": "light"
     },
     "output_type": "display_data"
    }
   ],
   "source": [
    "df['label'].value_counts().plot(kind='bar')"
   ]
  },
  {
   "cell_type": "code",
   "execution_count": 120,
   "metadata": {},
   "outputs": [],
   "source": [
    "df['label'].replace(to_replace=['male','female'],value=[1,0],inplace=True)"
   ]
  },
  {
   "cell_type": "code",
   "execution_count": 121,
   "metadata": {},
   "outputs": [
    {
     "data": {
      "text/plain": [
       "0    1\n",
       "1    1\n",
       "2    1\n",
       "3    1\n",
       "4    1\n",
       "Name: label, dtype: int64"
      ]
     },
     "execution_count": 121,
     "metadata": {},
     "output_type": "execute_result"
    }
   ],
   "source": [
    "df['label'].head()"
   ]
  },
  {
   "cell_type": "code",
   "execution_count": 122,
   "metadata": {},
   "outputs": [
    {
     "data": {
      "image/png": "[encoded data removed]",
      "text/plain": [
       "<Figure size 432x288 with 1 Axes>"
      ]
     },
     "metadata": {
      "needs_background": "light"
     },
     "output_type": "display_data"
    },
    {
     "data": {
      "image/png": "[encoded data removed]",
      "text/plain": [
       "<Figure size 432x288 with 1 Axes>"
      ]
     },
     "metadata": {
      "needs_background": "light"
     },
     "output_type": "display_data"
    },
    {
     "data": {
      "image/png": "[encoded data removed]",
      "text/plain": [
       "<Figure size 432x288 with 1 Axes>"
      ]
     },
     "metadata": {
      "needs_background": "light"
     },
     "output_type": "display_data"
    },
    {
     "data": {
      "image/png": "[encoded data removed]",
      "text/plain": [
       "<Figure size 432x288 with 1 Axes>"
      ]
     },
     "metadata": {
      "needs_background": "light"
     },
     "output_type": "display_data"
    },
    {
     "data": {
      "image/png": "[encoded data removed]",
      "text/plain": [
       "<Figure size 432x288 with 1 Axes>"
      ]
     },
     "metadata": {
      "needs_background": "light"
     },
     "output_type": "display_data"
    },
    {
     "data": {
      "image/png": "[encoded data removed]",
      "text/plain": [
       "<Figure size 432x288 with 1 Axes>"
      ]
     },
     "metadata": {
      "needs_background": "light"
     },
     "output_type": "display_data"
    },
    {
     "data": {
      "image/png": "[encoded data removed]",
      "text/plain": [
       "<Figure size 432x288 with 1 Axes>"
      ]
     },
     "metadata": {
      "needs_background": "light"
     },
     "output_type": "display_data"
    },
    {
     "data": {
      "image/png": "[encoded data removed]",
      "text/plain": [
       "<Figure size 432x288 with 1 Axes>"
      ]
     },
     "metadata": {
      "needs_background": "light"
     },
     "output_type": "display_data"
    },
    {
     "data": {
      "image/png": "[encoded data removed]",
      "text/plain": [
       "<Figure size 432x288 with 1 Axes>"
      ]
     },
     "metadata": {
      "needs_background": "light"
     },
     "output_type": "display_data"
    },
    {
     "data": {
      "image/png": "[encoded data removed]",
      "text/plain": [
       "<Figure size 432x288 with 1 Axes>"
      ]
     },
     "metadata": {
      "needs_background": "light"
     },
     "output_type": "display_data"
    },
    {
     "data": {
      "image/png": "[encoded data removed]",
      "text/plain": [
       "<Figure size 432x288 with 1 Axes>"
      ]
     },
     "metadata": {
      "needs_background": "light"
     },
     "output_type": "display_data"
    },
    {
     "data": {
      "image/png": "[encoded data removed]",
      "text/plain": [
       "<Figure size 432x288 with 1 Axes>"
      ]
     },
     "metadata": {
      "needs_background": "light"
     },
     "output_type": "display_data"
    },
    {
     "data": {
      "image/png": "[encoded data removed]",
      "text/plain": [
       "<Figure size 432x288 with 1 Axes>"
      ]
     },
     "metadata": {
      "needs_background": "light"
     },
     "output_type": "display_data"
    },
    {
     "data": {
      "image/png": "[encoded data removed]",
      "text/plain": [
       "<Figure size 432x288 with 1 Axes>"
      ]
     },
     "metadata": {
      "needs_background": "light"
     },
     "output_type": "display_data"
    },
    {
     "data": {
      "image/png": "[encoded data removed]",
      "text/plain": [
       "<Figure size 432x288 with 1 Axes>"
      ]
     },
     "metadata": {
      "needs_background": "light"
     },
     "output_type": "display_data"
    },
    {
     "data": {
      "image/png": "[encoded data removed]",
      "text/plain": [
       "<Figure size 432x288 with 1 Axes>"
      ]
     },
     "metadata": {
      "needs_background": "light"
     },
     "output_type": "display_data"
    },
    {
     "data": {
      "image/png": "[encoded data removed]",
      "text/plain": [
       "<Figure size 432x288 with 1 Axes>"
      ]
     },
     "metadata": {
      "needs_background": "light"
     },
     "output_type": "display_data"
    },
    {
     "data": {
      "image/png": "[encoded data removed]",
      "text/plain": [
       "<Figure size 432x288 with 1 Axes>"
      ]
     },
     "metadata": {
      "needs_background": "light"
     },
     "output_type": "display_data"
    },
    {
     "data": {
      "image/png": "[encoded data removed]",
      "text/plain": [
       "<Figure size 432x288 with 1 Axes>"
      ]
     },
     "metadata": {
      "needs_background": "light"
     },
     "output_type": "display_data"
    },
    {
     "data": {
      "image/png": "[encoded data removed]",
      "text/plain": [
       "<Figure size 432x288 with 1 Axes>"
      ]
     },
     "metadata": {
      "needs_background": "light"
     },
     "output_type": "display_data"
    },
    {
     "data": {
      "image/png": "[encoded data removed]",
      "text/plain": [
       "<Figure size 432x288 with 1 Axes>"
      ]
     },
     "metadata": {
      "needs_background": "light"
     },
     "output_type": "display_data"
    }
   ],
   "source": [
    "for i in df.columns:\n",
    "    sns.boxplot(x=i,data=df)\n",
    "    plt.show()"
   ]
  },
  {
   "cell_type": "code",
   "execution_count": 123,
   "metadata": {},
   "outputs": [
    {
     "data": {
      "text/plain": [
       "Index(['meanfreq', 'sd', 'median', 'Q25', 'Q75', 'IQR', 'skew', 'kurt',\n",
       "       'sp.ent', 'sfm', 'mode', 'centroid', 'meanfun', 'minfun', 'maxfun',\n",
       "       'meandom', 'mindom', 'maxdom', 'dfrange', 'modindx', 'label'],\n",
       "      dtype='object')"
      ]
     },
     "execution_count": 123,
     "metadata": {},
     "output_type": "execute_result"
    }
   ],
   "source": [
    "def Outlier(data):\n",
    "    for column in data.drop(['label'], axis=1).columns:\n",
    "        if data[column].dtype != object:\n",
    "            Q1 = np.percentile(data[column],25)\n",
    "            Q3 = np.percentile(data[column],75)\n",
    "            IQR =  Q3 - Q1\n",
    "            lower = Q1 - (1.5 * IQR) # min value allowed\n",
    "            upper = Q3 + (1.5 * IQR)  # max. value allowed\n",
    "            data.loc[:,column] = np.where(data[column].values > upper, upper, data[column].values)\n",
    "            data.loc[:,column] = np.where(data[column].values < lower, lower, data[column].values)\n",
    "           \n",
    "    return data\n",
    "\n",
    "df2 = Outlier(df)\n",
    "df2.columns"
   ]
  },
  {
   "cell_type": "code",
   "execution_count": 124,
   "metadata": {},
   "outputs": [
    {
     "data": {
      "image/png": "[encoded data removed]",
      "text/plain": [
       "<Figure size 432x288 with 1 Axes>"
      ]
     },
     "metadata": {
      "needs_background": "light"
     },
     "output_type": "display_data"
    },
    {
     "data": {
      "image/png": "[encoded data removed]",
      "text/plain": [
       "<Figure size 432x288 with 1 Axes>"
      ]
     },
     "metadata": {
      "needs_background": "light"
     },
     "output_type": "display_data"
    },
    {
     "data": {
      "image/png": "[encoded data removed]",
      "text/plain": [
       "<Figure size 432x288 with 1 Axes>"
      ]
     },
     "metadata": {
      "needs_background": "light"
     },
     "output_type": "display_data"
    },
    {
     "data": {
      "image/png": "[encoded data removed]",
      "text/plain": [
       "<Figure size 432x288 with 1 Axes>"
      ]
     },
     "metadata": {
      "needs_background": "light"
     },
     "output_type": "display_data"
    },
    {
     "data": {
      "image/png": "[encoded data removed]",
      "text/plain": [
       "<Figure size 432x288 with 1 Axes>"
      ]
     },
     "metadata": {
      "needs_background": "light"
     },
     "output_type": "display_data"
    },
    {
     "data": {
      "image/png": "[encoded data removed]",
      "text/plain": [
       "<Figure size 432x288 with 1 Axes>"
      ]
     },
     "metadata": {
      "needs_background": "light"
     },
     "output_type": "display_data"
    },
    {
     "data": {
      "image/png": "[encoded data removed]",
      "text/plain": [
       "<Figure size 432x288 with 1 Axes>"
      ]
     },
     "metadata": {
      "needs_background": "light"
     },
     "output_type": "display_data"
    },
    {
     "data": {
      "image/png": "[encoded data removed]",
      "text/plain": [
       "<Figure size 432x288 with 1 Axes>"
      ]
     },
     "metadata": {
      "needs_background": "light"
     },
     "output_type": "display_data"
    },
    {
     "data": {
      "image/png": "[encoded data removed]",
      "text/plain": [
       "<Figure size 432x288 with 1 Axes>"
      ]
     },
     "metadata": {
      "needs_background": "light"
     },
     "output_type": "display_data"
    },
    {
     "data": {
      "image/png": "[encoded data removed]",
      "text/plain": [
       "<Figure size 432x288 with 1 Axes>"
      ]
     },
     "metadata": {
      "needs_background": "light"
     },
     "output_type": "display_data"
    },
    {
     "data": {
      "image/png": "[encoded data removed]",
      "text/plain": [
       "<Figure size 432x288 with 1 Axes>"
      ]
     },
     "metadata": {
      "needs_background": "light"
     },
     "output_type": "display_data"
    },
    {
     "data": {
      "image/png": "[encoded data removed]",
      "text/plain": [
       "<Figure size 432x288 with 1 Axes>"
      ]
     },
     "metadata": {
      "needs_background": "light"
     },
     "output_type": "display_data"
    },
    {
     "data": {
      "image/png": "[encoded data removed]",
      "text/plain": [
       "<Figure size 432x288 with 1 Axes>"
      ]
     },
     "metadata": {
      "needs_background": "light"
     },
     "output_type": "display_data"
    },
    {
     "data": {
      "image/png": "[encoded data removed]",
      "text/plain": [
       "<Figure size 432x288 with 1 Axes>"
      ]
     },
     "metadata": {
      "needs_background": "light"
     },
     "output_type": "display_data"
    },
    {
     "data": {
      "image/png": "[encoded data removed]",
      "text/plain": [
       "<Figure size 432x288 with 1 Axes>"
      ]
     },
     "metadata": {
      "needs_background": "light"
     },
     "output_type": "display_data"
    },
    {
     "data": {
      "image/png": "[encoded data removed]",
      "text/plain": [
       "<Figure size 432x288 with 1 Axes>"
      ]
     },
     "metadata": {
      "needs_background": "light"
     },
     "output_type": "display_data"
    },
    {
     "data": {
      "image/png": "[encoded data removed]",
      "text/plain": [
       "<Figure size 432x288 with 1 Axes>"
      ]
     },
     "metadata": {
      "needs_background": "light"
     },
     "output_type": "display_data"
    },
    {
     "data": {
      "image/png": "[encoded data removed]",
      "text/plain": [
       "<Figure size 432x288 with 1 Axes>"
      ]
     },
     "metadata": {
      "needs_background": "light"
     },
     "output_type": "display_data"
    },
    {
     "data": {
      "image/png": "[encoded data removed]",
      "text/plain": [
       "<Figure size 432x288 with 1 Axes>"
      ]
     },
     "metadata": {
      "needs_background": "light"
     },
     "output_type": "display_data"
    },
    {
     "data": {
      "image/png": "[encoded data removed]",
      "text/plain": [
       "<Figure size 432x288 with 1 Axes>"
      ]
     },
     "metadata": {
      "needs_background": "light"
     },
     "output_type": "display_data"
    },
    {
     "data": {
      "image/png": "[encoded data removed]",
      "text/plain": [
       "<Figure size 432x288 with 1 Axes>"
      ]
     },
     "metadata": {
      "needs_background": "light"
     },
     "output_type": "display_data"
    }
   ],
   "source": [
    "for i in df.columns:\n",
    "    sns.boxplot(x=i,data=df2)\n",
    "    plt.show()"
   ]
  },
  {
   "cell_type": "code",
   "execution_count": 125,
   "metadata": {},
   "outputs": [
    {
     "name": "stdout",
     "output_type": "stream",
     "text": [
      "<class 'pandas.core.frame.DataFrame'>\n",
      "RangeIndex: 3168 entries, 0 to 3167\n",
      "Data columns (total 21 columns):\n",
      " #   Column    Non-Null Count  Dtype  \n",
      "---  ------    --------------  -----  \n",
      " 0   meanfreq  3168 non-null   float64\n",
      " 1   sd        3168 non-null   float64\n",
      " 2   median    3168 non-null   float64\n",
      " 3   Q25       3168 non-null   float64\n",
      " 4   Q75       3168 non-null   float64\n",
      " 5   IQR       3168 non-null   float64\n",
      " 6   skew      3168 non-null   float64\n",
      " 7   kurt      3168 non-null   float64\n",
      " 8   sp.ent    3168 non-null   float64\n",
      " 9   sfm       3168 non-null   float64\n",
      " 10  mode      3168 non-null   float64\n",
      " 11  centroid  3168 non-null   float64\n",
      " 12  meanfun   3168 non-null   float64\n",
      " 13  minfun    3168 non-null   float64\n",
      " 14  maxfun    3168 non-null   float64\n",
      " 15  meandom   3168 non-null   float64\n",
      " 16  mindom    3168 non-null   float64\n",
      " 17  maxdom    3168 non-null   float64\n",
      " 18  dfrange   3168 non-null   float64\n",
      " 19  modindx   3168 non-null   float64\n",
      " 20  label     3168 non-null   int64  \n",
      "dtypes: float64(20), int64(1)\n",
      "memory usage: 519.9 KB\n"
     ]
    }
   ],
   "source": [
    "df2.info()"
   ]
  },
  {
   "cell_type": "code",
   "execution_count": 126,
   "metadata": {},
   "outputs": [
    {
     "data": {
      "text/html": [
       "<div>\n",
       "<style scoped>\n",
       "    .dataframe tbody tr th:only-of-type {\n",
       "        vertical-align: middle;\n",
       "    }\n",
       "\n",
       "    .dataframe tbody tr th {\n",
       "        vertical-align: top;\n",
       "    }\n",
       "\n",
       "    .dataframe thead th {\n",
       "        text-align: right;\n",
       "    }\n",
       "</style>\n",
       "<table border=\"1\" class=\"dataframe\">\n",
       "  <thead>\n",
       "    <tr style=\"text-align: right;\">\n",
       "      <th></th>\n",
       "      <th>meanfreq</th>\n",
       "      <th>sd</th>\n",
       "      <th>median</th>\n",
       "      <th>Q25</th>\n",
       "      <th>Q75</th>\n",
       "      <th>IQR</th>\n",
       "      <th>skew</th>\n",
       "      <th>kurt</th>\n",
       "      <th>sp.ent</th>\n",
       "      <th>sfm</th>\n",
       "      <th>...</th>\n",
       "      <th>centroid</th>\n",
       "      <th>meanfun</th>\n",
       "      <th>minfun</th>\n",
       "      <th>maxfun</th>\n",
       "      <th>meandom</th>\n",
       "      <th>mindom</th>\n",
       "      <th>maxdom</th>\n",
       "      <th>dfrange</th>\n",
       "      <th>modindx</th>\n",
       "      <th>label</th>\n",
       "    </tr>\n",
       "  </thead>\n",
       "  <tbody>\n",
       "    <tr>\n",
       "      <th>meanfreq</th>\n",
       "      <td>1.000000</td>\n",
       "      <td>-0.752436</td>\n",
       "      <td>0.919382</td>\n",
       "      <td>0.914325</td>\n",
       "      <td>0.724666</td>\n",
       "      <td>-0.643965</td>\n",
       "      <td>-0.198809</td>\n",
       "      <td>-0.281973</td>\n",
       "      <td>-0.625400</td>\n",
       "      <td>-0.804414</td>\n",
       "      <td>...</td>\n",
       "      <td>1.000000</td>\n",
       "      <td>0.470998</td>\n",
       "      <td>0.433548</td>\n",
       "      <td>0.326948</td>\n",
       "      <td>0.545416</td>\n",
       "      <td>0.213050</td>\n",
       "      <td>0.542526</td>\n",
       "      <td>0.538259</td>\n",
       "      <td>-0.243707</td>\n",
       "      <td>-0.345230</td>\n",
       "    </tr>\n",
       "    <tr>\n",
       "      <th>sd</th>\n",
       "      <td>-0.752436</td>\n",
       "      <td>1.000000</td>\n",
       "      <td>-0.572573</td>\n",
       "      <td>-0.846586</td>\n",
       "      <td>-0.160435</td>\n",
       "      <td>0.873707</td>\n",
       "      <td>0.046537</td>\n",
       "      <td>0.153101</td>\n",
       "      <td>0.725669</td>\n",
       "      <td>0.842202</td>\n",
       "      <td>...</td>\n",
       "      <td>-0.752436</td>\n",
       "      <td>-0.469503</td>\n",
       "      <td>-0.378486</td>\n",
       "      <td>-0.130705</td>\n",
       "      <td>-0.483409</td>\n",
       "      <td>-0.369611</td>\n",
       "      <td>-0.495086</td>\n",
       "      <td>-0.488386</td>\n",
       "      <td>0.158225</td>\n",
       "      <td>0.482499</td>\n",
       "    </tr>\n",
       "    <tr>\n",
       "      <th>median</th>\n",
       "      <td>0.919382</td>\n",
       "      <td>-0.572573</td>\n",
       "      <td>1.000000</td>\n",
       "      <td>0.771874</td>\n",
       "      <td>0.710397</td>\n",
       "      <td>-0.490778</td>\n",
       "      <td>-0.196279</td>\n",
       "      <td>-0.273068</td>\n",
       "      <td>-0.535771</td>\n",
       "      <td>-0.689246</td>\n",
       "      <td>...</td>\n",
       "      <td>0.919382</td>\n",
       "      <td>0.443538</td>\n",
       "      <td>0.389097</td>\n",
       "      <td>0.314822</td>\n",
       "      <td>0.470194</td>\n",
       "      <td>0.173172</td>\n",
       "      <td>0.466585</td>\n",
       "      <td>0.463115</td>\n",
       "      <td>-0.236381</td>\n",
       "      <td>-0.304755</td>\n",
       "    </tr>\n",
       "    <tr>\n",
       "      <th>Q25</th>\n",
       "      <td>0.914325</td>\n",
       "      <td>-0.846586</td>\n",
       "      <td>0.771874</td>\n",
       "      <td>1.000000</td>\n",
       "      <td>0.471467</td>\n",
       "      <td>-0.874708</td>\n",
       "      <td>-0.039596</td>\n",
       "      <td>-0.128909</td>\n",
       "      <td>-0.658254</td>\n",
       "      <td>-0.771362</td>\n",
       "      <td>...</td>\n",
       "      <td>0.914325</td>\n",
       "      <td>0.547683</td>\n",
       "      <td>0.349066</td>\n",
       "      <td>0.212339</td>\n",
       "      <td>0.467991</td>\n",
       "      <td>0.294332</td>\n",
       "      <td>0.471569</td>\n",
       "      <td>0.465896</td>\n",
       "      <td>-0.157045</td>\n",
       "      <td>-0.514374</td>\n",
       "    </tr>\n",
       "    <tr>\n",
       "      <th>Q75</th>\n",
       "      <td>0.724666</td>\n",
       "      <td>-0.160435</td>\n",
       "      <td>0.710397</td>\n",
       "      <td>0.471467</td>\n",
       "      <td>1.000000</td>\n",
       "      <td>0.008553</td>\n",
       "      <td>-0.340702</td>\n",
       "      <td>-0.351148</td>\n",
       "      <td>-0.187943</td>\n",
       "      <td>-0.392376</td>\n",
       "      <td>...</td>\n",
       "      <td>0.724666</td>\n",
       "      <td>0.151546</td>\n",
       "      <td>0.301875</td>\n",
       "      <td>0.367209</td>\n",
       "      <td>0.365713</td>\n",
       "      <td>-0.063983</td>\n",
       "      <td>0.350505</td>\n",
       "      <td>0.351139</td>\n",
       "      <td>-0.230362</td>\n",
       "      <td>0.077605</td>\n",
       "    </tr>\n",
       "    <tr>\n",
       "      <th>IQR</th>\n",
       "      <td>-0.643965</td>\n",
       "      <td>0.873707</td>\n",
       "      <td>-0.490778</td>\n",
       "      <td>-0.874708</td>\n",
       "      <td>0.008553</td>\n",
       "      <td>1.000000</td>\n",
       "      <td>-0.142838</td>\n",
       "      <td>-0.046032</td>\n",
       "      <td>0.651958</td>\n",
       "      <td>0.668686</td>\n",
       "      <td>...</td>\n",
       "      <td>-0.643965</td>\n",
       "      <td>-0.539442</td>\n",
       "      <td>-0.231453</td>\n",
       "      <td>-0.047869</td>\n",
       "      <td>-0.333005</td>\n",
       "      <td>-0.365038</td>\n",
       "      <td>-0.346893</td>\n",
       "      <td>-0.340169</td>\n",
       "      <td>0.059118</td>\n",
       "      <td>0.623936</td>\n",
       "    </tr>\n",
       "    <tr>\n",
       "      <th>skew</th>\n",
       "      <td>-0.198809</td>\n",
       "      <td>0.046537</td>\n",
       "      <td>-0.196279</td>\n",
       "      <td>-0.039596</td>\n",
       "      <td>-0.340702</td>\n",
       "      <td>-0.142838</td>\n",
       "      <td>1.000000</td>\n",
       "      <td>0.959668</td>\n",
       "      <td>-0.347500</td>\n",
       "      <td>-0.052953</td>\n",
       "      <td>...</td>\n",
       "      <td>-0.198809</td>\n",
       "      <td>0.025708</td>\n",
       "      <td>-0.220255</td>\n",
       "      <td>-0.215730</td>\n",
       "      <td>-0.331112</td>\n",
       "      <td>0.119027</td>\n",
       "      <td>-0.315551</td>\n",
       "      <td>-0.317609</td>\n",
       "      <td>0.042763</td>\n",
       "      <td>-0.189236</td>\n",
       "    </tr>\n",
       "    <tr>\n",
       "      <th>kurt</th>\n",
       "      <td>-0.281973</td>\n",
       "      <td>0.153101</td>\n",
       "      <td>-0.273068</td>\n",
       "      <td>-0.128909</td>\n",
       "      <td>-0.351148</td>\n",
       "      <td>-0.046032</td>\n",
       "      <td>0.959668</td>\n",
       "      <td>1.000000</td>\n",
       "      <td>-0.199240</td>\n",
       "      <td>0.069229</td>\n",
       "      <td>...</td>\n",
       "      <td>-0.281973</td>\n",
       "      <td>-0.046473</td>\n",
       "      <td>-0.272505</td>\n",
       "      <td>-0.222874</td>\n",
       "      <td>-0.376365</td>\n",
       "      <td>0.064214</td>\n",
       "      <td>-0.368861</td>\n",
       "      <td>-0.369948</td>\n",
       "      <td>0.088330</td>\n",
       "      <td>-0.115892</td>\n",
       "    </tr>\n",
       "    <tr>\n",
       "      <th>sp.ent</th>\n",
       "      <td>-0.625400</td>\n",
       "      <td>0.725669</td>\n",
       "      <td>-0.535771</td>\n",
       "      <td>-0.658254</td>\n",
       "      <td>-0.187943</td>\n",
       "      <td>0.651958</td>\n",
       "      <td>-0.347500</td>\n",
       "      <td>-0.199240</td>\n",
       "      <td>1.000000</td>\n",
       "      <td>0.867480</td>\n",
       "      <td>...</td>\n",
       "      <td>-0.625400</td>\n",
       "      <td>-0.513477</td>\n",
       "      <td>-0.326045</td>\n",
       "      <td>-0.120187</td>\n",
       "      <td>-0.294634</td>\n",
       "      <td>-0.294944</td>\n",
       "      <td>-0.332186</td>\n",
       "      <td>-0.326758</td>\n",
       "      <td>0.264390</td>\n",
       "      <td>0.490888</td>\n",
       "    </tr>\n",
       "    <tr>\n",
       "      <th>sfm</th>\n",
       "      <td>-0.804414</td>\n",
       "      <td>0.842202</td>\n",
       "      <td>-0.689246</td>\n",
       "      <td>-0.771362</td>\n",
       "      <td>-0.392376</td>\n",
       "      <td>0.668686</td>\n",
       "      <td>-0.052953</td>\n",
       "      <td>0.069229</td>\n",
       "      <td>0.867480</td>\n",
       "      <td>1.000000</td>\n",
       "      <td>...</td>\n",
       "      <td>-0.804414</td>\n",
       "      <td>-0.421066</td>\n",
       "      <td>-0.400254</td>\n",
       "      <td>-0.209468</td>\n",
       "      <td>-0.429008</td>\n",
       "      <td>-0.294042</td>\n",
       "      <td>-0.447368</td>\n",
       "      <td>-0.442006</td>\n",
       "      <td>0.270674</td>\n",
       "      <td>0.357499</td>\n",
       "    </tr>\n",
       "    <tr>\n",
       "      <th>mode</th>\n",
       "      <td>0.687971</td>\n",
       "      <td>-0.528537</td>\n",
       "      <td>0.679113</td>\n",
       "      <td>0.590317</td>\n",
       "      <td>0.487648</td>\n",
       "      <td>-0.402600</td>\n",
       "      <td>-0.395605</td>\n",
       "      <td>-0.487520</td>\n",
       "      <td>-0.327010</td>\n",
       "      <td>-0.485913</td>\n",
       "      <td>...</td>\n",
       "      <td>0.687971</td>\n",
       "      <td>0.324771</td>\n",
       "      <td>0.428998</td>\n",
       "      <td>0.202321</td>\n",
       "      <td>0.493456</td>\n",
       "      <td>0.197394</td>\n",
       "      <td>0.491334</td>\n",
       "      <td>0.487544</td>\n",
       "      <td>-0.190174</td>\n",
       "      <td>-0.171775</td>\n",
       "    </tr>\n",
       "    <tr>\n",
       "      <th>centroid</th>\n",
       "      <td>1.000000</td>\n",
       "      <td>-0.752436</td>\n",
       "      <td>0.919382</td>\n",
       "      <td>0.914325</td>\n",
       "      <td>0.724666</td>\n",
       "      <td>-0.643965</td>\n",
       "      <td>-0.198809</td>\n",
       "      <td>-0.281973</td>\n",
       "      <td>-0.625400</td>\n",
       "      <td>-0.804414</td>\n",
       "      <td>...</td>\n",
       "      <td>1.000000</td>\n",
       "      <td>0.470998</td>\n",
       "      <td>0.433548</td>\n",
       "      <td>0.326948</td>\n",
       "      <td>0.545416</td>\n",
       "      <td>0.213050</td>\n",
       "      <td>0.542526</td>\n",
       "      <td>0.538259</td>\n",
       "      <td>-0.243707</td>\n",
       "      <td>-0.345230</td>\n",
       "    </tr>\n",
       "    <tr>\n",
       "      <th>meanfun</th>\n",
       "      <td>0.470998</td>\n",
       "      <td>-0.469503</td>\n",
       "      <td>0.443538</td>\n",
       "      <td>0.547683</td>\n",
       "      <td>0.151546</td>\n",
       "      <td>-0.539442</td>\n",
       "      <td>0.025708</td>\n",
       "      <td>-0.046473</td>\n",
       "      <td>-0.513477</td>\n",
       "      <td>-0.421066</td>\n",
       "      <td>...</td>\n",
       "      <td>0.470998</td>\n",
       "      <td>1.000000</td>\n",
       "      <td>0.337862</td>\n",
       "      <td>0.280789</td>\n",
       "      <td>0.271293</td>\n",
       "      <td>0.148055</td>\n",
       "      <td>0.284955</td>\n",
       "      <td>0.281912</td>\n",
       "      <td>-0.032093</td>\n",
       "      <td>-0.833921</td>\n",
       "    </tr>\n",
       "    <tr>\n",
       "      <th>minfun</th>\n",
       "      <td>0.433548</td>\n",
       "      <td>-0.378486</td>\n",
       "      <td>0.389097</td>\n",
       "      <td>0.349066</td>\n",
       "      <td>0.301875</td>\n",
       "      <td>-0.231453</td>\n",
       "      <td>-0.220255</td>\n",
       "      <td>-0.272505</td>\n",
       "      <td>-0.326045</td>\n",
       "      <td>-0.400254</td>\n",
       "      <td>...</td>\n",
       "      <td>0.433548</td>\n",
       "      <td>0.337862</td>\n",
       "      <td>1.000000</td>\n",
       "      <td>0.304866</td>\n",
       "      <td>0.442435</td>\n",
       "      <td>0.052110</td>\n",
       "      <td>0.389550</td>\n",
       "      <td>0.388363</td>\n",
       "      <td>-0.121615</td>\n",
       "      <td>-0.130358</td>\n",
       "    </tr>\n",
       "    <tr>\n",
       "      <th>maxfun</th>\n",
       "      <td>0.326948</td>\n",
       "      <td>-0.130705</td>\n",
       "      <td>0.314822</td>\n",
       "      <td>0.212339</td>\n",
       "      <td>0.367209</td>\n",
       "      <td>-0.047869</td>\n",
       "      <td>-0.215730</td>\n",
       "      <td>-0.222874</td>\n",
       "      <td>-0.120187</td>\n",
       "      <td>-0.209468</td>\n",
       "      <td>...</td>\n",
       "      <td>0.326948</td>\n",
       "      <td>0.280789</td>\n",
       "      <td>0.304866</td>\n",
       "      <td>1.000000</td>\n",
       "      <td>0.386581</td>\n",
       "      <td>-0.320488</td>\n",
       "      <td>0.399867</td>\n",
       "      <td>0.405091</td>\n",
       "      <td>-0.364742</td>\n",
       "      <td>-0.126292</td>\n",
       "    </tr>\n",
       "    <tr>\n",
       "      <th>meandom</th>\n",
       "      <td>0.545416</td>\n",
       "      <td>-0.483409</td>\n",
       "      <td>0.470194</td>\n",
       "      <td>0.467991</td>\n",
       "      <td>0.365713</td>\n",
       "      <td>-0.333005</td>\n",
       "      <td>-0.331112</td>\n",
       "      <td>-0.376365</td>\n",
       "      <td>-0.294634</td>\n",
       "      <td>-0.429008</td>\n",
       "      <td>...</td>\n",
       "      <td>0.545416</td>\n",
       "      <td>0.271293</td>\n",
       "      <td>0.442435</td>\n",
       "      <td>0.386581</td>\n",
       "      <td>1.000000</td>\n",
       "      <td>0.070736</td>\n",
       "      <td>0.832015</td>\n",
       "      <td>0.830335</td>\n",
       "      <td>-0.171558</td>\n",
       "      <td>-0.190671</td>\n",
       "    </tr>\n",
       "    <tr>\n",
       "      <th>mindom</th>\n",
       "      <td>0.213050</td>\n",
       "      <td>-0.369611</td>\n",
       "      <td>0.173172</td>\n",
       "      <td>0.294332</td>\n",
       "      <td>-0.063983</td>\n",
       "      <td>-0.365038</td>\n",
       "      <td>0.119027</td>\n",
       "      <td>0.064214</td>\n",
       "      <td>-0.294944</td>\n",
       "      <td>-0.294042</td>\n",
       "      <td>...</td>\n",
       "      <td>0.213050</td>\n",
       "      <td>0.148055</td>\n",
       "      <td>0.052110</td>\n",
       "      <td>-0.320488</td>\n",
       "      <td>0.070736</td>\n",
       "      <td>1.000000</td>\n",
       "      <td>0.009079</td>\n",
       "      <td>-0.009009</td>\n",
       "      <td>0.198877</td>\n",
       "      <td>-0.192373</td>\n",
       "    </tr>\n",
       "    <tr>\n",
       "      <th>maxdom</th>\n",
       "      <td>0.542526</td>\n",
       "      <td>-0.495086</td>\n",
       "      <td>0.466585</td>\n",
       "      <td>0.471569</td>\n",
       "      <td>0.350505</td>\n",
       "      <td>-0.346893</td>\n",
       "      <td>-0.315551</td>\n",
       "      <td>-0.368861</td>\n",
       "      <td>-0.332186</td>\n",
       "      <td>-0.447368</td>\n",
       "      <td>...</td>\n",
       "      <td>0.542526</td>\n",
       "      <td>0.284955</td>\n",
       "      <td>0.389550</td>\n",
       "      <td>0.399867</td>\n",
       "      <td>0.832015</td>\n",
       "      <td>0.009079</td>\n",
       "      <td>1.000000</td>\n",
       "      <td>0.999825</td>\n",
       "      <td>-0.447320</td>\n",
       "      <td>-0.199666</td>\n",
       "    </tr>\n",
       "    <tr>\n",
       "      <th>dfrange</th>\n",
       "      <td>0.538259</td>\n",
       "      <td>-0.488386</td>\n",
       "      <td>0.463115</td>\n",
       "      <td>0.465896</td>\n",
       "      <td>0.351139</td>\n",
       "      <td>-0.340169</td>\n",
       "      <td>-0.317609</td>\n",
       "      <td>-0.369948</td>\n",
       "      <td>-0.326758</td>\n",
       "      <td>-0.442006</td>\n",
       "      <td>...</td>\n",
       "      <td>0.538259</td>\n",
       "      <td>0.281912</td>\n",
       "      <td>0.388363</td>\n",
       "      <td>0.405091</td>\n",
       "      <td>0.830335</td>\n",
       "      <td>-0.009009</td>\n",
       "      <td>0.999825</td>\n",
       "      <td>1.000000</td>\n",
       "      <td>-0.450897</td>\n",
       "      <td>-0.196027</td>\n",
       "    </tr>\n",
       "    <tr>\n",
       "      <th>modindx</th>\n",
       "      <td>-0.243707</td>\n",
       "      <td>0.158225</td>\n",
       "      <td>-0.236381</td>\n",
       "      <td>-0.157045</td>\n",
       "      <td>-0.230362</td>\n",
       "      <td>0.059118</td>\n",
       "      <td>0.042763</td>\n",
       "      <td>0.088330</td>\n",
       "      <td>0.264390</td>\n",
       "      <td>0.270674</td>\n",
       "      <td>...</td>\n",
       "      <td>-0.243707</td>\n",
       "      <td>-0.032093</td>\n",
       "      <td>-0.121615</td>\n",
       "      <td>-0.364742</td>\n",
       "      <td>-0.171558</td>\n",
       "      <td>0.198877</td>\n",
       "      <td>-0.447320</td>\n",
       "      <td>-0.450897</td>\n",
       "      <td>1.000000</td>\n",
       "      <td>0.007281</td>\n",
       "    </tr>\n",
       "    <tr>\n",
       "      <th>label</th>\n",
       "      <td>-0.345230</td>\n",
       "      <td>0.482499</td>\n",
       "      <td>-0.304755</td>\n",
       "      <td>-0.514374</td>\n",
       "      <td>0.077605</td>\n",
       "      <td>0.623936</td>\n",
       "      <td>-0.189236</td>\n",
       "      <td>-0.115892</td>\n",
       "      <td>0.490888</td>\n",
       "      <td>0.357499</td>\n",
       "      <td>...</td>\n",
       "      <td>-0.345230</td>\n",
       "      <td>-0.833921</td>\n",
       "      <td>-0.130358</td>\n",
       "      <td>-0.126292</td>\n",
       "      <td>-0.190671</td>\n",
       "      <td>-0.192373</td>\n",
       "      <td>-0.199666</td>\n",
       "      <td>-0.196027</td>\n",
       "      <td>0.007281</td>\n",
       "      <td>1.000000</td>\n",
       "    </tr>\n",
       "  </tbody>\n",
       "</table>\n",
       "<p>21 rows × 21 columns</p>\n",
       "</div>"
      ],
      "text/plain": [
       "          meanfreq        sd    median       Q25       Q75       IQR  \\\n",
       "meanfreq  1.000000 -0.752436  0.919382  0.914325  0.724666 -0.643965   \n",
       "sd       -0.752436  1.000000 -0.572573 -0.846586 -0.160435  0.873707   \n",
       "median    0.919382 -0.572573  1.000000  0.771874  0.710397 -0.490778   \n",
       "Q25       0.914325 -0.846586  0.771874  1.000000  0.471467 -0.874708   \n",
       "Q75       0.724666 -0.160435  0.710397  0.471467  1.000000  0.008553   \n",
       "IQR      -0.643965  0.873707 -0.490778 -0.874708  0.008553  1.000000   \n",
       "skew     -0.198809  0.046537 -0.196279 -0.039596 -0.340702 -0.142838   \n",
       "kurt     -0.281973  0.153101 -0.273068 -0.128909 -0.351148 -0.046032   \n",
       "sp.ent   -0.625400  0.725669 -0.535771 -0.658254 -0.187943  0.651958   \n",
       "sfm      -0.804414  0.842202 -0.689246 -0.771362 -0.392376  0.668686   \n",
       "mode      0.687971 -0.528537  0.679113  0.590317  0.487648 -0.402600   \n",
       "centroid  1.000000 -0.752436  0.919382  0.914325  0.724666 -0.643965   \n",
       "meanfun   0.470998 -0.469503  0.443538  0.547683  0.151546 -0.539442   \n",
       "minfun    0.433548 -0.378486  0.389097  0.349066  0.301875 -0.231453   \n",
       "maxfun    0.326948 -0.130705  0.314822  0.212339  0.367209 -0.047869   \n",
       "meandom   0.545416 -0.483409  0.470194  0.467991  0.365713 -0.333005   \n",
       "mindom    0.213050 -0.369611  0.173172  0.294332 -0.063983 -0.365038   \n",
       "maxdom    0.542526 -0.495086  0.466585  0.471569  0.350505 -0.346893   \n",
       "dfrange   0.538259 -0.488386  0.463115  0.465896  0.351139 -0.340169   \n",
       "modindx  -0.243707  0.158225 -0.236381 -0.157045 -0.230362  0.059118   \n",
       "label    -0.345230  0.482499 -0.304755 -0.514374  0.077605  0.623936   \n",
       "\n",
       "              skew      kurt    sp.ent       sfm  ...  centroid   meanfun  \\\n",
       "meanfreq -0.198809 -0.281973 -0.625400 -0.804414  ...  1.000000  0.470998   \n",
       "sd        0.046537  0.153101  0.725669  0.842202  ... -0.752436 -0.469503   \n",
       "median   -0.196279 -0.273068 -0.535771 -0.689246  ...  0.919382  0.443538   \n",
       "Q25      -0.039596 -0.128909 -0.658254 -0.771362  ...  0.914325  0.547683   \n",
       "Q75      -0.340702 -0.351148 -0.187943 -0.392376  ...  0.724666  0.151546   \n",
       "IQR      -0.142838 -0.046032  0.651958  0.668686  ... -0.643965 -0.539442   \n",
       "skew      1.000000  0.959668 -0.347500 -0.052953  ... -0.198809  0.025708   \n",
       "kurt      0.959668  1.000000 -0.199240  0.069229  ... -0.281973 -0.046473   \n",
       "sp.ent   -0.347500 -0.199240  1.000000  0.867480  ... -0.625400 -0.513477   \n",
       "sfm      -0.052953  0.069229  0.867480  1.000000  ... -0.804414 -0.421066   \n",
       "mode     -0.395605 -0.487520 -0.327010 -0.485913  ...  0.687971  0.324771   \n",
       "centroid -0.198809 -0.281973 -0.625400 -0.804414  ...  1.000000  0.470998   \n",
       "meanfun   0.025708 -0.046473 -0.513477 -0.421066  ...  0.470998  1.000000   \n",
       "minfun   -0.220255 -0.272505 -0.326045 -0.400254  ...  0.433548  0.337862   \n",
       "maxfun   -0.215730 -0.222874 -0.120187 -0.209468  ...  0.326948  0.280789   \n",
       "meandom  -0.331112 -0.376365 -0.294634 -0.429008  ...  0.545416  0.271293   \n",
       "mindom    0.119027  0.064214 -0.294944 -0.294042  ...  0.213050  0.148055   \n",
       "maxdom   -0.315551 -0.368861 -0.332186 -0.447368  ...  0.542526  0.284955   \n",
       "dfrange  -0.317609 -0.369948 -0.326758 -0.442006  ...  0.538259  0.281912   \n",
       "modindx   0.042763  0.088330  0.264390  0.270674  ... -0.243707 -0.032093   \n",
       "label    -0.189236 -0.115892  0.490888  0.357499  ... -0.345230 -0.833921   \n",
       "\n",
       "            minfun    maxfun   meandom    mindom    maxdom   dfrange  \\\n",
       "meanfreq  0.433548  0.326948  0.545416  0.213050  0.542526  0.538259   \n",
       "sd       -0.378486 -0.130705 -0.483409 -0.369611 -0.495086 -0.488386   \n",
       "median    0.389097  0.314822  0.470194  0.173172  0.466585  0.463115   \n",
       "Q25       0.349066  0.212339  0.467991  0.294332  0.471569  0.465896   \n",
       "Q75       0.301875  0.367209  0.365713 -0.063983  0.350505  0.351139   \n",
       "IQR      -0.231453 -0.047869 -0.333005 -0.365038 -0.346893 -0.340169   \n",
       "skew     -0.220255 -0.215730 -0.331112  0.119027 -0.315551 -0.317609   \n",
       "kurt     -0.272505 -0.222874 -0.376365  0.064214 -0.368861 -0.369948   \n",
       "sp.ent   -0.326045 -0.120187 -0.294634 -0.294944 -0.332186 -0.326758   \n",
       "sfm      -0.400254 -0.209468 -0.429008 -0.294042 -0.447368 -0.442006   \n",
       "mode      0.428998  0.202321  0.493456  0.197394  0.491334  0.487544   \n",
       "centroid  0.433548  0.326948  0.545416  0.213050  0.542526  0.538259   \n",
       "meanfun   0.337862  0.280789  0.271293  0.148055  0.284955  0.281912   \n",
       "minfun    1.000000  0.304866  0.442435  0.052110  0.389550  0.388363   \n",
       "maxfun    0.304866  1.000000  0.386581 -0.320488  0.399867  0.405091   \n",
       "meandom   0.442435  0.386581  1.000000  0.070736  0.832015  0.830335   \n",
       "mindom    0.052110 -0.320488  0.070736  1.000000  0.009079 -0.009009   \n",
       "maxdom    0.389550  0.399867  0.832015  0.009079  1.000000  0.999825   \n",
       "dfrange   0.388363  0.405091  0.830335 -0.009009  0.999825  1.000000   \n",
       "modindx  -0.121615 -0.364742 -0.171558  0.198877 -0.447320 -0.450897   \n",
       "label    -0.130358 -0.126292 -0.190671 -0.192373 -0.199666 -0.196027   \n",
       "\n",
       "           modindx     label  \n",
       "meanfreq -0.243707 -0.345230  \n",
       "sd        0.158225  0.482499  \n",
       "median   -0.236381 -0.304755  \n",
       "Q25      -0.157045 -0.514374  \n",
       "Q75      -0.230362  0.077605  \n",
       "IQR       0.059118  0.623936  \n",
       "skew      0.042763 -0.189236  \n",
       "kurt      0.088330 -0.115892  \n",
       "sp.ent    0.264390  0.490888  \n",
       "sfm       0.270674  0.357499  \n",
       "mode     -0.190174 -0.171775  \n",
       "centroid -0.243707 -0.345230  \n",
       "meanfun  -0.032093 -0.833921  \n",
       "minfun   -0.121615 -0.130358  \n",
       "maxfun   -0.364742 -0.126292  \n",
       "meandom  -0.171558 -0.190671  \n",
       "mindom    0.198877 -0.192373  \n",
       "maxdom   -0.447320 -0.199666  \n",
       "dfrange  -0.450897 -0.196027  \n",
       "modindx   1.000000  0.007281  \n",
       "label     0.007281  1.000000  \n",
       "\n",
       "[21 rows x 21 columns]"
      ]
     },
     "execution_count": 126,
     "metadata": {},
     "output_type": "execute_result"
    }
   ],
   "source": [
    "df2.corr()"
   ]
  },
  {
   "cell_type": "code",
   "execution_count": 136,
   "metadata": {},
   "outputs": [],
   "source": [
    "X=df2.drop(['label','modindx','Q75'],axis=1)\n",
    "Y=df2['label']"
   ]
  },
  {
   "cell_type": "code",
   "execution_count": 138,
   "metadata": {},
   "outputs": [],
   "source": [
    "from sklearn.preprocessing import MinMaxScaler\n",
    "mc=MinMaxScaler()\n",
    "mc.fit(X)\n",
    "X = mc.transform(X)"
   ]
  },
  {
   "cell_type": "code",
   "execution_count": 139,
   "metadata": {},
   "outputs": [],
   "source": [
    "from sklearn.model_selection import train_test_split"
   ]
  },
  {
   "cell_type": "code",
   "execution_count": 140,
   "metadata": {},
   "outputs": [],
   "source": [
    "x_train,x_test,y_train,y_test=train_test_split(X,Y,test_size=0.30,random_state=2021)"
   ]
  },
  {
   "cell_type": "code",
   "execution_count": 130,
   "metadata": {},
   "outputs": [],
   "source": []
  },
  {
   "cell_type": "code",
   "execution_count": 141,
   "metadata": {},
   "outputs": [
    {
     "data": {
      "text/plain": [
       "array([[0.59369736, 0.69743127, 0.74127243, 0.74262233, 0.22837457,\n",
       "        0.42597494, 0.24280869, 0.69613217, 0.59171971, 0.78425358,\n",
       "        0.59369736, 0.6872114 , 0.08233639, 0.94614195, 0.10191626,\n",
       "        0.31288344, 0.05260304, 0.04932584]])"
      ]
     },
     "execution_count": 141,
     "metadata": {},
     "output_type": "execute_result"
    }
   ],
   "source": [
    "x_train[:1]"
   ]
  },
  {
   "cell_type": "code",
   "execution_count": 142,
   "metadata": {},
   "outputs": [
    {
     "data": {
      "text/plain": [
       "array([[0.59369736, 0.69743127, 0.74127243, 0.74262233, 0.22837457,\n",
       "        0.37450226, 0.24280869, 0.7074063 , 0.59171971, 0.78425358,\n",
       "        0.59369736, 0.6872114 , 0.08233639, 0.94614195, 0.10191626,\n",
       "        0.31288344, 0.05260304, 0.04932584]])"
      ]
     },
     "execution_count": 142,
     "metadata": {},
     "output_type": "execute_result"
    }
   ],
   "source": [
    "x_train_mc[:1]"
   ]
  },
  {
   "cell_type": "code",
   "execution_count": 143,
   "metadata": {},
   "outputs": [
    {
     "data": {
      "text/plain": [
       "SVC()"
      ]
     },
     "execution_count": 143,
     "metadata": {},
     "output_type": "execute_result"
    }
   ],
   "source": [
    "from sklearn.svm import SVC\n",
    "svc=SVC()\n",
    "svc.fit(x_train,y_train)"
   ]
  },
  {
   "cell_type": "code",
   "execution_count": 144,
   "metadata": {},
   "outputs": [],
   "source": [
    "pred_train=svc.predict(x_test)"
   ]
  },
  {
   "cell_type": "code",
   "execution_count": 145,
   "metadata": {},
   "outputs": [
    {
     "name": "stdout",
     "output_type": "stream",
     "text": [
      "              precision    recall  f1-score   support\n",
      "\n",
      "           0       0.98      0.99      0.99       477\n",
      "           1       0.99      0.98      0.99       474\n",
      "\n",
      "    accuracy                           0.99       951\n",
      "   macro avg       0.99      0.99      0.99       951\n",
      "weighted avg       0.99      0.99      0.99       951\n",
      "\n"
     ]
    }
   ],
   "source": [
    "from sklearn.metrics import classification_report,accuracy_score,confusion_matrix\n",
    "print(classification_report(y_test,pred_train))"
   ]
  },
  {
   "cell_type": "code",
   "execution_count": null,
   "metadata": {},
   "outputs": [],
   "source": []
  }
 ],
 "metadata": {
  "kernelspec": {
   "display_name": "Python 3",
   "language": "python",
   "name": "python3"
  },
  "language_info": {
   "codemirror_mode": {
    "name": "ipython",
    "version": 3
   },
   "file_extension": ".py",
   "mimetype": "text/x-python",
   "name": "python",
   "nbconvert_exporter": "python",
   "pygments_lexer": "ipython3",
   "version": "3.8.5"
  }
 },
 "nbformat": 4,
 "nbformat_minor": 4
}
